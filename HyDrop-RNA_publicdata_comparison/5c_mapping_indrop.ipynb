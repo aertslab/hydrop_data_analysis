{
 "cells": [
  {
   "cell_type": "markdown",
   "metadata": {},
   "source": [
    "# first, generate a barcode read from read 2, 3, 4"
   ]
  },
  {
   "cell_type": "markdown",
   "metadata": {},
   "source": [
    "basically followed this: https://github.com/alexdobin/STAR/issues/825"
   ]
  },
  {
   "cell_type": "code",
   "execution_count": null,
   "metadata": {},
   "outputs": [],
   "source": [
    "module load mawk\n",
    "for file in fastq_indrop/*_1.fastq.gz\n",
    "do\n",
    "    echo $file\n",
    "    sample=`basename ${file%_1.fastq.gz}`\n",
    "    echo $sample\n",
    "    SAMPLE_R2=fastq_indrop/${sample}_2.fastq.gz\n",
    "    SAMPLE_R4=fastq_indrop/${sample}_4.fastq.gz\n",
    "    SAMPLE_R24=fastq_indrop/${sample}_24.fastq.gz\n",
    "    echo $SAMPLE_R24\n",
    "    paste <(zcat ${SAMPLE_R2}) <(zcat ${SAMPLE_R4}) | mawk '{if (NR%4==1) {print $1 \" 2:4:paste\"} else if (NR%4==3) {print $1} else {print $1 $2}}' | gzip > ${SAMPLE_R24} &\n",
    "done"
   ]
  },
  {
   "cell_type": "code",
   "execution_count": 17,
   "metadata": {},
   "outputs": [],
   "source": [
    "jobs"
   ]
  },
  {
   "cell_type": "code",
   "execution_count": null,
   "metadata": {},
   "outputs": [],
   "source": [
    "paste \\ \n",
    "    <(zcat ${SAMPLE_R2}) \\\n",
    "    <(zcat ${SAMPLE_R3}) \\\n",
    "    <(zcat ${SAMPLE_R4}) \\\n",
    "    | mawk '{if ((NR%4==1) && ($1 == $3) && ($3 == $5)) {print $1 \" 2:3:4:paste\"} else if ((NR%4==1) && ($1 != $3)) {print \"singleton\"} else if ((NR%4==1) && ($3 != $5)) {print \"singleton\"} else if (NR%4==3) {print $1} else {print $1 $2 $3}}' \\\n",
    "    | gzip > ${SAMPLE_R234.fastq.gz}"
   ]
  },
  {
   "cell_type": "markdown",
   "metadata": {},
   "source": [
    "# then, generate bc list"
   ]
  },
  {
   "cell_type": "code",
   "execution_count": null,
   "metadata": {},
   "outputs": [],
   "source": [
    "module load mawk\n",
    "cartesian(){\n",
    "awk -F '\\t' \\\n",
    "    -v \"bc1_list=$1\" \\\n",
    "    -v \"bc2_list=$2\" '\n",
    "    {\n",
    "        if ( FILENAME == bc1_list ) {\n",
    "            BC1[$0];\n",
    "        }\n",
    "        else if ( FILENAME == bc2_list ) {\n",
    "             BC2[$0];\n",
    "        }\n",
    "    } END {\n",
    "        for (bc1 in BC1) {\n",
    "           for (bc2 in BC2) {\n",
    "               print bc1 bc2\n",
    "           }\n",
    "        }\n",
    "     } ' $1 $2 > $3\n",
    "}\n"
   ]
  },
  {
   "cell_type": "code",
   "execution_count": null,
   "metadata": {},
   "outputs": [],
   "source": [
    "cat 20220127_indrop_barcodes_kalish_384x384/gel_barcode2_list.txt | tr 'ACGT' 'TGCA' | rev > 20220127_indrop_barcodes_kalish_384x384/gel_barcode2_list_revcomp.txt"
   ]
  },
  {
   "cell_type": "code",
   "execution_count": null,
   "metadata": {},
   "outputs": [],
   "source": [
    "cartesian 20220127_indrop_barcodes_kalish_384x384/gel_barcode2_list.txt 20220127_indrop_barcodes_kalish_384x384/gel_barcode2_list_revcomp.txt 20220127_indrop_barcodes_kalish_384x384/full_whitelist"
   ]
  },
  {
   "cell_type": "markdown",
   "metadata": {},
   "source": [
    "# then map"
   ]
  },
  {
   "cell_type": "markdown",
   "metadata": {
    "papermill": {
     "duration": 0.00804,
     "end_time": "2022-01-31T16:55:47.234761",
     "exception": false,
     "start_time": "2022-01-31T16:55:47.226721",
     "status": "completed"
    },
    "tags": []
   },
   "source": [
    "pos 1-8: bc1\n",
    "pos 9-16: 8 bp index\n",
    "pos 17-24: bc2 (reverse complement of whitelist)  \n",
    "pos 25-30: UMI"
   ]
  },
  {
   "cell_type": "code",
   "execution_count": 1,
   "metadata": {
    "execution": {
     "iopub.execute_input": "2022-01-31T16:55:47.252450Z",
     "iopub.status.busy": "2022-01-31T16:55:47.251793Z",
     "iopub.status.idle": "2022-01-31T16:55:49.240728Z",
     "shell.execute_reply": "2022-01-31T16:55:49.239920Z"
    },
    "papermill": {
     "duration": 1.999031,
     "end_time": "2022-01-31T16:55:49.240936",
     "exception": false,
     "start_time": "2022-01-31T16:55:47.241905",
     "status": "completed"
    },
    "tags": []
   },
   "outputs": [],
   "source": [
    "star_solo_indrop_rna_mapping_unique_cellfilter () {\n",
    "    local fastq_R1_filename=\"${1}\";\n",
    "    local fastq_R2_filename=\"${2}\";\n",
    "    local bam_filename=\"${3}\";\n",
    "    # 3 barcode lists:\n",
    "    local whitelist_part1_filename='indrop_whitelist/gel_barcode2_list.txt';\n",
    "    local whitelist_part2_filename='indrop_whitelist/index_whitelist.txt';\n",
    "    local whitelist_part3_filename='indrop_whitelist/gel_barcode2_list_revcomp.txt';\n",
    "    star_reference_dir='/lustre1/project/stg_00002/lcb/fderop/data/00000000_genomes/mm10_STAR_2.7.8_premrna';\n",
    "    sjdbgtf='/lustre1/project/stg_00002/lcb/fderop/data/00000000_genomes/mm10_STAR_2.7.8_premrna/genes.gtf'\n",
    "    #module load STAR/2.7.5b-foss-2018a;\n",
    "    #module load SAMtools/1.10-foss-2018a;\n",
    "    # Map with STAR solo\n",
    "    /lustre1/project/stg_00002/lcb/fderop/scripts/STAR-2.7.8a/bin/Linux_x86_64/STAR \\\n",
    "        --runThreadN 32 \\\n",
    "        --runMode alignReads \\\n",
    "        --outSAMtype BAM SortedByCoordinate \\\n",
    "        --sysShell /bin/bash \\\n",
    "        --genomeDir \"${star_reference_dir}\" \\\n",
    "        --readFilesIn \"${fastq_R1_filename}\" \"${fastq_R2_filename}\" \\\n",
    "        --readFilesCommand 'gzip -c -d' \\\n",
    "        --soloCBwhitelist \"${whitelist_part1_filename}\" \"${whitelist_part2_filename}\" \"${whitelist_part3_filename}\" \\\n",
    "        --soloType CB_UMI_Complex \\\n",
    "        --soloCBposition 0_0_0_7 0_8_0_15 0_16_0_23 \\\n",
    "        --soloUMIposition 0_24_0_29 \\\n",
    "        --sjdbGTFfile $sjdbgtf \\\n",
    "        --soloCellFilter CellRanger2.2 2000 0.99 10 \\\n",
    "        --soloCBmatchWLtype 1MM \\\n",
    "        --outFilterMultimapNmax 1 \\\n",
    "        --outSAMattributes NH HI AS nM CB UB CR CY UR UY \\\n",
    "        --outFileNamePrefix ${bam_filename%bam} \\\n",
    "        --outReadsUnmapped Fastx \\\n",
    "        --quantMode GeneCounts \\\n",
    "        --bamRemoveDuplicatesType UniqueIdentical \\\n",
    "        --soloFeatures Gene GeneFull\n",
    "        # Index BAM file.\n",
    "    # samtools index \"${bam_filename%bam}Aligned.sortedByCoord.out.bam\"\n",
    "}"
   ]
  },
  {
   "cell_type": "markdown",
   "metadata": {
    "papermill": {
     "duration": 0.006236,
     "end_time": "2022-01-31T16:55:49.254960",
     "exception": false,
     "start_time": "2022-01-31T16:55:49.248724",
     "status": "completed"
    },
    "tags": []
   },
   "source": [
    "Now we run this star solo script in a for loop on all the R2 fastq files in `fastq/`"
   ]
  },
  {
   "cell_type": "code",
   "execution_count": 2,
   "metadata": {
    "execution": {
     "iopub.execute_input": "2022-01-31T16:55:49.271471Z",
     "iopub.status.busy": "2022-01-31T16:55:49.270862Z",
     "iopub.status.idle": "2022-02-01T00:03:33.777928Z",
     "shell.execute_reply": "2022-02-01T00:03:33.778446Z"
    },
    "papermill": {
     "duration": 25664.517158,
     "end_time": "2022-02-01T00:03:33.778728",
     "exception": false,
     "start_time": "2022-01-31T16:55:49.261570",
     "status": "completed"
    },
    "tags": []
   },
   "outputs": [
    {
     "name": "stdout",
     "output_type": "stream",
     "text": [
      "mkdir: cannot create directory ‘demultiplexed_indrop_index’: File exists\n",
      "fastq_indrop/SRR10545068\n",
      "Jan 31 17:55:49 ..... started STAR run\n",
      "Jan 31 17:55:51 ..... loading genome\n",
      "Jan 31 17:56:51 ..... processing annotations GTF\n",
      "Jan 31 17:56:58 ..... started mapping\n",
      "Jan 31 18:11:36 ..... finished mapping\n",
      "Jan 31 18:11:40 ..... started Solo counting\n",
      "Jan 31 18:13:05 ..... finished Solo counting\n",
      "Jan 31 18:13:05 ..... started sorting BAM\n",
      "Jan 31 18:14:17 ..... finished successfully\n",
      "fastq_indrop/SRR10545069\n",
      "Jan 31 18:14:34 ..... started STAR run\n",
      "Jan 31 18:14:35 ..... loading genome\n",
      "Jan 31 18:14:51 ..... processing annotations GTF\n",
      "Jan 31 18:14:53 ..... started mapping\n",
      "Jan 31 18:27:46 ..... finished mapping\n",
      "Jan 31 18:27:50 ..... started Solo counting\n",
      "Jan 31 18:28:46 ..... finished Solo counting\n",
      "Jan 31 18:28:46 ..... started sorting BAM\n",
      "Jan 31 18:29:40 ..... finished successfully\n",
      "fastq_indrop/SRR10545070\n",
      "Jan 31 18:29:53 ..... started STAR run\n",
      "Jan 31 18:29:56 ..... loading genome\n",
      "Jan 31 18:30:11 ..... processing annotations GTF\n",
      "Jan 31 18:30:12 ..... started mapping\n",
      "Jan 31 18:41:36 ..... finished mapping\n",
      "Jan 31 18:41:40 ..... started Solo counting\n",
      "Jan 31 18:42:36 ..... finished Solo counting\n",
      "Jan 31 18:42:36 ..... started sorting BAM\n",
      "Jan 31 18:43:57 ..... finished successfully\n",
      "fastq_indrop/SRR10545071\n",
      "Jan 31 18:44:11 ..... started STAR run\n",
      "Jan 31 18:44:13 ..... loading genome\n",
      "Jan 31 18:44:30 ..... processing annotations GTF\n",
      "Jan 31 18:44:31 ..... started mapping\n",
      "Jan 31 18:56:44 ..... finished mapping\n",
      "Jan 31 18:56:48 ..... started Solo counting\n",
      "Jan 31 18:57:45 ..... finished Solo counting\n",
      "Jan 31 18:57:45 ..... started sorting BAM\n",
      "Jan 31 18:58:38 ..... finished successfully\n",
      "fastq_indrop/SRR10545072\n",
      "Jan 31 18:58:52 ..... started STAR run\n",
      "Jan 31 18:58:53 ..... loading genome\n",
      "Jan 31 18:59:09 ..... processing annotations GTF\n",
      "Jan 31 18:59:10 ..... started mapping\n",
      "Jan 31 19:13:21 ..... finished mapping\n",
      "Jan 31 19:13:26 ..... started Solo counting\n",
      "Jan 31 19:14:46 ..... finished Solo counting\n",
      "Jan 31 19:14:46 ..... started sorting BAM\n",
      "Jan 31 19:16:37 ..... finished successfully\n",
      "fastq_indrop/SRR10545073\n",
      "Jan 31 19:16:54 ..... started STAR run\n",
      "Jan 31 19:16:55 ..... loading genome\n",
      "Jan 31 19:17:49 ..... processing annotations GTF\n",
      "Jan 31 19:17:51 ..... started mapping\n",
      "Jan 31 19:32:44 ..... finished mapping\n",
      "Jan 31 19:32:49 ..... started Solo counting\n",
      "Jan 31 19:34:12 ..... finished Solo counting\n",
      "Jan 31 19:34:12 ..... started sorting BAM\n",
      "Jan 31 19:35:20 ..... finished successfully\n",
      "fastq_indrop/SRR10545074\n",
      "Jan 31 19:35:35 ..... started STAR run\n",
      "Jan 31 19:35:37 ..... loading genome\n",
      "Jan 31 19:35:53 ..... processing annotations GTF\n",
      "Jan 31 19:35:54 ..... started mapping\n",
      "Jan 31 19:49:38 ..... finished mapping\n",
      "Jan 31 19:49:43 ..... started Solo counting\n",
      "Jan 31 19:51:06 ..... finished Solo counting\n",
      "Jan 31 19:51:06 ..... started sorting BAM\n",
      "Jan 31 19:52:53 ..... finished successfully\n",
      "fastq_indrop/SRR10545075\n",
      "Jan 31 19:53:10 ..... started STAR run\n",
      "Jan 31 19:53:12 ..... loading genome\n",
      "Jan 31 19:53:27 ..... processing annotations GTF\n",
      "Jan 31 19:53:28 ..... started mapping\n",
      "Jan 31 20:07:06 ..... finished mapping\n",
      "Jan 31 20:07:12 ..... started Solo counting\n",
      "Jan 31 20:09:01 ..... finished Solo counting\n",
      "Jan 31 20:09:01 ..... started sorting BAM\n",
      "Jan 31 20:10:13 ..... finished successfully\n",
      "fastq_indrop/SRR10545076\n",
      "Jan 31 20:10:28 ..... started STAR run\n",
      "Jan 31 20:10:30 ..... loading genome\n",
      "Jan 31 20:10:46 ..... processing annotations GTF\n",
      "Jan 31 20:10:51 ..... started mapping\n",
      "Jan 31 20:24:13 ..... finished mapping\n",
      "Jan 31 20:24:18 ..... started Solo counting\n",
      "Jan 31 20:25:32 ..... finished Solo counting\n",
      "Jan 31 20:25:32 ..... started sorting BAM\n",
      "Jan 31 20:27:16 ..... finished successfully\n",
      "fastq_indrop/SRR10545077\n",
      "Jan 31 20:27:32 ..... started STAR run\n",
      "Jan 31 20:27:33 ..... loading genome\n",
      "Jan 31 20:27:56 ..... processing annotations GTF\n",
      "Jan 31 20:27:57 ..... started mapping\n",
      "Jan 31 20:40:49 ..... finished mapping\n",
      "Jan 31 20:40:54 ..... started Solo counting\n",
      "Jan 31 20:42:14 ..... finished Solo counting\n",
      "Jan 31 20:42:14 ..... started sorting BAM\n",
      "Jan 31 20:43:19 ..... finished successfully\n",
      "fastq_indrop/SRR10545078\n",
      "Jan 31 20:43:35 ..... started STAR run\n",
      "Jan 31 20:43:36 ..... loading genome\n",
      "Jan 31 20:43:52 ..... processing annotations GTF\n",
      "Jan 31 20:43:54 ..... started mapping\n",
      "Jan 31 20:57:09 ..... finished mapping\n",
      "Jan 31 20:57:13 ..... started Solo counting\n",
      "Jan 31 20:58:24 ..... finished Solo counting\n",
      "Jan 31 20:58:24 ..... started sorting BAM\n",
      "Jan 31 21:00:08 ..... finished successfully\n",
      "fastq_indrop/SRR10545079\n",
      "Jan 31 21:00:23 ..... started STAR run\n",
      "Jan 31 21:00:24 ..... loading genome\n",
      "Jan 31 21:01:19 ..... processing annotations GTF\n",
      "Jan 31 21:01:25 ..... started mapping\n",
      "Jan 31 21:12:56 ..... finished mapping\n",
      "Jan 31 21:13:00 ..... started Solo counting\n",
      "Jan 31 21:13:58 ..... finished Solo counting\n",
      "Jan 31 21:13:58 ..... started sorting BAM\n",
      "Jan 31 21:14:50 ..... finished successfully\n",
      "fastq_indrop/indrop\n",
      "Jan 31 21:15:04 ..... started STAR run\n",
      "Jan 31 21:15:05 ..... loading genome\n",
      "Jan 31 21:15:21 ..... processing annotations GTF\n",
      "Jan 31 21:15:23 ..... started mapping\n",
      "Feb 01 00:22:12 ..... finished mapping\n",
      "Feb 01 00:22:18 ..... started Solo counting\n",
      "Feb 01 00:46:12 ..... finished Solo counting\n",
      "Feb 01 00:46:12 ..... started sorting BAM\n",
      "Feb 01 01:03:06 ..... finished successfully\n"
     ]
    }
   ],
   "source": [
    "dir=demultiplexed_indrop_index\n",
    "mkdir $dir\n",
    "for sample in fastq_indrop/*_1.fastq.gz\n",
    "do\n",
    "    NAME=${sample%_1.fastq.gz}\n",
    "    OUT=${NAME##*/}\n",
    "    echo $NAME\n",
    "    star_solo_indrop_rna_mapping_unique_cellfilter \\\n",
    "        ${NAME}_1.fastq.gz \\\n",
    "        ${NAME}_234.fastq.gz \\\n",
    "        $dir/$OUT.bam\n",
    "done"
   ]
  },
  {
   "cell_type": "markdown",
   "metadata": {
    "papermill": {
     "duration": 0.038781,
     "end_time": "2022-02-01T00:03:33.917839",
     "exception": false,
     "start_time": "2022-02-01T00:03:33.879058",
     "status": "completed"
    },
    "tags": []
   },
   "source": [
    "actually, mapping one big fastq of all samples will be better. Then, umi demultiplexing will work properly."
   ]
  },
  {
   "cell_type": "code",
   "execution_count": null,
   "metadata": {
    "papermill": {
     "duration": 0.038355,
     "end_time": "2022-02-01T00:03:33.994026",
     "exception": false,
     "start_time": "2022-02-01T00:03:33.955671",
     "status": "completed"
    },
    "tags": []
   },
   "outputs": [],
   "source": []
  }
 ],
 "metadata": {
  "kernelspec": {
   "display_name": "Bash",
   "language": "bash",
   "name": "bash"
  },
  "language_info": {
   "codemirror_mode": "shell",
   "file_extension": ".sh",
   "mimetype": "text/x-sh",
   "name": "bash"
  }
 },
 "nbformat": 4,
 "nbformat_minor": 4
}
