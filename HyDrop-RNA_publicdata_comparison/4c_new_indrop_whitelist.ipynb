{
 "cells": [
  {
   "cell_type": "markdown",
   "metadata": {},
   "source": [
    "Generate the new whitelist using the 12 indices:"
   ]
  },
  {
   "cell_type": "code",
   "execution_count": 5,
   "metadata": {},
   "outputs": [],
   "source": [
    "module load mawk\n",
    "cartesian(){\n",
    "awk -F '\\t' \\\n",
    "    -v \"bc1_list=$1\" \\\n",
    "    -v \"bc2_list=$2\" \\\n",
    "    -v \"bc3_list=$3\" '\n",
    "    {\n",
    "        if ( FILENAME == bc1_list ) {\n",
    "            BC1[$0];\n",
    "        }\n",
    "        else if ( FILENAME == bc2_list ) {\n",
    "             BC2[$0];\n",
    "        } else if ( FILENAME == bc3_list ) {\n",
    "             BC3[$0];\n",
    "        }\n",
    "    } END {\n",
    "        for (bc1 in BC1) {\n",
    "           for (bc2 in BC2) {\n",
    "               for (bc3 in BC3) {\n",
    "                   print bc1 bc2 bc3\n",
    "               }\n",
    "           }\n",
    "        }\n",
    "     } ' $1 $2 $3 > $4\n",
    "}\n"
   ]
  },
  {
   "cell_type": "code",
   "execution_count": 6,
   "metadata": {},
   "outputs": [],
   "source": [
    "cartesian indrop_whitelist/gel_barcode2_list.txt indrop_whitelist/index_whitelist.txt indrop_whitelist/gel_barcode2_list_revcomp.txt indrop_whitelist/full_whitelist_R234.txt"
   ]
  },
  {
   "cell_type": "code",
   "execution_count": 8,
   "metadata": {},
   "outputs": [
    {
     "name": "stdout",
     "output_type": "stream",
     "text": [
      "ACAAAGATCTTAATAGCTTGGTGT\n",
      "ACAAAGATCTTAATAGTCCCTGAT\n",
      "ACAAAGATCTTAATAGGTAATCCC\n",
      "ACAAAGATCTTAATAGCGGGTAGT\n",
      "ACAAAGATCTTAATAGCGCTCTCA\n",
      "ACAAAGATCTTAATAGGGTTTCTC\n",
      "ACAAAGATCTTAATAGTTAAACTG\n",
      "ACAAAGATCTTAATAGACCTTCTT\n",
      "ACAAAGATCTTAATAGAGGCAACG\n",
      "ACAAAGATCTTAATAGGGAAACAG\n"
     ]
    }
   ],
   "source": [
    "head indrop_whitelist/full_whitelist_R234.txt"
   ]
  },
  {
   "cell_type": "code",
   "execution_count": 9,
   "metadata": {},
   "outputs": [
    {
     "name": "stdout",
     "output_type": "stream",
     "text": [
      "1474558 indrop_whitelist/full_whitelist_R234.txt\n"
     ]
    }
   ],
   "source": [
    "wc -l indrop_whitelist/full_whitelist_R234.txt"
   ]
  }
 ],
 "metadata": {
  "kernelspec": {
   "display_name": "Bash",
   "language": "bash",
   "name": "bash"
  },
  "language_info": {
   "codemirror_mode": "shell",
   "file_extension": ".sh",
   "mimetype": "text/x-sh",
   "name": "bash"
  }
 },
 "nbformat": 4,
 "nbformat_minor": 4
}
