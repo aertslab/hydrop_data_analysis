{
 "cells": [
  {
   "cell_type": "markdown",
   "id": "d700b257",
   "metadata": {
    "papermill": {
     "duration": 0.001188,
     "end_time": "2022-01-31T16:48:59.107925",
     "exception": false,
     "start_time": "2022-01-31T16:48:59.106737",
     "status": "completed"
    },
    "tags": []
   },
   "source": [
    "pos 1-8: bc1\n",
    "pos 9-16: 8 bp index\n",
    "pos 17-24: bc2 (reverse complement of whitelist)  \n",
    "pos 25-30: UMI"
   ]
  },
  {
   "cell_type": "code",
   "execution_count": 1,
   "id": "a7e414bc",
   "metadata": {
    "execution": {
     "iopub.execute_input": "2022-01-31T16:48:59.113619Z",
     "iopub.status.busy": "2022-01-31T16:48:59.112745Z",
     "iopub.status.idle": "2022-01-31T16:49:01.128627Z",
     "shell.execute_reply": "2022-01-31T16:49:01.126708Z"
    },
    "papermill": {
     "duration": 2.020404,
     "end_time": "2022-01-31T16:49:01.128901",
     "exception": false,
     "start_time": "2022-01-31T16:48:59.108497",
     "status": "completed"
    },
    "tags": []
   },
   "outputs": [],
   "source": [
    "star_solo_indrop_rna_mapping_unique_cellfilter () {\n",
    "    local fastq_R1_filename=\"${1}\";\n",
    "    local fastq_R2_filename=\"${2}\";\n",
    "    local bam_filename=\"${3}\";\n",
    "    # 3 barcode lists:\n",
    "    local whitelist_part1_filename='indrop_whitelist/gel_barcode2_list.txt';\n",
    "    local whitelist_part2_filename='indrop_whitelist/index_whitelist.txt';\n",
    "    local whitelist_part3_filename='indrop_whitelist/gel_barcode2_list_revcomp.txt';\n",
    "    star_reference_dir='/lustre1/project/stg_00002/lcb/fderop/data/00000000_genomes/mm10_STAR_2.7.8_premrna';\n",
    "    sjdbgtf='/lustre1/project/stg_00002/lcb/fderop/data/00000000_genomes/mm10_STAR_2.7.8_premrna/genes.gtf'\n",
    "    #module load STAR/2.7.5b-foss-2018a;\n",
    "    #module load SAMtools/1.10-foss-2018a;\n",
    "    # Map with STAR solo\n",
    "    /lustre1/project/stg_00002/lcb/fderop/scripts/STAR-2.7.8a/bin/Linux_x86_64/STAR \\\n",
    "        --runThreadN 32 \\\n",
    "        --runMode alignReads \\\n",
    "        --outSAMtype BAM SortedByCoordinate \\\n",
    "        --sysShell /bin/bash \\\n",
    "        --genomeDir \"${star_reference_dir}\" \\\n",
    "        --readFilesIn \"${fastq_R1_filename}\" \"${fastq_R2_filename}\" \\\n",
    "        --readFilesCommand 'gzip -c -d' \\\n",
    "        --soloCBwhitelist \"${whitelist_part1_filename}\" \"${whitelist_part2_filename}\" \"${whitelist_part3_filename}\" \\\n",
    "        --soloType CB_UMI_Complex \\\n",
    "        --soloCBposition 0_0_0_7 0_8_0_15 0_16_0_23 \\\n",
    "        --soloUMIposition 0_24_0_29 \\\n",
    "        --sjdbGTFfile $sjdbgtf \\\n",
    "        --soloCellFilter CellRanger2.2 2000 0.99 10 \\\n",
    "        --soloCBmatchWLtype 1MM \\\n",
    "        --outFilterMultimapNmax 1 \\\n",
    "        --outSAMattributes NH HI AS nM CB UB CR CY UR UY \\\n",
    "        --outFileNamePrefix ${bam_filename%bam} \\\n",
    "        --outReadsUnmapped Fastx \\\n",
    "        --quantMode GeneCounts \\\n",
    "        --bamRemoveDuplicatesType UniqueIdentical \\\n",
    "        --soloFeatures Gene GeneFull\n",
    "        # Index BAM file.\n",
    "    # samtools index \"${bam_filename%bam}Aligned.sortedByCoord.out.bam\"\n",
    "}"
   ]
  },
  {
   "cell_type": "markdown",
   "id": "c8477b7e",
   "metadata": {
    "papermill": {
     "duration": 0.000172,
     "end_time": "2022-01-31T16:49:01.129370",
     "exception": false,
     "start_time": "2022-01-31T16:49:01.129198",
     "status": "completed"
    },
    "tags": []
   },
   "source": [
    "actually, mapping one big fastq of all samples will be better. Then, umi demultiplexing will work properly."
   ]
  },
  {
   "cell_type": "code",
   "execution_count": 2,
   "id": "a515d678",
   "metadata": {
    "execution": {
     "iopub.execute_input": "2022-01-31T16:49:01.135923Z",
     "iopub.status.busy": "2022-01-31T16:49:01.134849Z",
     "iopub.status.idle": "2022-01-31T16:49:01.244798Z",
     "shell.execute_reply": "2022-01-31T16:49:01.243801Z"
    },
    "papermill": {
     "duration": 0.115444,
     "end_time": "2022-01-31T16:49:01.245069",
     "exception": false,
     "start_time": "2022-01-31T16:49:01.129625",
     "status": "completed"
    },
    "tags": []
   },
   "outputs": [],
   "source": [
    "# cat SRR10545068_234.fastq.gz SRR10545069_234.fastq.gz SRR10545070_234.fastq.gz SRR10545071_234.fastq.gz SRR10545072_234.fastq.gz SRR10545073_234.fastq.gz SRR10545074_234.fastq.gz SRR10545075_234.fastq.gz SRR10545076_234.fastq.gz SRR10545077_234.fastq.gz SRR10545078_234.fastq.gz SRR10545079_234.fastq.gz > indrop_234.fastq.gz "
   ]
  },
  {
   "cell_type": "code",
   "execution_count": 3,
   "id": "eee452e4",
   "metadata": {
    "execution": {
     "iopub.execute_input": "2022-01-31T16:49:01.251762Z",
     "iopub.status.busy": "2022-01-31T16:49:01.250862Z",
     "iopub.status.idle": "2022-01-31T16:49:01.361832Z",
     "shell.execute_reply": "2022-01-31T16:49:01.360928Z"
    },
    "papermill": {
     "duration": 0.116417,
     "end_time": "2022-01-31T16:49:01.362062",
     "exception": false,
     "start_time": "2022-01-31T16:49:01.245645",
     "status": "completed"
    },
    "tags": []
   },
   "outputs": [],
   "source": [
    "# cat SRR10545068_1.fastq.gz SRR10545069_1.fastq.gz SRR10545070_1.fastq.gz SRR10545071_1.fastq.gz SRR10545072_1.fastq.gz SRR10545073_1.fastq.gz SRR10545074_1.fastq.gz SRR10545075_1.fastq.gz SRR10545076_1.fastq.gz SRR10545077_1.fastq.gz SRR10545078_1.fastq.gz SRR10545079_1.fastq.gz > indrop_1.fastq.gz"
   ]
  },
  {
   "cell_type": "code",
   "execution_count": 4,
   "id": "60b2ce7e",
   "metadata": {
    "execution": {
     "iopub.execute_input": "2022-01-31T16:49:01.368784Z",
     "iopub.status.busy": "2022-01-31T16:49:01.366676Z",
     "iopub.status.idle": "2022-01-31T19:52:17.344883Z",
     "shell.execute_reply": "2022-01-31T19:52:17.345793Z"
    },
    "papermill": {
     "duration": 10995.985675,
     "end_time": "2022-01-31T19:52:17.348370",
     "exception": false,
     "start_time": "2022-01-31T16:49:01.362695",
     "status": "completed"
    },
    "tags": []
   },
   "outputs": [
    {
     "name": "stdout",
     "output_type": "stream",
     "text": [
      "Jan 31 17:49:01 ..... started STAR run\n",
      "Jan 31 17:49:02 ..... loading genome\n",
      "Jan 31 17:50:38 ..... processing annotations GTF\n",
      "Jan 31 17:50:45 ..... started mapping\n",
      "Jan 31 20:20:31 ..... finished mapping\n",
      "Jan 31 20:20:33 ..... started Solo counting\n",
      "Jan 31 20:33:02 ..... finished Solo counting\n",
      "Jan 31 20:33:02 ..... started sorting BAM\n",
      "Jan 31 20:51:01 ..... finished successfully\n"
     ]
    }
   ],
   "source": [
    "dir=demultiplexed_indrop_index\n",
    "star_solo_indrop_rna_mapping_unique_cellfilter \\\n",
    "    fastq_indrop/indrop_1.fastq.gz \\\n",
    "    fastq_indrop/indrop_234.fastq.gz \\\n",
    "    $dir/merged.bam"
   ]
  },
  {
   "cell_type": "code",
   "execution_count": null,
   "id": "9f25abf0",
   "metadata": {
    "papermill": {
     "duration": 0.001872,
     "end_time": "2022-01-31T19:52:17.350612",
     "exception": false,
     "start_time": "2022-01-31T19:52:17.348740",
     "status": "completed"
    },
    "tags": []
   },
   "outputs": [],
   "source": []
  },
  {
   "cell_type": "markdown",
   "id": "aaa983b3",
   "metadata": {
    "papermill": {
     "duration": 0.000181,
     "end_time": "2022-01-31T19:52:17.351106",
     "exception": false,
     "start_time": "2022-01-31T19:52:17.350925",
     "status": "completed"
    },
    "tags": []
   },
   "source": [
    "Now, we can get a summary of the statistics below:"
   ]
  },
  {
   "cell_type": "code",
   "execution_count": 5,
   "id": "305d9c55",
   "metadata": {
    "execution": {
     "iopub.execute_input": "2022-01-31T19:52:17.383483Z",
     "iopub.status.busy": "2022-01-31T19:52:17.381835Z",
     "iopub.status.idle": "2022-01-31T19:52:18.410042Z",
     "shell.execute_reply": "2022-01-31T19:52:18.410740Z"
    },
    "papermill": {
     "duration": 1.059609,
     "end_time": "2022-01-31T19:52:18.410959",
     "exception": false,
     "start_time": "2022-01-31T19:52:17.351350",
     "status": "completed"
    },
    "tags": []
   },
   "outputs": [
    {
     "name": "stdout",
     "output_type": "stream",
     "text": [
      "SRR10545068.Solo.out/Gene/Summary.csv\n",
      "Number of Reads,136252173\n",
      "Reads With Valid Barcodes,0.4216\n",
      "Sequencing Saturation,0.261272\n",
      "Q30 Bases in CB+UMI,0.834279\n",
      "Q30 Bases in RNA read,0.800453\n",
      "Reads Mapped to Genome: Unique+Multiple,0.488978\n",
      "Reads Mapped to Genome: Unique,0.488978\n",
      "Reads Mapped to Transcriptome: Unique+Multipe Genes,0.290449\n",
      "Reads Mapped to Transcriptome: Unique Genes,0.282861\n",
      "Estimated Number of Cells,13956\n",
      "Reads in Cells Mapped to Unique Genes,20664237\n",
      "Fraction of Reads in Cells,0.536171\n",
      "Mean Reads per Cell,1480\n",
      "Median Reads per Cell,1256\n",
      "UMIs in Cells,14962203\n",
      "Mean UMI per Cell,1072\n",
      "Median UMI per Cell,919\n",
      "Mean Genes per Cell,795\n",
      "Median Genes per Cell,717\n",
      "Total Genes Detected,20789\n",
      "\n",
      "SRR10545069.Solo.out/Gene/Summary.csv\n",
      "Number of Reads,103036640\n",
      "Reads With Valid Barcodes,0.352682\n",
      "Sequencing Saturation,0.189946\n",
      "Q30 Bases in CB+UMI,0.734679\n",
      "Q30 Bases in RNA read,0.711272\n",
      "Reads Mapped to Genome: Unique+Multiple,0.450167\n",
      "Reads Mapped to Genome: Unique,0.450167\n",
      "Reads Mapped to Transcriptome: Unique+Multipe Genes,0.233702\n",
      "Reads Mapped to Transcriptome: Unique Genes,0.227481\n",
      "Estimated Number of Cells,12261\n",
      "Reads in Cells Mapped to Unique Genes,11801511\n",
      "Fraction of Reads in Cells,0.503501\n",
      "Mean Reads per Cell,962\n",
      "Median Reads per Cell,801\n",
      "UMIs in Cells,9389434\n",
      "Mean UMI per Cell,765\n",
      "Median UMI per Cell,644\n",
      "Mean Genes per Cell,598\n",
      "Median Genes per Cell,529\n",
      "Total Genes Detected,19968\n",
      "\n",
      "SRR10545070.Solo.out/Gene/Summary.csv\n",
      "Number of Reads,98859416\n",
      "Reads With Valid Barcodes,0.379293\n",
      "Sequencing Saturation,0.190964\n",
      "Q30 Bases in CB+UMI,0.744584\n",
      "Q30 Bases in RNA read,0.710311\n",
      "Reads Mapped to Genome: Unique+Multiple,0.447653\n",
      "Reads Mapped to Genome: Unique,0.447653\n",
      "Reads Mapped to Transcriptome: Unique+Multipe Genes,0.249041\n",
      "Reads Mapped to Transcriptome: Unique Genes,0.242448\n",
      "Estimated Number of Cells,12213\n",
      "Reads in Cells Mapped to Unique Genes,12039080\n",
      "Fraction of Reads in Cells,0.502292\n",
      "Mean Reads per Cell,985\n",
      "Median Reads per Cell,822\n",
      "UMIs in Cells,9569915\n",
      "Mean UMI per Cell,783\n",
      "Median UMI per Cell,661\n",
      "Mean Genes per Cell,611\n",
      "Median Genes per Cell,540\n",
      "Total Genes Detected,20043\n",
      "\n",
      "SRR10545071.Solo.out/Gene/Summary.csv\n",
      "Number of Reads,100660676\n",
      "Reads With Valid Barcodes,0.3637\n",
      "Sequencing Saturation,0.18941\n",
      "Q30 Bases in CB+UMI,0.737797\n",
      "Q30 Bases in RNA read,0.712597\n",
      "Reads Mapped to Genome: Unique+Multiple,0.452498\n",
      "Reads Mapped to Genome: Unique,0.452498\n",
      "Reads Mapped to Transcriptome: Unique+Multipe Genes,0.241028\n",
      "Reads Mapped to Transcriptome: Unique Genes,0.234622\n",
      "Estimated Number of Cells,12289\n",
      "Reads in Cells Mapped to Unique Genes,11903417\n",
      "Fraction of Reads in Cells,0.504016\n",
      "Mean Reads per Cell,968\n",
      "Median Reads per Cell,806\n",
      "UMIs in Cells,9482639\n",
      "Mean UMI per Cell,771\n",
      "Median UMI per Cell,650\n",
      "Mean Genes per Cell,603\n",
      "Median Genes per Cell,533\n",
      "Total Genes Detected,20006\n",
      "\n",
      "SRR10545072.Solo.out/Gene/Summary.csv\n",
      "Number of Reads,134789164\n",
      "Reads With Valid Barcodes,0.399197\n",
      "Sequencing Saturation,0.251432\n",
      "Q30 Bases in CB+UMI,0.821007\n",
      "Q30 Bases in RNA read,0.798391\n",
      "Reads Mapped to Genome: Unique+Multiple,0.483215\n",
      "Reads Mapped to Genome: Unique,0.483215\n",
      "Reads Mapped to Transcriptome: Unique+Multipe Genes,0.275268\n",
      "Reads Mapped to Transcriptome: Unique Genes,0.26806\n",
      "Estimated Number of Cells,13859\n",
      "Reads in Cells Mapped to Unique Genes,19302616\n",
      "Fraction of Reads in Cells,0.534232\n",
      "Mean Reads per Cell,1392\n",
      "Median Reads per Cell,1181\n",
      "UMIs in Cells,14163734\n",
      "Mean UMI per Cell,1021\n",
      "Median UMI per Cell,875\n",
      "Mean Genes per Cell,764\n",
      "Median Genes per Cell,689\n",
      "Total Genes Detected,20654\n",
      "\n",
      "SRR10545073.Solo.out/Gene/Summary.csv\n",
      "Number of Reads,130210119\n",
      "Reads With Valid Barcodes,0.420346\n",
      "Sequencing Saturation,0.252223\n",
      "Q30 Bases in CB+UMI,0.826554\n",
      "Q30 Bases in RNA read,0.791933\n",
      "Reads Mapped to Genome: Unique+Multiple,0.48634\n",
      "Reads Mapped to Genome: Unique,0.48634\n",
      "Reads Mapped to Transcriptome: Unique+Multipe Genes,0.288692\n",
      "Reads Mapped to Transcriptome: Unique Genes,0.281131\n",
      "Estimated Number of Cells,14029\n",
      "Reads in Cells Mapped to Unique Genes,19666338\n",
      "Fraction of Reads in Cells,0.537241\n",
      "Mean Reads per Cell,1401\n",
      "Median Reads per Cell,1191\n",
      "UMIs in Cells,14424143\n",
      "Mean UMI per Cell,1028\n",
      "Median UMI per Cell,884\n",
      "Mean Genes per Cell,768\n",
      "Median Genes per Cell,694\n",
      "Total Genes Detected,20694\n",
      "\n",
      "SRR10545074.Solo.out/Gene/Summary.csv\n",
      "Number of Reads,131473567\n",
      "Reads With Valid Barcodes,0.404533\n",
      "Sequencing Saturation,0.248747\n",
      "Q30 Bases in CB+UMI,0.821661\n",
      "Q30 Bases in RNA read,0.796305\n",
      "Reads Mapped to Genome: Unique+Multiple,0.485901\n",
      "Reads Mapped to Genome: Unique,0.485901\n",
      "Reads Mapped to Transcriptome: Unique+Multipe Genes,0.278873\n",
      "Reads Mapped to Transcriptome: Unique Genes,0.271555\n",
      "Estimated Number of Cells,13880\n",
      "Reads in Cells Mapped to Unique Genes,19093006\n",
      "Fraction of Reads in Cells,0.534784\n",
      "Mean Reads per Cell,1375\n",
      "Median Reads per Cell,1169\n",
      "UMIs in Cells,14063877\n",
      "Mean UMI per Cell,1013\n",
      "Median UMI per Cell,869\n",
      "Mean Genes per Cell,759\n",
      "Median Genes per Cell,685\n",
      "Total Genes Detected,20582\n",
      "\n",
      "SRR10545075.Solo.out/Gene/Summary.csv\n",
      "Number of Reads,125843005\n",
      "Reads With Valid Barcodes,0.410132\n",
      "Sequencing Saturation,0.251882\n",
      "Q30 Bases in CB+UMI,0.806074\n",
      "Q30 Bases in RNA read,0.767215\n",
      "Reads Mapped to Genome: Unique+Multiple,0.496859\n",
      "Reads Mapped to Genome: Unique,0.496859\n",
      "Reads Mapped to Transcriptome: Unique+Multipe Genes,0.284408\n",
      "Reads Mapped to Transcriptome: Unique Genes,0.277047\n",
      "Estimated Number of Cells,12864\n",
      "Reads in Cells Mapped to Unique Genes,18227794\n",
      "Fraction of Reads in Cells,0.522819\n",
      "Mean Reads per Cell,1416\n",
      "Median Reads per Cell,1186\n",
      "UMIs in Cells,13304051\n",
      "Mean UMI per Cell,1034\n",
      "Median UMI per Cell,882\n",
      "Mean Genes per Cell,770\n",
      "Median Genes per Cell,690\n",
      "Total Genes Detected,20644\n",
      "\n",
      "SRR10545076.Solo.out/Gene/Summary.csv\n",
      "Number of Reads,125597295\n",
      "Reads With Valid Barcodes,0.39699\n",
      "Sequencing Saturation,0.247645\n",
      "Q30 Bases in CB+UMI,0.800275\n",
      "Q30 Bases in RNA read,0.773506\n",
      "Reads Mapped to Genome: Unique+Multiple,0.492923\n",
      "Reads Mapped to Genome: Unique,0.492923\n",
      "Reads Mapped to Transcriptome: Unique+Multipe Genes,0.275899\n",
      "Reads Mapped to Transcriptome: Unique Genes,0.268711\n",
      "Estimated Number of Cells,12663\n",
      "Reads in Cells Mapped to Unique Genes,17525358\n",
      "Fraction of Reads in Cells,0.51928\n",
      "Mean Reads per Cell,1383\n",
      "Median Reads per Cell,1165\n",
      "UMIs in Cells,12859939\n",
      "Mean UMI per Cell,1015\n",
      "Median UMI per Cell,868\n",
      "Mean Genes per Cell,759\n",
      "Median Genes per Cell,681\n",
      "Total Genes Detected,20572\n",
      "\n",
      "SRR10545077.Solo.out/Gene/Summary.csv\n",
      "Number of Reads,120173234\n",
      "Reads With Valid Barcodes,0.416573\n",
      "Sequencing Saturation,0.246383\n",
      "Q30 Bases in CB+UMI,0.8001\n",
      "Q30 Bases in RNA read,0.757655\n",
      "Reads Mapped to Genome: Unique+Multiple,0.492646\n",
      "Reads Mapped to Genome: Unique,0.492646\n",
      "Reads Mapped to Transcriptome: Unique+Multipe Genes,0.287707\n",
      "Reads Mapped to Transcriptome: Unique Genes,0.28025\n",
      "Estimated Number of Cells,12586\n",
      "Reads in Cells Mapped to Unique Genes,17420675\n",
      "Fraction of Reads in Cells,0.517264\n",
      "Mean Reads per Cell,1384\n",
      "Median Reads per Cell,1163\n",
      "UMIs in Cells,12813055\n",
      "Mean UMI per Cell,1018\n",
      "Median UMI per Cell,868\n",
      "Mean Genes per Cell,761\n",
      "Median Genes per Cell,683\n",
      "Total Genes Detected,20563\n",
      "\n",
      "merged.Solo.out/Gene/Summary.csv\n",
      "Number of Reads,1428898458\n",
      "Reads With Valid Barcodes,0.397455\n",
      "Sequencing Saturation,0.728477\n",
      "Q30 Bases in CB+UMI,0.792105\n",
      "Q30 Bases in RNA read,0.760707\n",
      "Reads Mapped to Genome: Unique+Multiple,0.478757\n",
      "Reads Mapped to Genome: Unique,0.478757\n",
      "Reads Mapped to Transcriptome: Unique+Multipe Genes,0.271843\n",
      "Reads Mapped to Transcriptome: Unique Genes,0.264754\n",
      "Estimated Number of Cells,13745\n",
      "Reads in Cells Mapped to Unique Genes,198343219\n",
      "Fraction of Reads in Cells,0.524293\n",
      "Mean Reads per Cell,14430\n",
      "Median Reads per Cell,12198\n",
      "UMIs in Cells,49900670\n",
      "Mean UMI per Cell,3630\n",
      "Median UMI per Cell,3117\n",
      "Mean Genes per Cell,2059\n",
      "Median Genes per Cell,1905\n",
      "Total Genes Detected,23758\n",
      "\n"
     ]
    }
   ],
   "source": [
    "for sample in $dir/*/Gene/Summary.csv\n",
    "do\n",
    "    echo ${sample#*/}\n",
    "    cat $sample\n",
    "    cut -d, -f2 $sample > ${sample%/Gene/Summary.csv}/Gene/Summary_numbers.csv\n",
    "    printf \"\\n\"\n",
    "done"
   ]
  },
  {
   "cell_type": "code",
   "execution_count": 3,
   "id": "a3d11691",
   "metadata": {
    "papermill": {
     "duration": 0.000162,
     "end_time": "2022-01-31T19:52:18.411313",
     "exception": false,
     "start_time": "2022-01-31T19:52:18.411151",
     "status": "completed"
    },
    "tags": []
   },
   "outputs": [
    {
     "name": "stdout",
     "output_type": "stream",
     "text": [
      "gzip: demultiplexed_indrop_index/merged.Solo.out/Gene/raw/barcodes.tsv: unknown suffix -- ignored\n",
      "gzip: demultiplexed_indrop_index/merged.Solo.out/Gene/raw/features.tsv: unknown suffix -- ignored\n",
      "gzip: demultiplexed_indrop_index/merged.Solo.out/Gene/raw/matrix.mtx: unknown suffix -- ignored\n",
      "Feb 09 15:17:09 ..... started STAR run\n",
      "Feb 09 15:17:09 ..... starting SoloCellFiltering\n",
      "Feb 09 15:17:40 ..... finished successfully\n"
     ]
    }
   ],
   "source": [
    "gunzip demultiplexed_indrop_index/merged.Solo.out/Gene/raw/*\n",
    "\n",
    "/lustre1/project/stg_00002/lcb/fderop/scripts/STAR-2.7.8a/bin/Linux_x86_64/STAR \\\n",
    "    --runThreadN 36 \\\n",
    "    --runMode soloCellFiltering demultiplexed_indrop_index/merged.Solo.out/Gene/raw demultiplexed_indrop_index/merged.Solo.out/Gene/filtered_27094/ \\\n",
    "    --soloCellFilter CellRanger2.2 27094 0.99 10 \\\n",
    "    --soloCBmatchWLtype 1MM \\\n",
    "    --quantMode GeneCounts \\\n",
    "    --soloFeatures Gene GeneFull"
   ]
  },
  {
   "cell_type": "code",
   "execution_count": 6,
   "id": "187dd428",
   "metadata": {},
   "outputs": [
    {
     "name": "stdout",
     "output_type": "stream",
     "text": [
      "20845 demultiplexed_indrop_index/merged.Solo.out/Gene/filtered_31293/barcodes.tsv\n"
     ]
    }
   ],
   "source": [
    "wc -l demultiplexed_indrop_index/merged.Solo.out/Gene/filtered_31293/barcodes.tsv"
   ]
  },
  {
   "cell_type": "code",
   "execution_count": null,
   "id": "ca705be7",
   "metadata": {},
   "outputs": [],
   "source": []
  }
 ],
 "metadata": {
  "kernelspec": {
   "display_name": "Bash",
   "language": "bash",
   "name": "bash"
  },
  "language_info": {
   "codemirror_mode": "shell",
   "file_extension": ".sh",
   "mimetype": "text/x-sh",
   "name": "bash"
  },
  "papermill": {
   "default_parameters": {},
   "duration": 11005.459303,
   "end_time": "2022-01-31T19:52:19.719924",
   "environment_variables": {},
   "exception": null,
   "input_path": "5c_mapping_indrop-Copy2.ipynb",
   "output_path": "-",
   "parameters": {},
   "start_time": "2022-01-31T16:48:54.260621",
   "version": "2.3.3"
  }
 },
 "nbformat": 4,
 "nbformat_minor": 5
}
