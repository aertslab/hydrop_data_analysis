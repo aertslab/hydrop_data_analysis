{
 "cells": [
  {
   "cell_type": "code",
   "execution_count": 5,
   "metadata": {},
   "outputs": [
    {
     "name": "stdout",
     "output_type": "stream",
     "text": [
      "\t/media/data/users/fderop/software/STAR/bin/Linux_x86_64/STAR --runThreadN 24 --runMode genomeGenerate --genomeDir /media/data/users/fderop/00000000_res/mm10_STAR/ --genomeFastaFiles /media/data/users/fderop/00000000_res/mm10_STAR/Mus_musculus.GRCm38.dna.primary_assembly.fa --sjdbGTFfile /media/data/users/fderop/00000000_res/mm10_STAR/gencode.vM23.primary_assembly.annotation.gtf --sjdbOverhang 100\n",
      "\tSTAR version: 2.7.8a_2021-04-27   compiled: 2021-04-27T10:22:15-0400 vega:/home/dobin/data/STAR/STARcode/STAR.master/source\n",
      "Apr 28 14:30:17 ..... started STAR run\n",
      "Apr 28 14:30:17 ... starting to generate Genome files\n",
      "Apr 28 14:31:08 ..... processing annotations GTF\n",
      "Apr 28 14:31:35 ... starting to sort Suffix Array. This may take a long time...\n",
      "Apr 28 14:31:53 ... sorting Suffix Array chunks and saving them to disk...\n",
      "Apr 28 14:45:28 ... loading chunks from disk, packing SA...\n",
      "Apr 28 14:46:41 ... finished generating suffix array\n",
      "Apr 28 14:46:41 ... generating Suffix Array index\n",
      "Apr 28 14:51:34 ... completed Suffix Array index\n",
      "Apr 28 14:51:34 ..... inserting junctions into the genome indices\n",
      "Apr 28 14:52:53 ... writing Genome to disk ...\n",
      "Apr 28 14:52:54 ... writing Suffix Array to disk ...\n",
      "Apr 28 14:53:05 ... writing SAindex to disk\n",
      "Apr 28 14:53:06 ..... finished successfully\n"
     ]
    }
   ],
   "source": [
    "/media/data/users/fderop/software/STAR/bin/Linux_x86_64/STAR\\\n",
    "    --runThreadN 16 \\\n",
    "    --runMode genomeGenerate \\\n",
    "    --genomeDir /media/data/users/fderop/00000000_res/mm10_STAR_premrna/ \\\n",
    "    --genomeFastaFiles /media/data/users/fderop/00000000_res/mm10_STAR_premrna/genome.fa \\\n",
    "    --sjdbGTFfile /media/data/users/fderop/00000000_res/mm10_STAR_premrna/genes.gtf \\\n",
    "    --sjdbOverhang 100"
   ]
  },
  {
   "cell_type": "markdown",
   "metadata": {},
   "source": [
    "# Fastp QC\n",
    "Perform fastp to get a html report of the sequencing. We can see in the fastp htmls that the barcode was sequenced corrrectly."
   ]
  },
  {
   "cell_type": "code",
   "execution_count": 49,
   "metadata": {
    "tags": []
   },
   "outputs": [
    {
     "name": "stdout",
     "output_type": "stream",
     "text": [
      "fastq/HYR__525037__20210225_R16_S1_R2_001.fastq.gz\n",
      "[1] 8299\n",
      "fastq/HYR__81e131__20210225_R74_S2_R2_001.fastq.gz\n",
      "[2] 8300\n"
     ]
    }
   ],
   "source": [
    "module load fastp\n",
    "for fastq in fastq/*R2_001.fastq.gz\n",
    "do\n",
    "    echo $fastq\n",
    "    html=${fastq%_001.fastq.gz}fastp_report.html\n",
    "    fastp -i $fastq -I $fastq -h $html -w 8 &\n",
    "done"
   ]
  },
  {
   "cell_type": "code",
   "execution_count": null,
   "metadata": {},
   "outputs": [],
   "source": [
    "module load fastp\n",
    "for fastq in fastq/*R1_001.fastq.gz\n",
    "do\n",
    "    echo $fastq\n",
    "    html=${fastq%_001.fastq.gz}fastp_report.html\n",
    "    fastp -i $fastq -I $fastq -h $html -w 8 &\n",
    "done"
   ]
  },
  {
   "cell_type": "markdown",
   "metadata": {},
   "source": [
    "The hydrop-rna library looks like this:\n",
    "\n",
    "```\n",
    "               Index 1: i7 read 10 bp           Read 1: cDNA read 86 bp  \n",
    "\n",
    "             <- HyDrop_CustSeq_Short_i7_Read            <- NXT               \n",
    "|-5’-[P7]-[i7]-[HyDrop_CustSeq_Short]-[BC_UMI]-[polyA]-[cDNA]-[NXT]-[i5]-[P5]-3’\n",
    "  3’-[P7]-[i7]-[HyDrop_CustSeq_Short]-[BC_UMI]-[polyT]-[cDNA]-[NXT]-[i5]-[P5]-5’-|  \n",
    "                HyDrop_CustSeq_Short ->                    NXT ->    \n",
    "                \n",
    "                   Read 2: BC 60 bp            Index 2: i5 read 10 bp       \n",
    "\n",
    "```\n",
    "\n",
    "The barcode read is ultimately structured like this:\n",
    "\n",
    "```\n",
    "-[BC1]-[AD1]-[BC2]-[AD2]-[BC3]-[UMI]\n",
    "-[10b]-[10b]-[10b]-[10b]-[10b]-[8bp]\n",
    "```\n",
    "\n",
    "With the lengths of each part under the part. The adapters inbetween the 3 sub-barcodes are identical for all reads."
   ]
  },
  {
   "cell_type": "markdown",
   "metadata": {},
   "source": [
    "we need to use STARsolo to map AND barcode demultiplex these samples. The star solo manual is excellent and explains all parameters used. Please change `--soloCellFilter CellRanger2.2 5000 0.99 10 \\` to the correct number of expected cells."
   ]
  },
  {
   "cell_type": "code",
   "execution_count": 7,
   "metadata": {},
   "outputs": [],
   "source": [
    "star_solo_hydrop_rna_mapping_unique_cellfilter () {\n",
    "    local fastq_R1_filename=\"${1}\";\n",
    "    local fastq_R2_filename=\"${2}\";\n",
    "    local bam_filename=\"${3}\";\n",
    "    # 3 barcode lists:\n",
    "    local whitelist_part1_filename='/media/data/users/fderop/00000000_barcodes/20200227_HyDrop-ATAC_96x96x96/20200227_bc1.txt';\n",
    "    local whitelist_part2_filename='/media/data/users/fderop/00000000_barcodes/20200227_HyDrop-ATAC_96x96x96/20200227_bc2.txt';\n",
    "    local whitelist_part3_filename='/media/data/users/fderop/00000000_barcodes/20200227_HyDrop-ATAC_96x96x96/20200227_bc3.txt';\n",
    "    star_reference_dir='/media/data/users/fderop/00000000_res/mm10_STAR_premrna/';\n",
    "    sjdbgtf='/media/data/users/fderop/00000000_res/mm10_STAR_premrna/genes.gtf'\n",
    "    #module load STAR/2.7.5b-foss-2018a;\n",
    "    #module load SAMtools/1.10-foss-2018a;\n",
    "    # Map with STAR solo\n",
    "    /media/data/users/fderop/software/STAR/bin/Linux_x86_64/STAR \\\n",
    "        --runThreadN 6 \\\n",
    "        --runMode alignReads \\\n",
    "        --outSAMtype BAM SortedByCoordinate \\\n",
    "        --sysShell /bin/bash \\\n",
    "        --genomeDir \"${star_reference_dir}\" \\\n",
    "        --readFilesIn \"${fastq_R1_filename}\" \"${fastq_R2_filename}\" \\\n",
    "        --readFilesCommand 'gzip -c -d' \\\n",
    "        --soloCBwhitelist \"${whitelist_part1_filename}\" \"${whitelist_part2_filename}\" \"${whitelist_part3_filename}\" \\\n",
    "        --soloType CB_UMI_Complex \\\n",
    "        --soloCBposition 0_0_0_9 0_20_0_29 0_40_0_49 \\\n",
    "        --soloUMIposition 0_50_0_57 \\\n",
    "        --sjdbGTFfile $sjdbgtf \\\n",
    "        --soloCellFilter CellRanger2.2 2000 0.99 10 \\\n",
    "        --soloCBmatchWLtype 1MM \\\n",
    "        --outFilterMultimapNmax 1 \\\n",
    "        --outSAMattributes NH HI AS nM CB UB CR CY UR UY \\\n",
    "        --outFileNamePrefix ${bam_filename%bam} \\\n",
    "        --outReadsUnmapped Fastx \\\n",
    "        --quantMode GeneCounts \\\n",
    "        --bamRemoveDuplicatesType UniqueIdentical \\\n",
    "        --soloFeatures Gene GeneFull Velocyto\n",
    "        # Index BAM file.\n",
    "    # samtools index \"${bam_filename%bam}Aligned.sortedByCoord.out.bam\"\n",
    "}"
   ]
  },
  {
   "cell_type": "markdown",
   "metadata": {},
   "source": [
    "Now we run this star solo script in a for loop on all the R2 fastq files in `fastq/`"
   ]
  },
  {
   "cell_type": "code",
   "execution_count": null,
   "metadata": {
    "tags": []
   },
   "outputs": [],
   "source": [
    "dir=demultiplexed\n",
    "mkdir $dir\n",
    "for sample in fastq/*R2_001.fastq.gz\n",
    "do\n",
    "    NAME=${sample%_R2_001.fastq.gz}\n",
    "    OUT=${NAME##*/}\n",
    "    echo $NAME\n",
    "    star_solo_hydrop_rna_mapping_unique_cellfilter \\\n",
    "        ${NAME}_R1_001.fastq.gz \\\n",
    "        ${NAME}_R2_001.fastq.gz \\\n",
    "        $dir/$OUT.bam\n",
    "done"
   ]
  },
  {
   "cell_type": "markdown",
   "metadata": {},
   "source": [
    "Now, we can get a summary of the statistics below:"
   ]
  },
  {
   "cell_type": "code",
   "execution_count": 3,
   "metadata": {},
   "outputs": [
    {
     "name": "stdout",
     "output_type": "stream",
     "text": [
      "lustre1/project/stg_00002/lcb/fderop/data/20210428_hydrop-rna_mouse_cortex_10k/demultiplexed/HYR__666332__20210412_mouse_cortex_sa_S1.Solo.out/Gene/Summary.csv\n",
      "Number of Reads,242071788\n",
      "Reads With Valid Barcodes,0.83327\n",
      "Sequencing Saturation,0.551516\n",
      "Q30 Bases in CB+UMI,0.774848\n",
      "Q30 Bases in RNA read,0.950998\n",
      "Reads Mapped to Genome: Unique+Multiple,0.859084\n",
      "Reads Mapped to Genome: Unique,0.859084\n",
      "Reads Mapped to Transcriptome: Unique+Multipe Genes,0.56905\n",
      "Reads Mapped to Transcriptome: Unique Genes,0.560225\n",
      "Estimated Number of Cells,5232\n",
      "Reads in Cells Mapped to Unique Genes,47987067\n",
      "Fraction of Reads in Cells,0.353848\n",
      "Mean Reads per Cell,9171\n",
      "Median Reads per Cell,7941\n",
      "UMIs in Cells,21186594\n",
      "Mean UMI per Cell,4049\n",
      "Median UMI per Cell,3514\n",
      "Mean Genes per Cell,1778\n",
      "Median Genes per Cell,1693\n",
      "Total Genes Detected,21719\n",
      "\n"
     ]
    }
   ],
   "source": [
    "for sample in /lustre1/project/stg_00002/lcb/fderop/data/20210428_hydrop-rna_mouse_cortex_10k/demultiplexed/HYR__666332__20210412_mouse_cortex_sa_S1.Solo.out/Gene/Summary.csv\n",
    "do\n",
    "    echo ${sample#*/}\n",
    "    cat $sample\n",
    "    cut -d, -f2 $sample > ${sample%/Gene/Summary.csv}/Gene/Summary_numbers.csv\n",
    "    printf \"\\n\"\n",
    "done"
   ]
  },
  {
   "cell_type": "code",
   "execution_count": 4,
   "metadata": {},
   "outputs": [
    {
     "name": "stdout",
     "output_type": "stream",
     "text": [
      "lustre1/project/stg_00002/lcb/fderop/data/20210428_hydrop-rna_mouse_cortex_10k/demultiplexed/HYR__c47998_e6244b__20210412_mouse_cortex_sbmerged_S4.Solo.out/Gene/Summary.csv\n",
      "Number of Reads,269012338\n",
      "Reads With Valid Barcodes,0.827878\n",
      "Sequencing Saturation,0.659605\n",
      "Q30 Bases in CB+UMI,0.780043\n",
      "Q30 Bases in RNA read,0.954299\n",
      "Reads Mapped to Genome: Unique+Multiple,0.859785\n",
      "Reads Mapped to Genome: Unique,0.859785\n",
      "Reads Mapped to Transcriptome: Unique+Multipe Genes,0.559121\n",
      "Reads Mapped to Transcriptome: Unique Genes,0.550297\n",
      "Estimated Number of Cells,4459\n",
      "Reads in Cells Mapped to Unique Genes,50489518\n",
      "Fraction of Reads in Cells,0.341061\n",
      "Mean Reads per Cell,11323\n",
      "Median Reads per Cell,9793\n",
      "UMIs in Cells,16851724\n",
      "Mean UMI per Cell,3779\n",
      "Median UMI per Cell,3265\n",
      "Mean Genes per Cell,1718\n",
      "Median Genes per Cell,1624\n",
      "Total Genes Detected,21483\n",
      "\n"
     ]
    }
   ],
   "source": [
    "for sample in /lustre1/project/stg_00002/lcb/fderop/data/20210428_hydrop-rna_mouse_cortex_10k/demultiplexed/HYR__c47998_e6244b__20210412_mouse_cortex_sbmerged_S4.Solo.out/Gene/Summary.csv\n",
    "do\n",
    "    echo ${sample#*/}\n",
    "    cat $sample\n",
    "    cut -d, -f2 $sample > ${sample%/Gene/Summary.csv}/Gene/Summary_numbers.csv\n",
    "    printf \"\\n\"\n",
    "done"
   ]
  },
  {
   "cell_type": "markdown",
   "metadata": {},
   "source": [
    "There will be a STARsolo output which contains both raw matrix (all barcodes) and filtered matrix (only includes \"cells\", which are determined using the same filter as cellranger uses)"
   ]
  }
 ],
 "metadata": {
  "kernelspec": {
   "display_name": "Bash",
   "language": "bash",
   "name": "bash"
  },
  "language_info": {
   "codemirror_mode": "shell",
   "file_extension": ".sh",
   "mimetype": "text/x-sh",
   "name": "bash"
  }
 },
 "nbformat": 4,
 "nbformat_minor": 4
}
