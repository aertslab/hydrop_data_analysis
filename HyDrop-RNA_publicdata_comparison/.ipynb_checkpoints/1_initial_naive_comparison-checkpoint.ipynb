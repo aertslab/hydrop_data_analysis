{
 "cells": [
  {
   "cell_type": "markdown",
   "metadata": {},
   "source": [
    "NOTE: this notebook is deprecated, and shows a naive comparison of indrop and dropseq data with hydrop data. Please proceed to notebooks 2 and beyond to see the analysis that lead to the final figure."
   ]
  },
  {
   "cell_type": "markdown",
   "metadata": {},
   "source": [
    "# load indrop data "
   ]
  },
  {
   "cell_type": "code",
   "execution_count": 1,
   "metadata": {},
   "outputs": [],
   "source": [
    "import glob as glob\n",
    "\n",
    "import numpy as np\n",
    "import pandas as pd\n",
    "import seaborn as sns\n",
    "import sklearn.preprocessing as sk"
   ]
  },
  {
   "cell_type": "markdown",
   "metadata": {},
   "source": [
    "get geo files https://www.ncbi.nlm.nih.gov/geo/query/acc.cgi?acc=GSE140883"
   ]
  },
  {
   "cell_type": "code",
   "execution_count": 4,
   "metadata": {},
   "outputs": [
    {
     "data": {
      "text/plain": [
       "['tables/GSE140883_P20NR_1.numis.tsv',\n",
       " 'tables/GSE140883_P15NR_1.numis.tsv',\n",
       " 'tables/GSE140883_P20TR_2.numis.tsv',\n",
       " 'tables/GSE140883_P15NR_2.ngenes.tsv',\n",
       " 'tables/GSE140883_P20TR_1.numis.tsv',\n",
       " 'tables/GSE140883_P10_1.ngenes.tsv',\n",
       " 'tables/GSE140883_P10_2.ngenes.tsv',\n",
       " 'tables/GSE140883_P20TR_1.ngenes.tsv',\n",
       " 'tables/GSE140883_P15TR_1.ngenes.tsv',\n",
       " 'tables/GSE140883_P10_2.numis.tsv',\n",
       " 'tables/GSE140883_P20NR_2.numis.tsv',\n",
       " 'tables/GSE140883_P15NR_1.ngenes.tsv',\n",
       " 'tables/GSE140883_P10_1.numis.tsv',\n",
       " 'tables/GSE140883_P15TR_1.numis.tsv',\n",
       " 'tables/GSE140883_P20NR_1.ngenes.tsv',\n",
       " 'tables/GSE140883_P20NR_2.ngenes.tsv',\n",
       " 'tables/GSE140883_P15TR_2.ngenes.tsv',\n",
       " 'tables/GSE140883_P15TR_2.numis.tsv',\n",
       " 'tables/GSE140883_P20TR_2.ngenes.tsv',\n",
       " 'tables/GSE140883_P15NR_2.numis.tsv']"
      ]
     },
     "execution_count": 4,
     "metadata": {},
     "output_type": "execute_result"
    }
   ],
   "source": [
    "files = glob.glob(\"tables/GSE140883*.tsv\")\n",
    "files"
   ]
  },
  {
   "cell_type": "code",
   "execution_count": 8,
   "metadata": {},
   "outputs": [],
   "source": [
    "df_numis_cat = pd.DataFrame()\n",
    "df_ngenes_cat = pd.DataFrame()\n",
    "for file in files:\n",
    "    df = pd.read_csv(file, sep='\\t', index_col=0)\n",
    "    df_numis = df.sum(axis=1)\n",
    "    df_ngenes = (df >= 1).astype(int).sum(axis=1)\n",
    "    df_numis_cat = pd.concat([df_numis_cat, df_numis], axis=0)\n",
    "    df_ngenes_cat = pd.concat([df_ngenes_cat, df_ngenes], axis=0)"
   ]
  },
  {
   "cell_type": "code",
   "execution_count": 9,
   "metadata": {},
   "outputs": [],
   "source": [
    "df_ngenes_cat.to_csv('df_ngenes_cat_indrop.csv', sep='\\t')\n",
    "df_numis_cat.to_csv('df_numis_cat_indrop.csv', sep='\\t')"
   ]
  },
  {
   "cell_type": "markdown",
   "metadata": {},
   "source": [
    "# load drop-seq data"
   ]
  },
  {
   "cell_type": "markdown",
   "metadata": {},
   "source": [
    "Get GEO data from here: https://www.ncbi.nlm.nih.gov/geo/query/acc.cgi?acc=GSE63473"
   ]
  },
  {
   "cell_type": "code",
   "execution_count": 13,
   "metadata": {},
   "outputs": [],
   "source": [
    "import pandas as pd\n",
    "import seaborn as sns\n",
    "import numpy as np\n",
    "import glob as glob\n",
    "import sklearn.preprocessing as sk"
   ]
  },
  {
   "cell_type": "code",
   "execution_count": 14,
   "metadata": {},
   "outputs": [],
   "source": [
    "files = glob.glob('tables/GSM162679?_P14Retina_?.digital_expression.txt')"
   ]
  },
  {
   "cell_type": "code",
   "execution_count": 15,
   "metadata": {},
   "outputs": [
    {
     "data": {
      "text/plain": [
       "['tables/GSM1626794_P14Retina_2.digital_expression.txt',\n",
       " 'tables/GSM1626798_P14Retina_6.digital_expression.txt',\n",
       " 'tables/GSM1626799_P14Retina_7.digital_expression.txt',\n",
       " 'tables/GSM1626793_P14Retina_1.digital_expression.txt',\n",
       " 'tables/GSM1626795_P14Retina_3.digital_expression.txt',\n",
       " 'tables/GSM1626797_P14Retina_5.digital_expression.txt',\n",
       " 'tables/GSM1626796_P14Retina_4.digital_expression.txt']"
      ]
     },
     "execution_count": 15,
     "metadata": {},
     "output_type": "execute_result"
    }
   ],
   "source": [
    "files"
   ]
  },
  {
   "cell_type": "code",
   "execution_count": null,
   "metadata": {
    "tags": []
   },
   "outputs": [],
   "source": [
    "df_numis_cat = pd.DataFrame()\n",
    "df_ngenes_cat = pd.DataFrame()\n",
    "for file in files:\n",
    "    df = pd.read_csv(file, sep='\\t', index_col=0)\n",
    "    df_numis = df.sum(axis=0)\n",
    "    df_ngenes = (df >= 1).astype(int).sum(axis=0)\n",
    "    df_numis_cat = pd.concat([df_numis_cat, df_numis], axis=0)\n",
    "    df_ngenes_cat = pd.concat([df_ngenes_cat, df_ngenes], axis=0)"
   ]
  },
  {
   "cell_type": "code",
   "execution_count": null,
   "metadata": {},
   "outputs": [],
   "source": [
    "df_ngenes_cat.to_csv('df_ngenes_cat_dropseq.csv', sep='\\t')\n",
    "df_numis_cat.to_csv('df_numis_cat_dropseq.csv', sep='\\t')"
   ]
  },
  {
   "cell_type": "markdown",
   "metadata": {},
   "source": [
    "# compar of hydrop with indrop and drop-seq"
   ]
  },
  {
   "cell_type": "markdown",
   "metadata": {},
   "source": [
    "## indrop"
   ]
  },
  {
   "cell_type": "markdown",
   "metadata": {},
   "source": [
    "the authors describe a minimum gene count of 500 in the main text, but in reality they cut off at minimum 500 umis"
   ]
  },
  {
   "cell_type": "code",
   "execution_count": 17,
   "metadata": {},
   "outputs": [],
   "source": [
    "df_genes_indrop = pd.read_csv('tables/df_ngenes_cat_indrop.csv', sep='\\t')\n",
    "df_umis_indrop = pd.read_csv('tables/df_numis_cat_indrop.csv', sep='\\t')\n",
    "df_genes_indrop.columns = ['bc', 'genes']\n",
    "df_umis_indrop.columns = ['bc', 'umis']"
   ]
  },
  {
   "cell_type": "code",
   "execution_count": 18,
   "metadata": {},
   "outputs": [],
   "source": [
    "df_umis_indrop = df_umis_indrop[df_umis_indrop['umis'] > 500]\n",
    "df_genes_indrop = df_genes_indrop[df_genes_indrop.index.isin(df_umis_indrop.index)]"
   ]
  },
  {
   "cell_type": "code",
   "execution_count": 19,
   "metadata": {},
   "outputs": [],
   "source": [
    "df_indrop = df_genes_indrop.copy()\n",
    "df_indrop['umis'] = df_umis_indrop['umis']\n",
    "df_indrop['method'] = 'indrop'"
   ]
  },
  {
   "cell_type": "code",
   "execution_count": 20,
   "metadata": {},
   "outputs": [
    {
     "name": "stderr",
     "output_type": "stream",
     "text": [
      "/user/leuven/330/vsc33042/.local/lib/python3.7/site-packages/ipykernel_launcher.py:1: FutureWarning: Dropping of nuisance columns in DataFrame reductions (with 'numeric_only=None') is deprecated; in a future version this will raise TypeError.  Select only valid columns before calling the reduction.\n",
      "  \"\"\"Entry point for launching an IPython kernel.\n"
     ]
    },
    {
     "data": {
      "text/plain": [
       "genes     886.0\n",
       "umis     1195.0\n",
       "dtype: float64"
      ]
     },
     "execution_count": 20,
     "metadata": {},
     "output_type": "execute_result"
    }
   ],
   "source": [
    "df_indrop.median()"
   ]
  },
  {
   "cell_type": "code",
   "execution_count": 21,
   "metadata": {},
   "outputs": [],
   "source": [
    "df_indrop_counts = df_indrop.copy()\n",
    "df_indrop_counts['count'] = df_indrop_counts['umis']\n",
    "df_indrop_counts['count_type'] = 'umis'\n",
    "df_indrop_counts2 = df_indrop.copy()\n",
    "df_indrop_counts2['count'] = df_indrop_counts2['genes']\n",
    "df_indrop_counts2['count_type'] = 'genes'\n",
    "df_indrop_counts_merged = pd.concat([df_indrop_counts, df_indrop_counts2])"
   ]
  },
  {
   "cell_type": "markdown",
   "metadata": {},
   "source": [
    "## drop-seq"
   ]
  },
  {
   "cell_type": "markdown",
   "metadata": {},
   "source": [
    "the authors use a filter of minimum 500 genes"
   ]
  },
  {
   "cell_type": "code",
   "execution_count": 27,
   "metadata": {},
   "outputs": [],
   "source": [
    "df_genes_dropseq = pd.read_csv('tables/df_ngenes_cat_dropseq.csv', sep='\\t')\n",
    "df_umis_dropseq = pd.read_csv('tables/df_numis_cat_dropseq.csv', sep='\\t')\n",
    "df_genes_dropseq.columns = ['bc', 'genes']\n",
    "df_umis_dropseq.columns = ['bc', 'umis']"
   ]
  },
  {
   "cell_type": "code",
   "execution_count": 28,
   "metadata": {},
   "outputs": [],
   "source": [
    "df_genes_dropseq = df_genes_dropseq[df_genes_dropseq['genes'] > 500]\n",
    "df_umis_dropseq = df_umis_dropseq[df_umis_dropseq.index.isin(df_genes_dropseq.index)]"
   ]
  },
  {
   "cell_type": "code",
   "execution_count": 29,
   "metadata": {},
   "outputs": [],
   "source": [
    "df_dropseq=df_genes_dropseq.copy()\n",
    "df_dropseq['umis'] = df_umis_dropseq['umis']\n",
    "df_dropseq['method'] = 'dropseq'"
   ]
  },
  {
   "cell_type": "code",
   "execution_count": 30,
   "metadata": {},
   "outputs": [],
   "source": [
    "df_dropseq_counts = df_dropseq.copy()\n",
    "df_dropseq_counts['count'] = df_dropseq_counts['umis']\n",
    "df_dropseq_counts['count_type'] = 'umis'\n",
    "df_dropseq_counts2 = df_dropseq.copy()\n",
    "df_dropseq_counts2['count'] = df_dropseq_counts2['genes']\n",
    "df_dropseq_counts2['count_type'] = 'genes'\n",
    "df_dropseq_counts_merged = pd.concat([df_dropseq_counts, df_dropseq_counts2])"
   ]
  },
  {
   "cell_type": "code",
   "execution_count": 31,
   "metadata": {},
   "outputs": [
    {
     "name": "stderr",
     "output_type": "stream",
     "text": [
      "/user/leuven/330/vsc33042/.local/lib/python3.7/site-packages/ipykernel_launcher.py:1: FutureWarning: Dropping of nuisance columns in DataFrame reductions (with 'numeric_only=None') is deprecated; in a future version this will raise TypeError.  Select only valid columns before calling the reduction.\n",
      "  \"\"\"Entry point for launching an IPython kernel.\n"
     ]
    },
    {
     "data": {
      "text/plain": [
       "genes     922.0\n",
       "umis     1389.0\n",
       "count    1389.0\n",
       "dtype: float64"
      ]
     },
     "execution_count": 31,
     "metadata": {},
     "output_type": "execute_result"
    }
   ],
   "source": [
    "df_dropseq_counts.median()"
   ]
  },
  {
   "cell_type": "markdown",
   "metadata": {},
   "source": [
    "## HyDrop - mouse cortex data"
   ]
  },
  {
   "cell_type": "markdown",
   "metadata": {},
   "source": [
    "our data is filtered by star-solo based on knee. we then convert these cells to h5ad format using scanpy"
   ]
  },
  {
   "cell_type": "code",
   "execution_count": null,
   "metadata": {},
   "outputs": [],
   "source": [
    "import scanpy as sc"
   ]
  },
  {
   "cell_type": "code",
   "execution_count": null,
   "metadata": {},
   "outputs": [],
   "source": [
    "adata = sc.read('20210501_adata.h5ad')\n",
    "df_genes_hydrop = pd.DataFrame(adata.obs['n_genes'])\n",
    "df_umis_hydrop = pd.DataFrame(adata.obs['total_counts'])\n",
    "df_genes_hydrop['bc'] = df_genes_hydrop.index\n",
    "df_genes_hydrop.columns = ['genes', 'bc']\n",
    "df_umis_hydrop['bc'] = df_umis_hydrop.index\n",
    "df_umis_hydrop.columns = ['umis', 'bc']"
   ]
  },
  {
   "cell_type": "code",
   "execution_count": null,
   "metadata": {},
   "outputs": [],
   "source": [
    "df_hydrop=df_genes_hydrop.copy()\n",
    "df_hydrop['umis'] = df_umis_hydrop['umis']\n",
    "df_hydrop['method'] = 'hydrop'"
   ]
  },
  {
   "cell_type": "code",
   "execution_count": null,
   "metadata": {},
   "outputs": [],
   "source": [
    "df_hydrop.median()"
   ]
  },
  {
   "cell_type": "code",
   "execution_count": null,
   "metadata": {},
   "outputs": [],
   "source": [
    "df_hydrop.min()"
   ]
  },
  {
   "cell_type": "code",
   "execution_count": null,
   "metadata": {},
   "outputs": [],
   "source": [
    "df_hydrop_counts = df_hydrop.copy()\n",
    "df_hydrop_counts['count'] = df_hydrop_counts['umis']\n",
    "df_hydrop_counts['count_type'] = 'umis'\n",
    "df_hydrop_counts2 = df_hydrop.copy()\n",
    "df_hydrop_counts2['count'] = df_hydrop_counts2['genes']\n",
    "df_hydrop_counts2['count_type'] = 'genes'\n",
    "df_hydrop_counts_merged = pd.concat([df_hydrop_counts, df_hydrop_counts2])"
   ]
  },
  {
   "cell_type": "markdown",
   "metadata": {},
   "source": [
    "# merge"
   ]
  },
  {
   "cell_type": "code",
   "execution_count": 27,
   "metadata": {},
   "outputs": [],
   "source": [
    "import matplotlib.pyplot as plt\n",
    "import seaborn as sns"
   ]
  },
  {
   "cell_type": "code",
   "execution_count": 28,
   "metadata": {},
   "outputs": [],
   "source": [
    "context = \"talk\"\n",
    "style = \"darkgrid\"\n",
    "markersize = 25\n",
    "plt.close()\n",
    "sns.set_context(context)\n",
    "sns.set_style(style, {\"axes.linewidth\": 1, \"axes.edgecolor\": \".20\"})"
   ]
  },
  {
   "cell_type": "code",
   "execution_count": 29,
   "metadata": {},
   "outputs": [],
   "source": [
    "df_counts = pd.concat([df_indrop_counts_merged, df_dropseq_counts_merged, df_hydrop_counts_merged])"
   ]
  },
  {
   "cell_type": "code",
   "execution_count": 30,
   "metadata": {},
   "outputs": [
    {
     "data": {
      "text/html": [
       "<div>\n",
       "<style scoped>\n",
       "    .dataframe tbody tr th:only-of-type {\n",
       "        vertical-align: middle;\n",
       "    }\n",
       "\n",
       "    .dataframe tbody tr th {\n",
       "        vertical-align: top;\n",
       "    }\n",
       "\n",
       "    .dataframe thead th {\n",
       "        text-align: right;\n",
       "    }\n",
       "</style>\n",
       "<table border=\"1\" class=\"dataframe\">\n",
       "  <thead>\n",
       "    <tr style=\"text-align: right;\">\n",
       "      <th></th>\n",
       "      <th>genes</th>\n",
       "      <th>umis</th>\n",
       "      <th>count</th>\n",
       "    </tr>\n",
       "    <tr>\n",
       "      <th>method</th>\n",
       "      <th></th>\n",
       "      <th></th>\n",
       "      <th></th>\n",
       "    </tr>\n",
       "  </thead>\n",
       "  <tbody>\n",
       "    <tr>\n",
       "      <th>dropseq</th>\n",
       "      <td>922.0</td>\n",
       "      <td>1389.0</td>\n",
       "      <td>1125.0</td>\n",
       "    </tr>\n",
       "    <tr>\n",
       "      <th>hydrop</th>\n",
       "      <td>1662.0</td>\n",
       "      <td>3403.5</td>\n",
       "      <td>2181.0</td>\n",
       "    </tr>\n",
       "    <tr>\n",
       "      <th>indrop</th>\n",
       "      <td>886.0</td>\n",
       "      <td>1195.0</td>\n",
       "      <td>1019.0</td>\n",
       "    </tr>\n",
       "  </tbody>\n",
       "</table>\n",
       "</div>"
      ],
      "text/plain": [
       "          genes    umis   count\n",
       "method                         \n",
       "dropseq   922.0  1389.0  1125.0\n",
       "hydrop   1662.0  3403.5  2181.0\n",
       "indrop    886.0  1195.0  1019.0"
      ]
     },
     "execution_count": 30,
     "metadata": {},
     "output_type": "execute_result"
    }
   ],
   "source": [
    "df_counts.groupby('method').median()"
   ]
  },
  {
   "cell_type": "code",
   "execution_count": 552,
   "metadata": {},
   "outputs": [
    {
     "data": {
      "image/png": "[encoded data removed]",
      "text/plain": [
       "<Figure size 432x288 with 1 Axes>"
      ]
     },
     "metadata": {},
     "output_type": "display_data"
    }
   ],
   "source": [
    "ax = sns.violinplot(data=df_counts, y='count', x='method', hue='count_type', split=True, inner=\"quartile\", size='count')\n",
    "ax.yaxis.set_major_locator(plt.MaxNLocator(5))\n",
    "plt.ylim([0,7000])\n",
    "plt.savefig('plts_pub/compar_public.svg')\n",
    "\n",
    "plt.show()"
   ]
  },
  {
   "cell_type": "markdown",
   "metadata": {},
   "source": [
    "# if we filter on min 500 genes for indrop after all"
   ]
  },
  {
   "cell_type": "code",
   "execution_count": 32,
   "metadata": {},
   "outputs": [],
   "source": [
    "df_genes_indrop = pd.read_csv('df_ngenes_cat_indrop.csv', sep='\\t')\n",
    "df_umis_indrop = pd.read_csv('df_numis_cat_indrop.csv', sep='\\t')\n",
    "df_genes_indrop.columns = ['bc', 'genes']\n",
    "df_umis_indrop.columns = ['bc', 'umis']"
   ]
  },
  {
   "cell_type": "code",
   "execution_count": 33,
   "metadata": {},
   "outputs": [],
   "source": [
    "df_genes_indrop = df_genes_indrop[df_genes_indrop['genes'] > 500]\n",
    "df_umis_indrop = df_umis_indrop[df_umis_indrop.index.isin(df_genes_indrop.index)]"
   ]
  },
  {
   "cell_type": "code",
   "execution_count": 34,
   "metadata": {},
   "outputs": [],
   "source": [
    "df_indrop = df_genes_indrop.copy()\n",
    "df_indrop['umis'] = df_umis_indrop['umis']\n",
    "df_indrop['method'] = 'indrop'"
   ]
  },
  {
   "cell_type": "code",
   "execution_count": 35,
   "metadata": {},
   "outputs": [],
   "source": [
    "df_indrop_counts = df_indrop.copy()\n",
    "df_indrop_counts['count'] = df_indrop_counts['umis']\n",
    "df_indrop_counts['count_type'] = 'umis'\n",
    "df_indrop_counts2 = df_indrop.copy()\n",
    "df_indrop_counts2['count'] = df_indrop_counts2['genes']\n",
    "df_indrop_counts2['count_type'] = 'genes'\n",
    "df_indrop_counts_merged = pd.concat([df_indrop_counts, df_indrop_counts2])"
   ]
  },
  {
   "cell_type": "code",
   "execution_count": 36,
   "metadata": {},
   "outputs": [],
   "source": [
    "df_counts = pd.concat([df_indrop_counts_merged, df_dropseq_counts_merged, df_hydrop_counts_merged])"
   ]
  },
  {
   "cell_type": "code",
   "execution_count": 37,
   "metadata": {},
   "outputs": [
    {
     "data": {
      "image/png": "[encoded data removed]",
      "text/plain": [
       "<Figure size 432x288 with 1 Axes>"
      ]
     },
     "metadata": {},
     "output_type": "display_data"
    }
   ],
   "source": [
    "ax = sns.violinplot(data=df_counts, y='count', x='method', hue='count_type', split=True, inner=\"quartile\", size='count', order=[ \"dropseq\", \"indrop\", \"hydrop\"])\n",
    "ax.yaxis.set_major_locator(plt.MaxNLocator(5))\n",
    "plt.ylim([0,7000])\n",
    "plt.savefig('plts_pub/compar_public.svg')\n",
    "\n",
    "plt.show()"
   ]
  },
  {
   "cell_type": "code",
   "execution_count": 42,
   "metadata": {},
   "outputs": [
    {
     "data": {
      "text/html": [
       "<div>\n",
       "<style scoped>\n",
       "    .dataframe tbody tr th:only-of-type {\n",
       "        vertical-align: middle;\n",
       "    }\n",
       "\n",
       "    .dataframe tbody tr th {\n",
       "        vertical-align: top;\n",
       "    }\n",
       "\n",
       "    .dataframe thead th {\n",
       "        text-align: right;\n",
       "    }\n",
       "</style>\n",
       "<table border=\"1\" class=\"dataframe\">\n",
       "  <thead>\n",
       "    <tr style=\"text-align: right;\">\n",
       "      <th></th>\n",
       "      <th>bc</th>\n",
       "      <th>genes</th>\n",
       "      <th>umis</th>\n",
       "      <th>method</th>\n",
       "      <th>count</th>\n",
       "      <th>count_type</th>\n",
       "    </tr>\n",
       "  </thead>\n",
       "  <tbody>\n",
       "    <tr>\n",
       "      <th>1</th>\n",
       "      <td>bcAAPF</td>\n",
       "      <td>2712.0</td>\n",
       "      <td>4734.0</td>\n",
       "      <td>indrop</td>\n",
       "      <td>4734.0</td>\n",
       "      <td>umis</td>\n",
       "    </tr>\n",
       "    <tr>\n",
       "      <th>2</th>\n",
       "      <td>bcHDYJ</td>\n",
       "      <td>2377.0</td>\n",
       "      <td>3940.0</td>\n",
       "      <td>indrop</td>\n",
       "      <td>3940.0</td>\n",
       "      <td>umis</td>\n",
       "    </tr>\n",
       "    <tr>\n",
       "      <th>3</th>\n",
       "      <td>bcHEED</td>\n",
       "      <td>1931.0</td>\n",
       "      <td>3037.0</td>\n",
       "      <td>indrop</td>\n",
       "      <td>3037.0</td>\n",
       "      <td>umis</td>\n",
       "    </tr>\n",
       "    <tr>\n",
       "      <th>4</th>\n",
       "      <td>bcFPUH</td>\n",
       "      <td>1930.0</td>\n",
       "      <td>3080.0</td>\n",
       "      <td>indrop</td>\n",
       "      <td>3080.0</td>\n",
       "      <td>umis</td>\n",
       "    </tr>\n",
       "    <tr>\n",
       "      <th>5</th>\n",
       "      <td>bcFQID</td>\n",
       "      <td>1640.0</td>\n",
       "      <td>2479.0</td>\n",
       "      <td>indrop</td>\n",
       "      <td>2479.0</td>\n",
       "      <td>umis</td>\n",
       "    </tr>\n",
       "    <tr>\n",
       "      <th>...</th>\n",
       "      <td>...</td>\n",
       "      <td>...</td>\n",
       "      <td>...</td>\n",
       "      <td>...</td>\n",
       "      <td>...</td>\n",
       "      <td>...</td>\n",
       "    </tr>\n",
       "    <tr>\n",
       "      <th>B_CTCCTGAATC_TGTGCTCTAA_TTGGATACGT</th>\n",
       "      <td>B_CTCCTGAATC_TGTGCTCTAA_TTGGATACGT</td>\n",
       "      <td>934.0</td>\n",
       "      <td>1485.0</td>\n",
       "      <td>hydrop</td>\n",
       "      <td>934.0</td>\n",
       "      <td>genes</td>\n",
       "    </tr>\n",
       "    <tr>\n",
       "      <th>B_GGATGAGGAG_TTAACAGTCA_TTGGATACGT</th>\n",
       "      <td>B_GGATGAGGAG_TTAACAGTCA_TTGGATACGT</td>\n",
       "      <td>956.0</td>\n",
       "      <td>1544.0</td>\n",
       "      <td>hydrop</td>\n",
       "      <td>956.0</td>\n",
       "      <td>genes</td>\n",
       "    </tr>\n",
       "    <tr>\n",
       "      <th>B_AAGCCGCATA_TTGAGGCATC_TTGGATACGT</th>\n",
       "      <td>B_AAGCCGCATA_TTGAGGCATC_TTGGATACGT</td>\n",
       "      <td>2708.0</td>\n",
       "      <td>7717.0</td>\n",
       "      <td>hydrop</td>\n",
       "      <td>2708.0</td>\n",
       "      <td>genes</td>\n",
       "    </tr>\n",
       "    <tr>\n",
       "      <th>B_TACATAGAGG_TTGAGGCATC_TTGGATACGT</th>\n",
       "      <td>B_TACATAGAGG_TTGAGGCATC_TTGGATACGT</td>\n",
       "      <td>2232.0</td>\n",
       "      <td>5113.0</td>\n",
       "      <td>hydrop</td>\n",
       "      <td>2232.0</td>\n",
       "      <td>genes</td>\n",
       "    </tr>\n",
       "    <tr>\n",
       "      <th>B_TGAGCAATCT_TTGAGGCATC_TTGGATACGT</th>\n",
       "      <td>B_TGAGCAATCT_TTGAGGCATC_TTGGATACGT</td>\n",
       "      <td>1176.0</td>\n",
       "      <td>1845.0</td>\n",
       "      <td>hydrop</td>\n",
       "      <td>1176.0</td>\n",
       "      <td>genes</td>\n",
       "    </tr>\n",
       "  </tbody>\n",
       "</table>\n",
       "<p>117918 rows × 6 columns</p>\n",
       "</div>"
      ],
      "text/plain": [
       "                                                                    bc  \\\n",
       "1                                                               bcAAPF   \n",
       "2                                                               bcHDYJ   \n",
       "3                                                               bcHEED   \n",
       "4                                                               bcFPUH   \n",
       "5                                                               bcFQID   \n",
       "...                                                                ...   \n",
       "B_CTCCTGAATC_TGTGCTCTAA_TTGGATACGT  B_CTCCTGAATC_TGTGCTCTAA_TTGGATACGT   \n",
       "B_GGATGAGGAG_TTAACAGTCA_TTGGATACGT  B_GGATGAGGAG_TTAACAGTCA_TTGGATACGT   \n",
       "B_AAGCCGCATA_TTGAGGCATC_TTGGATACGT  B_AAGCCGCATA_TTGAGGCATC_TTGGATACGT   \n",
       "B_TACATAGAGG_TTGAGGCATC_TTGGATACGT  B_TACATAGAGG_TTGAGGCATC_TTGGATACGT   \n",
       "B_TGAGCAATCT_TTGAGGCATC_TTGGATACGT  B_TGAGCAATCT_TTGAGGCATC_TTGGATACGT   \n",
       "\n",
       "                                     genes    umis  method   count count_type  \n",
       "1                                   2712.0  4734.0  indrop  4734.0       umis  \n",
       "2                                   2377.0  3940.0  indrop  3940.0       umis  \n",
       "3                                   1931.0  3037.0  indrop  3037.0       umis  \n",
       "4                                   1930.0  3080.0  indrop  3080.0       umis  \n",
       "5                                   1640.0  2479.0  indrop  2479.0       umis  \n",
       "...                                    ...     ...     ...     ...        ...  \n",
       "B_CTCCTGAATC_TGTGCTCTAA_TTGGATACGT   934.0  1485.0  hydrop   934.0      genes  \n",
       "B_GGATGAGGAG_TTAACAGTCA_TTGGATACGT   956.0  1544.0  hydrop   956.0      genes  \n",
       "B_AAGCCGCATA_TTGAGGCATC_TTGGATACGT  2708.0  7717.0  hydrop  2708.0      genes  \n",
       "B_TACATAGAGG_TTGAGGCATC_TTGGATACGT  2232.0  5113.0  hydrop  2232.0      genes  \n",
       "B_TGAGCAATCT_TTGAGGCATC_TTGGATACGT  1176.0  1845.0  hydrop  1176.0      genes  \n",
       "\n",
       "[117918 rows x 6 columns]"
      ]
     },
     "execution_count": 42,
     "metadata": {},
     "output_type": "execute_result"
    }
   ],
   "source": [
    "df_counts[df_counts['count'] < 7000]"
   ]
  },
  {
   "cell_type": "code",
   "execution_count": 43,
   "metadata": {},
   "outputs": [
    {
     "data": {
      "image/png": "[encoded data removed]",
      "text/plain": [
       "<Figure size 432x288 with 1 Axes>"
      ]
     },
     "metadata": {},
     "output_type": "display_data"
    }
   ],
   "source": [
    "# i can choose not to plot the cells with counts > 7000 in order to smoothen the curve\n",
    "ax = sns.violinplot(data=df_counts[df_counts['count'] < 7000], y='count', x='method', hue='count_type', split=True, inner=\"quartile\", size='count', order=[ \"dropseq\", \"indrop\", \"hydrop\"])\n",
    "ax.yaxis.set_major_locator(plt.MaxNLocator(5))\n",
    "plt.ylim([0,7000])\n",
    "plt.savefig('plts_pub/compar_public_soft.svg')\n",
    "\n",
    "plt.show()"
   ]
  },
  {
   "cell_type": "code",
   "execution_count": 38,
   "metadata": {},
   "outputs": [
    {
     "data": {
      "text/html": [
       "<div>\n",
       "<style scoped>\n",
       "    .dataframe tbody tr th:only-of-type {\n",
       "        vertical-align: middle;\n",
       "    }\n",
       "\n",
       "    .dataframe tbody tr th {\n",
       "        vertical-align: top;\n",
       "    }\n",
       "\n",
       "    .dataframe thead th {\n",
       "        text-align: right;\n",
       "    }\n",
       "</style>\n",
       "<table border=\"1\" class=\"dataframe\">\n",
       "  <thead>\n",
       "    <tr style=\"text-align: right;\">\n",
       "      <th></th>\n",
       "      <th>genes</th>\n",
       "      <th>umis</th>\n",
       "      <th>count</th>\n",
       "    </tr>\n",
       "    <tr>\n",
       "      <th>method</th>\n",
       "      <th></th>\n",
       "      <th></th>\n",
       "      <th></th>\n",
       "    </tr>\n",
       "  </thead>\n",
       "  <tbody>\n",
       "    <tr>\n",
       "      <th>dropseq</th>\n",
       "      <td>922.0</td>\n",
       "      <td>1389.0</td>\n",
       "      <td>1125.0</td>\n",
       "    </tr>\n",
       "    <tr>\n",
       "      <th>hydrop</th>\n",
       "      <td>1662.0</td>\n",
       "      <td>3403.5</td>\n",
       "      <td>2181.0</td>\n",
       "    </tr>\n",
       "    <tr>\n",
       "      <th>indrop</th>\n",
       "      <td>1097.0</td>\n",
       "      <td>1521.0</td>\n",
       "      <td>1267.0</td>\n",
       "    </tr>\n",
       "  </tbody>\n",
       "</table>\n",
       "</div>"
      ],
      "text/plain": [
       "          genes    umis   count\n",
       "method                         \n",
       "dropseq   922.0  1389.0  1125.0\n",
       "hydrop   1662.0  3403.5  2181.0\n",
       "indrop   1097.0  1521.0  1267.0"
      ]
     },
     "execution_count": 38,
     "metadata": {},
     "output_type": "execute_result"
    }
   ],
   "source": [
    "df_counts.groupby('method').median()"
   ]
  },
  {
   "cell_type": "markdown",
   "metadata": {},
   "source": [
    "now save the dataframe:"
   ]
  },
  {
   "cell_type": "code",
   "execution_count": 45,
   "metadata": {},
   "outputs": [],
   "source": [
    "df_counts.to_csv('comparison_dataframe.tsv', sep='\\t', index=False, header=True)"
   ]
  }
 ],
 "metadata": {
  "kernelspec": {
   "display_name": "Python 3",
   "language": "python",
   "name": "python3"
  },
  "language_info": {
   "codemirror_mode": {
    "name": "ipython",
    "version": 3
   },
   "file_extension": ".py",
   "mimetype": "text/x-python",
   "name": "python",
   "nbconvert_exporter": "python",
   "pygments_lexer": "ipython3",
   "version": "3.7.7"
  }
 },
 "nbformat": 4,
 "nbformat_minor": 4
}
