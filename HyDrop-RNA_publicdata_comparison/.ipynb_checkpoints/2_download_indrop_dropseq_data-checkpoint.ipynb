{
 "cells": [
  {
   "cell_type": "code",
   "execution_count": 1,
   "id": "f92992dc",
   "metadata": {},
   "outputs": [],
   "source": [
    "module load SRA-Toolkit/2.11.3-centos_linux64"
   ]
  },
  {
   "cell_type": "markdown",
   "id": "46e32f72",
   "metadata": {},
   "source": [
    "Run `vdb-config -i --interactive-mode textual` to set cache path to `/lustre1/scratch/330/vsc33042/tmp`"
   ]
  },
  {
   "cell_type": "markdown",
   "id": "18c924ad",
   "metadata": {},
   "source": [
    "# for indrop"
   ]
  },
  {
   "cell_type": "markdown",
   "id": "c2ebdbba",
   "metadata": {},
   "source": [
    "first, download the indrop data (in tmux)"
   ]
  },
  {
   "cell_type": "code",
   "execution_count": 4,
   "id": "efc49121",
   "metadata": {},
   "outputs": [
    {
     "name": "stdout",
     "output_type": "stream",
     "text": [
      "\n",
      "2022-01-25T14:02:38 prefetch.2.11.2: Current preference is set to retrieve SRA Normalized Format files with full base quality scores.\n",
      "2022-01-25T14:02:38 prefetch.2.11.2: 1) Downloading 'SRR10545069'...\n",
      "2022-01-25T14:02:38 prefetch.2.11.2: SRA Normalized Format file is being retrieved, if this is different from your preference, it may be due to current file availability.\n",
      "2022-01-25T14:02:38 prefetch.2.11.2:  Downloading via HTTPS...\n",
      "2022-01-25T14:06:38 prefetch.2.11.2:  HTTPS download succeed\n",
      "2022-01-25T14:06:49 prefetch.2.11.2:  'SRR10545069' is valid\n",
      "2022-01-25T14:06:49 prefetch.2.11.2: 1) 'SRR10545069' was downloaded successfully\n",
      "2022-01-25T14:06:49 prefetch.2.11.2: 'SRR10545069' has 0 unresolved dependencies\n",
      "\n",
      "2022-01-25T14:02:42 prefetch.2.11.2: Current preference is set to retrieve SRA Normalized Format files with full base quality scores.\n",
      "2022-01-25T14:02:42 prefetch.2.11.2: 1) Downloading 'SRR10545068'...\n",
      "2022-01-25T14:02:42 prefetch.2.11.2: SRA Normalized Format file is being retrieved, if this is different from your preference, it may be due to current file availability.\n",
      "2022-01-25T14:02:42 prefetch.2.11.2:  Downloading via HTTPS...\n",
      "2022-01-25T14:12:36 prefetch.2.11.2:  HTTPS download succeed\n",
      "2022-01-25T14:12:50 prefetch.2.11.2:  'SRR10545068' is valid\n",
      "2022-01-25T14:12:50 prefetch.2.11.2: 1) 'SRR10545068' was downloaded successfully\n",
      "2022-01-25T14:12:50 prefetch.2.11.2: 'SRR10545068' has 0 unresolved dependencies\n",
      "\n",
      "2022-01-25T14:06:50 prefetch.2.11.2: Current preference is set to retrieve SRA Normalized Format files with full base quality scores.\n",
      "2022-01-25T14:06:51 prefetch.2.11.2: 1) Downloading 'SRR10545072'...\n",
      "2022-01-25T14:06:51 prefetch.2.11.2: SRA Normalized Format file is being retrieved, if this is different from your preference, it may be due to current file availability.\n",
      "2022-01-25T14:06:51 prefetch.2.11.2:  Downloading via HTTPS...\n",
      "2022-01-25T14:13:34 prefetch.2.11.2:  HTTPS download succeed\n",
      "2022-01-25T14:13:48 prefetch.2.11.2:  'SRR10545072' is valid\n",
      "2022-01-25T14:13:48 prefetch.2.11.2: 1) 'SRR10545072' was downloaded successfully\n",
      "2022-01-25T14:13:48 prefetch.2.11.2: 'SRR10545072' has 0 unresolved dependencies\n",
      "\n",
      "2022-01-25T14:12:54 prefetch.2.11.2: Current preference is set to retrieve SRA Normalized Format files with full base quality scores.\n",
      "2022-01-25T14:12:54 prefetch.2.11.2: 1) Downloading 'SRR10545073'...\n",
      "2022-01-25T14:12:54 prefetch.2.11.2: SRA Normalized Format file is being retrieved, if this is different from your preference, it may be due to current file availability.\n",
      "2022-01-25T14:12:54 prefetch.2.11.2:  Downloading via HTTPS...\n",
      "2022-01-25T14:18:02 prefetch.2.11.2:  HTTPS download succeed\n",
      "2022-01-25T14:18:15 prefetch.2.11.2:  'SRR10545073' is valid\n",
      "2022-01-25T14:18:15 prefetch.2.11.2: 1) 'SRR10545073' was downloaded successfully\n",
      "2022-01-25T14:18:15 prefetch.2.11.2: 'SRR10545073' has 0 unresolved dependencies\n",
      "\n",
      "2022-01-25T14:18:16 prefetch.2.11.2: Current preference is set to retrieve SRA Normalized Format files with full base quality scores.\n",
      "2022-01-25T14:18:16 prefetch.2.11.2: 1) Downloading 'SRR10545075'...\n",
      "2022-01-25T14:18:16 prefetch.2.11.2: SRA Normalized Format file is being retrieved, if this is different from your preference, it may be due to current file availability.\n",
      "2022-01-25T14:18:16 prefetch.2.11.2:  Downloading via HTTPS...\n",
      "2022-01-25T14:20:06 prefetch.2.11.2:  HTTPS download succeed\n",
      "2022-01-25T14:20:19 prefetch.2.11.2:  'SRR10545075' is valid\n",
      "2022-01-25T14:20:19 prefetch.2.11.2: 1) 'SRR10545075' was downloaded successfully\n",
      "2022-01-25T14:20:19 prefetch.2.11.2: 'SRR10545075' has 0 unresolved dependencies\n",
      "\n",
      "2022-01-25T14:13:49 prefetch.2.11.2: Current preference is set to retrieve SRA Normalized Format files with full base quality scores.\n",
      "2022-01-25T14:13:49 prefetch.2.11.2: 1) Downloading 'SRR10545074'...\n",
      "2022-01-25T14:13:49 prefetch.2.11.2: SRA Normalized Format file is being retrieved, if this is different from your preference, it may be due to current file availability.\n",
      "2022-01-25T14:13:49 prefetch.2.11.2:  Downloading via HTTPS...\n",
      "2022-01-25T14:20:33 prefetch.2.11.2:  HTTPS download succeed\n",
      "2022-01-25T14:20:46 prefetch.2.11.2:  'SRR10545074' is valid\n",
      "2022-01-25T14:20:46 prefetch.2.11.2: 1) 'SRR10545074' was downloaded successfully\n",
      "2022-01-25T14:20:46 prefetch.2.11.2: 'SRR10545074' has 0 unresolved dependencies\n",
      "\n",
      "2022-01-25T14:20:47 prefetch.2.11.2: Current preference is set to retrieve SRA Normalized Format files with full base quality scores.\n",
      "2022-01-25T14:20:48 prefetch.2.11.2: 1) Downloading 'SRR10545077'...\n",
      "2022-01-25T14:20:48 prefetch.2.11.2: SRA Normalized Format file is being retrieved, if this is different from your preference, it may be due to current file availability.\n",
      "2022-01-25T14:20:48 prefetch.2.11.2:  Downloading via HTTPS...\n",
      "2022-01-25T14:26:24 prefetch.2.11.2:  HTTPS download succeed\n",
      "2022-01-25T14:26:36 prefetch.2.11.2:  'SRR10545077' is valid\n",
      "2022-01-25T14:26:36 prefetch.2.11.2: 1) 'SRR10545077' was downloaded successfully\n",
      "2022-01-25T14:26:36 prefetch.2.11.2: 'SRR10545077' has 0 unresolved dependencies\n",
      "\n",
      "2022-01-25T14:20:20 prefetch.2.11.2: Current preference is set to retrieve SRA Normalized Format files with full base quality scores.\n",
      "2022-01-25T14:20:20 prefetch.2.11.2: 1) Downloading 'SRR10545076'...\n",
      "2022-01-25T14:20:20 prefetch.2.11.2: SRA Normalized Format file is being retrieved, if this is different from your preference, it may be due to current file availability.\n",
      "2022-01-25T14:20:20 prefetch.2.11.2:  Downloading via HTTPS...\n",
      "2022-01-25T14:26:36 prefetch.2.11.2:  HTTPS download succeed\n",
      "2022-01-25T14:26:49 prefetch.2.11.2:  'SRR10545076' is valid\n",
      "2022-01-25T14:26:49 prefetch.2.11.2: 1) 'SRR10545076' was downloaded successfully\n",
      "2022-01-25T14:26:49 prefetch.2.11.2: 'SRR10545076' has 0 unresolved dependencies\n",
      "\n",
      "2022-01-25T14:26:37 prefetch.2.11.2: Current preference is set to retrieve SRA Normalized Format files with full base quality scores.\n",
      "2022-01-25T14:26:37 prefetch.2.11.2: 1) Downloading 'SRR10545078'...\n",
      "2022-01-25T14:26:37 prefetch.2.11.2: SRA Normalized Format file is being retrieved, if this is different from your preference, it may be due to current file availability.\n",
      "2022-01-25T14:26:37 prefetch.2.11.2:  Downloading via HTTPS...\n",
      "2022-01-25T14:31:46 prefetch.2.11.2:  HTTPS download succeed\n",
      "2022-01-25T14:31:58 prefetch.2.11.2:  'SRR10545078' is valid\n",
      "2022-01-25T14:31:58 prefetch.2.11.2: 1) 'SRR10545078' was downloaded successfully\n",
      "2022-01-25T14:31:58 prefetch.2.11.2: 'SRR10545078' has 0 unresolved dependencies\n",
      "\n",
      "2022-01-25T14:02:37 prefetch.2.11.2: Current preference is set to retrieve SRA Normalized Format files with full base quality scores.\n",
      "2022-01-25T14:02:38 prefetch.2.11.2: 1) Downloading 'SRR10545071'...\n",
      "2022-01-25T14:02:38 prefetch.2.11.2: SRA Normalized Format file is being retrieved, if this is different from your preference, it may be due to current file availability.\n",
      "2022-01-25T14:02:38 prefetch.2.11.2:  Downloading via HTTPS...\n",
      "2022-01-25T16:02:54 prefetch.2.11.2:  HTTPS download succeed\n",
      "2022-01-25T16:03:07 prefetch.2.11.2:  'SRR10545071' is valid\n",
      "2022-01-25T16:03:07 prefetch.2.11.2: 1) 'SRR10545071' was downloaded successfully\n",
      "2022-01-25T16:03:07 prefetch.2.11.2: 'SRR10545071' has 0 unresolved dependencies\n",
      "\n",
      "2022-01-25T14:02:38 prefetch.2.11.2: Current preference is set to retrieve SRA Normalized Format files with full base quality scores.\n",
      "2022-01-25T14:02:39 prefetch.2.11.2: 1) Downloading 'SRR10545070'...\n",
      "2022-01-25T14:02:39 prefetch.2.11.2: SRA Normalized Format file is being retrieved, if this is different from your preference, it may be due to current file availability.\n",
      "2022-01-25T14:02:39 prefetch.2.11.2:  Downloading via HTTPS...\n",
      "2022-01-25T16:03:17 prefetch.2.11.2:  HTTPS download succeed\n",
      "2022-01-25T16:03:29 prefetch.2.11.2:  'SRR10545070' is valid\n",
      "2022-01-25T16:03:29 prefetch.2.11.2: 1) 'SRR10545070' was downloaded successfully\n",
      "2022-01-25T16:03:29 prefetch.2.11.2: 'SRR10545070' has 0 unresolved dependencies\n",
      "\n",
      "2022-01-25T14:26:49 prefetch.2.11.2: Current preference is set to retrieve SRA Normalized Format files with full base quality scores.\n",
      "2022-01-25T14:26:50 prefetch.2.11.2: 1) Downloading 'SRR10545079'...\n",
      "2022-01-25T14:26:50 prefetch.2.11.2: SRA Normalized Format file is being retrieved, if this is different from your preference, it may be due to current file availability.\n",
      "2022-01-25T14:26:50 prefetch.2.11.2:  Downloading via HTTPS...\n",
      "2022-01-25T16:37:36 prefetch.2.11.2:  HTTPS download succeed\n",
      "2022-01-25T16:37:49 prefetch.2.11.2:  'SRR10545079' is valid\n",
      "2022-01-25T16:37:49 prefetch.2.11.2: 1) 'SRR10545079' was downloaded successfully\n",
      "2022-01-25T16:37:49 prefetch.2.11.2: 'SRR10545079' has 0 unresolved dependencies\n"
     ]
    }
   ],
   "source": [
    "echo 'SRR10545068\n",
    "SRR10545069\n",
    "SRR10545070\n",
    "SRR10545071\n",
    "SRR10545072\n",
    "SRR10545073\n",
    "SRR10545074\n",
    "SRR10545075\n",
    "SRR10545076\n",
    "SRR10545077\n",
    "SRR10545078\n",
    "SRR10545079' | parallel -j 4 prefetch {} 2>&1 "
   ]
  },
  {
   "cell_type": "code",
   "execution_count": null,
   "id": "3edf9520",
   "metadata": {},
   "outputs": [],
   "source": [
    "module load SRA-Toolkit/2.11.3-centos_linux64\n",
    "numbers=(SRR10545068 SRR10545069 SRR10545070 SRR10545071 SRR10545072 SRR10545073 SRR10545074 SRR10545075 SRR10545076 SRR10545077 SRR10545078 SRR10545079)\n",
    "outdir=fastq_indrop\n",
    "mkdir $outdir\n",
    "for sra in ${numbers[@]}\n",
    "do\n",
    "    echo $sra\n",
    "    fasterq-dump -S -e 16 -m 10GB -c 1GB -b 100MB -p -x --include-technical -O $outdir $sra\n",
    "done"
   ]
  },
  {
   "cell_type": "code",
   "execution_count": 9,
   "id": "b2c0a0f1",
   "metadata": {},
   "outputs": [
    {
     "name": "stdout",
     "output_type": "stream",
     "text": [
      "fastq_indrop/SRR10545068_1.fastq\n",
      "SRR10545068\n",
      "fastq_indrop/SRR10545068_1.fastq\n",
      "fastq_indrop/SRR10545068_2.fastq\n",
      "fastq_indrop/SRR10545068_3.fastq\n",
      "fastq_indrop/SRR10545068_4.fastq\n",
      "fastq_indrop/SRR10545069_1.fastq\n",
      "SRR10545069\n",
      "fastq_indrop/SRR10545069_1.fastq\n",
      "fastq_indrop/SRR10545069_2.fastq\n",
      "fastq_indrop/SRR10545069_3.fastq\n",
      "fastq_indrop/SRR10545069_4.fastq\n",
      "fastq_indrop/SRR10545070_1.fastq\n",
      "SRR10545070\n",
      "fastq_indrop/SRR10545070_1.fastq\n",
      "fastq_indrop/SRR10545070_2.fastq\n",
      "fastq_indrop/SRR10545070_3.fastq\n",
      "fastq_indrop/SRR10545070_4.fastq\n",
      "fastq_indrop/SRR10545075_1.fastq\n",
      "SRR10545075\n",
      "fastq_indrop/SRR10545075_1.fastq\n",
      "fastq_indrop/SRR10545075_2.fastq\n",
      "fastq_indrop/SRR10545075_3.fastq\n",
      "fastq_indrop/SRR10545075_4.fastq\n",
      "fastq_indrop/SRR10545076_1.fastq\n",
      "SRR10545076\n",
      "fastq_indrop/SRR10545076_1.fastq\n",
      "fastq_indrop/SRR10545076_2.fastq\n",
      "fastq_indrop/SRR10545076_3.fastq\n",
      "fastq_indrop/SRR10545076_4.fastq\n",
      "fastq_indrop/SRR10545077_1.fastq\n",
      "SRR10545077\n",
      "fastq_indrop/SRR10545077_1.fastq\n",
      "fastq_indrop/SRR10545077_2.fastq\n",
      "fastq_indrop/SRR10545077_3.fastq\n",
      "fastq_indrop/SRR10545077_4.fastq\n",
      "fastq_indrop/SRR10545078_1.fastq\n",
      "SRR10545078\n",
      "fastq_indrop/SRR10545078_1.fastq\n",
      "fastq_indrop/SRR10545078_2.fastq\n",
      "fastq_indrop/SRR10545078_3.fastq\n",
      "fastq_indrop/SRR10545078_4.fastq\n",
      "fastq_indrop/SRR10545079_1.fastq\n",
      "SRR10545079\n",
      "fastq_indrop/SRR10545079_1.fastq\n",
      "fastq_indrop/SRR10545079_2.fastq\n",
      "fastq_indrop/SRR10545079_3.fastq\n",
      "fastq_indrop/SRR10545079_4.fastq\n"
     ]
    }
   ],
   "source": [
    "module load BCFtools\n",
    "outdir=fastq_indrop\n",
    "for fastq in $outdir/*_1.fastq\n",
    "do\n",
    "    echo $fastq\n",
    "    name=`basename $fastq`\n",
    "    name=${name%_1.fastq}\n",
    "    echo $name\n",
    "    for fastq in $outdir/$name*\n",
    "    do\n",
    "        echo $fastq\n",
    "        bgzip -@2 ${fastq} &\n",
    "    done\n",
    "done"
   ]
  },
  {
   "cell_type": "markdown",
   "id": "1beeaff2",
   "metadata": {},
   "source": [
    "# for dropseq"
   ]
  },
  {
   "cell_type": "markdown",
   "id": "29443884",
   "metadata": {},
   "source": [
    "run in tmux:"
   ]
  },
  {
   "cell_type": "code",
   "execution_count": null,
   "id": "aafbc4fe",
   "metadata": {
    "tags": []
   },
   "outputs": [],
   "source": [
    "echo 'SRR1853178\n",
    "SRR1853179\n",
    "SRR1853180\n",
    "SRR1853181\n",
    "SRR1853182\n",
    "SRR1853183\n",
    "SRR1853184' | parallel -j 7 prefetch --max-size 100GB {} 2>&1 "
   ]
  },
  {
   "cell_type": "code",
   "execution_count": null,
   "id": "28065890",
   "metadata": {},
   "outputs": [],
   "source": [
    "mkdir fastq_dropseq"
   ]
  },
  {
   "cell_type": "code",
   "execution_count": null,
   "id": "ba2ee299",
   "metadata": {},
   "outputs": [],
   "source": [
    "module load SRA-Toolkit/2.11.3-centos_linux64\n",
    "numbers=(SRR1853178 SRR1853179 SRR1853180 SRR1853181 SRR1853182 SRR1853183 SRR1853184)\n",
    "outdir=fastq_dropseq\n",
    "mkdir $outdir\n",
    "for sra in ${numbers[@]}\n",
    "do\n",
    "    echo $sra\n",
    "    fasterq-dump -S -e 16 -m 10GB -c 1GB -b 100MB -p -x --include-technical -O $outdir $sra\n",
    "done"
   ]
  },
  {
   "cell_type": "code",
   "execution_count": 10,
   "id": "d6243663",
   "metadata": {},
   "outputs": [
    {
     "name": "stdout",
     "output_type": "stream",
     "text": [
      "fastq_dropseq/SRR1853178_1.fastq\n",
      "SRR1853178\n",
      "fastq_dropseq/SRR1853178_1.fastq\n",
      "fastq_dropseq/SRR1853178_2.fastq\n",
      "fastq_dropseq/SRR1853179_1.fastq\n",
      "SRR1853179\n",
      "fastq_dropseq/SRR1853179_1.fastq\n",
      "fastq_dropseq/SRR1853179_2.fastq\n",
      "fastq_dropseq/SRR1853180_1.fastq\n",
      "SRR1853180\n",
      "fastq_dropseq/SRR1853180_1.fastq\n",
      "fastq_dropseq/SRR1853180_2.fastq\n",
      "fastq_dropseq/SRR1853181_1.fastq\n",
      "SRR1853181\n",
      "fastq_dropseq/SRR1853181_1.fastq\n",
      "fastq_dropseq/SRR1853181_2.fastq\n",
      "fastq_dropseq/SRR1853182_1.fastq\n",
      "SRR1853182\n",
      "fastq_dropseq/SRR1853182_1.fastq\n",
      "fastq_dropseq/SRR1853182_2.fastq\n"
     ]
    }
   ],
   "source": [
    "module load BCFtools\n",
    "outdir=fastq_dropseq\n",
    "for fastq in $outdir/*_1.fastq\n",
    "do\n",
    "    echo $fastq\n",
    "    name=`basename $fastq`\n",
    "    name=${name%_1.fastq}\n",
    "    echo $name\n",
    "    for fastq in $outdir/$name*\n",
    "    do\n",
    "        echo $fastq\n",
    "        bgzip -@2 ${fastq} &\n",
    "    done\n",
    "done"
   ]
  },
  {
   "cell_type": "markdown",
   "id": "a8c79867",
   "metadata": {},
   "source": [
    "# check number of reads"
   ]
  },
  {
   "cell_type": "code",
   "execution_count": 18,
   "id": "d2bda174",
   "metadata": {},
   "outputs": [
    {
     "name": "stdout",
     "output_type": "stream",
     "text": [
      "[1] 5036\n",
      "[2] 5038\n",
      "[3] 5040\n",
      "[4] 5042\n",
      "[5] 5044\n",
      "[6] 5046\n",
      "[7] 5048\n",
      "[8] 5050\n",
      "[9] 5052\n",
      "[10] 5054\n",
      "[11] 5056\n",
      "[12] 5060\n"
     ]
    }
   ],
   "source": [
    "outdir=fastq_indrop\n",
    "for fastq in $outdir/*_2.fastq.gz\n",
    "do\n",
    "    zcat $fastq | wc -l > $fastq.readcount.txt &\n",
    "done"
   ]
  },
  {
   "cell_type": "code",
   "execution_count": 19,
   "id": "f1850b52",
   "metadata": {},
   "outputs": [
    {
     "name": "stdout",
     "output_type": "stream",
     "text": [
      "[13] 5471\n",
      "[14] 5473\n",
      "[15] 5475\n",
      "[16] 5477\n",
      "[17] 5479\n",
      "[18] 5481\n",
      "[19] 5483\n"
     ]
    }
   ],
   "source": [
    "outdir=fastq_dropseq\n",
    "for fastq in $outdir/*_2.fastq.gz\n",
    "do\n",
    "    zcat $fastq | wc -l > $fastq.readcount.txt &\n",
    "done"
   ]
  },
  {
   "cell_type": "code",
   "execution_count": null,
   "id": "b9a3f0bd",
   "metadata": {},
   "outputs": [],
   "source": []
  }
 ],
 "metadata": {
  "kernelspec": {
   "display_name": "Bash",
   "language": "bash",
   "name": "bash"
  },
  "language_info": {
   "codemirror_mode": "shell",
   "file_extension": ".sh",
   "mimetype": "text/x-sh",
   "name": "bash"
  }
 },
 "nbformat": 4,
 "nbformat_minor": 5
}
