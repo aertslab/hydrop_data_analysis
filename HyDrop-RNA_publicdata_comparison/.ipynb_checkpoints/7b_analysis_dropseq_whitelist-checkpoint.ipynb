{
 "cells": [
  {
   "cell_type": "markdown",
   "id": "b2a2c12c",
   "metadata": {
    "tags": [
     "papermill-error-cell-tag"
    ]
   },
   "source": [
    "<span style=\"color:red; font-family:Helvetica Neue, Helvetica, Arial, sans-serif; font-size:2em;\">An Exception was encountered at '<a href=\"#papermill-error-cell\">In [7]</a>'.</span>"
   ]
  },
  {
   "cell_type": "markdown",
   "id": "ff31bcba",
   "metadata": {
    "papermill": {
     "duration": 0.00092,
     "end_time": "2022-02-01T18:22:49.893789",
     "exception": false,
     "start_time": "2022-02-01T18:22:49.892869",
     "status": "completed"
    },
    "tags": []
   },
   "source": [
    "Most of the steps below have been copied from the scanpy tutorial: https://scanpy-tutorials.readthedocs.io/en/latest/pbmc3k.html"
   ]
  },
  {
   "cell_type": "code",
   "execution_count": 1,
   "id": "20cd81c4",
   "metadata": {
    "execution": {
     "iopub.execute_input": "2022-02-01T18:22:49.907093Z",
     "iopub.status.busy": "2022-02-01T18:22:49.906648Z",
     "iopub.status.idle": "2022-02-01T18:23:27.092860Z",
     "shell.execute_reply": "2022-02-01T18:23:27.091535Z"
    },
    "papermill": {
     "duration": 37.198864,
     "end_time": "2022-02-01T18:23:27.093168",
     "exception": false,
     "start_time": "2022-02-01T18:22:49.894304",
     "status": "completed"
    },
    "tags": []
   },
   "outputs": [],
   "source": [
    "import numpy as np\n",
    "import pandas as pd\n",
    "import scanpy as sc\n",
    "import os"
   ]
  },
  {
   "cell_type": "code",
   "execution_count": 2,
   "id": "f46ff4ff",
   "metadata": {
    "execution": {
     "iopub.execute_input": "2022-02-01T18:23:27.099615Z",
     "iopub.status.busy": "2022-02-01T18:23:27.098520Z",
     "iopub.status.idle": "2022-02-01T18:23:42.741026Z",
     "shell.execute_reply": "2022-02-01T18:23:42.741469Z"
    },
    "papermill": {
     "duration": 15.648086,
     "end_time": "2022-02-01T18:23:42.741620",
     "exception": false,
     "start_time": "2022-02-01T18:23:27.093534",
     "status": "completed"
    },
    "tags": []
   },
   "outputs": [
    {
     "name": "stdout",
     "output_type": "stream",
     "text": [
      "scanpy==1.8.1 anndata==0.7.5 umap==0.5.1 numpy==1.20.2 scipy==1.6.2 pandas==1.3.3 scikit-learn==0.24.1 statsmodels==0.12.2 python-igraph==0.9.0 leidenalg==0.8.3 pynndescent==0.5.2\n"
     ]
    }
   ],
   "source": [
    "sc.settings.verbosity = 3  # verbosity: errors (0), warnings (1), info (2), hints (3)\n",
    "sc.logging.print_header()\n",
    "sc.settings.set_figure_params(dpi=150, facecolor=\"white\", vector_friendly=False)"
   ]
  },
  {
   "cell_type": "markdown",
   "id": "ff656f51",
   "metadata": {
    "papermill": {
     "duration": 9.2e-05,
     "end_time": "2022-02-01T18:23:42.741858",
     "exception": false,
     "start_time": "2022-02-01T18:23:42.741766",
     "status": "completed"
    },
    "tags": []
   },
   "source": [
    "Make sure that the packages that you have match the ones below IF you want to verify our results and obtain exactly the same results as described below. If you want to simply analyse your own dataset, then most likely later versions will also be fine."
   ]
  },
  {
   "cell_type": "code",
   "execution_count": 3,
   "id": "c8f0b3cb",
   "metadata": {
    "execution": {
     "iopub.execute_input": "2022-02-01T18:23:42.745908Z",
     "iopub.status.busy": "2022-02-01T18:23:42.745395Z",
     "iopub.status.idle": "2022-02-01T18:23:48.630147Z",
     "shell.execute_reply": "2022-02-01T18:23:48.631118Z"
    },
    "papermill": {
     "duration": 5.889459,
     "end_time": "2022-02-01T18:23:48.631445",
     "exception": false,
     "start_time": "2022-02-01T18:23:42.741986",
     "status": "completed"
    },
    "tags": []
   },
   "outputs": [
    {
     "name": "stdout",
     "output_type": "stream",
     "text": [
      "Package                            Version\r\n",
      "---------------------------------- -----------------\r\n",
      "adjustText                         0.7.3\r\n",
      "aiohttp                            3.7.4.post0\r\n",
      "aiohttp-cors                       0.7.0\r\n",
      "aioredis                           1.3.1\r\n",
      "alabaster                          0.7.12\r\n",
      "anaconda-client                    1.7.2\r\n",
      "anaconda-navigator                 1.9.7\r\n",
      "anaconda-project                   0.8.3\r\n",
      "anndata                            0.7.5\r\n",
      "annoy                              1.17.0\r\n",
      "ansiwrap                           0.8.4\r\n",
      "anyio                              2.2.0\r\n",
      "appdirs                            1.4.4\r\n",
      "arboreto                           0.1.6\r\n",
      "argcomplete                        1.12.2\r\n",
      "argh                               0.26.2\r\n",
      "argon2-cffi                        20.1.0\r\n",
      "asciitree                          0.3.3\r\n",
      "asn1crypto                         1.4.0\r\n",
      "astroid                            2.5\r\n",
      "astropy                            3.2.1\r\n",
      "async-timeout                      3.0.1\r\n",
      "atomicwrites                       1.4.0\r\n",
      "attrs                              20.3.0\r\n",
      "Babel                              2.9.0\r\n",
      "backcall                           0.2.0\r\n",
      "backports.functools-lru-cache      1.6.1\r\n",
      "backports.os                       0.1.1\r\n",
      "backports.shutil-get-terminal-size 1.0.0\r\n",
      "backports.tempfile                 1.0\r\n",
      "backports.weakref                  1.0.post1\r\n",
      "bap-atac                           0.6.7\r\n",
      "bash-kernel                        0.7.2\r\n",
      "bbknn                              1.4.0\r\n",
      "beautifulsoup4                     4.9.3\r\n",
      "bgzip                              0.3.5\r\n",
      "biopython                          1.77\r\n",
      "bitarray                           1.6.3\r\n",
      "bkcharts                           0.2\r\n",
      "black                              20.8b1\r\n",
      "bleach                             3.3.0\r\n",
      "blessings                          1.7\r\n",
      "blis                               0.7.4\r\n",
      "bokeh                              2.3.0\r\n",
      "boltons                            20.2.1\r\n",
      "boto                               2.49.0\r\n",
      "Bottleneck                         1.3.2\r\n",
      "brotlipy                           0.7.0\r\n",
      "cached-property                    1.5.2\r\n",
      "cachetools                         4.2.1\r\n",
      "catalogue                          1.0.0\r\n",
      "certifi                            2021.10.8\r\n",
      "cffi                               1.14.5\r\n",
      "chardet                            4.0.0\r\n",
      "click                              7.1.2\r\n",
      "cloudpickle                        1.6.0\r\n",
      "clyent                             1.2.2\r\n",
      "colorama                           0.4.4\r\n",
      "colorful                           0.5.4\r\n",
      "conda                              4.11.0\r\n",
      "conda-build                        3.18.8\r\n",
      "conda-package-handling             1.7.2\r\n",
      "conda-verify                       3.4.2\r\n",
      "ConfigArgParse                     1.2.3\r\n",
      "contextlib2                        0.6.0.post1\r\n",
      "cooler                             0.8.11\r\n",
      "cryptography                       3.3.1\r\n",
      "ctxcore                            0.1.1\r\n",
      "cycler                             0.10.0\r\n",
      "cymem                              2.0.5\r\n",
      "Cython                             0.29.22\r\n",
      "cytoolz                            0.10.1\r\n",
      "dask                               2021.3.1\r\n",
      "datrie                             0.8.2\r\n",
      "decorator                          4.4.2\r\n",
      "deepTools                          3.5.1\r\n",
      "deeptoolsintervals                 0.1.9\r\n",
      "defusedxml                         0.6.0\r\n",
      "deprecation                        2.1.0\r\n",
      "dill                               0.3.4.dev0\r\n",
      "distributed                        2021.3.1\r\n",
      "docutils                           0.16\r\n",
      "entrypoints                        0.3\r\n",
      "et-xmlfile                         1.0.1\r\n",
      "fastcache                          1.1.0\r\n",
      "fastkde                            1.0.19\r\n",
      "fbpca                              1.0\r\n",
      "filelock                           3.0.12\r\n",
      "Flask                              1.1.2\r\n",
      "frozendict                         1.2\r\n",
      "fsspec                             0.8.7\r\n",
      "future                             0.18.2\r\n",
      "fuzzysearch                        0.7.3\r\n",
      "gensim                             3.8.3\r\n",
      "geosketch                          1.2\r\n",
      "germalemma                         0.1.3\r\n",
      "get-version                        2.1\r\n",
      "gevent                             21.1.1\r\n",
      "gitdb                              4.0.5\r\n",
      "GitPython                          3.1.3\r\n",
      "glob2                              0.7\r\n",
      "globre                             0.1.5\r\n",
      "gmpy2                              2.0.8\r\n",
      "google-api-core                    1.26.1\r\n",
      "google-auth                        1.27.1\r\n",
      "googleapis-common-protos           1.53.0\r\n",
      "gpustat                            0.6.0\r\n",
      "greenlet                           1.0.0\r\n",
      "grpcio                             1.36.1\r\n",
      "gspread                            3.1.0\r\n",
      "h5py                               3.2.1\r\n",
      "harmonypy                          0.0.5\r\n",
      "HeapDict                           1.0.1\r\n",
      "hiredis                            1.1.0\r\n",
      "html5lib                           1.1\r\n",
      "httplib2                           0.17.0\r\n",
      "idna                               2.10\r\n",
      "imageio                            2.9.0\r\n",
      "imagesize                          1.2.0\r\n",
      "importlib-metadata                 3.10.0\r\n",
      "intel-openmp                       2020.0.133\r\n",
      "interlap                           0.2.7\r\n",
      "intervaltree                       2.1.0\r\n",
      "ipykernel                          5.5.0\r\n",
      "ipympl                             0.7.0\r\n",
      "ipython                            7.21.0\r\n",
      "ipython-genutils                   0.2.0\r\n",
      "ipywidgets                         7.6.3\r\n",
      "isort                              5.7.0\r\n",
      "itsdangerous                       1.1.0\r\n",
      "jdcal                              1.4.1\r\n",
      "jedi                               0.18.0\r\n",
      "jeepney                            0.6.0\r\n",
      "jgraph                             0.2.1\r\n",
      "Jinja2                             2.11.3\r\n",
      "joblib                             1.0.1\r\n",
      "json5                              0.9.5\r\n",
      "jsonschema                         3.0.1\r\n",
      "jupyter                            1.0.0\r\n",
      "jupyter-client                     6.1.12\r\n",
      "jupyter-console                    6.2.0\r\n",
      "jupyter-contrib-core               0.3.3\r\n",
      "jupyter-contrib-nbextensions       0.5.1\r\n",
      "jupyter-core                       4.7.1\r\n",
      "jupyter-highlight-selected-word    0.2.0\r\n",
      "jupyter-latex-envs                 1.4.6\r\n",
      "jupyter-nbextensions-configurator  0.4.1\r\n",
      "jupyter-packaging                  0.7.12\r\n",
      "jupyter-server                     1.5.1\r\n",
      "jupyterlab                         3.0.12\r\n",
      "jupyterlab-code-formatter          1.4.5\r\n",
      "jupyterlab-server                  2.3.0\r\n",
      "jupyterlab-widgets                 1.0.0\r\n",
      "keyring                            22.2.0\r\n",
      "kiwisolver                         1.3.1\r\n",
      "lazy-object-proxy                  1.5.2\r\n",
      "lda                                2.0.0\r\n",
      "legacy-api-wrap                    1.2\r\n",
      "leidenalg                          0.8.3\r\n",
      "libarchive-c                       2.9\r\n",
      "llvmlite                           0.36.0\r\n",
      "locket                             0.2.1\r\n",
      "loompy                             3.0.6\r\n",
      "loomxpy                            0.1.0\r\n",
      "lxml                               4.6.2\r\n",
      "MACS2                              2.2.6\r\n",
      "MarkupSafe                         1.1.1\r\n",
      "matplotlib                         3.3.4\r\n",
      "mccabe                             0.6.1\r\n",
      "mistune                            0.8.4\r\n",
      "mkl                                2019.0\r\n",
      "mkl-fft                            1.3.0\r\n",
      "mkl-random                         1.1.1\r\n",
      "mkl-service                        2.3.0\r\n",
      "mock                               4.0.3\r\n",
      "more-itertools                     8.7.0\r\n",
      "mpmath                             1.1.0\r\n",
      "msgpack                            1.0.2\r\n",
      "multidict                          5.1.0\r\n",
      "multipledispatch                   0.6.0\r\n",
      "multiprocess                       0.70.11.1\r\n",
      "multiprocessing-on-dill            3.5.0a4\r\n",
      "murmurhash                         1.0.5\r\n",
      "mypy-extensions                    0.4.3\r\n",
      "natsort                            7.1.1\r\n",
      "navigator-updater                  0.2.1\r\n",
      "nbclassic                          0.2.6\r\n",
      "nbclient                           0.5.4\r\n",
      "nbconvert                          5.5.0\r\n",
      "nbformat                           5.1.3\r\n",
      "ncls                               0.0.57\r\n",
      "nest-asyncio                       1.5.1\r\n",
      "networkx                           2.5\r\n",
      "nltk                               3.5\r\n",
      "nose                               1.3.7\r\n",
      "notebook                           6.0.0\r\n",
      "numba                              0.53.1\r\n",
      "numexpr                            2.7.2\r\n",
      "numpy                              1.20.2\r\n",
      "numpy-groupies                     0.9.13\r\n",
      "numpydoc                           1.1.0\r\n",
      "nvidia-ml-py3                      7.352.0\r\n",
      "oauth2client                       4.1.3\r\n",
      "olefile                            0.46\r\n",
      "opencensus                         0.7.12\r\n",
      "opencensus-context                 0.1.2\r\n",
      "openpyxl                           3.0.6\r\n",
      "optparse-pretty                    0.1.1\r\n",
      "packaging                          20.9\r\n",
      "pandas                             1.3.3\r\n",
      "pandocfilters                      1.4.3\r\n",
      "papermill                          2.3.3\r\n",
      "parso                              0.8.1\r\n",
      "partd                              1.1.0\r\n",
      "path                               15.1.2\r\n",
      "pathlib2                           2.3.5\r\n",
      "pathos                             0.2.8.dev0\r\n",
      "pathspec                           0.8.1\r\n",
      "patsy                              0.5.1\r\n",
      "PatternLite                        3.6\r\n",
      "pbr                                3.1.1\r\n",
      "pep8                               1.7.1\r\n",
      "pexpect                            4.8.0\r\n",
      "pickleshare                        0.7.5\r\n",
      "Pillow                             8.1.2\r\n",
      "pip                                21.0.1\r\n",
      "pkginfo                            1.7.0\r\n",
      "plac                               1.1.3\r\n",
      "plotly                             4.14.3\r\n",
      "pluggy                             0.13.1\r\n",
      "ply                                3.11\r\n",
      "pox                                0.2.9\r\n",
      "ppft                               1.6.6.3\r\n",
      "preshed                            3.0.5\r\n",
      "prometheus-client                  0.9.0\r\n",
      "prompt-toolkit                     3.0.17\r\n",
      "protobuf                           3.15.5\r\n",
      "psutil                             5.8.0\r\n",
      "ptyprocess                         0.7.0\r\n",
      "py                                 1.10.0\r\n",
      "py-spy                             0.3.4\r\n",
      "py2bit                             0.3.0\r\n",
      "pyarrow                            0.16.0\r\n",
      "pyasn1                             0.4.8\r\n",
      "pyasn1-modules                     0.2.8\r\n",
      "pybedtools                         0.8.1\r\n",
      "pyBigWig                           0.3.18\r\n",
      "pybiomart                          0.2.0\r\n",
      "pycodestyle                        2.6.0\r\n",
      "pycosat                            0.6.3\r\n",
      "pycparser                          2.20\r\n",
      "pycrypto                           2.6.1\r\n",
      "pycurl                             7.43.0.6\r\n",
      "pyfaidx                            0.5.9.5\r\n",
      "pyfasta                            0.5.2\r\n",
      "pyflakes                           2.2.0\r\n",
      "Pygments                           2.8.0\r\n",
      "pylint                             2.7.1\r\n",
      "pynndescent                        0.5.2\r\n",
      "pyodbc                             4.0.0-unsupported\r\n",
      "pyOpenSSL                          20.0.1\r\n",
      "pypairix                           0.3.7\r\n",
      "pyparsing                          2.4.7\r\n",
      "Pyphen                             0.10.0\r\n",
      "pyranges                           0.0.95\r\n",
      "pyrle                              0.0.32\r\n",
      "pyrsistent                         0.17.3\r\n",
      "pysam                              0.15.3\r\n",
      "pyscenic                           0.11.2\r\n",
      "PySocks                            1.7.1\r\n",
      "pytest                             5.0.1\r\n",
      "pytest-arraydiff                   0.3\r\n",
      "pytest-astropy                     0.5.0\r\n",
      "pytest-doctestplus                 0.3.0\r\n",
      "pytest-openfiles                   0.3.2\r\n",
      "pytest-remotedata                  0.3.1\r\n",
      "python-dateutil                    2.8.1\r\n",
      "python-igraph                      0.9.0\r\n",
      "python-Levenshtein                 0.12.2\r\n",
      "python-louvain                     0.15\r\n",
      "python-oauth2                      1.1.1\r\n",
      "pytz                               2021.1\r\n",
      "PyWavelets                         1.1.1\r\n",
      "PyYAML                             5.4.1\r\n",
      "pyzmq                              22.0.3\r\n",
      "QtAwesome                          1.0.1\r\n",
      "qtconsole                          5.0.2\r\n",
      "QtPy                               1.9.0\r\n",
      "ratelimiter                        1.2.0.post0\r\n",
      "ray                                1.2.0\r\n",
      "redis                              3.5.3\r\n",
      "regex                              2020.11.13\r\n",
      "requests                           2.25.1\r\n",
      "requests-cache                     0.5.2\r\n",
      "retrying                           1.3.3\r\n",
      "rope                               0.18.0\r\n",
      "rsa                                4.7.2\r\n",
      "ruamel-yaml                        0.15.87\r\n",
      "ruamel.yaml                        0.16.10\r\n",
      "ruamel.yaml.clib                   0.2.0\r\n",
      "scanorama                          1.7.1\r\n",
      "scanpy                             1.8.1\r\n",
      "scikit-image                       0.17.2\r\n",
      "scikit-learn                       0.24.1\r\n",
      "scipy                              1.6.2\r\n",
      "scrublet                           0.2.3\r\n",
      "seaborn                            0.11.1\r\n",
      "SecretStorage                      3.3.1\r\n",
      "Send2Trash                         1.5.0\r\n",
      "setuptools                         54.2.0\r\n",
      "simplegeneric                      0.8.1\r\n",
      "simplejson                         3.17.2\r\n",
      "sinfo                              0.3.1\r\n",
      "singledispatch                     0.0.0\r\n",
      "sinto                              0.7.1\r\n",
      "six                                1.15.0\r\n",
      "sklearn                            0.0\r\n",
      "smart-open                         4.2.0\r\n",
      "smmap                              3.0.4\r\n",
      "snakemake                          5.19.3\r\n",
      "snaptools                          1.4.8\r\n",
      "sniffio                            1.2.0\r\n",
      "snowballstemmer                    2.1.0\r\n",
      "sorted-nearest                     0.0.32\r\n",
      "sortedcollections                  2.1.0\r\n",
      "sortedcontainers                   2.3.0\r\n",
      "soupsieve                          2.2\r\n",
      "spacy                              2.3.5\r\n",
      "Sphinx                             3.5.1\r\n",
      "sphinxcontrib-applehelp            1.0.2\r\n",
      "sphinxcontrib-devhelp              1.0.2\r\n",
      "sphinxcontrib-htmlhelp             1.0.3\r\n",
      "sphinxcontrib-jsmath               1.0.1\r\n",
      "sphinxcontrib-qthelp               1.0.3\r\n",
      "sphinxcontrib-serializinghtml      1.1.4\r\n",
      "sphinxcontrib-websupport           1.2.4\r\n",
      "spyder                             3.3.6\r\n",
      "spyder-kernels                     0.5.1\r\n",
      "SQLAlchemy                         1.3.23\r\n",
      "srsly                              1.0.5\r\n",
      "statsmodels                        0.12.2\r\n",
      "stdlib-list                        0.8.0\r\n",
      "subsample                          0.0.6\r\n",
      "sympy                              1.7.1\r\n",
      "tables                             3.6.1\r\n",
      "tabulate                           0.8.9\r\n",
      "tblib                              1.7.0\r\n",
      "tenacity                           8.0.1\r\n",
      "terminado                          0.9.2\r\n",
      "testpath                           0.4.4\r\n",
      "texttable                          1.6.3\r\n",
      "textwrap3                          0.9.2\r\n",
      "thinc                              7.4.5\r\n",
      "threadpoolctl                      2.1.0\r\n",
      "tifffile                           2020.10.1\r\n",
      "tmtoolkit                          0.9.0\r\n",
      "toml                               0.10.1\r\n",
      "toolz                              0.11.1\r\n",
      "toposort                           1.5\r\n",
      "tornado                            6.1\r\n",
      "tqdm                               4.59.0\r\n",
      "traitlets                          5.0.5\r\n",
      "typed-ast                          1.4.2\r\n",
      "typing                             3.7.4.3\r\n",
      "typing-extensions                  3.7.4.3\r\n",
      "umap                               0.1.1\r\n",
      "umap-learn                         0.5.1\r\n",
      "uncertainties                      3.1.2\r\n",
      "unicodecsv                         0.14.1\r\n",
      "urllib3                            1.26.4\r\n",
      "wasabi                             0.8.2\r\n",
      "wcwidth                            0.2.5\r\n",
      "webencodings                       0.5.1\r\n",
      "Werkzeug                           1.0.1\r\n",
      "wheel                              0.36.2\r\n",
      "widgetsnbextension                 3.5.1\r\n",
      "wrapt                              1.12.1\r\n",
      "wurlitzer                          2.0.1\r\n",
      "xlrd                               2.0.1\r\n",
      "XlsxWriter                         1.3.7\r\n",
      "xlwt                               1.3.0\r\n",
      "yarl                               1.6.3\r\n",
      "zict                               2.0.0\r\n",
      "zipp                               3.4.1\r\n",
      "zope.event                         4.5.0\r\n",
      "zope.interface                     5.2.0\r\n"
     ]
    },
    {
     "name": "stdout",
     "output_type": "stream",
     "text": [
      "Note: you may need to restart the kernel to use updated packages.\n"
     ]
    }
   ],
   "source": [
    "pip list"
   ]
  },
  {
   "cell_type": "markdown",
   "id": "640eee53",
   "metadata": {
    "papermill": {
     "duration": 0.000117,
     "end_time": "2022-02-01T18:23:48.631897",
     "exception": false,
     "start_time": "2022-02-01T18:23:48.631780",
     "status": "completed"
    },
    "tags": []
   },
   "source": [
    "# drop-seq"
   ]
  },
  {
   "cell_type": "code",
   "execution_count": 4,
   "id": "88ad2978",
   "metadata": {
    "execution": {
     "iopub.execute_input": "2022-02-01T18:23:48.636045Z",
     "iopub.status.busy": "2022-02-01T18:23:48.635677Z",
     "iopub.status.idle": "2022-02-01T18:23:48.637071Z",
     "shell.execute_reply": "2022-02-01T18:23:48.636692Z"
    },
    "papermill": {
     "duration": 0.005167,
     "end_time": "2022-02-01T18:23:48.637151",
     "exception": false,
     "start_time": "2022-02-01T18:23:48.631984",
     "status": "completed"
    },
    "tags": []
   },
   "outputs": [],
   "source": [
    "import glob"
   ]
  },
  {
   "cell_type": "code",
   "execution_count": 5,
   "id": "35f24f2c",
   "metadata": {
    "execution": {
     "iopub.execute_input": "2022-02-01T18:23:48.640272Z",
     "iopub.status.busy": "2022-02-01T18:23:48.639807Z",
     "iopub.status.idle": "2022-02-01T18:23:48.649226Z",
     "shell.execute_reply": "2022-02-01T18:23:48.649533Z"
    },
    "papermill": {
     "duration": 0.01237,
     "end_time": "2022-02-01T18:23:48.649622",
     "exception": false,
     "start_time": "2022-02-01T18:23:48.637252",
     "status": "completed"
    },
    "tags": []
   },
   "outputs": [
    {
     "data": {
      "text/plain": [
       "['demultiplexed_dropseq_sub_whitelist/SRR1853178.Solo.out/Gene/raw/',\n",
       " 'demultiplexed_dropseq_sub_whitelist/SRR1853179.Solo.out/Gene/raw/',\n",
       " 'demultiplexed_dropseq_sub_whitelist/SRR1853180.Solo.out/Gene/raw/',\n",
       " 'demultiplexed_dropseq_sub_whitelist/SRR1853181.Solo.out/Gene/raw/',\n",
       " 'demultiplexed_dropseq_sub_whitelist/SRR1853182.Solo.out/Gene/raw/']"
      ]
     },
     "execution_count": 5,
     "metadata": {},
     "output_type": "execute_result"
    }
   ],
   "source": [
    "mtx_dirs = sorted(glob.glob('demultiplexed_dropseq_sub_whitelist/*Solo.out/Gene/raw/'))\n",
    "mtx_dirs"
   ]
  },
  {
   "cell_type": "code",
   "execution_count": 6,
   "id": "76aa5eba",
   "metadata": {
    "execution": {
     "iopub.execute_input": "2022-02-01T18:23:48.656922Z",
     "iopub.status.busy": "2022-02-01T18:23:48.656546Z",
     "iopub.status.idle": "2022-02-01T18:23:48.657667Z",
     "shell.execute_reply": "2022-02-01T18:23:48.657964Z"
    },
    "papermill": {
     "duration": 0.008332,
     "end_time": "2022-02-01T18:23:48.658052",
     "exception": false,
     "start_time": "2022-02-01T18:23:48.649720",
     "status": "completed"
    },
    "tags": []
   },
   "outputs": [],
   "source": [
    "ncells_dict = {\n",
    "    'SRR1853178': 6600,\n",
    "    'SRR1853179': 9000,\n",
    "    'SRR1853180': 6120,\n",
    "    'SRR1853181': 7650,\n",
    "    'SRR1853182': 7650,\n",
    "    'SRR1853183': 8280,\n",
    "    'SRR1853184': 4000,\n",
    "}\n"
   ]
  },
  {
   "cell_type": "markdown",
   "id": "c11db83f",
   "metadata": {
    "tags": [
     "papermill-error-cell-tag"
    ]
   },
   "source": [
    "<span id=\"papermill-error-cell\" style=\"color:red; font-family:Helvetica Neue, Helvetica, Arial, sans-serif; font-size:2em;\">Execution using papermill encountered an exception here and stopped:</span>"
   ]
  },
  {
   "cell_type": "code",
   "execution_count": 7,
   "id": "92534558",
   "metadata": {
    "execution": {
     "iopub.execute_input": "2022-02-01T18:23:48.663080Z",
     "iopub.status.busy": "2022-02-01T18:23:48.662701Z",
     "iopub.status.idle": "2022-02-01T18:24:22.870568Z",
     "shell.execute_reply": "2022-02-01T18:24:22.869308Z"
    },
    "papermill": {
     "duration": 34.212622,
     "end_time": "2022-02-01T18:24:22.870772",
     "exception": true,
     "start_time": "2022-02-01T18:23:48.658150",
     "status": "failed"
    },
    "tags": []
   },
   "outputs": [
    {
     "name": "stdout",
     "output_type": "stream",
     "text": [
      "... reading from cache file cache/demultiplexed_dropseq_sub_whitelist-SRR1853178.Solo.out-Gene-raw-matrix.h5ad\n"
     ]
    },
    {
     "name": "stdout",
     "output_type": "stream",
     "text": [
      "... reading from cache file cache/demultiplexed_dropseq_sub_whitelist-SRR1853179.Solo.out-Gene-raw-matrix.h5ad\n"
     ]
    },
    {
     "name": "stdout",
     "output_type": "stream",
     "text": [
      "... reading from cache file cache/demultiplexed_dropseq_sub_whitelist-SRR1853180.Solo.out-Gene-raw-matrix.h5ad\n"
     ]
    },
    {
     "name": "stdout",
     "output_type": "stream",
     "text": [
      "... writing an h5ad cache file to speedup reading next time\n"
     ]
    },
    {
     "ename": "FileNotFoundError",
     "evalue": "Did not find file demultiplexed_dropseq_sub_whitelist/SRR1853182.Solo.out/Gene/raw/matrix.mtx.gz.",
     "output_type": "error",
     "traceback": [
      "\u001b[0;31m---------------------------------------------------------------------------\u001b[0m",
      "\u001b[0;31mFileNotFoundError\u001b[0m                         Traceback (most recent call last)",
      "\u001b[0;32m<ipython-input-7-20f70b76e913>\u001b[0m in \u001b[0;36m<module>\u001b[0;34m\u001b[0m\n\u001b[1;32m      5\u001b[0m         \u001b[0mmtx_dir\u001b[0m\u001b[0;34m,\u001b[0m  \u001b[0;31m# the directory with the `.mtx` file\u001b[0m\u001b[0;34m\u001b[0m\u001b[0;34m\u001b[0m\u001b[0m\n\u001b[1;32m      6\u001b[0m         \u001b[0mvar_names\u001b[0m\u001b[0;34m=\u001b[0m\u001b[0;34m\"gene_symbols\"\u001b[0m\u001b[0;34m,\u001b[0m  \u001b[0;31m# use gene symbols for the variable names (variables-axis index)\u001b[0m\u001b[0;34m\u001b[0m\u001b[0;34m\u001b[0m\u001b[0m\n\u001b[0;32m----> 7\u001b[0;31m         \u001b[0mcache\u001b[0m\u001b[0;34m=\u001b[0m\u001b[0;32mTrue\u001b[0m\u001b[0;34m,\u001b[0m\u001b[0;34m\u001b[0m\u001b[0;34m\u001b[0m\u001b[0m\n\u001b[0m\u001b[1;32m      8\u001b[0m         )  # write a cache file for faster subsequent reading\n\u001b[1;32m      9\u001b[0m     \u001b[0madata\u001b[0m\u001b[0;34m.\u001b[0m\u001b[0mobs_names\u001b[0m \u001b[0;34m=\u001b[0m \u001b[0msample\u001b[0m \u001b[0;34m+\u001b[0m \u001b[0;34m'_'\u001b[0m \u001b[0;34m+\u001b[0m \u001b[0madata\u001b[0m\u001b[0;34m.\u001b[0m\u001b[0mobs_names\u001b[0m\u001b[0;34m\u001b[0m\u001b[0;34m\u001b[0m\u001b[0m\n",
      "\u001b[0;32m/staging/leuven/stg_00002/lcb/fderop/software_2/anaconda3/lib/python3.7/site-packages/scanpy/readwrite.py\u001b[0m in \u001b[0;36mread_10x_mtx\u001b[0;34m(path, var_names, make_unique, cache, cache_compression, gex_only, prefix)\u001b[0m\n\u001b[1;32m    485\u001b[0m         \u001b[0mcache\u001b[0m\u001b[0;34m=\u001b[0m\u001b[0mcache\u001b[0m\u001b[0;34m,\u001b[0m\u001b[0;34m\u001b[0m\u001b[0;34m\u001b[0m\u001b[0m\n\u001b[1;32m    486\u001b[0m         \u001b[0mcache_compression\u001b[0m\u001b[0;34m=\u001b[0m\u001b[0mcache_compression\u001b[0m\u001b[0;34m,\u001b[0m\u001b[0;34m\u001b[0m\u001b[0;34m\u001b[0m\u001b[0m\n\u001b[0;32m--> 487\u001b[0;31m         \u001b[0mprefix\u001b[0m\u001b[0;34m=\u001b[0m\u001b[0mprefix\u001b[0m\u001b[0;34m,\u001b[0m\u001b[0;34m\u001b[0m\u001b[0;34m\u001b[0m\u001b[0m\n\u001b[0m\u001b[1;32m    488\u001b[0m     )\n\u001b[1;32m    489\u001b[0m     \u001b[0;32mif\u001b[0m \u001b[0mgenefile_exists\u001b[0m \u001b[0;32mor\u001b[0m \u001b[0;32mnot\u001b[0m \u001b[0mgex_only\u001b[0m\u001b[0;34m:\u001b[0m\u001b[0;34m\u001b[0m\u001b[0;34m\u001b[0m\u001b[0m\n",
      "\u001b[0;32m/staging/leuven/stg_00002/lcb/fderop/software_2/anaconda3/lib/python3.7/site-packages/scanpy/readwrite.py\u001b[0m in \u001b[0;36m_read_v3_10x_mtx\u001b[0;34m(path, var_names, make_unique, cache, cache_compression, prefix)\u001b[0m\n\u001b[1;32m    546\u001b[0m         \u001b[0mpath\u001b[0m \u001b[0;34m/\u001b[0m \u001b[0;34mf'{prefix}matrix.mtx.gz'\u001b[0m\u001b[0;34m,\u001b[0m\u001b[0;34m\u001b[0m\u001b[0;34m\u001b[0m\u001b[0m\n\u001b[1;32m    547\u001b[0m         \u001b[0mcache\u001b[0m\u001b[0;34m=\u001b[0m\u001b[0mcache\u001b[0m\u001b[0;34m,\u001b[0m\u001b[0;34m\u001b[0m\u001b[0;34m\u001b[0m\u001b[0m\n\u001b[0;32m--> 548\u001b[0;31m         \u001b[0mcache_compression\u001b[0m\u001b[0;34m=\u001b[0m\u001b[0mcache_compression\u001b[0m\u001b[0;34m,\u001b[0m\u001b[0;34m\u001b[0m\u001b[0;34m\u001b[0m\u001b[0m\n\u001b[0m\u001b[1;32m    549\u001b[0m     ).T  # transpose the data\n\u001b[1;32m    550\u001b[0m     \u001b[0mgenes\u001b[0m \u001b[0;34m=\u001b[0m \u001b[0mpd\u001b[0m\u001b[0;34m.\u001b[0m\u001b[0mread_csv\u001b[0m\u001b[0;34m(\u001b[0m\u001b[0mpath\u001b[0m \u001b[0;34m/\u001b[0m \u001b[0;34mf'{prefix}features.tsv.gz'\u001b[0m\u001b[0;34m,\u001b[0m \u001b[0mheader\u001b[0m\u001b[0;34m=\u001b[0m\u001b[0;32mNone\u001b[0m\u001b[0;34m,\u001b[0m \u001b[0msep\u001b[0m\u001b[0;34m=\u001b[0m\u001b[0;34m'\\t'\u001b[0m\u001b[0;34m)\u001b[0m\u001b[0;34m\u001b[0m\u001b[0;34m\u001b[0m\u001b[0m\n",
      "\u001b[0;32m/staging/leuven/stg_00002/lcb/fderop/software_2/anaconda3/lib/python3.7/site-packages/scanpy/readwrite.py\u001b[0m in \u001b[0;36mread\u001b[0;34m(filename, backed, sheet, ext, delimiter, first_column_names, backup_url, cache, cache_compression, **kwargs)\u001b[0m\n\u001b[1;32m    120\u001b[0m             \u001b[0mcache\u001b[0m\u001b[0;34m=\u001b[0m\u001b[0mcache\u001b[0m\u001b[0;34m,\u001b[0m\u001b[0;34m\u001b[0m\u001b[0;34m\u001b[0m\u001b[0m\n\u001b[1;32m    121\u001b[0m             \u001b[0mcache_compression\u001b[0m\u001b[0;34m=\u001b[0m\u001b[0mcache_compression\u001b[0m\u001b[0;34m,\u001b[0m\u001b[0;34m\u001b[0m\u001b[0;34m\u001b[0m\u001b[0m\n\u001b[0;32m--> 122\u001b[0;31m             \u001b[0;34m**\u001b[0m\u001b[0mkwargs\u001b[0m\u001b[0;34m,\u001b[0m\u001b[0;34m\u001b[0m\u001b[0;34m\u001b[0m\u001b[0m\n\u001b[0m\u001b[1;32m    123\u001b[0m         )\n\u001b[1;32m    124\u001b[0m     \u001b[0;31m# generate filename and read to dict\u001b[0m\u001b[0;34m\u001b[0m\u001b[0;34m\u001b[0m\u001b[0;34m\u001b[0m\u001b[0m\n",
      "\u001b[0;32m/staging/leuven/stg_00002/lcb/fderop/software_2/anaconda3/lib/python3.7/site-packages/scanpy/readwrite.py\u001b[0m in \u001b[0;36m_read\u001b[0;34m(filename, backed, sheet, ext, delimiter, first_column_names, backup_url, cache, cache_compression, suppress_cache_warning, **kwargs)\u001b[0m\n\u001b[1;32m    726\u001b[0m \u001b[0;34m\u001b[0m\u001b[0m\n\u001b[1;32m    727\u001b[0m     \u001b[0;32mif\u001b[0m \u001b[0;32mnot\u001b[0m \u001b[0mis_present\u001b[0m\u001b[0;34m:\u001b[0m\u001b[0;34m\u001b[0m\u001b[0;34m\u001b[0m\u001b[0m\n\u001b[0;32m--> 728\u001b[0;31m         \u001b[0;32mraise\u001b[0m \u001b[0mFileNotFoundError\u001b[0m\u001b[0;34m(\u001b[0m\u001b[0;34mf'Did not find file {filename}.'\u001b[0m\u001b[0;34m)\u001b[0m\u001b[0;34m\u001b[0m\u001b[0;34m\u001b[0m\u001b[0m\n\u001b[0m\u001b[1;32m    729\u001b[0m     \u001b[0mlogg\u001b[0m\u001b[0;34m.\u001b[0m\u001b[0mdebug\u001b[0m\u001b[0;34m(\u001b[0m\u001b[0;34mf'reading {filename}'\u001b[0m\u001b[0;34m)\u001b[0m\u001b[0;34m\u001b[0m\u001b[0;34m\u001b[0m\u001b[0m\n\u001b[1;32m    730\u001b[0m     \u001b[0;32mif\u001b[0m \u001b[0;32mnot\u001b[0m \u001b[0mcache\u001b[0m \u001b[0;32mand\u001b[0m \u001b[0;32mnot\u001b[0m \u001b[0msuppress_cache_warning\u001b[0m\u001b[0;34m:\u001b[0m\u001b[0;34m\u001b[0m\u001b[0;34m\u001b[0m\u001b[0m\n",
      "\u001b[0;31mFileNotFoundError\u001b[0m: Did not find file demultiplexed_dropseq_sub_whitelist/SRR1853182.Solo.out/Gene/raw/matrix.mtx.gz."
     ]
    }
   ],
   "source": [
    "for mtx_dir in mtx_dirs:\n",
    "    sample=mtx_dir.replace('demultiplexed_dropseq_sub_whitelist/', '')\n",
    "    sample=sample.replace('.Solo.out/Gene/raw/', '')\n",
    "    adata = sc.read_10x_mtx(\n",
    "        mtx_dir,  # the directory with the `.mtx` file\n",
    "        var_names=\"gene_symbols\",  # use gene symbols for the variable names (variables-axis index)\n",
    "        cache=True,\n",
    "        )  # write a cache file for faster subsequent reading\n",
    "    adata.obs_names = sample + '_' + adata.obs_names\n",
    "    adata.var_names_make_unique()\n",
    "    sc.pp.calculate_qc_metrics(adata, inplace=True)\n",
    "    adata.obs.sort_values(by='n_genes_by_counts', ascending=False, inplace=True)\n",
    "    ncells = ncells_dict[sample]\n",
    "    adata = adata[0:ncells-1]\n",
    "    filename = 'tables/dropseq_whitelisted_' + sample + '_adata.tsv'\n",
    "    if not os.path.exists(filename):\n",
    "        adata.obs.to_csv(filename, sep='\\t', header=True)"
   ]
  },
  {
   "cell_type": "markdown",
   "id": "47a26edf",
   "metadata": {
    "papermill": {
     "duration": null,
     "end_time": null,
     "exception": null,
     "start_time": null,
     "status": "pending"
    },
    "tags": []
   },
   "source": [
    "Merge into one nice dataframe:"
   ]
  },
  {
   "cell_type": "code",
   "execution_count": null,
   "id": "2e1d08b9",
   "metadata": {
    "papermill": {
     "duration": null,
     "end_time": null,
     "exception": null,
     "start_time": null,
     "status": "pending"
    },
    "tags": []
   },
   "outputs": [],
   "source": [
    "df_merged = pd.DataFrame()\n",
    "for file in glob.glob('tables/dropseq_whitelisted_SRR18531*_adata.tsv'):\n",
    "    df = pd.read_csv(file, sep='\\t', index_col=0)\n",
    "    df_merged = df_merged.append(df)"
   ]
  },
  {
   "cell_type": "code",
   "execution_count": null,
   "id": "08de34e6",
   "metadata": {
    "papermill": {
     "duration": null,
     "end_time": null,
     "exception": null,
     "start_time": null,
     "status": "pending"
    },
    "tags": []
   },
   "outputs": [],
   "source": [
    "df_merged"
   ]
  },
  {
   "cell_type": "code",
   "execution_count": null,
   "id": "2182fff8",
   "metadata": {
    "papermill": {
     "duration": null,
     "end_time": null,
     "exception": null,
     "start_time": null,
     "status": "pending"
    },
    "tags": []
   },
   "outputs": [],
   "source": [
    "df_merged.median()"
   ]
  },
  {
   "cell_type": "code",
   "execution_count": null,
   "id": "8a1063a7",
   "metadata": {
    "papermill": {
     "duration": null,
     "end_time": null,
     "exception": null,
     "start_time": null,
     "status": "pending"
    },
    "tags": []
   },
   "outputs": [],
   "source": []
  }
 ],
 "metadata": {
  "kernelspec": {
   "display_name": "Python 3",
   "language": "python",
   "name": "python3"
  },
  "language_info": {
   "codemirror_mode": {
    "name": "ipython",
    "version": 3
   },
   "file_extension": ".py",
   "mimetype": "text/x-python",
   "name": "python",
   "nbconvert_exporter": "python",
   "pygments_lexer": "ipython3",
   "version": "3.7.7"
  },
  "papermill": {
   "default_parameters": {},
   "duration": 98.339805,
   "end_time": "2022-02-01T18:24:25.635409",
   "environment_variables": {},
   "exception": true,
   "input_path": "7b_analysis_dropseq_whitelist.ipynb",
   "output_path": "-",
   "parameters": {},
   "start_time": "2022-02-01T18:22:47.295604",
   "version": "2.3.3"
  }
 },
 "nbformat": 4,
 "nbformat_minor": 5
}