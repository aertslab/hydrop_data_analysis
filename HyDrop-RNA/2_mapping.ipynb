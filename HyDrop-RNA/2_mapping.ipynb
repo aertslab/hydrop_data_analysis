{
 "cells": [
  {
   "cell_type": "code",
   "execution_count": 5,
   "metadata": {},
   "outputs": [
    {
     "name": "stdout",
     "output_type": "stream",
     "text": [
      "\t/media/data/users/fderop/software/STAR/bin/Linux_x86_64/STAR --runThreadN 24 --runMode genomeGenerate --genomeDir /media/data/users/fderop/00000000_res/mm10_STAR/ --genomeFastaFiles /media/data/users/fderop/00000000_res/mm10_STAR/Mus_musculus.GRCm38.dna.primary_assembly.fa --sjdbGTFfile /media/data/users/fderop/00000000_res/mm10_STAR/gencode.vM23.primary_assembly.annotation.gtf --sjdbOverhang 100\n",
      "\tSTAR version: 2.7.8a_2021-04-27   compiled: 2021-04-27T10:22:15-0400 vega:/home/dobin/data/STAR/STARcode/STAR.master/source\n",
      "Apr 28 14:30:17 ..... started STAR run\n",
      "Apr 28 14:30:17 ... starting to generate Genome files\n",
      "Apr 28 14:31:08 ..... processing annotations GTF\n",
      "Apr 28 14:31:35 ... starting to sort Suffix Array. This may take a long time...\n",
      "Apr 28 14:31:53 ... sorting Suffix Array chunks and saving them to disk...\n",
      "Apr 28 14:45:28 ... loading chunks from disk, packing SA...\n",
      "Apr 28 14:46:41 ... finished generating suffix array\n",
      "Apr 28 14:46:41 ... generating Suffix Array index\n",
      "Apr 28 14:51:34 ... completed Suffix Array index\n",
      "Apr 28 14:51:34 ..... inserting junctions into the genome indices\n",
      "Apr 28 14:52:53 ... writing Genome to disk ...\n",
      "Apr 28 14:52:54 ... writing Suffix Array to disk ...\n",
      "Apr 28 14:53:05 ... writing SAindex to disk\n",
      "Apr 28 14:53:06 ..... finished successfully\n"
     ]
    }
   ],
   "source": [
    "/media/data/users/fderop/software/STAR/bin/Linux_x86_64/STAR\\\n",
    "    --runThreadN 16 \\\n",
    "    --runMode genomeGenerate \\\n",
    "    --genomeDir /media/data/users/fderop/00000000_res/mm10_STAR_premrna/ \\\n",
    "    --genomeFastaFiles /media/data/users/fderop/00000000_res/mm10_STAR_premrna/genome.fa \\\n",
    "    --sjdbGTFfile /media/data/users/fderop/00000000_res/mm10_STAR_premrna/genes.gtf \\\n",
    "    --sjdbOverhang 100"
   ]
  },
  {
   "cell_type": "markdown",
   "metadata": {},
   "source": [
    "# Fastp QC\n",
    "Perform fastp to get a html report of the sequencing. We can see in the fastp htmls that the barcode was sequenced corrrectly."
   ]
  },
  {
   "cell_type": "code",
   "execution_count": 49,
   "metadata": {
    "tags": []
   },
   "outputs": [
    {
     "name": "stdout",
     "output_type": "stream",
     "text": [
      "fastq/HYR__525037__20210225_R16_S1_R2_001.fastq.gz\n",
      "[1] 8299\n",
      "fastq/HYR__81e131__20210225_R74_S2_R2_001.fastq.gz\n",
      "[2] 8300\n"
     ]
    }
   ],
   "source": [
    "module load fastp\n",
    "for fastq in fastq/*R2_001.fastq.gz\n",
    "do\n",
    "    echo $fastq\n",
    "    html=${fastq%_001.fastq.gz}fastp_report.html\n",
    "    fastp -i $fastq -I $fastq -h $html -w 8 &\n",
    "done"
   ]
  },
  {
   "cell_type": "code",
   "execution_count": null,
   "metadata": {},
   "outputs": [],
   "source": [
    "module load fastp\n",
    "for fastq in fastq/*R1_001.fastq.gz\n",
    "do\n",
    "    echo $fastq\n",
    "    html=${fastq%_001.fastq.gz}fastp_report.html\n",
    "    fastp -i $fastq -I $fastq -h $html -w 8 &\n",
    "done"
   ]
  },
  {
   "cell_type": "markdown",
   "metadata": {},
   "source": [
    "The hydrop-rna library looks like this:\n",
    "\n",
    "```\n",
    "               Index 1: i7 read 10 bp           Read 1: cDNA read 86 bp  \n",
    "\n",
    "             <- HyDrop_CustSeq_Short_i7_Read            <- NXT               \n",
    "|-5’-[P7]-[i7]-[HyDrop_CustSeq_Short]-[BC_UMI]-[polyA]-[cDNA]-[NXT]-[i5]-[P5]-3’\n",
    "  3’-[P7]-[i7]-[HyDrop_CustSeq_Short]-[BC_UMI]-[polyT]-[cDNA]-[NXT]-[i5]-[P5]-5’-|  \n",
    "                HyDrop_CustSeq_Short ->                    NXT ->    \n",
    "                \n",
    "                   Read 2: BC 60 bp            Index 2: i5 read 10 bp       \n",
    "\n",
    "```\n",
    "\n",
    "The barcode read is ultimately structured like this:\n",
    "\n",
    "```\n",
    "-[BC1]-[AD1]-[BC2]-[AD2]-[BC3]-[UMI]\n",
    "-[10b]-[10b]-[10b]-[10b]-[10b]-[8bp]\n",
    "```\n",
    "\n",
    "With the lengths of each part under the part. The adapters inbetween the 3 sub-barcodes are identical for all reads."
   ]
  },
  {
   "cell_type": "markdown",
   "metadata": {},
   "source": [
    "we need to use STARsolo to map AND barcode demultiplex these samples. The star solo manual is excellent and explains all parameters used. Please change `--soloCellFilter CellRanger2.2 5000 0.99 10 \\` to the correct number of expected cells."
   ]
  },
  {
   "cell_type": "code",
   "execution_count": 7,
   "metadata": {},
   "outputs": [],
   "source": [
    "star_solo_hydrop_rna_mapping_unique_cellfilter () {\n",
    "    local fastq_R1_filename=\"${1}\";\n",
    "    local fastq_R2_filename=\"${2}\";\n",
    "    local bam_filename=\"${3}\";\n",
    "    # 3 barcode lists:\n",
    "    local whitelist_part1_filename='/media/data/users/fderop/00000000_barcodes/20200227_HyDrop-ATAC_96x96x96/20200227_bc1.txt';\n",
    "    local whitelist_part2_filename='/media/data/users/fderop/00000000_barcodes/20200227_HyDrop-ATAC_96x96x96/20200227_bc2.txt';\n",
    "    local whitelist_part3_filename='/media/data/users/fderop/00000000_barcodes/20200227_HyDrop-ATAC_96x96x96/20200227_bc3.txt';\n",
    "    star_reference_dir='/media/data/users/fderop/00000000_res/mm10_STAR_premrna/';\n",
    "    sjdbgtf='/media/data/users/fderop/00000000_res/mm10_STAR_premrna/genes.gtf'\n",
    "    #module load STAR/2.7.5b-foss-2018a;\n",
    "    #module load SAMtools/1.10-foss-2018a;\n",
    "    # Map with STAR solo\n",
    "    /media/data/users/fderop/software/STAR/bin/Linux_x86_64/STAR \\\n",
    "        --runThreadN 6 \\\n",
    "        --runMode alignReads \\\n",
    "        --outSAMtype BAM SortedByCoordinate \\\n",
    "        --sysShell /bin/bash \\\n",
    "        --genomeDir \"${star_reference_dir}\" \\\n",
    "        --readFilesIn \"${fastq_R1_filename}\" \"${fastq_R2_filename}\" \\\n",
    "        --readFilesCommand 'gzip -c -d' \\\n",
    "        --soloCBwhitelist \"${whitelist_part1_filename}\" \"${whitelist_part2_filename}\" \"${whitelist_part3_filename}\" \\\n",
    "        --soloType CB_UMI_Complex \\\n",
    "        --soloCBposition 0_0_0_9 0_20_0_29 0_40_0_49 \\\n",
    "        --soloUMIposition 0_50_0_57 \\\n",
    "        --sjdbGTFfile $sjdbgtf \\\n",
    "        --soloCellFilter CellRanger2.2 2000 0.99 10 \\\n",
    "        --soloCBmatchWLtype 1MM \\\n",
    "        --outFilterMultimapNmax 1 \\\n",
    "        --outSAMattributes NH HI AS nM CB UB CR CY UR UY \\\n",
    "        --outFileNamePrefix ${bam_filename%bam} \\\n",
    "        --outReadsUnmapped Fastx \\\n",
    "        --quantMode GeneCounts \\\n",
    "        --bamRemoveDuplicatesType UniqueIdentical \\\n",
    "        --soloFeatures Gene GeneFull Velocyto\n",
    "        # Index BAM file.\n",
    "    # samtools index \"${bam_filename%bam}Aligned.sortedByCoord.out.bam\"\n",
    "}"
   ]
  },
  {
   "cell_type": "markdown",
   "metadata": {},
   "source": [
    "Now we run this star solo script in a for loop on all the R2 fastq files in `fastq/`"
   ]
  },
  {
   "cell_type": "code",
   "execution_count": 15,
   "metadata": {
    "tags": []
   },
   "outputs": [
    {
     "name": "stdout",
     "output_type": "stream",
     "text": [
      "mkdir: cannot create directory ‘demultiplexed’: File exists\n",
      "fastq/HYR__c47998__20210412_mouse_cortex_sb_S2\n",
      "\t/media/data/users/fderop/software/STAR/bin/Linux_x86_64/STAR --runThreadN 6 --runMode alignReads --outSAMtype BAM SortedByCoordinate --sysShell /bin/bash --genomeDir /media/data/users/fderop/00000000_res/mm10_STAR_premrna/ --readFilesIn fastq/HYR__c47998__20210412_mouse_cortex_sb_S2_R1_001.fastq.gz fastq/HYR__c47998__20210412_mouse_cortex_sb_S2_R2_001.fastq.gz --readFilesCommand \"gzip -c -d\" --soloCBwhitelist /media/data/users/fderop/00000000_barcodes/20200227_HyDrop-ATAC_96x96x96/20200227_bc1.txt /media/data/users/fderop/00000000_barcodes/20200227_HyDrop-ATAC_96x96x96/20200227_bc2.txt /media/data/users/fderop/00000000_barcodes/20200227_HyDrop-ATAC_96x96x96/20200227_bc3.txt --soloType CB_UMI_Complex --soloCBposition 0_0_0_9 0_20_0_29 0_40_0_49 --soloUMIposition 0_50_0_57 --sjdbGTFfile /media/data/users/fderop/00000000_res/mm10_STAR_premrna/genes.gtf --soloCellFilter CellRanger2.2 2000 0.99 10 --soloCBmatchWLtype 1MM --outFilterMultimapNmax 1 --outSAMattributes NH HI AS nM CB UB CR CY UR UY --outFileNamePrefix demultiplexed/HYR__c47998__20210412_mouse_cortex_sb_S2. --outReadsUnmapped Fastx --quantMode GeneCounts --bamRemoveDuplicatesType UniqueIdentical --soloFeatures Gene GeneFull Velocyto\n",
      "\tSTAR version: 2.7.8a_2021-04-27   compiled: 2021-04-27T10:22:15-0400 vega:/home/dobin/data/STAR/STARcode/STAR.master/source\n",
      "Apr 29 10:24:34 ..... started STAR run\n",
      "Apr 29 10:24:34 ..... loading genome\n",
      "Apr 29 10:24:48 ..... processing annotations GTF\n",
      "Apr 29 10:24:50 ..... started mapping\n",
      "Apr 29 10:44:35 ..... finished mapping\n",
      "Apr 29 10:44:37 ..... started Solo counting\n",
      "Apr 29 10:50:04 ..... finished Solo counting\n",
      "Apr 29 10:50:04 ..... started sorting BAM\n",
      "Apr 29 10:51:59 ..... finished successfully\n",
      "fastq/HYR__c47998_e6244b__20210412_mouse_cortex_sbmerged_S4\n",
      "\t/media/data/users/fderop/software/STAR/bin/Linux_x86_64/STAR --runThreadN 6 --runMode alignReads --outSAMtype BAM SortedByCoordinate --sysShell /bin/bash --genomeDir /media/data/users/fderop/00000000_res/mm10_STAR_premrna/ --readFilesIn fastq/HYR__c47998_e6244b__20210412_mouse_cortex_sbmerged_S4_R1_001.fastq.gz fastq/HYR__c47998_e6244b__20210412_mouse_cortex_sbmerged_S4_R2_001.fastq.gz --readFilesCommand \"gzip -c -d\" --soloCBwhitelist /media/data/users/fderop/00000000_barcodes/20200227_HyDrop-ATAC_96x96x96/20200227_bc1.txt /media/data/users/fderop/00000000_barcodes/20200227_HyDrop-ATAC_96x96x96/20200227_bc2.txt /media/data/users/fderop/00000000_barcodes/20200227_HyDrop-ATAC_96x96x96/20200227_bc3.txt --soloType CB_UMI_Complex --soloCBposition 0_0_0_9 0_20_0_29 0_40_0_49 --soloUMIposition 0_50_0_57 --sjdbGTFfile /media/data/users/fderop/00000000_res/mm10_STAR_premrna/genes.gtf --soloCellFilter CellRanger2.2 2000 0.99 10 --soloCBmatchWLtype 1MM --outFilterMultimapNmax 1 --outSAMattributes NH HI AS nM CB UB CR CY UR UY --outFileNamePrefix demultiplexed/HYR__c47998_e6244b__20210412_mouse_cortex_sbmerged_S4. --outReadsUnmapped Fastx --quantMode GeneCounts --bamRemoveDuplicatesType UniqueIdentical --soloFeatures Gene GeneFull Velocyto\n",
      "\tSTAR version: 2.7.8a_2021-04-27   compiled: 2021-04-27T10:22:15-0400 vega:/home/dobin/data/STAR/STARcode/STAR.master/source\n",
      "Apr 29 10:52:08 ..... started STAR run\n",
      "Apr 29 10:52:08 ..... loading genome\n",
      "Apr 29 10:52:26 ..... processing annotations GTF\n",
      "Apr 29 10:52:27 ..... started mapping\n",
      "Apr 29 11:25:47 ..... finished mapping\n",
      "Apr 29 11:25:49 ..... started Solo counting\n",
      "Apr 29 11:34:54 ..... finished Solo counting\n",
      "Apr 29 11:34:54 ..... started sorting BAM\n",
      "Apr 29 11:38:06 ..... finished successfully\n",
      "fastq/HYR__e6244b__20210412_mouse_cortex_sbu_S3\n",
      "\t/media/data/users/fderop/software/STAR/bin/Linux_x86_64/STAR --runThreadN 6 --runMode alignReads --outSAMtype BAM SortedByCoordinate --sysShell /bin/bash --genomeDir /media/data/users/fderop/00000000_res/mm10_STAR_premrna/ --readFilesIn fastq/HYR__e6244b__20210412_mouse_cortex_sbu_S3_R1_001.fastq.gz fastq/HYR__e6244b__20210412_mouse_cortex_sbu_S3_R2_001.fastq.gz --readFilesCommand \"gzip -c -d\" --soloCBwhitelist /media/data/users/fderop/00000000_barcodes/20200227_HyDrop-ATAC_96x96x96/20200227_bc1.txt /media/data/users/fderop/00000000_barcodes/20200227_HyDrop-ATAC_96x96x96/20200227_bc2.txt /media/data/users/fderop/00000000_barcodes/20200227_HyDrop-ATAC_96x96x96/20200227_bc3.txt --soloType CB_UMI_Complex --soloCBposition 0_0_0_9 0_20_0_29 0_40_0_49 --soloUMIposition 0_50_0_57 --sjdbGTFfile /media/data/users/fderop/00000000_res/mm10_STAR_premrna/genes.gtf --soloCellFilter CellRanger2.2 2000 0.99 10 --soloCBmatchWLtype 1MM --outFilterMultimapNmax 1 --outSAMattributes NH HI AS nM CB UB CR CY UR UY --outFileNamePrefix demultiplexed/HYR__e6244b__20210412_mouse_cortex_sbu_S3. --outReadsUnmapped Fastx --quantMode GeneCounts --bamRemoveDuplicatesType UniqueIdentical --soloFeatures Gene GeneFull Velocyto\n",
      "\tSTAR version: 2.7.8a_2021-04-27   compiled: 2021-04-27T10:22:15-0400 vega:/home/dobin/data/STAR/STARcode/STAR.master/source\n",
      "Apr 29 11:38:23 ..... started STAR run\n",
      "Apr 29 11:38:24 ..... loading genome\n",
      "Apr 29 11:38:38 ..... processing annotations GTF\n",
      "Apr 29 11:38:39 ..... started mapping\n",
      "Apr 29 11:53:14 ..... finished mapping\n",
      "Apr 29 11:53:17 ..... started Solo counting\n",
      "Apr 29 11:57:28 ..... finished Solo counting\n",
      "Apr 29 11:57:28 ..... started sorting BAM\n",
      "Apr 29 11:58:51 ..... finished successfully\n"
     ]
    }
   ],
   "source": [
    "dir=demultiplexed\n",
    "mkdir $dir\n",
    "for sample in fastq/*R2_001.fastq.gz\n",
    "do\n",
    "    NAME=${sample%_R2_001.fastq.gz}\n",
    "    OUT=${NAME##*/}\n",
    "    echo $NAME\n",
    "    star_solo_hydrop_rna_mapping_unique_cellfilter \\\n",
    "        ${NAME}_R1_001.fastq.gz \\\n",
    "        ${NAME}_R2_001.fastq.gz \\\n",
    "        $dir/$OUT.bam\n",
    "done"
   ]
  },
  {
   "cell_type": "markdown",
   "metadata": {},
   "source": [
    "Now, we can get a summary of the statistics below:"
   ]
  },
  {
   "cell_type": "code",
   "execution_count": 11,
   "metadata": {},
   "outputs": [
    {
     "name": "stdout",
     "output_type": "stream",
     "text": [
      "HYR__a11727__20210315_mousecortex_S2_ss3_S3.Solo.out/Gene/Summary.csv\n",
      "Number of Reads,112037794\n",
      "Reads With Valid Barcodes,0.731985\n",
      "Sequencing Saturation,0.681057\n",
      "Q30 Bases in CB+UMI,0.768459\n",
      "Q30 Bases in RNA read,0.92214\n",
      "Reads Mapped to Genome: Unique+Multiple,0.720719\n",
      "Reads Mapped to Genome: Unique,0.720719\n",
      "Reads Mapped to Transcriptome: Unique+Multipe Genes,0.401772\n",
      "Reads Mapped to Transcriptome: Unique Genes,0.393627\n",
      "Estimated Number of Cells,1765\n",
      "Reads in Cells Mapped to Unique Genes,12506563\n",
      "Fraction of Reads in Cells,0.283589\n",
      "Mean Reads per Cell,7085\n",
      "Median Reads per Cell,5696\n",
      "UMIs in Cells,3658858\n",
      "Mean UMI per Cell,2073\n",
      "Median UMI per Cell,1684\n",
      "Mean Genes per Cell,1199\n",
      "Median Genes per Cell,1080\n",
      "Total Genes Detected,19100\n",
      "\n",
      "HYR__a3a990__20210315_mousecortex_S1_sss_S4.Solo.out/Gene/Summary.csv\n",
      "Number of Reads,121042328\n",
      "Reads With Valid Barcodes,0.744167\n",
      "Sequencing Saturation,0.950326\n",
      "Q30 Bases in CB+UMI,0.768485\n",
      "Q30 Bases in RNA read,0.924184\n",
      "Reads Mapped to Genome: Unique+Multiple,0.77401\n",
      "Reads Mapped to Genome: Unique,0.77401\n",
      "Reads Mapped to Transcriptome: Unique+Multipe Genes,0.519944\n",
      "Reads Mapped to Transcriptome: Unique Genes,0.510046\n",
      "Estimated Number of Cells,1130\n",
      "Reads in Cells Mapped to Unique Genes,17245362\n",
      "Fraction of Reads in Cells,0.279335\n",
      "Mean Reads per Cell,15261\n",
      "Median Reads per Cell,10783\n",
      "UMIs in Cells,319634\n",
      "Mean UMI per Cell,282\n",
      "Median UMI per Cell,207\n",
      "Mean Genes per Cell,210\n",
      "Median Genes per Cell,166\n",
      "Total Genes Detected,14706\n",
      "\n"
     ]
    }
   ],
   "source": [
    "for sample in demultiplexed/*/Gene/Summary.csv\n",
    "do\n",
    "    echo ${sample#*/}\n",
    "    cat $sample\n",
    "    cut -d, -f2 $sample > ${sample%/Gene/Summary.csv}/Gene/Summary_numbers.csv\n",
    "    printf \"\\n\"\n",
    "done"
   ]
  },
  {
   "cell_type": "markdown",
   "metadata": {},
   "source": [
    "There will be a STARsolo output which contains both raw matrix (all barcodes) and filtered matrix (only includes \"cells\", which are determined using the same filter as cellranger uses)"
   ]
  }
 ],
 "metadata": {
  "kernelspec": {
   "display_name": "Bash",
   "language": "bash",
   "name": "bash"
  },
  "language_info": {
   "codemirror_mode": "shell",
   "file_extension": ".sh",
   "mimetype": "text/x-sh",
   "name": "bash"
  }
 },
 "nbformat": 4,
 "nbformat_minor": 4
}
