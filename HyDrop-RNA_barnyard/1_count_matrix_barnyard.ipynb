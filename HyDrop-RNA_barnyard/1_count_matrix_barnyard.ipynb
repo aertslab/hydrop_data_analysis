{
 "cells": [
  {
   "cell_type": "markdown",
   "metadata": {},
   "source": [
    "Download the STARsolo Solo.out dir from https://www.ncbi.nlm.nih.gov/geo/query/acc.cgi?acc=GSM5343850 and place it in a directory named `demultiplexed`."
   ]
  },
  {
   "cell_type": "code",
   "execution_count": 1,
   "metadata": {},
   "outputs": [],
   "source": [
    "import scanpy as sc\n",
    "import pandas as pd\n",
    "import os\n",
    "import matplotlib.pyplot as plt\n",
    "import seaborn as sns\n",
    "from matplotlib.pyplot import figure\n",
    "import numpy as np\n",
    "import glob"
   ]
  },
  {
   "cell_type": "code",
   "execution_count": 2,
   "metadata": {},
   "outputs": [],
   "source": [
    "sc.set_figure_params(scanpy=True, dpi=150, dpi_save=150, figsize = [7, 7], fontsize = 14, format = 'svg')"
   ]
  },
  {
   "cell_type": "code",
   "execution_count": 3,
   "metadata": {},
   "outputs": [
    {
     "name": "stdout",
     "output_type": "stream",
     "text": [
      "demultiplexed/HYR__c21295__20210330_mcf-7_mmel_S5.Solo.out/Gene/UMIperCellSorted.txt\n"
     ]
    }
   ],
   "source": [
    "for file in sorted(glob.glob('demultiplexed/*/Gene/UMIperCellSorted.txt')):\n",
    "    print(file)"
   ]
  },
  {
   "cell_type": "markdown",
   "metadata": {},
   "source": [
    "Then, generate barnyards:"
   ]
  },
  {
   "cell_type": "code",
   "execution_count": 5,
   "metadata": {},
   "outputs": [],
   "source": [
    "legend = 'HYR__c21295__20210330_mcf-7_mmel'.split()"
   ]
  },
  {
   "cell_type": "code",
   "execution_count": 9,
   "metadata": {},
   "outputs": [],
   "source": [
    "mtx = 'demultiplexed/HYR__c21295__20210330_mcf-7_mmel_S5.Solo.out/Gene/filtered/matrix.mtx'\n",
    "features = 'demultiplexed/HYR__c21295__20210330_mcf-7_mmel_S5.Solo.out/Gene/filtered/features.tsv'\n",
    "barcodes = 'demultiplexed/HYR__c21295__20210330_mcf-7_mmel_S5.Solo.out/Gene/filtered/barcodes.tsv'\n",
    "data = sc.read_mtx(mtx)\n",
    "data = data.T\n",
    "features = pd.read_csv(features, header=None)\n",
    "barcodes = pd.read_csv(barcodes, header=None)\n",
    "data.var_names = features[0]\n",
    "data.obs_names = barcodes[0]"
   ]
  },
  {
   "cell_type": "code",
   "execution_count": 15,
   "metadata": {},
   "outputs": [],
   "source": [
    "sc.pp.calculate_qc_metrics(data, inplace=True)"
   ]
  },
  {
   "cell_type": "code",
   "execution_count": 17,
   "metadata": {},
   "outputs": [
    {
     "data": {
      "text/plain": [
       "n_genes_by_counts               904.000000\n",
       "log1p_n_genes_by_counts           6.807935\n",
       "total_counts                   1439.500000\n",
       "log1p_total_counts                7.272746\n",
       "pct_counts_in_top_50_genes       27.381348\n",
       "pct_counts_in_top_100_genes      37.420741\n",
       "pct_counts_in_top_200_genes      49.830459\n",
       "pct_counts_in_top_500_genes      72.409996\n",
       "dtype: float64"
      ]
     },
     "execution_count": 17,
     "metadata": {},
     "output_type": "execute_result"
    }
   ],
   "source": [
    "data.obs.median()"
   ]
  },
  {
   "cell_type": "code",
   "execution_count": 12,
   "metadata": {},
   "outputs": [],
   "source": [
    "adata.write('geo/'+'HYR__c21295__20210330_mcf-7_mmel_S5'+'.raw.hdf5')"
   ]
  },
  {
   "cell_type": "code",
   "execution_count": 6,
   "metadata": {},
   "outputs": [],
   "source": [
    "mtx = 'demultiplexed/HYR__c21295__20210330_mcf-7_mmel_S5.Solo.out/Gene/filtered/matrix.mtx'\n",
    "features = 'demultiplexed/HYR__c21295__20210330_mcf-7_mmel_S5.Solo.out/Gene/filtered/features.tsv'\n",
    "barcodes = 'demultiplexed/HYR__c21295__20210330_mcf-7_mmel_S5.Solo.out/Gene/filtered/barcodes.tsv'\n",
    "data = sc.read_mtx(mtx)\n",
    "data = data.T\n",
    "features = pd.read_csv(features, header=None)\n",
    "barcodes = pd.read_csv(barcodes, header=None)\n",
    "data.var_names = features[0]\n",
    "data.obs_names = barcodes[0]\n",
    "\n",
    "adata = data\n",
    "adata.var_names_make_unique()\n",
    "\n",
    "## then, generate barnyard plots, but now from matrix\n",
    "# get variables list from adata\n",
    "adata_vars = list(adata.var.index.values)\n",
    "adata_obs = list(adata.obs.index.values)\n",
    "\n",
    "# list gene names from each genome\n",
    "adata_vars_GRCh38 = [x for x in adata_vars if x.startswith('GRCh38')]\n",
    "adata_vars_mm10 = [x for x in adata_vars if x.startswith('mm10')]\n",
    "\n",
    "# then, select from adata the values corresponding to each gene\n",
    "adata_GRCh38 = adata[:, adata_vars_GRCh38]\n",
    "adata_mm10 = adata[:, adata_vars_mm10]\n",
    "\n",
    "# then, colsum in order to collapse counts for each genome\n",
    "adata_GRCh38_colsum = adata_GRCh38.X.sum(axis=1)\n",
    "adata_mm10_colsum = adata_mm10.X.sum(axis=1)\n",
    "\n",
    "# convert to df\n",
    "df_adata_GRCh38_colsum = pd.DataFrame(adata_GRCh38_colsum, index = adata_obs, columns = ['GRCh38'])\n",
    "df_adata_mm10_colsum = pd.DataFrame(adata_mm10_colsum, index = adata_obs, columns = ['mm10'])\n",
    "\n",
    "# merge\n",
    "df_adata_colsum = pd.concat([df_adata_GRCh38_colsum, df_adata_mm10_colsum], axis=1, sort=False)\n",
    "\n",
    "# add rowsum\n",
    "df_adata_colsum['sum'] = df_adata_colsum.sum(axis=1)\n",
    "\n",
    "# now sort on rowsum\n",
    "df_adata_colsum_sorted = df_adata_colsum.sort_values(by = 'sum', axis = 0, ascending = False)\n",
    "\n",
    "plt.figure(figsize=(10, 6), dpi=150)\n",
    "plt.plot(df_adata_colsum_sorted['sum'][10:200000])\n",
    "plt.xscale(\"log\")\n",
    "plt.yscale(\"log\")\n",
    "plt.title(legend[0])\n",
    "\n",
    "plt.savefig('plts_python/' + legend[0] + '_kneeplot.svg', dpi=150)\n",
    "plt.close()\n",
    "\n",
    "# now replace zeros by 1s for the log scale\n",
    "df_adata_colsum_nozeros = df_adata_colsum_sorted.mask(df_adata_colsum_sorted == 0, 1)\n",
    "df_adata_colsum_nozeros_sorted = df_adata_colsum_nozeros.sort_values(by = 'sum', axis = 0, ascending = False)\n",
    "\n",
    "## now plot the barnyard for the top n cells \n",
    "df_adata_colsum_nozeros_sorted_top_n = df_adata_colsum_nozeros_sorted\n",
    "\n",
    "cmap = sns.cubehelix_palette(start=1, light=1, as_cmap=True)\n",
    "cmap2 = sns.cubehelix_palette(8, start=.5, rot=-.75, as_cmap=True)\n",
    "\n",
    "x = df_adata_colsum_nozeros_sorted_top_n['GRCh38']\n",
    "y = df_adata_colsum_nozeros_sorted_top_n['mm10']\n",
    "z = df_adata_colsum_nozeros_sorted_top_n['GRCh38'] + df_adata_colsum['mm10']\n",
    "\n",
    "f, axes = plt.subplots(1, 2, figsize=(10, 5))\n",
    "\n",
    "sns.scatterplot(x = 'GRCh38', y = 'mm10', data = df_adata_colsum_nozeros_sorted_top_n, hue = z, size = z, ax=axes[0])\n",
    "scalemax = 1.20*max([max(x), max(y)])\n",
    "plt.xlim([0, scalemax])\n",
    "plt.ylim([0, scalemax])\n",
    "\n",
    "sns.kdeplot(x = x, y = y, shade=False, log_scale=True, levels=5, cbar=False, bw_method=0.1, ax=axes[1])\n",
    "sns.scatterplot(x = 'GRCh38', y = 'mm10', data = df_adata_colsum_nozeros_sorted_top_n, hue = z, sizes=(10, 30), size_norm=(0, 2000), size = z,  ax=axes[1])\n",
    "scalemax = 1.20*max([max(x), max(y)])\n",
    "plt.xlim([0.5, scalemax])\n",
    "plt.ylim([0.5, scalemax])\n",
    "\n",
    "axes[0].set_title('Lin')\n",
    "axes[0].set_xlim([0, scalemax])\n",
    "axes[0].set_ylim([0, scalemax])\n",
    "axes[1].set_title('Log')\n",
    "axes[1].set_xlim([0.5, scalemax])\n",
    "axes[1].set_ylim([0.5, scalemax])\n",
    "\n",
    "suptitle = 'UMI-count ' + legend[0]\n",
    "f.suptitle(suptitle)\n",
    "plt.savefig('plts_python/' + legend[0] + '_barnyard_umi.svg', dpi=150)\n",
    "plt.close()"
   ]
  },
  {
   "cell_type": "code",
   "execution_count": 7,
   "metadata": {},
   "outputs": [],
   "source": [
    "mtx = 'demultiplexed/HYR__c21295__20210330_mcf-7_mmel_S5.Solo.out/Gene/filtered/matrix.mtx'\n",
    "features = 'demultiplexed/HYR__c21295__20210330_mcf-7_mmel_S5.Solo.out/Gene/filtered/features.tsv'\n",
    "barcodes = 'demultiplexed/HYR__c21295__20210330_mcf-7_mmel_S5.Solo.out/Gene/filtered/barcodes.tsv'\n",
    "data = sc.read_mtx(mtx)\n",
    "data = data.T\n",
    "features = pd.read_csv(features, header=None)\n",
    "barcodes = pd.read_csv(barcodes, header=None)\n",
    "data.var_names = features[0]\n",
    "data.obs_names = barcodes[0]\n",
    "\n",
    "adata = data\n",
    "adata.var_names_make_unique()\n",
    "\n",
    "## then, generate barnyard plots, but now from matrix\n",
    "# get variables list from adata\n",
    "adata_vars = list(adata.var.index.values)\n",
    "adata_obs = list(adata.obs.index.values)\n",
    "\n",
    "# list gene names from each genome\n",
    "adata_vars_GRCh38 = [x for x in adata_vars if x.startswith('GRCh38')]\n",
    "adata_vars_mm10 = [x for x in adata_vars if x.startswith('mm10')]\n",
    "\n",
    "# then, select from adata the values corresponding to each gene\n",
    "adata_GRCh38 = adata[:, adata_vars_GRCh38]\n",
    "adata_mm10 = adata[:, adata_vars_mm10]\n",
    "\n",
    "# then, colsum in order to collapse counts for each genome\n",
    "adata_GRCh38_colsum = adata_GRCh38.X.sum(axis=1)\n",
    "adata_mm10_colsum = adata_mm10.X.sum(axis=1)\n",
    "\n",
    "# convert to df\n",
    "df_adata_GRCh38_colsum = pd.DataFrame(adata_GRCh38_colsum, index = adata_obs, columns = ['GRCh38'])\n",
    "df_adata_mm10_colsum = pd.DataFrame(adata_mm10_colsum, index = adata_obs, columns = ['mm10'])\n",
    "\n",
    "# merge\n",
    "df_adata_colsum = pd.concat([df_adata_GRCh38_colsum, df_adata_mm10_colsum], axis=1, sort=False)\n",
    "\n",
    "# add rowsum\n",
    "df_adata_colsum['sum'] = df_adata_colsum.sum(axis=1)\n",
    "\n",
    "# now sort on rowsum\n",
    "df_adata_colsum_sorted = df_adata_colsum.sort_values(by = 'sum', axis = 0, ascending = False)"
   ]
  },
  {
   "cell_type": "code",
   "execution_count": 8,
   "metadata": {},
   "outputs": [],
   "source": [
    "from scipy.stats import gaussian_kde\n",
    "import matplotlib.pyplot as plt\n",
    "import numpy as np\n",
    "import seaborn as sns\n",
    "\n",
    "%matplotlib inline"
   ]
  },
  {
   "cell_type": "code",
   "execution_count": 9,
   "metadata": {},
   "outputs": [
    {
     "data": {
      "text/plain": [
       "AnnData object with n_obs × n_vars = 2250 × 68886"
      ]
     },
     "execution_count": 9,
     "metadata": {},
     "output_type": "execute_result"
    }
   ],
   "source": [
    "adata"
   ]
  },
  {
   "cell_type": "code",
   "execution_count": 10,
   "metadata": {},
   "outputs": [
    {
     "data": {
      "image/png": "[encoded data removed]",
      "text/plain": [
       "<Figure size 720x360 with 2 Axes>"
      ]
     },
     "metadata": {
      "needs_background": "light"
     },
     "output_type": "display_data"
    }
   ],
   "source": [
    "plt.figure(figsize=(10, 6), dpi=150)\n",
    "plt.plot(df_adata_colsum_sorted['sum'][10:200000])\n",
    "plt.xscale(\"log\")\n",
    "plt.yscale(\"log\")\n",
    "plt.title(legend[0])\n",
    "\n",
    "plt.savefig('plts_python/' + legend[0] + '_kneeplot.svg', dpi=150)\n",
    "plt.close()\n",
    "\n",
    "# now replace zeros by 1s for the log scale\n",
    "df_adata_colsum_nozeros = df_adata_colsum_sorted.mask(df_adata_colsum_sorted == 0, 1)\n",
    "df_adata_colsum_nozeros_sorted = df_adata_colsum_nozeros.sort_values(by = 'sum', axis = 0, ascending = False)\n",
    "\n",
    "## now plot the barnyard for the top n cells \n",
    "df_adata_colsum_nozeros_sorted_top_n = df_adata_colsum_nozeros_sorted\n",
    "\n",
    "cmap = sns.cubehelix_palette(start=1, light=1, as_cmap=True)\n",
    "cmap2 = sns.cubehelix_palette(8, start=.5, rot=-.75, as_cmap=True)\n",
    "\n",
    "x = df_adata_colsum_nozeros_sorted_top_n['GRCh38']\n",
    "y = df_adata_colsum_nozeros_sorted_top_n['mm10']\n",
    "z = df_adata_colsum_nozeros_sorted_top_n['GRCh38'] + df_adata_colsum['mm10']\n",
    "\n",
    "f, axes = plt.subplots(1, 2, figsize=(10, 5))\n",
    "\n",
    "xy = np.vstack([x,y])\n",
    "z = gaussian_kde(xy)(xy)\n",
    "\n",
    "sns.scatterplot(x = 'GRCh38', y = 'mm10', data = df_adata_colsum_nozeros_sorted_top_n, hue = z, ax=axes[0], palette='viridis', s=10, edgecolor=None)\n",
    "\n",
    "# sns.kdeplot(x = x, y = y, shade=False, log_scale=True, levels=5, cbar=False, bw_method=0.1, ax=axes[1])\n",
    "\n",
    "\n",
    "xy = np.vstack([np.log(x),np.log(y)])\n",
    "z = gaussian_kde(xy)(xy)\n",
    "sns.scatterplot(x = df_adata_colsum_nozeros_sorted_top_n['GRCh38'], y = df_adata_colsum_nozeros_sorted_top_n['mm10'], hue=z, s=10, edgecolor=None, palette='viridis')\n",
    "\n",
    "scalemax = 10000# 1.20*max([max(x), max(y)])\n",
    "scalemin = -0.02*max([max(x), max(y)])\n",
    "axes[0].set_title('Lin')\n",
    "axes[0].set_xlim([scalemin, scalemax])\n",
    "axes[0].set_ylim([scalemin, scalemax])\n",
    "axes[1].set_title('Log')\n",
    "\n",
    "scalemax = 1.20*max([max(x), max(y)])\n",
    "axes[1].set_xlim([0.5, scalemax])\n",
    "axes[1].set_ylim([0.5, scalemax])\n",
    "plt.xscale(\"log\")\n",
    "plt.yscale(\"log\")\n",
    "\n",
    "suptitle = 'UMI-count ' + legend[0]\n",
    "f.suptitle(suptitle)\n",
    "plt.savefig('plts_python/' + legend[0] + '_barnyard_umi.svg', dpi=150)\n",
    "plt.show()\n",
    "plt.close()"
   ]
  },
  {
   "cell_type": "code",
   "execution_count": 11,
   "metadata": {},
   "outputs": [
    {
     "data": {
      "image/png": "[encoded data removed]",
      "text/plain": [
       "<Figure size 432x288 with 1 Axes>"
      ]
     },
     "metadata": {},
     "output_type": "display_data"
    }
   ],
   "source": [
    "sns.set_style('darkgrid')\n",
    "sns.set_context('talk')\n",
    "markersize=25\n",
    "nbins = 10\n",
    "# now replace zeros by 1s for the log scale\n",
    "df_adata_colsum_nozeros = df_adata_colsum_sorted.mask(df_adata_colsum_sorted == 0, 1)\n",
    "df_adata_colsum_nozeros_sorted = df_adata_colsum_nozeros.sort_values(by = 'sum', axis = 0, ascending = False)\n",
    "\n",
    "## now plot the barnyard for the top n cells \n",
    "df_adata_colsum_nozeros_sorted_top_n = df_adata_colsum_nozeros_sorted\n",
    "\n",
    "x = df_adata_colsum_nozeros_sorted_top_n['GRCh38']\n",
    "y = df_adata_colsum_nozeros_sorted_top_n['mm10']\n",
    "\n",
    "xy = np.vstack([np.log10(x),y])\n",
    "z = gaussian_kde(xy)(xy)\n",
    "bins = np.linspace(z.min(), z.max(), nbins)\n",
    "digitized = np.digitize(z, bins)\n",
    "bin_means = [z[digitized == i].mean() for i in range(1, len(bins))]\n",
    "digitized_rescaled = np.interp(digitized, (digitized.min(), digitized.max()), (z.min(), z.max()))\n",
    "\n",
    "ax = sns.scatterplot(x = 'GRCh38', y = 'mm10', data = df_adata_colsum_nozeros_sorted_top_n, hue = digitized_rescaled, palette='viridis', edgecolor=None, s=markersize)\n",
    "\n",
    "# sns.kdeplot(x = x, y = y, shade=False, log_scale=True, levels=5, cbar=False, bw_method=0.1, ax=axes[1])\n",
    "ax.set_title('Lin')\n",
    "scalemax = 10000# 1.20*max([max(x), max(y)])\n",
    "scalemin = -0.05*max([max(x), max(y)])\n",
    "ax.set_xlim([scalemin, scalemax])\n",
    "ax.set_ylim([scalemin, scalemax])\n",
    "ax.set(xscale='linear')\n",
    "ax.set(yscale='linear')\n",
    "\n",
    "ax.set_aspect('equal', adjustable='box')\n",
    "ax.set_aspect(1./ax.get_data_ratio())\n",
    "\n",
    "ax.set_xlabel('hg38 UMIs')\n",
    "ax.set_ylabel('mm10 UMIs')\n",
    "\n",
    "plt.savefig('plts_pub/barnyard_umi_markersize'+str(markersize)+'.svg', dpi=150)\n",
    "plt.show()\n",
    "plt.close()"
   ]
  },
  {
   "cell_type": "code",
   "execution_count": 12,
   "metadata": {},
   "outputs": [
    {
     "data": {
      "text/html": [
       "<div>\n",
       "<style scoped>\n",
       "    .dataframe tbody tr th:only-of-type {\n",
       "        vertical-align: middle;\n",
       "    }\n",
       "\n",
       "    .dataframe tbody tr th {\n",
       "        vertical-align: top;\n",
       "    }\n",
       "\n",
       "    .dataframe thead th {\n",
       "        text-align: right;\n",
       "    }\n",
       "</style>\n",
       "<table border=\"1\" class=\"dataframe\">\n",
       "  <thead>\n",
       "    <tr style=\"text-align: right;\">\n",
       "      <th></th>\n",
       "      <th>GRCh38</th>\n",
       "      <th>mm10</th>\n",
       "      <th>sum</th>\n",
       "    </tr>\n",
       "  </thead>\n",
       "  <tbody>\n",
       "    <tr>\n",
       "      <th>ATCGACCTTG_CTCAGGTAAG_TGAGTCTCCT</th>\n",
       "      <td>168.0</td>\n",
       "      <td>12384.0</td>\n",
       "      <td>12552.0</td>\n",
       "    </tr>\n",
       "    <tr>\n",
       "      <th>GAACACTGGA_ACCTTGTATG_TCAGAACCAG</th>\n",
       "      <td>103.0</td>\n",
       "      <td>9134.0</td>\n",
       "      <td>9237.0</td>\n",
       "    </tr>\n",
       "    <tr>\n",
       "      <th>TTCACAGCTC_GTAAGGTTCA_TGAGCATCTA</th>\n",
       "      <td>131.0</td>\n",
       "      <td>8403.0</td>\n",
       "      <td>8534.0</td>\n",
       "    </tr>\n",
       "    <tr>\n",
       "      <th>ACTCGCAATG_GAATCGGTTA_TGAGCATCTA</th>\n",
       "      <td>8022.0</td>\n",
       "      <td>60.0</td>\n",
       "      <td>8082.0</td>\n",
       "    </tr>\n",
       "    <tr>\n",
       "      <th>CGCACTTCAT_CCTACCTACC_CGTTCGTAGA</th>\n",
       "      <td>7951.0</td>\n",
       "      <td>73.0</td>\n",
       "      <td>8024.0</td>\n",
       "    </tr>\n",
       "    <tr>\n",
       "      <th>...</th>\n",
       "      <td>...</td>\n",
       "      <td>...</td>\n",
       "      <td>...</td>\n",
       "    </tr>\n",
       "    <tr>\n",
       "      <th>ACCTGAGATG_ATAGTACGGT_CGTTGTCAGC</th>\n",
       "      <td>414.0</td>\n",
       "      <td>134.0</td>\n",
       "      <td>548.0</td>\n",
       "    </tr>\n",
       "    <tr>\n",
       "      <th>CATCTCGTCA_TCGCCTAAGT_TGGATTACAG</th>\n",
       "      <td>544.0</td>\n",
       "      <td>2.0</td>\n",
       "      <td>546.0</td>\n",
       "    </tr>\n",
       "    <tr>\n",
       "      <th>CCTGGTATTA_CCTACCTACC_CGGCTGATAC</th>\n",
       "      <td>533.0</td>\n",
       "      <td>13.0</td>\n",
       "      <td>546.0</td>\n",
       "    </tr>\n",
       "    <tr>\n",
       "      <th>TCGCACATAC_GACTACCTCA_GAGTAGACCA</th>\n",
       "      <td>539.0</td>\n",
       "      <td>6.0</td>\n",
       "      <td>545.0</td>\n",
       "    </tr>\n",
       "    <tr>\n",
       "      <th>CATCTCGTCA_ATGTAACCGG_TACGACGATG</th>\n",
       "      <td>541.0</td>\n",
       "      <td>4.0</td>\n",
       "      <td>545.0</td>\n",
       "    </tr>\n",
       "  </tbody>\n",
       "</table>\n",
       "<p>2250 rows × 3 columns</p>\n",
       "</div>"
      ],
      "text/plain": [
       "                                  GRCh38     mm10      sum\n",
       "ATCGACCTTG_CTCAGGTAAG_TGAGTCTCCT   168.0  12384.0  12552.0\n",
       "GAACACTGGA_ACCTTGTATG_TCAGAACCAG   103.0   9134.0   9237.0\n",
       "TTCACAGCTC_GTAAGGTTCA_TGAGCATCTA   131.0   8403.0   8534.0\n",
       "ACTCGCAATG_GAATCGGTTA_TGAGCATCTA  8022.0     60.0   8082.0\n",
       "CGCACTTCAT_CCTACCTACC_CGTTCGTAGA  7951.0     73.0   8024.0\n",
       "...                                  ...      ...      ...\n",
       "ACCTGAGATG_ATAGTACGGT_CGTTGTCAGC   414.0    134.0    548.0\n",
       "CATCTCGTCA_TCGCCTAAGT_TGGATTACAG   544.0      2.0    546.0\n",
       "CCTGGTATTA_CCTACCTACC_CGGCTGATAC   533.0     13.0    546.0\n",
       "TCGCACATAC_GACTACCTCA_GAGTAGACCA   539.0      6.0    545.0\n",
       "CATCTCGTCA_ATGTAACCGG_TACGACGATG   541.0      4.0    545.0\n",
       "\n",
       "[2250 rows x 3 columns]"
      ]
     },
     "execution_count": 12,
     "metadata": {},
     "output_type": "execute_result"
    }
   ],
   "source": [
    "df_adata_colsum_nozeros_sorted_top_n"
   ]
  },
  {
   "cell_type": "code",
   "execution_count": 13,
   "metadata": {},
   "outputs": [
    {
     "data": {
      "text/plain": [
       "GRCh38     671.5\n",
       "mm10        35.0\n",
       "sum       1439.5\n",
       "dtype: float32"
      ]
     },
     "execution_count": 13,
     "metadata": {},
     "output_type": "execute_result"
    }
   ],
   "source": [
    "df_adata_colsum_nozeros_sorted_top_n.median()"
   ]
  },
  {
   "cell_type": "code",
   "execution_count": 14,
   "metadata": {},
   "outputs": [
    {
     "data": {
      "text/plain": [
       "GRCh38     961.202637\n",
       "mm10       793.520020\n",
       "sum       1754.722656\n",
       "dtype: float32"
      ]
     },
     "execution_count": 14,
     "metadata": {},
     "output_type": "execute_result"
    }
   ],
   "source": [
    "df_adata_colsum_nozeros_sorted_top_n.mean()"
   ]
  },
  {
   "cell_type": "code",
   "execution_count": 15,
   "metadata": {},
   "outputs": [],
   "source": [
    "df_adata_colsum_nozeros_sorted_top_n['ratio']=df_adata_colsum_nozeros_sorted_top_n['GRCh38']/df_adata_colsum_nozeros_sorted_top_n['sum']"
   ]
  },
  {
   "cell_type": "code",
   "execution_count": 20,
   "metadata": {},
   "outputs": [],
   "source": [
    "df_adata_colsum_nozeros_sorted_top_n['species']='mixed'"
   ]
  },
  {
   "cell_type": "code",
   "execution_count": 21,
   "metadata": {},
   "outputs": [
    {
     "name": "stderr",
     "output_type": "stream",
     "text": [
      "/user/leuven/330/vsc33042/.local/lib/python3.7/site-packages/ipykernel_launcher.py:4: SettingWithCopyWarning: \n",
      "A value is trying to be set on a copy of a slice from a DataFrame\n",
      "\n",
      "See the caveats in the documentation: https://pandas.pydata.org/pandas-docs/stable/user_guide/indexing.html#returning-a-view-versus-a-copy\n",
      "  after removing the cwd from sys.path.\n",
      "/user/leuven/330/vsc33042/.local/lib/python3.7/site-packages/ipykernel_launcher.py:5: SettingWithCopyWarning: \n",
      "A value is trying to be set on a copy of a slice from a DataFrame\n",
      "\n",
      "See the caveats in the documentation: https://pandas.pydata.org/pandas-docs/stable/user_guide/indexing.html#returning-a-view-versus-a-copy\n",
      "  \"\"\"\n"
     ]
    },
    {
     "data": {
      "text/plain": [
       "human    1235\n",
       "mouse     846\n",
       "mixed     169\n",
       "Name: species, dtype: int64"
      ]
     },
     "execution_count": 21,
     "metadata": {},
     "output_type": "execute_result"
    }
   ],
   "source": [
    "cutoff = 0.95\n",
    "cutoff2=1-cutoff\n",
    "df_adata_colsum_nozeros_sorted_top_n['species']='mixed'\n",
    "df_adata_colsum_nozeros_sorted_top_n['species'][df_adata_colsum_nozeros_sorted_top_n['ratio']>=cutoff]='human'\n",
    "df_adata_colsum_nozeros_sorted_top_n['species'][df_adata_colsum_nozeros_sorted_top_n['ratio']<=cutoff2]='mouse'\n",
    "df_adata_colsum_nozeros_sorted_top_n['species'].value_counts()"
   ]
  },
  {
   "cell_type": "code",
   "execution_count": 22,
   "metadata": {},
   "outputs": [
    {
     "data": {
      "text/plain": [
       "0.07511111111111111"
      ]
     },
     "execution_count": 22,
     "metadata": {},
     "output_type": "execute_result"
    }
   ],
   "source": [
    "169/2250"
   ]
  },
  {
   "cell_type": "markdown",
   "metadata": {},
   "source": [
    "Then I want to cluster (PC + UMAP) and then color by species"
   ]
  },
  {
   "cell_type": "code",
   "execution_count": null,
   "metadata": {
    "tags": []
   },
   "outputs": [],
   "source": [
    "mtx = 'demultiplexed/HYR__c21295__20210330_mcf-7_mmel_S5.Solo.out/Gene/filtered/matrix.mtx'\n",
    "features = 'demultiplexed/HYR__c21295__20210330_mcf-7_mmel_S5.Solo.out/Gene/filtered/features.tsv'\n",
    "barcodes = 'demultiplexed/HYR__c21295__20210330_mcf-7_mmel_S5.Solo.out/Gene/filtered/barcodes.tsv'\n",
    "data = sc.read_mtx(mtx)\n",
    "data = data.T\n",
    "features = pd.read_csv(features, header=None)\n",
    "barcodes = pd.read_csv(barcodes, header=None)\n",
    "data.var_names = features[0]\n",
    "data.obs_names = barcodes[0]\n",
    "\n",
    "adata = data\n",
    "adata.var_names_make_unique()\n",
    "# sc.pl.highest_expr_genes(adata, n_top=20, )\n",
    "\n",
    "sc.pp.filter_cells(adata, min_genes=80)\n",
    "sc.pp.filter_genes(adata, min_cells=3)\n",
    "# sc.pl.highest_expr_genes(adata, n_top=20, )\n",
    "\n",
    "adata.var['mt'] = adata.var_names.str.startswith('GRCh38_MT-', 'mm10_mt-')  # annotate the group of mitochondrial genes as 'mt'\n",
    "sc.pp.calculate_qc_metrics(adata, qc_vars=['mt'], percent_top=None, log1p=False, inplace=True)\n",
    "# sc.pl.violin(adata, ['n_genes_by_counts', 'total_counts', 'pct_counts_mt'], jitter=0.4, multi_panel=True)\n",
    "\n",
    "# sc.pl.scatter(adata, x='total_counts', y='pct_counts_mt')\n",
    "# sc.pl.scatter(adata, x='total_counts', y='n_genes_by_counts')\n",
    "\n",
    "adata = adata[adata.obs.pct_counts_mt < 5, :]\n",
    "\n",
    "sc.pp.log1p(adata)\n",
    "sc.pp.highly_variable_genes(adata, min_mean=0.0125, max_mean=3, min_disp=0.5)\n",
    "# sc.pl.highly_variable_genes(adata)\n",
    "\n",
    "sc.tl.pca(adata, svd_solver='arpack')\n",
    "# sc.pl.pca(adata)\n",
    "\n",
    "sc.pl.pca_variance_ratio(adata, log=True)\n",
    "for n_pcs in [8, 10, 15, 20]:\n",
    "    sc.pp.neighbors(adata, n_neighbors=10, n_pcs=n_pcs)\n",
    "    sc.tl.umap(adata)\n",
    "    # sc.pl.umap(adata, color=['GRCh38-MALAT1', 'mm10-Malat1'])\n",
    "\n",
    "    # Now, make a plot for human vs mouse\n",
    "    # (see this thread: https://github.com/theislab/scanpy/issues/532):\n",
    "    list_GRCh38 = [name for name in adata.var_names if name.startswith('GRCh38')]\n",
    "    list_mm10 = [name for name in adata.var_names if name.startswith('mm10')]\n",
    "\n",
    "    sc.tl.score_genes(adata, list_GRCh38, score_name='GRCh38_score')\n",
    "    sc.tl.score_genes(adata, list_mm10, score_name='mm10_score')\n",
    "    figname = 'pcs_umap_speciessplit.png'\n",
    "    figtitle =['GRCh38 score - ' + str(n_pcs) + ' PCs', 'mm10 score - ' + str(n_pcs) + ' PCs']\n",
    "\n",
    "    sc.pl.umap(adata, color= ['GRCh38_score', 'mm10_score'], save=figname, title = figtitle)"
   ]
  },
  {
   "cell_type": "code",
   "execution_count": null,
   "metadata": {},
   "outputs": [],
   "source": [
    "# create a dictionary to map cluster to annotation label\n",
    "cluster2annotation = {\n",
    "     '0': 'Human',\n",
    "     '1': 'Mouse',\n",
    "}\n",
    "\n",
    "# add a new `.obs` column called `cell type` by mapping clusters to annotation using pandas `map` function\n",
    "adata.obs['cell_type'] = adata.obs['leiden'].map(cluster2annotation).astype('category')"
   ]
  },
  {
   "cell_type": "code",
   "execution_count": null,
   "metadata": {},
   "outputs": [],
   "source": [
    "sc.pl.violin(adata, ['n_genes_by_counts', 'total_counts', 'pct_counts_mt'], jitter=0.4, multi_panel=True)\n",
    "\n",
    "sc.pl.scatter(adata, x='total_counts', y='pct_counts_mt')\n",
    "sc.pl.scatter(adata, x='total_counts', y='n_genes_by_counts')"
   ]
  },
  {
   "cell_type": "code",
   "execution_count": null,
   "metadata": {},
   "outputs": [],
   "source": [
    "sc.tl.leiden(adata, resolution=0.1)"
   ]
  },
  {
   "cell_type": "code",
   "execution_count": null,
   "metadata": {},
   "outputs": [],
   "source": [
    "sc.pl.violin(adata, ['n_genes', 'total_counts'], groupby='leiden')"
   ]
  },
  {
   "cell_type": "code",
   "execution_count": null,
   "metadata": {},
   "outputs": [],
   "source": [
    "adata.obs['all']=''"
   ]
  },
  {
   "cell_type": "code",
   "execution_count": null,
   "metadata": {},
   "outputs": [],
   "source": [
    "adata.obs"
   ]
  },
  {
   "cell_type": "code",
   "execution_count": null,
   "metadata": {},
   "outputs": [],
   "source": [
    "ax = sns.violinplot(x='all', y=\"n_genes\", data=adata.obs, palette=\"muted\", hue='cell_type', split=True, scale='count')"
   ]
  },
  {
   "cell_type": "code",
   "execution_count": null,
   "metadata": {},
   "outputs": [],
   "source": [
    "ax = sns.violinplot(x='all', y=\"total_counts\", data=adata.obs, palette=\"muted\", hue='cell_type', split=True, scale='count')"
   ]
  },
  {
   "cell_type": "code",
   "execution_count": null,
   "metadata": {},
   "outputs": [],
   "source": [
    "sc.pl.umap(adata, color='leiden', save='test')"
   ]
  },
  {
   "cell_type": "code",
   "execution_count": null,
   "metadata": {},
   "outputs": [],
   "source": [
    "print(adata.obs['n_genes'].mean())\n",
    "print(adata.obs['total_counts'].mean())\n",
    "print(adata.obs['n_genes'].median())\n",
    "print(adata.obs['total_counts'].median())"
   ]
  },
  {
   "cell_type": "markdown",
   "metadata": {},
   "source": [
    "0 is human, 1 is mouse"
   ]
  },
  {
   "cell_type": "code",
   "execution_count": null,
   "metadata": {},
   "outputs": [],
   "source": [
    "print(adata.obs[adata.obs['leiden']=='0']['n_genes'].mean())\n",
    "print(adata.obs[adata.obs['leiden']=='0']['total_counts'].mean())\n",
    "print(adata.obs[adata.obs['leiden']=='0']['n_genes'].median())\n",
    "print(adata.obs[adata.obs['leiden']=='0']['total_counts'].median())"
   ]
  },
  {
   "cell_type": "code",
   "execution_count": null,
   "metadata": {},
   "outputs": [],
   "source": [
    "print(adata.obs[adata.obs['leiden']=='1']['n_genes'].mean())\n",
    "print(adata.obs[adata.obs['leiden']=='1']['total_counts'].mean())\n",
    "print(adata.obs[adata.obs['leiden']=='1']['n_genes'].median())\n",
    "print(adata.obs[adata.obs['leiden']=='1']['total_counts'].median())"
   ]
  },
  {
   "cell_type": "code",
   "execution_count": null,
   "metadata": {},
   "outputs": [],
   "source": []
  }
 ],
 "metadata": {
  "kernelspec": {
   "display_name": "Python 3",
   "language": "python",
   "name": "python3"
  },
  "language_info": {
   "codemirror_mode": {
    "name": "ipython",
    "version": 3
   },
   "file_extension": ".py",
   "mimetype": "text/x-python",
   "name": "python",
   "nbconvert_exporter": "python",
   "pygments_lexer": "ipython3",
   "version": "3.7.3"
  }
 },
 "nbformat": 4,
 "nbformat_minor": 4
}
