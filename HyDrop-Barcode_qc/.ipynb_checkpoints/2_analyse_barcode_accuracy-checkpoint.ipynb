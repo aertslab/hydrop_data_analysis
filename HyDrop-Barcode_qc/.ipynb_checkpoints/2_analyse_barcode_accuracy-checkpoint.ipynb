{
 "cells": [
  {
   "cell_type": "code",
   "execution_count": null,
   "id": "b7f6603d",
   "metadata": {},
   "outputs": [],
   "source": [
    "import pandas as pd\n",
    "import glob\n",
    "import seaborn as sns"
   ]
  },
  {
   "cell_type": "code",
   "execution_count": null,
   "id": "b843a168",
   "metadata": {},
   "outputs": [],
   "source": [
    "glob.glob('fastq/*bc_stats.tsv')"
   ]
  },
  {
   "cell_type": "code",
   "execution_count": null,
   "id": "e45217cf",
   "metadata": {},
   "outputs": [],
   "source": [
    "alias_dict = {'fastq/HYA__combined__20210323_cortex_phu_dv_etssb_1-2_S2_R2.BCONLY.SUB.CORR.fastq.gz.corrected.bc_stats.tsv':'HYA_2',\n",
    " 'fastq/HYA__combined__20210323_cortex_phu_dv_etssb_1-5_S5_R2.BCONLY.SUB.CORR.fastq.gz.corrected.bc_stats.tsv':'HYA_5',\n",
    " 'fastq/HYA__combined__20210323_cortex_phu_dv_etssb_1-4_S4_R2.BCONLY.SUB.CORR.fastq.gz.corrected.bc_stats.tsv':'HYA_4',\n",
    " 'fastq/HYA__combined__20210323_cortex_phu_dv_etssb_1-1_S1_R2.BCONLY.SUB.CORR.fastq.gz.corrected.bc_stats.tsv':'HYA_1',\n",
    " 'fastq/HYA__combined__20210323_cortex_phu_dv_etssb_1-3_S3_R2.BCONLY.SUB.CORR.fastq.gz.corrected.bc_stats.tsv':'HYA_3',\n",
    " 'fastq/HYR__666332__20210412_mouse_cortex_sa_S1_R2_001.BCONLY.SUB.CORR.fastq.gz.corrected.bc_stats.tsv':'HYR_1',\n",
    " 'fastq/HYR__c47998__20210412_mouse_cortex_sb_S2_R2_001.BCONLY.SUB.CORR.fastq.gz.corrected.bc_stats.tsv':'HYR_2'\n",
    "}"
   ]
  },
  {
   "cell_type": "code",
   "execution_count": null,
   "id": "699f7dc1",
   "metadata": {},
   "outputs": [],
   "source": [
    "alias_dict"
   ]
  },
  {
   "cell_type": "code",
   "execution_count": null,
   "id": "0ef5c53b",
   "metadata": {},
   "outputs": [],
   "source": [
    "df_cat = pd.DataFrame()\n",
    "for file in sorted(glob.glob('fastq/*bc_stats.tsv')):\n",
    "    df = pd.read_csv(file, sep='\\t', header=None)\n",
    "    df_cat[alias_dict[file]] = df[1]\n",
    "df_cat.index = df[0]"
   ]
  },
  {
   "cell_type": "code",
   "execution_count": null,
   "id": "733c5655",
   "metadata": {},
   "outputs": [],
   "source": [
    "df_cat = df_cat.T"
   ]
  },
  {
   "cell_type": "code",
   "execution_count": null,
   "id": "924b82ae",
   "metadata": {},
   "outputs": [],
   "source": [
    "df_cat['%_corr'] = df_cat['total_bc_found']/1000\n",
    "df_cat['%_0'] = df_cat['nbr_bc_0_mismatches']/1000\n",
    "df_cat['%_1'] = df_cat['nbr_bc_1_mismatches']/1000\n",
    "df_cat['%_2'] = df_cat['nbr_bc_2_mismatches']/1000\n",
    "df_cat['%_3'] = df_cat['nbr_bc_3_mismatches']/1000\n",
    "df_cat['%_uncorr'] = df_cat['nbr_bc_uncorrected']/1000"
   ]
  },
  {
   "cell_type": "code",
   "execution_count": null,
   "id": "7d5f0056",
   "metadata": {},
   "outputs": [],
   "source": [
    "df_cat"
   ]
  },
  {
   "cell_type": "code",
   "execution_count": null,
   "id": "5f331035",
   "metadata": {},
   "outputs": [],
   "source": []
  },
  {
   "cell_type": "code",
   "execution_count": null,
   "id": "fc021673",
   "metadata": {},
   "outputs": [],
   "source": []
  }
 ],
 "metadata": {
  "kernelspec": {
   "display_name": "Python 3.6",
   "language": "python",
   "name": "p36"
  },
  "language_info": {
   "codemirror_mode": {
    "name": "ipython",
    "version": 3
   },
   "file_extension": ".py",
   "mimetype": "text/x-python",
   "name": "python",
   "nbconvert_exporter": "python",
   "pygments_lexer": "ipython3",
   "version": "3.6.10"
  }
 },
 "nbformat": 4,
 "nbformat_minor": 5
}
