{
 "cells": [
  {
   "cell_type": "markdown",
   "metadata": {},
   "source": [
    "generate the whitelist:"
   ]
  },
  {
   "cell_type": "code",
   "execution_count": 5,
   "metadata": {},
   "outputs": [],
   "source": [
    "module load mawk\n",
    "cartesian(){\n",
    "awk -F '\\t' \\\n",
    "    -v \"bc1_list=$1\" \\\n",
    "    -v \"bc2_list=$2\" \\\n",
    "    -v \"bc3_list=$3\" '\n",
    "    {\n",
    "        if ( FILENAME == bc1_list ) {\n",
    "            BC1[$0];\n",
    "        }\n",
    "        else if ( FILENAME == bc2_list ) {\n",
    "             BC2[$0];\n",
    "        } else if ( FILENAME == bc3_list ) {\n",
    "             BC3[$0];\n",
    "        }\n",
    "    } END {\n",
    "        for (bc1 in BC1) {\n",
    "           for (bc2 in BC2) {\n",
    "               for (bc3 in BC3) {\n",
    "                   print bc1 bc2 bc3\n",
    "               }\n",
    "           }\n",
    "        }\n",
    "     } ' $1 $2 $3 > $4\n",
    "}\n"
   ]
  },
  {
   "cell_type": "code",
   "execution_count": 6,
   "metadata": {},
   "outputs": [],
   "source": [
    "cartesian indrop_whitelist/gel_barcode2_list.txt indrop_whitelist/index_whitelist.txt indrop_whitelist/gel_barcode2_list_revcomp.txt indrop_whitelist/full_whitelist_R234.txt"
   ]
  },
  {
   "cell_type": "code",
   "execution_count": 8,
   "metadata": {},
   "outputs": [
    {
     "name": "stdout",
     "output_type": "stream",
     "text": [
      "ACAAAGATCTTAATAGCTTGGTGT\n",
      "ACAAAGATCTTAATAGTCCCTGAT\n",
      "ACAAAGATCTTAATAGGTAATCCC\n",
      "ACAAAGATCTTAATAGCGGGTAGT\n",
      "ACAAAGATCTTAATAGCGCTCTCA\n",
      "ACAAAGATCTTAATAGGGTTTCTC\n",
      "ACAAAGATCTTAATAGTTAAACTG\n",
      "ACAAAGATCTTAATAGACCTTCTT\n",
      "ACAAAGATCTTAATAGAGGCAACG\n",
      "ACAAAGATCTTAATAGGGAAACAG\n"
     ]
    }
   ],
   "source": [
    "head indrop_whitelist/full_whitelist_R234.txt"
   ]
  },
  {
   "cell_type": "code",
   "execution_count": 9,
   "metadata": {},
   "outputs": [
    {
     "name": "stdout",
     "output_type": "stream",
     "text": [
      "1474558 indrop_whitelist/full_whitelist_R234.txt\n"
     ]
    }
   ],
   "source": [
    "wc -l indrop_whitelist/full_whitelist_R234.txt"
   ]
  },
  {
   "cell_type": "markdown",
   "metadata": {},
   "source": [
    "and generate the correct fastq:"
   ]
  },
  {
   "cell_type": "code",
   "execution_count": 1,
   "metadata": {
    "tags": []
   },
   "outputs": [
    {
     "name": "stdout",
     "output_type": "stream",
     "text": [
      "fastq_indrop/SRR10545068_1.fastq.gz\n",
      "SRR10545068\n",
      "fastq_indrop/SRR10545068_234.fastq.gz\n",
      "fastq_indrop/SRR10545069_1.fastq.gz\n",
      "SRR10545069\n",
      "fastq_indrop/SRR10545069_234.fastq.gz\n",
      "fastq_indrop/SRR10545070_1.fastq.gz\n",
      "SRR10545070\n",
      "fastq_indrop/SRR10545070_234.fastq.gz\n",
      "fastq_indrop/SRR10545071_1.fastq.gz\n",
      "SRR10545071\n",
      "fastq_indrop/SRR10545071_234.fastq.gz\n",
      "fastq_indrop/SRR10545072_1.fastq.gz\n",
      "SRR10545072\n",
      "fastq_indrop/SRR10545072_234.fastq.gz\n",
      "\n",
      "\n",
      "\n",
      "\n"
     ]
    }
   ],
   "source": [
    "module load mawk\n",
    "for file in fastq_indrop/*_1.fastq.gz\n",
    "do\n",
    "    echo $file\n",
    "    sample=`basename ${file%_1.fastq.gz}`\n",
    "    echo $sample\n",
    "    SAMPLE_R2=fastq_indrop/${sample}_2.fastq.gz\n",
    "    SAMPLE_R3=fastq_indrop/${sample}_3.fastq.gz\n",
    "    SAMPLE_R4=fastq_indrop/${sample}_4.fastq.gz\n",
    "    SAMPLE_R234=fastq_indrop/${sample}_234.fastq.gz\n",
    "    echo $SAMPLE_R234\n",
    "    paste <(zcat ${SAMPLE_R2}) <(zcat ${SAMPLE_R3}) <(zcat ${SAMPLE_R4}) | mawk '{if (NR%4==1) {print $1 \"2:3:4:paste\"} else if (NR%4==3) {print $1} else {print $1 $2 $3}}' | gzip > ${SAMPLE_R234}\n",
    "done"
   ]
  },
  {
   "cell_type": "code",
   "execution_count": null,
   "metadata": {},
   "outputs": [
    {
     "name": "stdout",
     "output_type": "stream",
     "text": [
      "fastq_indrop/SRR10545068_234.fastq.gz exists.\n",
      "fastq_indrop/SRR10545069_234.fastq.gz exists.\n",
      "fastq_indrop/SRR10545070_234.fastq.gz exists.\n",
      "fastq_indrop/SRR10545071_234.fastq.gz exists.\n",
      "fastq_indrop/SRR10545072_234.fastq.gz does not exist. Making.\n",
      "fastq_indrop/SRR10545073_234.fastq.gz does not exist. Making.\n"
     ]
    }
   ],
   "source": [
    "module load mawk\n",
    "for file in fastq_indrop/*_1.fastq.gz\n",
    "do\n",
    "    sample=`basename ${file%_1.fastq.gz}`\n",
    "    SAMPLE_R234=fastq_indrop/${sample}_234.fastq.gz\n",
    "    if test -f \"$SAMPLE_R234\"; then\n",
    "        echo \"$SAMPLE_R234 exists.\"\n",
    "    else\n",
    "        echo \"$SAMPLE_R234 does not exist. Making.\"\n",
    "        SAMPLE_R2=fastq_indrop/${sample}_2.fastq.gz\n",
    "        SAMPLE_R3=fastq_indrop/${sample}_3.fastq.gz\n",
    "        SAMPLE_R4=fastq_indrop/${sample}_4.fastq.gz\n",
    "        paste <(zcat ${SAMPLE_R2}) <(zcat ${SAMPLE_R3}) <(zcat ${SAMPLE_R4}) | mawk '{if (NR%4==1) {print $1 \"2:3:4:paste\"} else if (NR%4==3) {print $1} else {print $1 $2 $3}}' | gzip > ${SAMPLE_R234}\n",
    "    fi\n",
    "done"
   ]
  },
  {
   "cell_type": "code",
   "execution_count": null,
   "metadata": {},
   "outputs": [],
   "source": []
  }
 ],
 "metadata": {
  "kernelspec": {
   "display_name": "Bash",
   "language": "bash",
   "name": "bash"
  },
  "language_info": {
   "codemirror_mode": "shell",
   "file_extension": ".sh",
   "mimetype": "text/x-sh",
   "name": "bash"
  }
 },
 "nbformat": 4,
 "nbformat_minor": 4
}
