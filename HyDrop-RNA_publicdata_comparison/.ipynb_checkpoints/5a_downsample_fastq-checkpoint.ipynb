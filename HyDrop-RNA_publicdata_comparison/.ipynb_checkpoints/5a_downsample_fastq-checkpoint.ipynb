{
 "cells": [
  {
   "cell_type": "markdown",
   "id": "c0ec1a76",
   "metadata": {},
   "source": [
    "Before remapping everything, we downsample so that all samples have same amount of reads per cell. This was calculated in 4a."
   ]
  },
  {
   "cell_type": "code",
   "execution_count": null,
   "id": "91d3674c",
   "metadata": {},
   "outputs": [],
   "source": [
    "GSM1626793_P14Retina_1.digital_expression.txt.bcs: 348070800 # SRR1853178\n",
    "GSM1626794_P14Retina_2.digital_expression.txt.bcs: 474642000 # SRR1853179\n",
    "GSM1626795_P14Retina_3.digital_expression.txt.bcs: 322756560 # SRR1853180\n",
    "GSM1626796_P14Retina_4.digital_expression.txt.bcs: 403445700 # SRR1853181\n",
    "GSM1626797_P14Retina_5.digital_expression.txt.bcs: 403445700 # SRR1853182\n",
    "GSM1626798_P14Retina_6.digital_expression.txt.bcs: 436670640 # SRR1853183\n",
    "GSM1626799_P14Retina_7.digital_expression.txt.bcs: 210952000 # SRR1853184\n"
   ]
  },
  {
   "cell_type": "code",
   "execution_count": 1,
   "id": "b07049a2",
   "metadata": {},
   "outputs": [],
   "source": [
    "module load seqtk"
   ]
  },
  {
   "cell_type": "code",
   "execution_count": 6,
   "id": "256b246a",
   "metadata": {
    "collapsed": true,
    "jupyter": {
     "outputs_hidden": true
    },
    "tags": []
   },
   "outputs": [
    {
     "name": "stdout",
     "output_type": "stream",
     "text": [
      "\u001b[0m\u001b[01;31mfastq_dropseq/SRR1853178_1.fastq.gz\u001b[0m\n",
      "\u001b[01;31mfastq_dropseq/SRR1853178_2.fastq.gz\u001b[0m\n",
      "\u001b[01;31mfastq_dropseq/SRR1853179_1.fastq.gz\u001b[0m\n",
      "\u001b[01;31mfastq_dropseq/SRR1853179_2.fastq.gz\u001b[0m\n",
      "\u001b[01;31mfastq_dropseq/SRR1853180_1.fastq.gz\u001b[0m\n",
      "\u001b[01;31mfastq_dropseq/SRR1853180_2.fastq.gz\u001b[0m\n",
      "\u001b[01;31mfastq_dropseq/SRR1853181_1.fastq.gz\u001b[0m\n",
      "\u001b[01;31mfastq_dropseq/SRR1853181_2.fastq.gz\u001b[0m\n",
      "\u001b[01;31mfastq_dropseq/SRR1853182_1.fastq.gz\u001b[0m\n",
      "\u001b[01;31mfastq_dropseq/SRR1853182_2.fastq.gz\u001b[0m\n",
      "\u001b[01;31mfastq_dropseq/SRR1853183_1.fastq.gz\u001b[0m\n",
      "\u001b[01;31mfastq_dropseq/SRR1853183_2.fastq.gz\u001b[0m\n",
      "\u001b[01;31mfastq_dropseq/SRR1853184_1.fastq.gz\u001b[0m\n",
      "\u001b[01;31mfastq_dropseq/SRR1853184_2.fastq.gz\u001b[0m\n"
     ]
    }
   ],
   "source": [
    "ls -1 fastq_dropseq/*.fastq.gz"
   ]
  },
  {
   "cell_type": "code",
   "execution_count": 7,
   "id": "751808da",
   "metadata": {},
   "outputs": [
    {
     "name": "stdout",
     "output_type": "stream",
     "text": [
      "[1] 3584\n",
      "[2] 3585\n",
      "[3] 3586\n",
      "[4] 3587\n",
      "[5] 3588\n",
      "[6] 3589\n",
      "[7] 3598\n",
      "[8] 3599\n",
      "[9] 3600\n",
      "[10] 3601\n",
      "[11] 3602\n",
      "[12] 3603\n",
      "[13] 3604\n",
      "[14] 3605\n"
     ]
    }
   ],
   "source": [
    "seqtk sample -s 11 fastq_dropseq/SRR1853178_1.fastq.gz 348070800 > SRR1853178_1.SUB.fastq\n",
    "seqtk sample -s 11 fastq_dropseq/SRR1853178_2.fastq.gz 348070800 > SRR1853178_2.SUB.fastq\n",
    "seqtk sample -s 11 fastq_dropseq/SRR1853179_1.fastq.gz 474642000 > SRR1853179_1.SUB.fastq\n",
    "seqtk sample -s 11 fastq_dropseq/SRR1853179_2.fastq.gz 474642000 > SRR1853179_2.SUB.fastq\n",
    "seqtk sample -s 11 fastq_dropseq/SRR1853180_1.fastq.gz 322756560 > SRR1853180_1.SUB.fastq\n",
    "seqtk sample -s 11 fastq_dropseq/SRR1853180_2.fastq.gz 322756560 > SRR1853180_2.SUB.fastq\n",
    "seqtk sample -s 11 fastq_dropseq/SRR1853181_1.fastq.gz 403445700 > SRR1853181_1.SUB.fastq\n",
    "seqtk sample -s 11 fastq_dropseq/SRR1853181_2.fastq.gz 403445700 > SRR1853181_2.SUB.fastq\n",
    "seqtk sample -s 11 fastq_dropseq/SRR1853182_1.fastq.gz 403445700 > SRR1853182_1.SUB.fastq\n",
    "seqtk sample -s 11 fastq_dropseq/SRR1853182_2.fastq.gz 403445700 > SRR1853182_2.SUB.fastq\n",
    "seqtk sample -s 11 fastq_dropseq/SRR1853183_1.fastq.gz 436670640 > SRR1853183_1.SUB.fastq\n",
    "seqtk sample -s 11 fastq_dropseq/SRR1853183_2.fastq.gz 436670640 > SRR1853183_2.SUB.fastq\n",
    "seqtk sample -s 11 fastq_dropseq/SRR1853184_1.fastq.gz 210952000 > SRR1853184_1.SUB.fastq\n",
    "seqtk sample -s 11 fastq_dropseq/SRR1853184_2.fastq.gz 210952000 > SRR1853184_2.SUB.fastq"
   ]
  }
 ],
 "metadata": {
  "kernelspec": {
   "display_name": "Bash",
   "language": "bash",
   "name": "bash"
  },
  "language_info": {
   "codemirror_mode": "shell",
   "file_extension": ".sh",
   "mimetype": "text/x-sh",
   "name": "bash"
  }
 },
 "nbformat": 4,
 "nbformat_minor": 5
}
