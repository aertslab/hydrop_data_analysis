{
 "cells": [
  {
   "cell_type": "markdown",
   "metadata": {},
   "source": [
    "GEO to be updated "
   ]
  },
  {
   "cell_type": "code",
   "execution_count": 26,
   "metadata": {},
   "outputs": [],
   "source": [
    "import scanpy as sc\n",
    "import pandas as pd\n",
    "import os\n",
    "import matplotlib.pyplot as plt\n",
    "import seaborn as sns\n",
    "from matplotlib.pyplot import figure\n",
    "import numpy as np\n",
    "import glob"
   ]
  },
  {
   "cell_type": "code",
   "execution_count": 27,
   "metadata": {},
   "outputs": [],
   "source": [
    "sc.set_figure_params(scanpy=True, dpi=150, dpi_save=150, figsize = [7, 7], fontsize = 14, format = 'svg')"
   ]
  },
  {
   "cell_type": "code",
   "execution_count": 28,
   "metadata": {},
   "outputs": [],
   "source": [
    "from scipy.stats import gaussian_kde\n",
    "import matplotlib.pyplot as plt\n",
    "import numpy as np\n",
    "import seaborn as sns\n",
    "\n",
    "%matplotlib inline"
   ]
  },
  {
   "cell_type": "code",
   "execution_count": 29,
   "metadata": {},
   "outputs": [],
   "source": [
    "samples = sorted(glob.glob('*/*/filtered/'))"
   ]
  },
  {
   "cell_type": "code",
   "execution_count": 36,
   "metadata": {},
   "outputs": [],
   "source": [
    "legend = {\n",
    "    'HYR__3f9a39__20210904_by_6um.Solo.out/Gene/filtered/': '6_um',\n",
    "    'HYR__789b3f__20200723_by_50um.Solo.out/Gene/filtered/': '50_um',\n",
    "    'HYR__c21295__20210330_mcf-7_mmel_S5.Solo.out.filtered/Gene/filtered/': '12_um'\n",
    "}"
   ]
  },
  {
   "cell_type": "code",
   "execution_count": 37,
   "metadata": {},
   "outputs": [],
   "source": [
    "top_n = 2500\n",
    "markersize = 10"
   ]
  },
  {
   "cell_type": "code",
   "execution_count": 38,
   "metadata": {},
   "outputs": [
    {
     "ename": "FileNotFoundError",
     "evalue": "[Errno 2] No such file or directory: 'HYR__3f9a39__20210904_by_6um.Solo.out/Gene/filtered/matrix.mtx'",
     "output_type": "error",
     "traceback": [
      "\u001b[0;31m---------------------------------------------------------------------------\u001b[0m",
      "\u001b[0;31mFileNotFoundError\u001b[0m                         Traceback (most recent call last)",
      "\u001b[0;32m<ipython-input-38-b298d328baa2>\u001b[0m in \u001b[0;36m<module>\u001b[0;34m\u001b[0m\n\u001b[1;32m      3\u001b[0m     \u001b[0mfeatures\u001b[0m \u001b[0;34m=\u001b[0m \u001b[0msample\u001b[0m \u001b[0;34m+\u001b[0m \u001b[0;34m'features.tsv'\u001b[0m\u001b[0;34m\u001b[0m\u001b[0;34m\u001b[0m\u001b[0m\n\u001b[1;32m      4\u001b[0m     \u001b[0mbarcodes\u001b[0m \u001b[0;34m=\u001b[0m \u001b[0msample\u001b[0m \u001b[0;34m+\u001b[0m \u001b[0;34m'barcodes.tsv'\u001b[0m\u001b[0;34m\u001b[0m\u001b[0;34m\u001b[0m\u001b[0m\n\u001b[0;32m----> 5\u001b[0;31m     \u001b[0mdata\u001b[0m \u001b[0;34m=\u001b[0m \u001b[0msc\u001b[0m\u001b[0;34m.\u001b[0m\u001b[0mread_mtx\u001b[0m\u001b[0;34m(\u001b[0m\u001b[0mmtx\u001b[0m\u001b[0;34m)\u001b[0m\u001b[0;34m\u001b[0m\u001b[0;34m\u001b[0m\u001b[0m\n\u001b[0m\u001b[1;32m      6\u001b[0m     \u001b[0mdata\u001b[0m \u001b[0;34m=\u001b[0m \u001b[0mdata\u001b[0m\u001b[0;34m.\u001b[0m\u001b[0mT\u001b[0m\u001b[0;34m\u001b[0m\u001b[0;34m\u001b[0m\u001b[0m\n\u001b[1;32m      7\u001b[0m     \u001b[0mfeatures\u001b[0m \u001b[0;34m=\u001b[0m \u001b[0mpd\u001b[0m\u001b[0;34m.\u001b[0m\u001b[0mread_csv\u001b[0m\u001b[0;34m(\u001b[0m\u001b[0mfeatures\u001b[0m\u001b[0;34m,\u001b[0m \u001b[0mheader\u001b[0m\u001b[0;34m=\u001b[0m\u001b[0;32mNone\u001b[0m\u001b[0;34m,\u001b[0m \u001b[0msep\u001b[0m\u001b[0;34m=\u001b[0m\u001b[0;34m'\\t'\u001b[0m\u001b[0;34m)\u001b[0m\u001b[0;34m\u001b[0m\u001b[0;34m\u001b[0m\u001b[0m\n",
      "\u001b[0;32m~/.local/lib/python3.7/site-packages/anndata/_io/read.py\u001b[0m in \u001b[0;36mread_mtx\u001b[0;34m(filename, dtype)\u001b[0m\n\u001b[1;32m    280\u001b[0m \u001b[0;34m\u001b[0m\u001b[0m\n\u001b[1;32m    281\u001b[0m     \u001b[0;31m# could be rewritten accounting for dtype to be more performant\u001b[0m\u001b[0;34m\u001b[0m\u001b[0;34m\u001b[0m\u001b[0;34m\u001b[0m\u001b[0m\n\u001b[0;32m--> 282\u001b[0;31m     \u001b[0mX\u001b[0m \u001b[0;34m=\u001b[0m \u001b[0mmmread\u001b[0m\u001b[0;34m(\u001b[0m\u001b[0mfspath\u001b[0m\u001b[0;34m(\u001b[0m\u001b[0mfilename\u001b[0m\u001b[0;34m)\u001b[0m\u001b[0;34m)\u001b[0m\u001b[0;34m.\u001b[0m\u001b[0mastype\u001b[0m\u001b[0;34m(\u001b[0m\u001b[0mdtype\u001b[0m\u001b[0;34m)\u001b[0m\u001b[0;34m\u001b[0m\u001b[0;34m\u001b[0m\u001b[0m\n\u001b[0m\u001b[1;32m    283\u001b[0m     \u001b[0;32mfrom\u001b[0m \u001b[0mscipy\u001b[0m\u001b[0;34m.\u001b[0m\u001b[0msparse\u001b[0m \u001b[0;32mimport\u001b[0m \u001b[0mcsr_matrix\u001b[0m\u001b[0;34m\u001b[0m\u001b[0;34m\u001b[0m\u001b[0m\n\u001b[1;32m    284\u001b[0m \u001b[0;34m\u001b[0m\u001b[0m\n",
      "\u001b[0;32m/staging/leuven/stg_00002/lcb/fderop/software_2/anaconda3/lib/python3.7/site-packages/scipy/io/mmio.py\u001b[0m in \u001b[0;36mmmread\u001b[0;34m(source)\u001b[0m\n\u001b[1;32m     70\u001b[0m         \u001b[0mMatrix\u001b[0m \u001b[0mMarket\u001b[0m \u001b[0mfile\u001b[0m\u001b[0;34m.\u001b[0m\u001b[0;34m\u001b[0m\u001b[0;34m\u001b[0m\u001b[0m\n\u001b[1;32m     71\u001b[0m     \"\"\"\n\u001b[0;32m---> 72\u001b[0;31m     \u001b[0;32mreturn\u001b[0m \u001b[0mMMFile\u001b[0m\u001b[0;34m(\u001b[0m\u001b[0;34m)\u001b[0m\u001b[0;34m.\u001b[0m\u001b[0mread\u001b[0m\u001b[0;34m(\u001b[0m\u001b[0msource\u001b[0m\u001b[0;34m)\u001b[0m\u001b[0;34m\u001b[0m\u001b[0;34m\u001b[0m\u001b[0m\n\u001b[0m\u001b[1;32m     73\u001b[0m \u001b[0;34m\u001b[0m\u001b[0m\n\u001b[1;32m     74\u001b[0m \u001b[0;31m# -----------------------------------------------------------------------------\u001b[0m\u001b[0;34m\u001b[0m\u001b[0;34m\u001b[0m\u001b[0;34m\u001b[0m\u001b[0m\n",
      "\u001b[0;32m/staging/leuven/stg_00002/lcb/fderop/software_2/anaconda3/lib/python3.7/site-packages/scipy/io/mmio.py\u001b[0m in \u001b[0;36mread\u001b[0;34m(self, source)\u001b[0m\n\u001b[1;32m    420\u001b[0m             \u001b[0mMatrix\u001b[0m \u001b[0mMarket\u001b[0m \u001b[0mfile\u001b[0m\u001b[0;34m.\u001b[0m\u001b[0;34m\u001b[0m\u001b[0;34m\u001b[0m\u001b[0m\n\u001b[1;32m    421\u001b[0m         \"\"\"\n\u001b[0;32m--> 422\u001b[0;31m         \u001b[0mstream\u001b[0m\u001b[0;34m,\u001b[0m \u001b[0mclose_it\u001b[0m \u001b[0;34m=\u001b[0m \u001b[0mself\u001b[0m\u001b[0;34m.\u001b[0m\u001b[0m_open\u001b[0m\u001b[0;34m(\u001b[0m\u001b[0msource\u001b[0m\u001b[0;34m)\u001b[0m\u001b[0;34m\u001b[0m\u001b[0;34m\u001b[0m\u001b[0m\n\u001b[0m\u001b[1;32m    423\u001b[0m \u001b[0;34m\u001b[0m\u001b[0m\n\u001b[1;32m    424\u001b[0m         \u001b[0;32mtry\u001b[0m\u001b[0;34m:\u001b[0m\u001b[0;34m\u001b[0m\u001b[0;34m\u001b[0m\u001b[0m\n",
      "\u001b[0;32m/staging/leuven/stg_00002/lcb/fderop/software_2/anaconda3/lib/python3.7/site-packages/scipy/io/mmio.py\u001b[0m in \u001b[0;36m_open\u001b[0;34m(filespec, mode)\u001b[0m\n\u001b[1;32m    322\u001b[0m                 \u001b[0mstream\u001b[0m \u001b[0;34m=\u001b[0m \u001b[0mbz2\u001b[0m\u001b[0;34m.\u001b[0m\u001b[0mBZ2File\u001b[0m\u001b[0;34m(\u001b[0m\u001b[0mfilespec\u001b[0m\u001b[0;34m,\u001b[0m \u001b[0;34m'rb'\u001b[0m\u001b[0;34m)\u001b[0m\u001b[0;34m\u001b[0m\u001b[0;34m\u001b[0m\u001b[0m\n\u001b[1;32m    323\u001b[0m             \u001b[0;32melse\u001b[0m\u001b[0;34m:\u001b[0m\u001b[0;34m\u001b[0m\u001b[0;34m\u001b[0m\u001b[0m\n\u001b[0;32m--> 324\u001b[0;31m                 \u001b[0mstream\u001b[0m \u001b[0;34m=\u001b[0m \u001b[0mopen\u001b[0m\u001b[0;34m(\u001b[0m\u001b[0mfilespec\u001b[0m\u001b[0;34m,\u001b[0m \u001b[0mmode\u001b[0m\u001b[0;34m)\u001b[0m\u001b[0;34m\u001b[0m\u001b[0;34m\u001b[0m\u001b[0m\n\u001b[0m\u001b[1;32m    325\u001b[0m \u001b[0;34m\u001b[0m\u001b[0m\n\u001b[1;32m    326\u001b[0m         \u001b[0;31m# open for writing\u001b[0m\u001b[0;34m\u001b[0m\u001b[0;34m\u001b[0m\u001b[0;34m\u001b[0m\u001b[0m\n",
      "\u001b[0;31mFileNotFoundError\u001b[0m: [Errno 2] No such file or directory: 'HYR__3f9a39__20210904_by_6um.Solo.out/Gene/filtered/matrix.mtx'"
     ]
    }
   ],
   "source": [
    "for sample in samples:\n",
    "    mtx = sample + 'matrix.mtx'\n",
    "    features = sample + 'features.tsv'\n",
    "    barcodes = sample + 'barcodes.tsv'\n",
    "    data = sc.read_mtx(mtx)\n",
    "    data = data.T\n",
    "    features = pd.read_csv(features, header=None, sep='\\t')\n",
    "    barcodes = pd.read_csv(barcodes, header=None)\n",
    "    data.var_names = features[0]\n",
    "    data.obs_names = barcodes[0]\n",
    "\n",
    "    adata = data\n",
    "    adata.var_names_make_unique()\n",
    "\n",
    "    ## then, generate barnyard plots, but now from matrix\n",
    "    # get variables list from adata\n",
    "    adata_vars = list(adata.var.index.values)\n",
    "    adata_obs = list(adata.obs.index.values)\n",
    "\n",
    "    # list gene names from each genome\n",
    "    adata_vars_GRCh38 = [x for x in adata_vars if x.startswith('ENSG') or x.startswith('GRCh38')]\n",
    "    adata_vars_mm10 = [x for x in adata_vars if x.startswith('ENSMUS') or x.startswith('mm10')]\n",
    "\n",
    "    # then, select from adata the values corresponding to each gene\n",
    "    adata_GRCh38 = adata[:, adata_vars_GRCh38]\n",
    "    adata_mm10 = adata[:, adata_vars_mm10]\n",
    "\n",
    "    # then, colsum in order to collapse counts for each genome\n",
    "    adata_GRCh38_colsum = adata_GRCh38.X.sum(axis=1)\n",
    "    adata_mm10_colsum = adata_mm10.X.sum(axis=1)\n",
    "\n",
    "    # convert to df\n",
    "    df_adata_GRCh38_colsum = pd.DataFrame(adata_GRCh38_colsum, index = adata_obs, columns = ['GRCh38'])\n",
    "    df_adata_mm10_colsum = pd.DataFrame(adata_mm10_colsum, index = adata_obs, columns = ['mm10'])\n",
    "\n",
    "    # merge\n",
    "    df_adata_colsum = pd.concat([df_adata_GRCh38_colsum, df_adata_mm10_colsum], axis=1, sort=False)\n",
    "\n",
    "    # add rowsum\n",
    "    df_adata_colsum['sum'] = df_adata_colsum.sum(axis=1)\n",
    "\n",
    "    # now sort on rowsum\n",
    "    df_adata_colsum_sorted = df_adata_colsum.sort_values(by = 'sum', axis = 0, ascending = False)\n",
    "\n",
    "    sns.set_style('darkgrid')\n",
    "    sns.set_context('talk')\n",
    "    ddmarkersize=25\n",
    "    nbins = 10\n",
    "    # now replace zeros by 1s for the log scale\n",
    "    df_adata_colsum_nozeros = df_adata_colsum_sorted.mask(df_adata_colsum_sorted == 0, 1)\n",
    "    df_adata_colsum_nozeros_sorted = df_adata_colsum_nozeros.sort_values(by = 'sum', axis = 0, ascending = False)\n",
    "\n",
    "    ## now plot the barnyard for the top n cells \n",
    "    df_adata_colsum_nozeros_sorted_top_n = df_adata_colsum_nozeros_sorted\n",
    "\n",
    "    x = df_adata_colsum_nozeros_sorted_top_n['GRCh38']\n",
    "    y = df_adata_colsum_nozeros_sorted_top_n['mm10']\n",
    "\n",
    "    xy = np.vstack([np.log10(x),y])\n",
    "    z = gaussian_kde(xy)(xy)\n",
    "    bins = np.linspace(z.min(), z.max(), nbins)\n",
    "    digitized = np.digitize(z, bins)\n",
    "    bin_means = [z[digitized == i].mean() for i in range(1, len(bins))]\n",
    "    digitized_rescaled = np.interp(digitized, (digitized.min(), digitized.max()), (z.min(), z.max()))\n",
    "\n",
    "    ax = sns.scatterplot(x = 'GRCh38', y = 'mm10', data = df_adata_colsum_nozeros_sorted_top_n, hue = digitized_rescaled, palette='viridis', edgecolor=None, s=markersize)\n",
    "\n",
    "    # sns.kdeplot(x = x, y = y, shade=False, log_scale=True, levels=5, cbar=False, bw_method=0.1, ax=axes[1])\n",
    "    ax.set_title(legend[sample])\n",
    "    scalemax = max([max(x), max(y)])\n",
    "    scalemin = -0.05*max([max(x), max(y)])\n",
    "    ax.set_xlim([scalemin, scalemax])\n",
    "    ax.set_ylim([scalemin, scalemax])\n",
    "    ax.set(xscale='linear')\n",
    "    ax.set(yscale='linear')\n",
    "\n",
    "    ax.set_aspect('equal', adjustable='box')\n",
    "    ax.set_aspect(1./ax.get_data_ratio())\n",
    "\n",
    "    ax.set_xlabel('hg38 UMIs')\n",
    "    ax.set_ylabel('mm10 UMIs')\n",
    "\n",
    "    plt.savefig('plts_pub/barnyard_'+legend[sample]+'_'+str(markersize)+'.svg', dpi=150)\n",
    "    plt.show()\n",
    "    plt.close()\n",
    "    \n",
    "    \n",
    "    df_adata_colsum_nozeros_sorted_top_n['purity'] = df_adata_colsum_nozeros_sorted_top_n['GRCh38']/df_adata_colsum_nozeros_sorted_top_n['sum']\n",
    "    cells_pure = len(df_adata_colsum_nozeros_sorted_top_n[df_adata_colsum_nozeros_sorted_top_n['purity'] >= 0.95]) + len(df_adata_colsum_nozeros_sorted_top_n[df_adata_colsum_nozeros_sorted_top_n['purity'] <=0.05])\n",
    "    print(sample)\n",
    "    print(cells_pure/len(df_adata_colsum_nozeros_sorted_top_n))\n",
    "    print(df_adata_colsum_nozeros_sorted_top_n.median())"
   ]
  },
  {
   "cell_type": "code",
   "execution_count": 35,
   "metadata": {},
   "outputs": [
    {
     "ename": "FileNotFoundError",
     "evalue": "[Errno 2] No such file or directory: 'HYR__3f9a39__20210904_by_6um.Solo.out/Gene/filtered/matrix.mtx'",
     "output_type": "error",
     "traceback": [
      "\u001b[0;31m---------------------------------------------------------------------------\u001b[0m",
      "\u001b[0;31mFileNotFoundError\u001b[0m                         Traceback (most recent call last)",
      "\u001b[0;32m<ipython-input-35-12e4bbca5b46>\u001b[0m in \u001b[0;36m<module>\u001b[0;34m\u001b[0m\n\u001b[1;32m      3\u001b[0m     \u001b[0mfeatures\u001b[0m \u001b[0;34m=\u001b[0m \u001b[0msample\u001b[0m \u001b[0;34m+\u001b[0m \u001b[0;34m'features.tsv'\u001b[0m\u001b[0;34m\u001b[0m\u001b[0;34m\u001b[0m\u001b[0m\n\u001b[1;32m      4\u001b[0m     \u001b[0mbarcodes\u001b[0m \u001b[0;34m=\u001b[0m \u001b[0msample\u001b[0m \u001b[0;34m+\u001b[0m \u001b[0;34m'barcodes.tsv'\u001b[0m\u001b[0;34m\u001b[0m\u001b[0;34m\u001b[0m\u001b[0m\n\u001b[0;32m----> 5\u001b[0;31m     \u001b[0mdata\u001b[0m \u001b[0;34m=\u001b[0m \u001b[0msc\u001b[0m\u001b[0;34m.\u001b[0m\u001b[0mread_mtx\u001b[0m\u001b[0;34m(\u001b[0m\u001b[0mmtx\u001b[0m\u001b[0;34m)\u001b[0m\u001b[0;34m\u001b[0m\u001b[0;34m\u001b[0m\u001b[0m\n\u001b[0m\u001b[1;32m      6\u001b[0m     \u001b[0mdata\u001b[0m \u001b[0;34m=\u001b[0m \u001b[0mdata\u001b[0m\u001b[0;34m.\u001b[0m\u001b[0mT\u001b[0m\u001b[0;34m\u001b[0m\u001b[0;34m\u001b[0m\u001b[0m\n\u001b[1;32m      7\u001b[0m     \u001b[0mfeatures\u001b[0m \u001b[0;34m=\u001b[0m \u001b[0mpd\u001b[0m\u001b[0;34m.\u001b[0m\u001b[0mread_csv\u001b[0m\u001b[0;34m(\u001b[0m\u001b[0mfeatures\u001b[0m\u001b[0;34m,\u001b[0m \u001b[0mheader\u001b[0m\u001b[0;34m=\u001b[0m\u001b[0;32mNone\u001b[0m\u001b[0;34m,\u001b[0m \u001b[0msep\u001b[0m\u001b[0;34m=\u001b[0m\u001b[0;34m'\\t'\u001b[0m\u001b[0;34m)\u001b[0m\u001b[0;34m\u001b[0m\u001b[0;34m\u001b[0m\u001b[0m\n",
      "\u001b[0;32m~/.local/lib/python3.7/site-packages/anndata/_io/read.py\u001b[0m in \u001b[0;36mread_mtx\u001b[0;34m(filename, dtype)\u001b[0m\n\u001b[1;32m    280\u001b[0m \u001b[0;34m\u001b[0m\u001b[0m\n\u001b[1;32m    281\u001b[0m     \u001b[0;31m# could be rewritten accounting for dtype to be more performant\u001b[0m\u001b[0;34m\u001b[0m\u001b[0;34m\u001b[0m\u001b[0;34m\u001b[0m\u001b[0m\n\u001b[0;32m--> 282\u001b[0;31m     \u001b[0mX\u001b[0m \u001b[0;34m=\u001b[0m \u001b[0mmmread\u001b[0m\u001b[0;34m(\u001b[0m\u001b[0mfspath\u001b[0m\u001b[0;34m(\u001b[0m\u001b[0mfilename\u001b[0m\u001b[0;34m)\u001b[0m\u001b[0;34m)\u001b[0m\u001b[0;34m.\u001b[0m\u001b[0mastype\u001b[0m\u001b[0;34m(\u001b[0m\u001b[0mdtype\u001b[0m\u001b[0;34m)\u001b[0m\u001b[0;34m\u001b[0m\u001b[0;34m\u001b[0m\u001b[0m\n\u001b[0m\u001b[1;32m    283\u001b[0m     \u001b[0;32mfrom\u001b[0m \u001b[0mscipy\u001b[0m\u001b[0;34m.\u001b[0m\u001b[0msparse\u001b[0m \u001b[0;32mimport\u001b[0m \u001b[0mcsr_matrix\u001b[0m\u001b[0;34m\u001b[0m\u001b[0;34m\u001b[0m\u001b[0m\n\u001b[1;32m    284\u001b[0m \u001b[0;34m\u001b[0m\u001b[0m\n",
      "\u001b[0;32m/staging/leuven/stg_00002/lcb/fderop/software_2/anaconda3/lib/python3.7/site-packages/scipy/io/mmio.py\u001b[0m in \u001b[0;36mmmread\u001b[0;34m(source)\u001b[0m\n\u001b[1;32m     70\u001b[0m         \u001b[0mMatrix\u001b[0m \u001b[0mMarket\u001b[0m \u001b[0mfile\u001b[0m\u001b[0;34m.\u001b[0m\u001b[0;34m\u001b[0m\u001b[0;34m\u001b[0m\u001b[0m\n\u001b[1;32m     71\u001b[0m     \"\"\"\n\u001b[0;32m---> 72\u001b[0;31m     \u001b[0;32mreturn\u001b[0m \u001b[0mMMFile\u001b[0m\u001b[0;34m(\u001b[0m\u001b[0;34m)\u001b[0m\u001b[0;34m.\u001b[0m\u001b[0mread\u001b[0m\u001b[0;34m(\u001b[0m\u001b[0msource\u001b[0m\u001b[0;34m)\u001b[0m\u001b[0;34m\u001b[0m\u001b[0;34m\u001b[0m\u001b[0m\n\u001b[0m\u001b[1;32m     73\u001b[0m \u001b[0;34m\u001b[0m\u001b[0m\n\u001b[1;32m     74\u001b[0m \u001b[0;31m# -----------------------------------------------------------------------------\u001b[0m\u001b[0;34m\u001b[0m\u001b[0;34m\u001b[0m\u001b[0;34m\u001b[0m\u001b[0m\n",
      "\u001b[0;32m/staging/leuven/stg_00002/lcb/fderop/software_2/anaconda3/lib/python3.7/site-packages/scipy/io/mmio.py\u001b[0m in \u001b[0;36mread\u001b[0;34m(self, source)\u001b[0m\n\u001b[1;32m    420\u001b[0m             \u001b[0mMatrix\u001b[0m \u001b[0mMarket\u001b[0m \u001b[0mfile\u001b[0m\u001b[0;34m.\u001b[0m\u001b[0;34m\u001b[0m\u001b[0;34m\u001b[0m\u001b[0m\n\u001b[1;32m    421\u001b[0m         \"\"\"\n\u001b[0;32m--> 422\u001b[0;31m         \u001b[0mstream\u001b[0m\u001b[0;34m,\u001b[0m \u001b[0mclose_it\u001b[0m \u001b[0;34m=\u001b[0m \u001b[0mself\u001b[0m\u001b[0;34m.\u001b[0m\u001b[0m_open\u001b[0m\u001b[0;34m(\u001b[0m\u001b[0msource\u001b[0m\u001b[0;34m)\u001b[0m\u001b[0;34m\u001b[0m\u001b[0;34m\u001b[0m\u001b[0m\n\u001b[0m\u001b[1;32m    423\u001b[0m \u001b[0;34m\u001b[0m\u001b[0m\n\u001b[1;32m    424\u001b[0m         \u001b[0;32mtry\u001b[0m\u001b[0;34m:\u001b[0m\u001b[0;34m\u001b[0m\u001b[0;34m\u001b[0m\u001b[0m\n",
      "\u001b[0;32m/staging/leuven/stg_00002/lcb/fderop/software_2/anaconda3/lib/python3.7/site-packages/scipy/io/mmio.py\u001b[0m in \u001b[0;36m_open\u001b[0;34m(filespec, mode)\u001b[0m\n\u001b[1;32m    322\u001b[0m                 \u001b[0mstream\u001b[0m \u001b[0;34m=\u001b[0m \u001b[0mbz2\u001b[0m\u001b[0;34m.\u001b[0m\u001b[0mBZ2File\u001b[0m\u001b[0;34m(\u001b[0m\u001b[0mfilespec\u001b[0m\u001b[0;34m,\u001b[0m \u001b[0;34m'rb'\u001b[0m\u001b[0;34m)\u001b[0m\u001b[0;34m\u001b[0m\u001b[0;34m\u001b[0m\u001b[0m\n\u001b[1;32m    323\u001b[0m             \u001b[0;32melse\u001b[0m\u001b[0;34m:\u001b[0m\u001b[0;34m\u001b[0m\u001b[0;34m\u001b[0m\u001b[0m\n\u001b[0;32m--> 324\u001b[0;31m                 \u001b[0mstream\u001b[0m \u001b[0;34m=\u001b[0m \u001b[0mopen\u001b[0m\u001b[0;34m(\u001b[0m\u001b[0mfilespec\u001b[0m\u001b[0;34m,\u001b[0m \u001b[0mmode\u001b[0m\u001b[0;34m)\u001b[0m\u001b[0;34m\u001b[0m\u001b[0;34m\u001b[0m\u001b[0m\n\u001b[0m\u001b[1;32m    325\u001b[0m \u001b[0;34m\u001b[0m\u001b[0m\n\u001b[1;32m    326\u001b[0m         \u001b[0;31m# open for writing\u001b[0m\u001b[0;34m\u001b[0m\u001b[0;34m\u001b[0m\u001b[0;34m\u001b[0m\u001b[0m\n",
      "\u001b[0;31mFileNotFoundError\u001b[0m: [Errno 2] No such file or directory: 'HYR__3f9a39__20210904_by_6um.Solo.out/Gene/filtered/matrix.mtx'"
     ]
    }
   ],
   "source": [
    "for sample in samples:\n",
    "    mtx = sample + 'matrix.mtx'\n",
    "    features = sample + 'features.tsv'\n",
    "    barcodes = sample + 'barcodes.tsv'\n",
    "    data = sc.read_mtx(mtx)\n",
    "    data = data.T\n",
    "    features = pd.read_csv(features, header=None, sep='\\t')\n",
    "    barcodes = pd.read_csv(barcodes, header=None)\n",
    "    data.var_names = features[0]\n",
    "    data.obs_names = barcodes[0]\n",
    "\n",
    "    adata = data\n",
    "    adata.var_names_make_unique()\n",
    "\n",
    "    ## then, generate barnyard plots, but now from matrix\n",
    "    # get variables list from adata\n",
    "    adata_vars = list(adata.var.index.values)\n",
    "    adata_obs = list(adata.obs.index.values)\n",
    "\n",
    "    # list gene names from each genome\n",
    "    adata_vars_GRCh38 = [x for x in adata_vars if x.startswith('ENSG') or x.startswith('GRCh38')]\n",
    "    adata_vars_mm10 = [x for x in adata_vars if x.startswith('ENSMUS') or x.startswith('mm10')]\n",
    "\n",
    "    # then, select from adata the values corresponding to each gene\n",
    "    adata_GRCh38 = adata[:, adata_vars_GRCh38]\n",
    "    adata_mm10 = adata[:, adata_vars_mm10]\n",
    "\n",
    "    # then, colsum in order to collapse counts for each genome\n",
    "    adata_GRCh38_colsum = adata_GRCh38.X.sum(axis=1)\n",
    "    adata_mm10_colsum = adata_mm10.X.sum(axis=1)\n",
    "\n",
    "    # convert to df\n",
    "    df_adata_GRCh38_colsum = pd.DataFrame(adata_GRCh38_colsum, index = adata_obs, columns = ['GRCh38'])\n",
    "    df_adata_mm10_colsum = pd.DataFrame(adata_mm10_colsum, index = adata_obs, columns = ['mm10'])\n",
    "\n",
    "    # merge\n",
    "    df_adata_colsum = pd.concat([df_adata_GRCh38_colsum, df_adata_mm10_colsum], axis=1, sort=False)\n",
    "\n",
    "    # add rowsum\n",
    "    df_adata_colsum['sum'] = df_adata_colsum.sum(axis=1)\n",
    "\n",
    "    # now sort on rowsum\n",
    "    df_adata_colsum_sorted = df_adata_colsum.sort_values(by = 'sum', axis = 0, ascending = False)\n",
    "\n",
    "    sns.set_style('darkgrid')\n",
    "    sns.set_context('talk')\n",
    "    ddmarkersize=25\n",
    "    nbins = 10\n",
    "    # now replace zeros by 1s for the log scale\n",
    "    df_adata_colsum_nozeros = df_adata_colsum_sorted.mask(df_adata_colsum_sorted == 0, 1)\n",
    "    df_adata_colsum_nozeros_sorted = df_adata_colsum_nozeros.sort_values(by = 'sum', axis = 0, ascending = False)\n",
    "\n",
    "    ## now plot the barnyard for the top n cells \n",
    "    df_adata_colsum_nozeros_sorted_top_n = df_adata_colsum_nozeros_sorted\n",
    "\n",
    "    pd.to_csv(legend[sample] + '.tsv', df_adata_colsum_nozeros_sorted_top_n, sep='\\t', header=False, index=False)"
   ]
  },
  {
   "cell_type": "code",
   "execution_count": null,
   "metadata": {},
   "outputs": [],
   "source": []
  }
 ],
 "metadata": {
  "kernelspec": {
   "display_name": "Python 3",
   "language": "python",
   "name": "python3"
  },
  "language_info": {
   "codemirror_mode": {
    "name": "ipython",
    "version": 3
   },
   "file_extension": ".py",
   "mimetype": "text/x-python",
   "name": "python",
   "nbconvert_exporter": "python",
   "pygments_lexer": "ipython3",
   "version": "3.7.3"
  }
 },
 "nbformat": 4,
 "nbformat_minor": 4
}
