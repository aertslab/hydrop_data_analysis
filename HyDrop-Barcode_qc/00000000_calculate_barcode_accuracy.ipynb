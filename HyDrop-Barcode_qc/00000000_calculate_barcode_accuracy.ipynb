{
 "cells": [
  {
   "cell_type": "markdown",
   "id": "75101e89",
   "metadata": {},
   "source": [
    "I would like to qc all of the barcodes sequenced. qc meaning that I would like to see how many errors are being generated in the barcode. However, the counting script is computationally expensive. So, I downsample all the barcode reads so that I take 100k reads from each fastq."
   ]
  },
  {
   "cell_type": "code",
   "execution_count": 58,
   "id": "6875c4e2",
   "metadata": {},
   "outputs": [
    {
     "name": "stdout",
     "output_type": "stream",
     "text": [
      "\u001b[0m\u001b[01;36mHYA__combined__20210323_cortex_phu_dv_etssb_1-1_S1_R2.BCONLY.fastq.gz\u001b[0m\n",
      "\u001b[01;36mHYA__combined__20210323_cortex_phu_dv_etssb_1-2_S2_R2.BCONLY.fastq.gz\u001b[0m\n",
      "\u001b[01;36mHYA__combined__20210323_cortex_phu_dv_etssb_1-3_S3_R2.BCONLY.fastq.gz\u001b[0m\n",
      "\u001b[01;36mHYA__combined__20210323_cortex_phu_dv_etssb_1-4_S4_R2.BCONLY.fastq.gz\u001b[0m\n",
      "\u001b[01;36mHYA__combined__20210323_cortex_phu_dv_etssb_1-5_S5_R2.BCONLY.fastq.gz\u001b[0m\n",
      "\u001b[01;36mHYR__666332__20210412_mouse_cortex_sa_S1_R2_001.fastq.gz\u001b[0m\n",
      "\u001b[01;36mHYR__c47998__20210412_mouse_cortex_sb_S2_R2_001.fastq.gz\u001b[0m\n"
     ]
    }
   ],
   "source": [
    "ls fastq"
   ]
  },
  {
   "cell_type": "code",
   "execution_count": 14,
   "id": "9c35ee43",
   "metadata": {},
   "outputs": [],
   "source": [
    "module load mawk\n",
    "\n",
    "split_fastq (){\n",
    "    local input_fastq_filename=\"${1}\";\n",
    "    local output_fastq_split1_filename=\"${2}\";\n",
    "    local split1_start=1;\n",
    "    local split1_end=10;\n",
    "    local split2_start=21;\n",
    "    local split2_end=30;\n",
    "    local split3_start=41;\n",
    "    local split3_end=50;\n",
    "    zcat \"${input_fastq_filename}\" \\\n",
    "      | mawk \\\n",
    "            -v \"split1_start=${split1_start}\" \\\n",
    "            -v \"split1_end=${split1_end}\" \\\n",
    "            -v \"split2_start=${split2_start}\" \\\n",
    "            -v \"split2_end=${split2_end}\" \\\n",
    "            -v \"split3_start=${split3_start}\" \\\n",
    "            -v \"split3_end=${split3_end}\" \\\n",
    "            -v \"output_fastq_split1_filename=${output_fastq_split1_filename}\" \\\n",
    "            '\n",
    "            BEGIN {\n",
    "                split1_length = split1_end - split1_start + 1;\n",
    "                split2_length = split2_end - split2_start + 1;\n",
    "                split3_length = split3_end - split3_start + 1;\n",
    "            }\n",
    "            {\n",
    "                if (NR % 2 == 1) {\n",
    "                    # Read name or \"+\" line.\n",
    "                    print $0 > output_fastq_split1_filename\n",
    "                } else {\n",
    "                    # Sequence or quality line.\n",
    "                    print substr($0, split1_start, split1_length) substr($0, split2_start, split2_length) substr($0, split3_start, split3_length) > output_fastq_split1_filename;\n",
    "                }\n",
    "            }'\n",
    "}"
   ]
  },
  {
   "cell_type": "code",
   "execution_count": 15,
   "id": "a27350ca",
   "metadata": {},
   "outputs": [
    {
     "name": "stdout",
     "output_type": "stream",
     "text": [
      "fastq/HYR__666332__20210412_mouse_cortex_sa_S1_R2_001.BCONLY.fastq\n",
      "[1] 11062\n"
     ]
    }
   ],
   "source": [
    "fastq=fastq/HYR__666332__20210412_mouse_cortex_sa_S1_R2_001.fastq.gz\n",
    "newname=${fastq%.fastq.gz}.BCONLY.fastq\n",
    "echo $newname\n",
    "split_fastq $fastq $newname &"
   ]
  },
  {
   "cell_type": "code",
   "execution_count": 16,
   "id": "4d09f90f",
   "metadata": {},
   "outputs": [
    {
     "name": "stdout",
     "output_type": "stream",
     "text": [
      "[1]+  Running                 split_fastq $fastq $newname &\n"
     ]
    }
   ],
   "source": [
    "jobs"
   ]
  },
  {
   "cell_type": "code",
   "execution_count": 6,
   "id": "a910c5da",
   "metadata": {},
   "outputs": [
    {
     "name": "stdout",
     "output_type": "stream",
     "text": [
      "\u001b[0m\u001b[01;36mfastq/HYR__666332__20210412_mouse_cortex_sa_S1_R2_001.fastq.gz\u001b[0m\n"
     ]
    }
   ],
   "source": [
    "ls fastq/HYR__666332__20210412_mouse_cortex_sa_S1_R2_001.fastq.gz"
   ]
  },
  {
   "cell_type": "code",
   "execution_count": 67,
   "id": "1fe1bd34",
   "metadata": {},
   "outputs": [
    {
     "name": "stdout",
     "output_type": "stream",
     "text": [
      "\u001b[0m\u001b[01;36mfastq/HYA__combined__20210323_cortex_phu_dv_etssb_1-1_S1_R2.BCONLY.fastq.gz\u001b[0m\n",
      "\u001b[01;36mfastq/HYA__combined__20210323_cortex_phu_dv_etssb_1-2_S2_R2.BCONLY.fastq.gz\u001b[0m\n",
      "\u001b[01;36mfastq/HYA__combined__20210323_cortex_phu_dv_etssb_1-3_S3_R2.BCONLY.fastq.gz\u001b[0m\n",
      "\u001b[01;36mfastq/HYA__combined__20210323_cortex_phu_dv_etssb_1-4_S4_R2.BCONLY.fastq.gz\u001b[0m\n",
      "\u001b[01;36mfastq/HYA__combined__20210323_cortex_phu_dv_etssb_1-5_S5_R2.BCONLY.fastq.gz\u001b[0m\n",
      "fastq/HYR__666332__20210412_mouse_cortex_sa_S1_R2_001.BCONLY.fastq\n",
      "fastq/HYR__c47998__20210412_mouse_cortex_sb_S2_R2_001.BCONLY.fastq\n"
     ]
    }
   ],
   "source": [
    "ls fastq/*BCONLY*"
   ]
  },
  {
   "cell_type": "code",
   "execution_count": 2,
   "id": "2c163abe",
   "metadata": {},
   "outputs": [],
   "source": [
    "module load seqtk"
   ]
  },
  {
   "cell_type": "code",
   "execution_count": 19,
   "id": "0575ec2a",
   "metadata": {},
   "outputs": [
    {
     "name": "stdout",
     "output_type": "stream",
     "text": [
      "fastq/HYA__combined__20210323_cortex_phu_dv_etssb_1-1_S1_R2.BCONLY.SUB.fastq.gz\n",
      "fastq/HYA__combined__20210323_cortex_phu_dv_etssb_1-2_S2_R2.BCONLY.SUB.fastq.gz\n",
      "fastq/HYA__combined__20210323_cortex_phu_dv_etssb_1-3_S3_R2.BCONLY.SUB.fastq.gz\n",
      "fastq/HYA__combined__20210323_cortex_phu_dv_etssb_1-4_S4_R2.BCONLY.SUB.fastq.gz\n",
      "fastq/HYA__combined__20210323_cortex_phu_dv_etssb_1-5_S5_R2.BCONLY.SUB.fastq.gz\n",
      "fastq/HYR__666332__20210412_mouse_cortex_sa_S1_R2_001.BCONLY.SUB.fastq.gz\n",
      "fastq/HYR__c47998__20210412_mouse_cortex_sb_S2_R2_001.BCONLY.SUB.fastq.gz\n"
     ]
    }
   ],
   "source": [
    "for fastq in fastq/*BCONLY.fastq.gz\n",
    "do\n",
    "    #echo $fastq\n",
    "    newname=${fastq%.fastq.gz}.SUB.fastq\n",
    "    echo $newname\n",
    "    seqtk sample $fastq 100000 > $newname\n",
    "done"
   ]
  },
  {
   "cell_type": "markdown",
   "id": "b2b3716a",
   "metadata": {},
   "source": [
    "now, run the barcode correction script to get a distribution of errors in barcodes"
   ]
  },
  {
   "cell_type": "code",
   "execution_count": 20,
   "id": "6b732660",
   "metadata": {},
   "outputs": [
    {
     "name": "stdout",
     "output_type": "stream",
     "text": [
      "#!/bin/bash\n",
      "\n",
      "set -eo pipefail\n",
      "\n",
      "\n",
      "\n",
      "correct_barcode_in_fastq () {\n",
      "    local bc_whitelist_filename=\"${1}\";\n",
      "    local fastq_with_raw_bc_filename=\"${2}\";\n",
      "    local fastq_with_corrected_bc_filename=\"${3}\";\n",
      "    local max_mismatches=\"${4:-1}\";\n",
      "    local min_frac_bcs_to_find=\"${5:-0.5}\";\n",
      "\n",
      "    if [ ${#@} -lt 3 ] ; then\n",
      "        printf 'Usage: correct_barcode_in_fastq bc_whitelist_file fastq_with_raw_bc_file fastq_with_corrected_bc_file [max_mismatches] [min_frac_bcs_to_find]\\n';\n",
      "        return 1;\n",
      "    fi\n",
      "\n",
      "    if [ ! -e \"${bc_whitelist_filename}\" ] ; then\n",
      "        printf 'Error: Barcode whitelist file \"%s\" could not be found.\\n' \"${bc_whitelist_filename}\" >&2;\n",
      "        return 1;\n",
      "    fi\n",
      "\n",
      "    if [ ! -e \"${fastq_with_raw_bc_filename}\" ] ; then\n",
      "        printf 'Error: FASTQ file with raw barcodes \"%s\" could not be found.\\n' \"${fastq_with_raw_bc_filename}\" >&2;\n",
      "        return 1;\n",
      "    fi\n",
      "\n",
      "    local first_barcode='';\n",
      "\n",
      "    # Read first barcode from barcode whitelist file.\n",
      "    if [ \"${bc_whitelist_filename%.gz}\" == \"${bc_whitelist_filename}\" ] ; then\n",
      "        # Uncompressed file.\n",
      "        read -r first_barcode < \"${bc_whitelist_filename}\";\n",
      "    else\n",
      "        # Gzip compressed file.\n",
      "        first_barcode=$(zcat \"${bc_whitelist_filename}\" | head -n 1);\n",
      "    fi\n",
      "\n",
      "    # Get length of first barcode.\n",
      "    local -i bc_length=\"${#first_barcode}\";\n",
      "\n",
      "    # Check if the first barcode is not empty and only contains ACGT and no other characters.\n",
      "    if [[ ${bc_length} -eq 0 || \"${first_barcode}\" != \"${first_barcode//[^ACGT]/}\" ]] ; then\n",
      "        printf 'Error: The first line of \"%s\" does not contain a valid barcode.\\n' \"${bc_whitelist_filename}\";\n",
      "        return 1;\n",
      "    fi\n",
      "\n",
      "    # Get script dir.\n",
      "    local script_dir=\"$(cd $(dirname \"${BASH_SOURCE}\") && pwd)\";\n",
      "\n",
      "    # Correct barcodes in FASTQ file:\n",
      "    #   - Replace \"type K = Kmer[16]\" with the correct barcode length in the correct_barcode_in_fastq.seq script.\n",
      "    seqc run \\\n",
      "        -D bc_length=\"${bc_length}\" \\\n",
      "        -release \\\n",
      "        \"${script_dir}/correct_barcode_in_fastq.seq\" \\\n",
      "            \"${bc_whitelist_filename}\" \\\n",
      "            \"${fastq_with_raw_bc_filename}\" \\\n",
      "            \"/dev/stdout\" \\\n",
      "            \"${fastq_with_corrected_bc_filename}.corrected.bc_stats.tsv\" \\\n",
      "            \"${max_mismatches}\" \\\n",
      "            \"${min_frac_bcs_to_find}\" \\\n",
      "      | pigz -p 4 \\\n",
      "      > \"${fastq_with_corrected_bc_filename}\";\n",
      "}\n",
      "\n",
      "\n",
      "\n",
      "correct_barcode_in_fastq \"${@}\";\n"
     ]
    }
   ],
   "source": [
    "cat /staging/leuven/stg_00002/lcb/ghuls/software/single_cell_toolkit/correct_barcode_in_fastq.sh\n",
    "# this was written by Gert Hulselmans"
   ]
  },
  {
   "cell_type": "code",
   "execution_count": 22,
   "id": "18ac000b",
   "metadata": {},
   "outputs": [
    {
     "name": "stdout",
     "output_type": "stream",
     "text": [
      "\u001b[0m\u001b[01;31mfastq/HYA__combined__20210323_cortex_phu_dv_etssb_1-1_S1_R2.BCONLY.SUB.fastq.gz\u001b[0m\n",
      "\u001b[01;31mfastq/HYA__combined__20210323_cortex_phu_dv_etssb_1-2_S2_R2.BCONLY.SUB.fastq.gz\u001b[0m\n",
      "\u001b[01;31mfastq/HYA__combined__20210323_cortex_phu_dv_etssb_1-3_S3_R2.BCONLY.SUB.fastq.gz\u001b[0m\n",
      "\u001b[01;31mfastq/HYA__combined__20210323_cortex_phu_dv_etssb_1-4_S4_R2.BCONLY.SUB.fastq.gz\u001b[0m\n",
      "\u001b[01;31mfastq/HYA__combined__20210323_cortex_phu_dv_etssb_1-5_S5_R2.BCONLY.SUB.fastq.gz\u001b[0m\n",
      "\u001b[01;31mfastq/HYR__666332__20210412_mouse_cortex_sa_S1_R2_001.BCONLY.SUB.fastq.gz\u001b[0m\n",
      "\u001b[01;31mfastq/HYR__c47998__20210412_mouse_cortex_sb_S2_R2_001.BCONLY.SUB.fastq.gz\u001b[0m\n"
     ]
    }
   ],
   "source": [
    "ls fastq/*BCONLY.SUB.fastq.gz"
   ]
  },
  {
   "cell_type": "code",
   "execution_count": 33,
   "id": "22fff6a7",
   "metadata": {},
   "outputs": [],
   "source": [
    "module load pigz\n",
    "export PATH=$PATH:/staging/leuven/stg_00002/lcb/ghuls/software/seq/bin/"
   ]
  },
  {
   "cell_type": "code",
   "execution_count": 35,
   "id": "3d37c2c3",
   "metadata": {},
   "outputs": [
    {
     "name": "stdout",
     "output_type": "stream",
     "text": [
      "fastq/HYA__combined__20210323_cortex_phu_dv_etssb_1-1_S1_R2.BCONLY.SUB.fastq.gz\n",
      "[1] 3269\n",
      "fastq/HYA__combined__20210323_cortex_phu_dv_etssb_1-2_S2_R2.BCONLY.SUB.fastq.gz\n",
      "[2] 3270\n",
      "fastq/HYA__combined__20210323_cortex_phu_dv_etssb_1-3_S3_R2.BCONLY.SUB.fastq.gz\n",
      "[3] 3271\n",
      "fastq/HYA__combined__20210323_cortex_phu_dv_etssb_1-4_S4_R2.BCONLY.SUB.fastq.gz\n",
      "[4] 3272\n",
      "fastq/HYA__combined__20210323_cortex_phu_dv_etssb_1-5_S5_R2.BCONLY.SUB.fastq.gz\n",
      "[5] 3273\n",
      "fastq/HYR__666332__20210412_mouse_cortex_sa_S1_R2_001.BCONLY.SUB.fastq.gz\n",
      "[6] 3274\n",
      "fastq/HYR__c47998__20210412_mouse_cortex_sb_S2_R2_001.BCONLY.SUB.fastq.gz\n",
      "[7] 3276\n"
     ]
    }
   ],
   "source": [
    "bc_whitelist_file=/lustre1/project/stg_00002/lcb/fderop/data/20220125_hydrop_data_analysis/resources/full_barcodes_no_underscore_REVCOMP.txt\n",
    "max_mismatches=3\n",
    "min_frac_bcs_to_find=0.1\n",
    "\n",
    "for fastq_with_raw_bc_file in fastq/*BCONLY.SUB.fastq.gz\n",
    "do\n",
    "    echo $fastq_with_raw_bc_file\n",
    "    fastq_with_corrected_bc_file=${fastq_with_raw_bc_file%.fastq.gz}.CORR.fastq.gz\n",
    "    /staging/leuven/stg_00002/lcb/ghuls/software/single_cell_toolkit/correct_barcode_in_fastq.sh $bc_whitelist_file $fastq_with_raw_bc_file $fastq_with_corrected_bc_file $max_mismatches $min_frac_bcs_to_find &\n",
    "done"
   ]
  },
  {
   "cell_type": "code",
   "execution_count": 40,
   "id": "a2b36ce8",
   "metadata": {},
   "outputs": [
    {
     "name": "stdout",
     "output_type": "stream",
     "text": [
      "[6]-  Running                 /staging/leuven/stg_00002/lcb/ghuls/software/single_cell_toolkit/correct_barcode_in_fastq.sh $bc_whitelist_file $fastq_with_raw_bc_file $fastq_with_corrected_bc_file $max_mismatches $min_frac_bcs_to_find &\n",
      "[7]+  Running                 /staging/leuven/stg_00002/lcb/ghuls/software/single_cell_toolkit/correct_barcode_in_fastq.sh $bc_whitelist_file $fastq_with_raw_bc_file $fastq_with_corrected_bc_file $max_mismatches $min_frac_bcs_to_find &\n"
     ]
    }
   ],
   "source": [
    "jobs"
   ]
  },
  {
   "cell_type": "markdown",
   "id": "ff2b5da2",
   "metadata": {},
   "source": [
    "at higher hamming distances, barcode collisions will start to occur."
   ]
  },
  {
   "cell_type": "code",
   "execution_count": 49,
   "id": "f6146412",
   "metadata": {},
   "outputs": [],
   "source": [
    "module load pigz/2.6-GCCcore-6.4.0"
   ]
  },
  {
   "cell_type": "code",
   "execution_count": 51,
   "id": "d52ffe72",
   "metadata": {},
   "outputs": [
    {
     "name": "stdout",
     "output_type": "stream",
     "text": [
      "[1] 15414\n"
     ]
    }
   ],
   "source": [
    "/staging/leuven/stg_00002/lcb/ghuls/software/single_cell_toolkit/correct_barcode_in_fastq.sh $bc_whitelist_file $fastq_with_raw_bc_file $fastq_with_corrected_bc_file $max_mismatches $min_frac_bcs_to_find &"
   ]
  }
 ],
 "metadata": {
  "kernelspec": {
   "display_name": "Bash",
   "language": "bash",
   "name": "bash"
  },
  "language_info": {
   "codemirror_mode": "shell",
   "file_extension": ".sh",
   "mimetype": "text/x-sh",
   "name": "bash"
  }
 },
 "nbformat": 4,
 "nbformat_minor": 5
}
