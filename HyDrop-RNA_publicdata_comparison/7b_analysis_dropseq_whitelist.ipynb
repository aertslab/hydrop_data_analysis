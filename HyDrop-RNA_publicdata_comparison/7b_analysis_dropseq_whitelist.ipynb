{
 "cells": [
  {
   "cell_type": "markdown",
   "id": "feb70d7a",
   "metadata": {
    "papermill": {
     "duration": 0.00092,
     "end_time": "2022-02-01T18:22:49.893789",
     "exception": false,
     "start_time": "2022-02-01T18:22:49.892869",
     "status": "completed"
    },
    "tags": []
   },
   "source": [
    "Most of the steps below have been copied from the scanpy tutorial: https://scanpy-tutorials.readthedocs.io/en/latest/pbmc3k.html"
   ]
  },
  {
   "cell_type": "code",
   "execution_count": 1,
   "id": "e25e1159",
   "metadata": {
    "papermill": {
     "duration": 37.198864,
     "end_time": "2022-02-01T18:23:27.093168",
     "exception": false,
     "start_time": "2022-02-01T18:22:49.894304",
     "status": "completed"
    },
    "tags": []
   },
   "outputs": [],
   "source": [
    "import numpy as np\n",
    "import pandas as pd\n",
    "import scanpy as sc\n",
    "import os"
   ]
  },
  {
   "cell_type": "code",
   "execution_count": 2,
   "id": "7f2da585",
   "metadata": {
    "papermill": {
     "duration": 15.648086,
     "end_time": "2022-02-01T18:23:42.741620",
     "exception": false,
     "start_time": "2022-02-01T18:23:27.093534",
     "status": "completed"
    },
    "tags": []
   },
   "outputs": [
    {
     "name": "stdout",
     "output_type": "stream",
     "text": [
      "scanpy==1.8.1 anndata==0.7.5 umap==0.5.1 numpy==1.20.2 scipy==1.6.2 pandas==1.3.3 scikit-learn==0.24.1 statsmodels==0.12.2 python-igraph==0.9.0 leidenalg==0.8.3 pynndescent==0.5.2\n"
     ]
    }
   ],
   "source": [
    "sc.settings.verbosity = 3  # verbosity: errors (0), warnings (1), info (2), hints (3)\n",
    "sc.logging.print_header()\n",
    "sc.settings.set_figure_params(dpi=150, facecolor=\"white\", vector_friendly=False)"
   ]
  },
  {
   "cell_type": "markdown",
   "id": "52cf1572",
   "metadata": {
    "papermill": {
     "duration": 9.2e-05,
     "end_time": "2022-02-01T18:23:42.741858",
     "exception": false,
     "start_time": "2022-02-01T18:23:42.741766",
     "status": "completed"
    },
    "tags": []
   },
   "source": [
    "Make sure that the packages that you have match the ones below IF you want to verify our results and obtain exactly the same results as described below. If you want to simply analyse your own dataset, then most likely later versions will also be fine."
   ]
  },
  {
   "cell_type": "code",
   "execution_count": null,
   "id": "40111c35",
   "metadata": {
    "papermill": {
     "duration": 5.889459,
     "end_time": "2022-02-01T18:23:48.631445",
     "exception": false,
     "start_time": "2022-02-01T18:23:42.741986",
     "status": "completed"
    },
    "tags": []
   },
   "outputs": [],
   "source": [
    "pip list"
   ]
  },
  {
   "cell_type": "markdown",
   "id": "c62673d3",
   "metadata": {
    "papermill": {
     "duration": 0.000117,
     "end_time": "2022-02-01T18:23:48.631897",
     "exception": false,
     "start_time": "2022-02-01T18:23:48.631780",
     "status": "completed"
    },
    "tags": []
   },
   "source": [
    "# drop-seq"
   ]
  },
  {
   "cell_type": "code",
   "execution_count": null,
   "id": "2bd4f5eb",
   "metadata": {
    "papermill": {
     "duration": 0.005167,
     "end_time": "2022-02-01T18:23:48.637151",
     "exception": false,
     "start_time": "2022-02-01T18:23:48.631984",
     "status": "completed"
    },
    "tags": []
   },
   "outputs": [],
   "source": [
    "import glob"
   ]
  },
  {
   "cell_type": "code",
   "execution_count": null,
   "id": "6c4ea56b",
   "metadata": {
    "papermill": {
     "duration": 0.01237,
     "end_time": "2022-02-01T18:23:48.649622",
     "exception": false,
     "start_time": "2022-02-01T18:23:48.637252",
     "status": "completed"
    },
    "tags": []
   },
   "outputs": [],
   "source": [
    "mtx_dirs = sorted(glob.glob('demultiplexed_dropseq_sub_whitelist/*Solo.out/Gene/raw/'))\n",
    "mtx_dirs"
   ]
  },
  {
   "cell_type": "code",
   "execution_count": null,
   "id": "b64093a5",
   "metadata": {
    "papermill": {
     "duration": 0.008332,
     "end_time": "2022-02-01T18:23:48.658052",
     "exception": false,
     "start_time": "2022-02-01T18:23:48.649720",
     "status": "completed"
    },
    "tags": []
   },
   "outputs": [],
   "source": [
    "ncells_dict = {\n",
    "    'SRR1853178': 6600,\n",
    "    'SRR1853179': 9000,\n",
    "    'SRR1853180': 6120,\n",
    "    'SRR1853181': 7650,\n",
    "    'SRR1853182': 7650,\n",
    "    'SRR1853183': 8280,\n",
    "    'SRR1853184': 4000,\n",
    "}\n"
   ]
  },
  {
   "cell_type": "markdown",
   "id": "7291996a",
   "metadata": {
    "tags": [
     "papermill-error-cell-tag"
    ]
   },
   "source": [
    "<span id=\"papermill-error-cell\" style=\"color:red; font-family:Helvetica Neue, Helvetica, Arial, sans-serif; font-size:2em;\">Execution using papermill encountered an exception here and stopped:</span>"
   ]
  },
  {
   "cell_type": "code",
   "execution_count": null,
   "id": "4b13de7a",
   "metadata": {
    "papermill": {
     "duration": 34.212622,
     "end_time": "2022-02-01T18:24:22.870772",
     "exception": true,
     "start_time": "2022-02-01T18:23:48.658150",
     "status": "failed"
    },
    "tags": []
   },
   "outputs": [],
   "source": [
    "for mtx_dir in mtx_dirs:\n",
    "    sample=mtx_dir.replace('demultiplexed_dropseq_sub_whitelist/', '')\n",
    "    sample=sample.replace('.Solo.out/Gene/raw/', '')\n",
    "    adata = sc.read_10x_mtx(\n",
    "        mtx_dir,  # the directory with the `.mtx` file\n",
    "        var_names=\"gene_symbols\",  # use gene symbols for the variable names (variables-axis index)\n",
    "        cache=True,\n",
    "        )  # write a cache file for faster subsequent reading\n",
    "    adata.obs_names = sample + '_' + adata.obs_names\n",
    "    adata.var_names_make_unique()\n",
    "    sc.pp.calculate_qc_metrics(adata, inplace=True)\n",
    "    adata.obs.sort_values(by='n_genes_by_counts', ascending=False, inplace=True)\n",
    "    ncells = ncells_dict[sample]\n",
    "    adata = adata[0:ncells-1]\n",
    "    filename = 'tables/dropseq_whitelisted_' + sample + '_adata.tsv'\n",
    "    if not os.path.exists(filename):\n",
    "        adata.obs.to_csv(filename, sep='\\t', header=True)"
   ]
  },
  {
   "cell_type": "markdown",
   "id": "89e93f67",
   "metadata": {
    "papermill": {
     "duration": null,
     "end_time": null,
     "exception": null,
     "start_time": null,
     "status": "pending"
    },
    "tags": []
   },
   "source": [
    "Merge into one nice dataframe:"
   ]
  },
  {
   "cell_type": "code",
   "execution_count": null,
   "id": "94abeaf3",
   "metadata": {
    "papermill": {
     "duration": null,
     "end_time": null,
     "exception": null,
     "start_time": null,
     "status": "pending"
    },
    "tags": []
   },
   "outputs": [],
   "source": [
    "df_merged = pd.DataFrame()\n",
    "for file in glob.glob('tables/dropseq_whitelisted_SRR18531*_adata.tsv'):\n",
    "    df = pd.read_csv(file, sep='\\t', index_col=0)\n",
    "    df_merged = df_merged.append(df)"
   ]
  },
  {
   "cell_type": "code",
   "execution_count": null,
   "id": "f1bb9819",
   "metadata": {
    "papermill": {
     "duration": null,
     "end_time": null,
     "exception": null,
     "start_time": null,
     "status": "pending"
    },
    "tags": []
   },
   "outputs": [],
   "source": [
    "df_merged"
   ]
  },
  {
   "cell_type": "code",
   "execution_count": null,
   "id": "9d3a72bd",
   "metadata": {
    "papermill": {
     "duration": null,
     "end_time": null,
     "exception": null,
     "start_time": null,
     "status": "pending"
    },
    "tags": []
   },
   "outputs": [],
   "source": [
    "df_merged.median()"
   ]
  }
 ],
 "metadata": {
  "kernelspec": {
   "display_name": "Python 3",
   "language": "python",
   "name": "python3"
  },
  "language_info": {
   "codemirror_mode": {
    "name": "ipython",
    "version": 3
   },
   "file_extension": ".py",
   "mimetype": "text/x-python",
   "name": "python",
   "nbconvert_exporter": "python",
   "pygments_lexer": "ipython3",
   "version": "3.7.7"
  },
  "papermill": {
   "default_parameters": {},
   "duration": 98.339805,
   "end_time": "2022-02-01T18:24:25.635409",
   "environment_variables": {},
   "exception": true,
   "input_path": "7b_analysis_dropseq_whitelist.ipynb",
   "output_path": "-",
   "parameters": {},
   "start_time": "2022-02-01T18:22:47.295604",
   "version": "2.3.3"
  }
 },
 "nbformat": 4,
 "nbformat_minor": 5
}
