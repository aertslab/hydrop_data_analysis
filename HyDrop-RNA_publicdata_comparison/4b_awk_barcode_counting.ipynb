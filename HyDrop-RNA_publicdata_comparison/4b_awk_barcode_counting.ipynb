{
 "cells": [
  {
   "cell_type": "markdown",
   "metadata": {},
   "source": [
    "count barcodes from fastq"
   ]
  },
  {
   "cell_type": "code",
   "execution_count": 3,
   "metadata": {},
   "outputs": [],
   "source": [
    "bc_count_raw () {\n",
    "    local fastq_R2_path=\"${1}\";\n",
    "    local fastq_R2_name=\"${fastq_R2_path#fastq_indrop/}\";\n",
    "    module load mawk;\n",
    "    zcat ${fastq_R2_path} \\\n",
    "      | mawk -F '\\t' \\\n",
    "        '\n",
    "        {\n",
    "            if (NR % 4 == 2) {\n",
    "                full_barcode[substr($1, 1, 8)]++;\n",
    "            }\n",
    "        } END {\n",
    "            for (bc in full_barcode) {\n",
    "                print bc \"\\t\" full_barcode[bc] > \"bc_count_raw/bc_raw.tsv\";\n",
    "            }\n",
    "        }'\n",
    "\n",
    "\n",
    "sort -k 2,2nr bc_count_raw/bc_raw.tsv > bc_count_raw/bc_raw.sorted.tsv;\n",
    "mv bc_count_raw/bc_raw.sorted.tsv bc_count_raw/${fastq_R2_name%.fastq.gz}.bccount.tsv;\n",
    "rm bc_count_raw/bc_raw.tsv;\n",
    "}"
   ]
  },
  {
   "cell_type": "code",
   "execution_count": 4,
   "metadata": {},
   "outputs": [
    {
     "name": "stdout",
     "output_type": "stream",
     "text": [
      "\u001b[0m\u001b[01;31mfastq_indrop/SRR10545068_3.fastq.gz\u001b[0m  \u001b[01;31mfastq_indrop/SRR10545074_3.fastq.gz\u001b[0m\n",
      "\u001b[01;31mfastq_indrop/SRR10545069_3.fastq.gz\u001b[0m  \u001b[01;31mfastq_indrop/SRR10545075_3.fastq.gz\u001b[0m\n",
      "\u001b[01;31mfastq_indrop/SRR10545070_3.fastq.gz\u001b[0m  \u001b[01;31mfastq_indrop/SRR10545076_3.fastq.gz\u001b[0m\n",
      "\u001b[01;31mfastq_indrop/SRR10545071_3.fastq.gz\u001b[0m  \u001b[01;31mfastq_indrop/SRR10545077_3.fastq.gz\u001b[0m\n",
      "\u001b[01;31mfastq_indrop/SRR10545072_3.fastq.gz\u001b[0m  \u001b[01;31mfastq_indrop/SRR10545078_3.fastq.gz\u001b[0m\n",
      "\u001b[01;31mfastq_indrop/SRR10545073_3.fastq.gz\u001b[0m  \u001b[01;31mfastq_indrop/SRR10545079_3.fastq.gz\u001b[0m\n"
     ]
    }
   ],
   "source": [
    "ls fastq_indrop/*3.fastq.gz"
   ]
  },
  {
   "cell_type": "code",
   "execution_count": 5,
   "metadata": {},
   "outputs": [],
   "source": [
    "mkdir bc_count_raw;\n",
    "for R3_fastq in fastq_indrop/*3.fastq.gz\n",
    "do\n",
    "    bc_count_raw $R3_fastq\n",
    "done"
   ]
  }
 ],
 "metadata": {
  "kernelspec": {
   "display_name": "Bash",
   "language": "bash",
   "name": "bash"
  },
  "language_info": {
   "codemirror_mode": "shell",
   "file_extension": ".sh",
   "mimetype": "text/x-sh",
   "name": "bash"
  }
 },
 "nbformat": 4,
 "nbformat_minor": 4
}
