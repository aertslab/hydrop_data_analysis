{
 "cells": [
  {
   "cell_type": "code",
   "execution_count": 1,
   "metadata": {},
   "outputs": [],
   "source": [
    "%matplotlib inline"
   ]
  },
  {
   "cell_type": "code",
   "execution_count": 2,
   "metadata": {},
   "outputs": [
    {
     "name": "stderr",
     "output_type": "stream",
     "text": [
      "/media/data/users/fderop/software/miniconda/lib/python3.8/site-packages/ray/autoscaler/_private/cli_logger.py:57: FutureWarning: Not all Ray CLI dependencies were found. In Ray 1.4+, the Ray CLI, autoscaler, and dashboard will only be usable via `pip install 'ray[default]'`. Please update your install command.\n",
      "  warnings.warn(\n"
     ]
    }
   ],
   "source": [
    "from pycisTopic.qc import *"
   ]
  },
  {
   "cell_type": "code",
   "execution_count": 3,
   "metadata": {},
   "outputs": [],
   "source": [
    "samplepath = \"\"\n",
    "qcpath = \"pycistopic_consensus/\""
   ]
  },
  {
   "cell_type": "code",
   "execution_count": 4,
   "metadata": {},
   "outputs": [],
   "source": [
    "# Load metadata\n",
    "import pickle\n",
    "\n",
    "infile = open(qcpath + \"metadata_bc.pkl\", \"rb\")\n",
    "metadata_bc_dict = pickle.load(infile)\n",
    "infile.close()"
   ]
  },
  {
   "cell_type": "code",
   "execution_count": 5,
   "metadata": {},
   "outputs": [],
   "source": [
    "# Load profile data\n",
    "infile = open(qcpath + \"profile_data_dict.pkl\", \"rb\")\n",
    "profile_data_dict = pickle.load(infile)\n",
    "infile.close()"
   ]
  },
  {
   "cell_type": "code",
   "execution_count": 6,
   "metadata": {},
   "outputs": [],
   "source": [
    "import pickle\n",
    "\n",
    "infile = open(qcpath + \"bc_passing_filters.pkl\", \"rb\")\n",
    "bc_passing_filter = pickle.load(infile)\n",
    "infile.close()"
   ]
  },
  {
   "cell_type": "code",
   "execution_count": 7,
   "metadata": {},
   "outputs": [],
   "source": [
    "dictkeys = list(metadata_bc_dict.keys())"
   ]
  },
  {
   "cell_type": "code",
   "execution_count": 8,
   "metadata": {},
   "outputs": [],
   "source": [
    "test = metadata_bc_dict[dictkeys[0]][\"Unique_nr_frag\"] >= 10"
   ]
  },
  {
   "cell_type": "code",
   "execution_count": 9,
   "metadata": {},
   "outputs": [
    {
     "data": {
      "text/plain": [
       "True    376898\n",
       "Name: Unique_nr_frag, dtype: int64"
      ]
     },
     "execution_count": 9,
     "metadata": {},
     "output_type": "execute_result"
    }
   ],
   "source": [
    "test.value_counts()"
   ]
  },
  {
   "cell_type": "code",
   "execution_count": 10,
   "metadata": {},
   "outputs": [],
   "source": [
    "for key in profile_data_dict.keys():\n",
    "    brp = profile_data_dict[key][\"barcode_rank_plot\"]\n",
    "    brp.index += \"_\" + key"
   ]
  },
  {
   "cell_type": "markdown",
   "metadata": {},
   "source": [
    "merge them and calculate sizes (we need sizes to normalize the tss and fragment sizes plots)"
   ]
  },
  {
   "cell_type": "code",
   "execution_count": 30,
   "metadata": {},
   "outputs": [],
   "source": [
    "profile_data_dict_selected = {}\n",
    "brp_merged = pd.DataFrame()\n",
    "dup_merged = pd.DataFrame()\n",
    "ins_merged = {}\n",
    "tss_merged = {}\n",
    "tssbc_merged = pd.DataFrame()\n",
    "frip_merged = pd.DataFrame()\n",
    "for key in profile_data_dict.keys():\n",
    "    brp = profile_data_dict[key][\"barcode_rank_plot\"]\n",
    "    brp.index += \"_\" + key\n",
    "    brp_merged = pd.concat([brp_merged, brp])\n",
    "\n",
    "    dup = profile_data_dict[key][\"duplicate_rate\"]\n",
    "    dup.index += \"_\" + key\n",
    "    dup_merged = pd.concat([dup_merged, dup])\n",
    "\n",
    "    ins = profile_data_dict[key][\"insert_size_distribution\"]\n",
    "    ins_merged[key] = ins\n",
    "\n",
    "    tss = profile_data_dict[key][\"profile_tss\"]\n",
    "    tss_merged[key] = tss\n",
    "\n",
    "    tssbc = profile_data_dict[key][\"profile_tssPerBarcode\"]\n",
    "    tssbc.index += \"_\" + key\n",
    "    tssbc_merged = pd.concat([tssbc_merged, tssbc])\n",
    "\n",
    "    frip = profile_data_dict[key][\"frip\"]\n",
    "    frip.index += \"_\" + key\n",
    "    frip_merged = pd.concat([frip_merged, frip])\n",
    "    profile_data_dict_selected[key] = {\n",
    "        \"barcode_rank_plot\": brp,\n",
    "        \"duplicate_rate\": dup,\n",
    "        \"insert_size_distribution\": ins,\n",
    "        \"profile_tss\": tss,\n",
    "        \"profile_tssPerBarcode\": tssbc,\n",
    "        \"frip\": frip,\n",
    "    }\n",
    "\n",
    "brp_merged = brp_merged.sort_values(by=\"Unique_nr_frag\", ascending=False)\n",
    "brp_merged[\"Barcode_rank\"] = range(0, len(brp_merged))"
   ]
  },
  {
   "cell_type": "markdown",
   "metadata": {},
   "source": [
    "# Now we need to make a concatenated insert size and tss normalised to total unique fragment count (for unfiltered matrix):"
   ]
  },
  {
   "cell_type": "code",
   "execution_count": 31,
   "metadata": {},
   "outputs": [
    {
     "name": "stdout",
     "output_type": "stream",
     "text": [
      "32945288\n",
      "2509800\n",
      "31322912\n",
      "2622669\n",
      "33982506\n",
      "32904799\n",
      "38724583\n"
     ]
    }
   ],
   "source": [
    "import pandas as pd\n",
    "# concatenate the insert sizes per barcode\n",
    "ins_concatenated = pd.DataFrame()\n",
    "for key in ins_merged.keys():\n",
    "    df_fixed = ins_merged[key].set_index(ins_merged[key][\"Width\"])\n",
    "    ins_concatenated = ins_concatenated.add(df_fixed, fill_value=0)\n",
    "ins_concatenated[\"Nr_frag\"].sum()\n",
    "ins_concatenated[\"Ratio_frag\"] = (\n",
    "    ins_concatenated[\"Nr_frag\"] / ins_concatenated[\"Nr_frag\"].sum()\n",
    ")\n",
    "ins_concatenated[\"Width\"] = ins_concatenated.index\n",
    "\n",
    "# make a list of all total unique fragments\n",
    "sizes = pd.DataFrame(data=None, index=metadata_bc_dict.keys())\n",
    "sizes[\"ufrags\"] = 0\n",
    "metadata_merged = pd.DataFrame()\n",
    "for key in metadata_bc_dict.keys():\n",
    "    print(metadata_bc_dict[key][\"Unique_nr_frag\"].sum())\n",
    "    sizes[\"ufrags\"].loc[key] = metadata_bc_dict[key][\"Unique_nr_frag\"].sum()\n",
    "    metadata = metadata_bc_dict[key]\n",
    "    metadata.index += \"_\" + key\n",
    "    metadata_merged = pd.concat([metadata_merged, metadata])\n",
    "\n",
    "weight = sizes / sizes.sum()\n",
    "\n",
    "tss_concatenated = pd.DataFrame()\n",
    "for key in tss_merged.keys():\n",
    "    df_fixed = tss_merged[key]\n",
    "    df_fixed[\"TSS_enrichment\"] = df_fixed[\"TSS_enrichment\"] * weight.loc[key][\"ufrags\"]\n",
    "    tss_concatenated = tss_concatenated.add(df_fixed, fill_value=0)\n",
    "\n",
    "\n",
    "# use that list to normalise tss enrichment to the total\n",
    "# reset position\n",
    "tss_concatenated[\"Position\"] = tss_merged[key][\"Position\"]"
   ]
  },
  {
   "cell_type": "markdown",
   "metadata": {},
   "source": [
    "# Run this instead if you want to select BCs passing filter (don't run if you don't want to select BCs passing filter)"
   ]
  },
  {
   "cell_type": "code",
   "execution_count": null,
   "metadata": {},
   "outputs": [],
   "source": [
    "profile_data_dict_selected = {}\n",
    "brp_merged = pd.DataFrame()\n",
    "dup_merged = pd.DataFrame()\n",
    "ins_merged = {}\n",
    "tss_merged = {}\n",
    "tssbc_merged = pd.DataFrame()\n",
    "frip_merged = pd.DataFrame()\n",
    "for key in profile_data_dict.keys():\n",
    "    brp = profile_data_dict[key][\"barcode_rank_plot\"][\n",
    "        profile_data_dict[key][\"barcode_rank_plot\"].index.isin(bc_passing_filter[key])\n",
    "    ]\n",
    "    brp.index += \"_\" + key\n",
    "    brp_merged = pd.concat([brp_merged, brp])\n",
    "\n",
    "    dup = profile_data_dict[key][\"duplicate_rate\"][\n",
    "        profile_data_dict[key][\"duplicate_rate\"].index.isin(bc_passing_filter[key])\n",
    "    ]\n",
    "    dup.index += \"_\" + key\n",
    "    dup_merged = pd.concat([dup_merged, dup])\n",
    "\n",
    "    ins = profile_data_dict[key][\"insert_size_distribution\"]\n",
    "    ins_merged[key] = ins\n",
    "\n",
    "    tss = profile_data_dict[key][\"profile_tss\"]\n",
    "    tss_merged[key] = tss\n",
    "\n",
    "    tssbc = profile_data_dict[key][\"profile_tssPerBarcode\"][\n",
    "        profile_data_dict[key][\"profile_tssPerBarcode\"].index.isin(\n",
    "            bc_passing_filter[key]\n",
    "        )\n",
    "    ]\n",
    "    tssbc.index += \"_\" + key\n",
    "    tssbc_merged = pd.concat([tssbc_merged, tssbc])\n",
    "\n",
    "    frip = profile_data_dict[key][\"frip\"][\n",
    "        profile_data_dict[key][\"frip\"].index.isin(bc_passing_filter[key])\n",
    "    ]\n",
    "    frip.index += \"_\" + key\n",
    "    frip_merged = pd.concat([frip_merged, frip])\n",
    "    profile_data_dict_selected[key] = {\n",
    "        \"barcode_rank_plot\": brp,\n",
    "        \"duplicate_rate\": dup,\n",
    "        \"insert_size_distribution\": ins,\n",
    "        \"profile_tss\": tss,\n",
    "        \"profile_tssPerBarcode\": tssbc,\n",
    "        \"frip\": frip,\n",
    "    }\n",
    "\n",
    "brp_merged = brp_merged.sort_values(by=\"Unique_nr_frag\", ascending=False)\n",
    "brp_merged[\"Barcode_rank\"] = range(0, len(brp_merged))"
   ]
  },
  {
   "cell_type": "code",
   "execution_count": null,
   "metadata": {},
   "outputs": [],
   "source": [
    "# concatenate the insert sizes per barcode\n",
    "ins_concatenated = pd.DataFrame()\n",
    "for key in ins_merged.keys():\n",
    "    df_fixed = ins_merged[key].set_index(ins_merged[key][\"Width\"])\n",
    "    ins_concatenated = ins_concatenated.add(df_fixed, fill_value=0)\n",
    "ins_concatenated[\"Nr_frag\"].sum()\n",
    "ins_concatenated[\"Ratio_frag\"] = (\n",
    "    ins_concatenated[\"Nr_frag\"] / ins_concatenated[\"Nr_frag\"].sum()\n",
    ")\n",
    "ins_concatenated[\"Width\"] = ins_concatenated.index\n",
    "\n",
    "# make a list of all total unique fragments\n",
    "sizes = pd.DataFrame(data=None, index=metadata_bc_dict.keys())\n",
    "sizes[\"ufrags\"] = 0\n",
    "metadata_merged = pd.DataFrame()\n",
    "for key in metadata_bc_dict.keys():\n",
    "    print(metadata_bc_dict[key][\"Unique_nr_frag\"].sum())\n",
    "    sizes[\"ufrags\"].loc[key] = metadata_bc_dict[key][\"Unique_nr_frag\"].sum()\n",
    "    metadata = metadata_bc_dict[key][\n",
    "        metadata_bc_dict[key].index.isin(bc_passing_filter[key])\n",
    "    ]\n",
    "    metadata.index += \"_\" + key\n",
    "    metadata_merged = pd.concat([metadata_merged, metadata])\n",
    "\n",
    "weight = sizes / sizes.sum()\n",
    "\n",
    "tss_concatenated = pd.DataFrame()\n",
    "for key in tss_merged.keys():\n",
    "    df_fixed = tss_merged[key]\n",
    "    df_fixed[\"TSS_enrichment\"] = df_fixed[\"TSS_enrichment\"] * weight.loc[key][\"ufrags\"]\n",
    "    tss_concatenated = tss_concatenated.add(df_fixed, fill_value=0)\n",
    "\n",
    "\n",
    "# use that list to normalise tss enrichment to the total\n",
    "# reset position\n",
    "tss_concatenated[\"Position\"] = tss_merged[key][\"Position\"]"
   ]
  },
  {
   "cell_type": "markdown",
   "metadata": {},
   "source": [
    "## Merge profile data"
   ]
  },
  {
   "cell_type": "code",
   "execution_count": 32,
   "metadata": {},
   "outputs": [],
   "source": [
    "profile_data_dict_selected_merged = {}"
   ]
  },
  {
   "cell_type": "code",
   "execution_count": 33,
   "metadata": {},
   "outputs": [],
   "source": [
    "profile_data_dict_selected_merged[\"merged\"] = {\n",
    "    \"barcode_rank_plot\": brp_merged,\n",
    "    \"duplicate_rate\": dup_merged,\n",
    "    \"insert_size_distribution\": ins_concatenated,\n",
    "    \"profile_tss\": tss_concatenated,\n",
    "    \"profile_tssPerBarcode\": tssbc_merged,\n",
    "    \"frip\": frip_merged,\n",
    "}"
   ]
  },
  {
   "cell_type": "code",
   "execution_count": 34,
   "metadata": {},
   "outputs": [],
   "source": [
    "def save_object(obj, filename):\n",
    "    with open(filename, \"wb\") as output:  # Overwrites any existing file.\n",
    "        pickle.dump(obj, output, pickle.HIGHEST_PROTOCOL)\n",
    "\n",
    "\n",
    "# sample usage\n",
    "# save_object(company1, 'company1.pkl')"
   ]
  },
  {
   "cell_type": "code",
   "execution_count": 35,
   "metadata": {},
   "outputs": [],
   "source": [
    "save_object(\n",
    "    profile_data_dict_selected_merged,\n",
    "    \"qc_stats/profile_data_dict_selected_merged_allbc.pkl\",\n",
    ")"
   ]
  },
  {
   "cell_type": "markdown",
   "metadata": {},
   "source": [
    "# Plot profile data"
   ]
  },
  {
   "cell_type": "code",
   "execution_count": 4,
   "metadata": {},
   "outputs": [],
   "source": [
    "import pickle\n",
    "\n",
    "with open(\"qc_stats/profile_data_dict_selected_merged_allbc.pkl\", \"rb\") as f:\n",
    "    profile_data_dict_selected_merged = pickle.load(f)"
   ]
  },
  {
   "cell_type": "code",
   "execution_count": null,
   "metadata": {
    "tags": []
   },
   "outputs": [],
   "source": [
    "qcpath = \"pycistopic_consensus/\"\n",
    "plot_sample_metrics(\n",
    "    profile_data_dict_selected,\n",
    "    profile_list=[\n",
    "        \"barcode_rank_plot\",\n",
    "        \"insert_size_distribution\",\n",
    "        \"profile_tss\",\n",
    "        \"frip\",\n",
    "    ],\n",
    "    insert_size_distriubtion_xlim=[0, 600],\n",
    "    # legend_outside=True,\n",
    "    ncol=4,\n",
    "    cmap=\"Paired\",\n",
    "    plot=True,\n",
    "    save=qcpath + \"sample_metrics_selectedcells_separate.pdf\",\n",
    ")"
   ]
  },
  {
   "cell_type": "code",
   "execution_count": null,
   "metadata": {},
   "outputs": [
    {
     "name": "stderr",
     "output_type": "stream",
     "text": [
      "/staging/leuven/stg_00002/lcb/fderop/software_2/anaconda3/lib/python3.7/site-packages/seaborn/distributions.py:2557: FutureWarning: `distplot` is a deprecated function and will be removed in a future version. Please adapt your code to use either `displot` (a figure-level function with similar flexibility) or `kdeplot` (an axes-level function for kernel density plots).\n",
      "  warnings.warn(msg, FutureWarning)\n"
     ]
    }
   ],
   "source": [
    "qcpath = \"pycistopic_consensus/\"\n",
    "plot_sample_metrics(\n",
    "    profile_data_dict_selected_merged,\n",
    "    insert_size_distriubtion_xlim=[0, 600],\n",
    "    # legend_outside=True,\n",
    "    remove_duplicates=True,\n",
    "    ncol=2,\n",
    "    cmap=\"viridis\",\n",
    "    plot=True,\n",
    "    save=qcpath + \"sample_metrics_selectedcells_merged_nosel.pdf\",\n",
    ")"
   ]
  },
  {
   "cell_type": "markdown",
   "metadata": {},
   "source": [
    "# Fragment level statistics"
   ]
  },
  {
   "cell_type": "code",
   "execution_count": 5,
   "metadata": {},
   "outputs": [],
   "source": [
    "import seaborn as sns\n",
    "from scipy.stats import gaussian_kde"
   ]
  },
  {
   "cell_type": "code",
   "execution_count": 6,
   "metadata": {},
   "outputs": [],
   "source": [
    "context = \"talk\"\n",
    "style = \"darkgrid\""
   ]
  },
  {
   "cell_type": "code",
   "execution_count": 22,
   "metadata": {},
   "outputs": [],
   "source": [
    "sns.set_style(style, {\"axes.linewidth\": 1, \"axes.edgecolor\": \".20\"})\n",
    "sns.set_context(context)\n",
    "color = sns.color_palette(\"Blues\")[5]\n",
    "linewidth = 3\n",
    "\n",
    "sample = \"merged\"\n",
    "category = \"insert_size_distribution\"\n",
    "xvar = \"Width\"\n",
    "yvar = \"Ratio_frag\"\n",
    "x = profile_data_dict_selected_merged[sample][category][xvar]\n",
    "y = profile_data_dict_selected_merged[sample][category][yvar] * 100\n",
    "\n",
    "sns.set_style(style, {\"axes.linewidth\": 1, \"axes.edgecolor\": \".20\"})\n",
    "sns.set_context(context)\n",
    "color = sns.color_palette(\"Blues\")[5]\n",
    "\n",
    "ax = sns.lineplot(\n",
    "    data=profile_data_dict_selected_merged[sample][category],\n",
    "    x=x,\n",
    "    y=y,\n",
    "    palette=\"viridis\",\n",
    "    linewidth=linewidth,\n",
    ")\n",
    "ax.set(xscale=\"linear\")\n",
    "ax.set(yscale=\"linear\")\n",
    "ax.set(xlim=[0, 600])\n",
    "ax.set_aspect(\"equal\", adjustable=\"box\")\n",
    "ax.set_aspect(1.0 / ax.get_data_ratio())\n",
    "\n",
    "ax.set_xlabel(\"Fragment length\")\n",
    "ax.set_ylabel(\"Fraction (%)\")\n",
    "\n",
    "plt.tight_layout()\n",
    "plt.savefig(\"plts_pub/fragment_length.svg\", dpi=300)\n",
    "plt.savefig(\"plts_pub/fragment_length.png\", dpi=300)\n",
    "plt.close()"
   ]
  },
  {
   "cell_type": "code",
   "execution_count": 63,
   "metadata": {
    "tags": []
   },
   "outputs": [
    {
     "data": {
      "image/png": "[encoded data removed]",
      "text/plain": [
       "<Figure size 360x360 with 1 Axes>"
      ]
     },
     "metadata": {},
     "output_type": "display_data"
    }
   ],
   "source": [
    "sns.set_context(context)\n",
    "sns.set_style(style, {\"axes.linewidth\": 1, \"axes.edgecolor\": \".20\"})\n",
    "\n",
    "color = sns.color_palette(\"Blues\")[5]\n",
    "\n",
    "sample = \"merged\"\n",
    "category = \"frip\"\n",
    "xvar = \"FRIP\"\n",
    "x = profile_data_dict_selected_merged[sample][category][xvar]\n",
    "\n",
    "sns.displot(\n",
    "    data=profile_data_dict_selected_merged[sample][category],\n",
    "    x=xvar,\n",
    "    color=color,\n",
    "    kind=\"kde\",\n",
    "    fill=True,\n",
    "    linewidth=linewidth,\n",
    ")\n",
    "ax.set(xscale=\"linear\")\n",
    "ax.set(yscale=\"linear\")\n",
    "ax.set_aspect(\"equal\", adjustable=\"box\")\n",
    "ax.set_aspect(1.0 / ax.get_data_ratio())\n",
    "\n",
    "fig = plt.gcf()\n",
    "fig.savefig(\"plts_pub/frip.svg\", dpi=300)\n",
    "fig.savefig(\"plts_pub/frip.png\", dpi=300)\n",
    "plt.show()\n",
    "plt.close()"
   ]
  },
  {
   "cell_type": "markdown",
   "metadata": {},
   "source": [
    "# Cell level statistics"
   ]
  },
  {
   "cell_type": "code",
   "execution_count": null,
   "metadata": {},
   "outputs": [],
   "source": [
    "import pandas as pd\n",
    "\n",
    "metadata_bc_dict_selected = {}\n",
    "metadata_bc_dict_selected = pd.DataFrame()\n",
    "for key in metadata_bc_dict.keys():\n",
    "    metadata = metadata_bc_dict[key][\n",
    "        metadata_bc_dict[key].index.isin(bc_passing_filter[key])\n",
    "    ]\n",
    "    metadata.index += \"_\" + key\n",
    "    metadata_bc_dict_selected = pd.concat([metadata_bc_dict_selected, metadata])"
   ]
  },
  {
   "cell_type": "code",
   "execution_count": null,
   "metadata": {
    "tags": []
   },
   "outputs": [],
   "source": [
    "metadata_bc_dict_selected"
   ]
  },
  {
   "cell_type": "code",
   "execution_count": null,
   "metadata": {},
   "outputs": [],
   "source": [
    "sample = \"merged\"\n",
    "x = metadata_bc_dict_selected\n",
    "print(x.median())\n",
    "print(x.mean())"
   ]
  },
  {
   "cell_type": "markdown",
   "metadata": {},
   "source": [
    "I have to scale all of the densities to the same axis"
   ]
  },
  {
   "cell_type": "code",
   "execution_count": 8,
   "metadata": {},
   "outputs": [],
   "source": [
    "from multiprocessing import Pool\n",
    "\n",
    "import matplotlib.pyplot as plt\n",
    "import numpy as np"
   ]
  },
  {
   "cell_type": "code",
   "execution_count": 13,
   "metadata": {},
   "outputs": [],
   "source": [
    "markersize = 5\n",
    "style = \"darkgrid\"\n",
    "context = \"talk\"\n",
    "\n",
    "sample = \"merged\"\n",
    "category = \"frip\""
   ]
  },
  {
   "cell_type": "code",
   "execution_count": 14,
   "metadata": {},
   "outputs": [],
   "source": [
    "profile_data_dict_selected_merged[sample][category][\"duprate\"] = (\n",
    "    1\n",
    "    - profile_data_dict_selected_merged[sample][category][\"Unique_nr_frag\"]\n",
    "    / profile_data_dict_selected_merged[sample][category][\"Total_nr_frag\"]\n",
    ")"
   ]
  },
  {
   "cell_type": "code",
   "execution_count": 16,
   "metadata": {},
   "outputs": [
    {
     "name": "stderr",
     "output_type": "stream",
     "text": [
      "/user/leuven/330/vsc33042/.local/lib/python3.7/site-packages/ipykernel_launcher.py:50: UserWarning: Creating legend with loc=\"best\" can be slow with large amounts of data.\n"
     ]
    },
    {
     "name": "stdout",
     "output_type": "stream",
     "text": [
      "0.002124989422043063\n",
      "6.562199307202299\n"
     ]
    }
   ],
   "source": [
    "sns.set_context(context)\n",
    "sns.set_style(style, {\"axes.linewidth\": 1, \"axes.edgecolor\": \".20\"})\n",
    "\n",
    "\n",
    "xvar = \"Unique_nr_frag\"\n",
    "yvar = \"duprate\"\n",
    "\n",
    "x = profile_data_dict_selected_merged[sample][category][xvar]\n",
    "y = profile_data_dict_selected_merged[sample][category][yvar]\n",
    "\n",
    "xy = np.vstack([np.log10(x), y])\n",
    "# Create definition.\n",
    "def calc_kernel(xy):\n",
    "    return gaussian_kde(xy)(xy)\n",
    "\n",
    "\n",
    "# Choose number of cores and split input array.\n",
    "cores = 32\n",
    "torun = np.array_split(xy, cores, axis=1)\n",
    "\n",
    "# Calculate\n",
    "pool = Pool(processes=cores)\n",
    "results = pool.map(calc_kernel, torun)\n",
    "z = np.concatenate(results)\n",
    "# Reintegrate and calculate results\n",
    "# multiprocessing filter/sample:  0.496874094009\n",
    "\n",
    "# bins = np.linspace(z.min(), z.max(), 10)\n",
    "# digitized = np.digitize(z, bins)\n",
    "# bin_means = [z[digitized == i].mean() for i in range(1, len(bins))]\n",
    "# digitized_rescaled = np.interp(digitized, (digitized.min(), digitized.max()), (z.min(), z.max()))\n",
    "\n",
    "ax = sns.scatterplot(\n",
    "    data=profile_data_dict_selected_merged[sample][category],\n",
    "    x=xvar,\n",
    "    y=yvar,\n",
    "    hue=z,\n",
    "    palette=\"viridis\",\n",
    "    edgecolor=None,\n",
    "    s=markersize,\n",
    ")\n",
    "ax.set(xscale=\"log\")\n",
    "ax.set(yscale=\"linear\")\n",
    "ax.set_aspect(\"equal\", adjustable=\"box\")\n",
    "ax.set_aspect(1.0 / ax.get_data_ratio())\n",
    "\n",
    "ax.set_xlabel(\"Unique fragments\")\n",
    "ax.set_ylabel(\"Saturation\")\n",
    "plt.axvline(x=1000, color=\"red\")\n",
    "plt.tight_layout()\n",
    "ax.get_legend().remove()\n",
    "\n",
    "# plt.axhline(y = 5, color ='red')\n",
    "\n",
    "\n",
    "fig = plt.gcf()\n",
    "# fig.savefig(\n",
    "#     \"plts_pub/ufrag_duprate_markersize\" + str(markersize) + \"_nosel.svg\", dpi=600\n",
    "# )\n",
    "fig.savefig(\n",
    "    \"plts_pub/ufrag_duprate_markersize\" + str(markersize) + \"_nosel.png\", dpi=600, transparent=True\n",
    ")\n",
    "fig.savefig(\n",
    "    \"plts_pub/ufrag_duprate_markersize\" + str(markersize) + \"_nosel.tiff\", dpi=600, transparent=True\n",
    ")\n",
    "print(z.min())\n",
    "print(z.max())\n",
    "pool.close()\n",
    "pool.join()"
   ]
  },
  {
   "cell_type": "markdown",
   "metadata": {},
   "source": [
    "# frip "
   ]
  },
  {
   "cell_type": "code",
   "execution_count": 17,
   "metadata": {},
   "outputs": [
    {
     "data": {
      "text/plain": [
       "AACATTCAGGAAGAACGGTGAACGCCTGCT_HYA__combined__20210323_cortex_phu_dv_etssb_1-2_S2_HYA__combined__20210323_cortex_phu_dv_etssb_1-2_S2    0.304348\n",
       "AACATTCAGGAAGAACGGTGAAGTGTAGAA_HYA__combined__20210323_cortex_phu_dv_etssb_1-2_S2_HYA__combined__20210323_cortex_phu_dv_etssb_1-2_S2    0.384615\n",
       "AACATTCAGGAAGAACGGTGACAACAGGAA_HYA__combined__20210323_cortex_phu_dv_etssb_1-2_S2_HYA__combined__20210323_cortex_phu_dv_etssb_1-2_S2    0.583333\n",
       "AACATTCAGGAAGAACGGTGACACACTAGG_HYA__combined__20210323_cortex_phu_dv_etssb_1-2_S2_HYA__combined__20210323_cortex_phu_dv_etssb_1-2_S2    0.574468\n",
       "AACATTCAGGAAGAACGGTGACCAATATCG_HYA__combined__20210323_cortex_phu_dv_etssb_1-2_S2_HYA__combined__20210323_cortex_phu_dv_etssb_1-2_S2    0.461538\n",
       "                                                                                                                                          ...   \n",
       "TTGTCCGCCATTGGTCTCGTTTCATGAGGT_HYA__combined__20210323_cortex_phu_dv_etssb_1-3_S3_HYA__combined__20210323_cortex_phu_dv_etssb_1-3_S3    0.578947\n",
       "TTGTCCGCCATTGGTCTCGTTTCATGTCCT_HYA__combined__20210323_cortex_phu_dv_etssb_1-3_S3_HYA__combined__20210323_cortex_phu_dv_etssb_1-3_S3    0.444444\n",
       "TTGTCCGCCATTGGTCTCGTTTGCAGTTCT_HYA__combined__20210323_cortex_phu_dv_etssb_1-3_S3_HYA__combined__20210323_cortex_phu_dv_etssb_1-3_S3    0.466667\n",
       "TTGTCCGCCATTGGTCTCGTTTGCCACAAT_HYA__combined__20210323_cortex_phu_dv_etssb_1-3_S3_HYA__combined__20210323_cortex_phu_dv_etssb_1-3_S3    0.476190\n",
       "TTGTCCGCCATTGGTCTCGTTTGTCACGGC_HYA__combined__20210323_cortex_phu_dv_etssb_1-3_S3_HYA__combined__20210323_cortex_phu_dv_etssb_1-3_S3    0.545455\n",
       "Name: FRIP, Length: 2147639, dtype: float64"
      ]
     },
     "execution_count": 17,
     "metadata": {},
     "output_type": "execute_result"
    }
   ],
   "source": [
    "sample = \"merged\"\n",
    "category = \"frip\"\n",
    "xvar = \"Unique_nr_frag\"\n",
    "yvar = \"FRIP\"\n",
    "profile_data_dict_selected_merged[sample][category][\"FRIP\"]"
   ]
  },
  {
   "cell_type": "code",
   "execution_count": 18,
   "metadata": {},
   "outputs": [
    {
     "data": {
      "text/plain": [
       "False    2146195\n",
       "True        1444\n",
       "Name: FRIP, dtype: int64"
      ]
     },
     "execution_count": 18,
     "metadata": {},
     "output_type": "execute_result"
    }
   ],
   "source": [
    "profile_data_dict_selected_merged[sample][category][\"FRIP\"].isnull().value_counts()"
   ]
  },
  {
   "cell_type": "code",
   "execution_count": 19,
   "metadata": {
    "tags": []
   },
   "outputs": [],
   "source": [
    "profile_data_dict_selected_merged[sample][category][\"FRIP\"].fillna(0, inplace=True)"
   ]
  },
  {
   "cell_type": "code",
   "execution_count": 20,
   "metadata": {},
   "outputs": [
    {
     "data": {
      "text/plain": [
       "False    2147639\n",
       "Name: FRIP, dtype: int64"
      ]
     },
     "execution_count": 20,
     "metadata": {},
     "output_type": "execute_result"
    }
   ],
   "source": [
    "profile_data_dict_selected_merged[sample][category][\"FRIP\"].isnull().value_counts()"
   ]
  },
  {
   "cell_type": "code",
   "execution_count": 21,
   "metadata": {
    "tags": []
   },
   "outputs": [
    {
     "name": "stderr",
     "output_type": "stream",
     "text": [
      "/user/leuven/330/vsc33042/.local/lib/python3.7/site-packages/ipykernel_launcher.py:57: UserWarning: Tight layout not applied. The bottom and top margins cannot be made large enough to accommodate all axes decorations. \n"
     ]
    },
    {
     "data": {
      "image/png": "[encoded data removed]",
      "text/plain": [
       "<Figure size 432x288 with 1 Axes>"
      ]
     },
     "metadata": {},
     "output_type": "display_data"
    },
    {
     "name": "stdout",
     "output_type": "stream",
     "text": [
      "0.001085907567529688\n",
      "4.922594727931435\n"
     ]
    }
   ],
   "source": [
    "sns.set_context(context)\n",
    "sns.set_style(style, {\"axes.linewidth\": 1, \"axes.edgecolor\": \".20\"})\n",
    "\n",
    "sample = \"merged\"\n",
    "category = \"frip\"\n",
    "xvar = \"Unique_nr_frag\"\n",
    "yvar = \"FRIP\"\n",
    "x = profile_data_dict_selected_merged[sample][category][xvar]\n",
    "y = profile_data_dict_selected_merged[sample][category][yvar]\n",
    "\n",
    "xy = np.vstack([np.log10(x), y])\n",
    "# Create definition.\n",
    "def calc_kernel(xy):\n",
    "    return gaussian_kde(xy)(xy)\n",
    "\n",
    "\n",
    "# Choose number of cores and split input array.\n",
    "cores = 16\n",
    "torun = np.array_split(xy, cores, axis=1)\n",
    "\n",
    "# Calculate\n",
    "pool = Pool(processes=cores)\n",
    "results = pool.map(calc_kernel, torun)\n",
    "z = np.concatenate(results)\n",
    "# Reintegrate and calculate results\n",
    "# multiprocessing filter/sample:  0.496874094009\n",
    "\n",
    "# bins = np.linspace(z.min(), z.max(), 10)\n",
    "# digitized = np.digitize(z, bins)\n",
    "# bin_means = [z[digitized == i].mean() for i in range(1, len(bins))]\n",
    "# digitized_rescaled = np.interp(\n",
    "#     digitized, (digitized.min(), digitized.max()), (z.min(), z.max())\n",
    "# )\n",
    "\n",
    "ax = sns.scatterplot(\n",
    "    data=profile_data_dict_selected_merged[sample][category],\n",
    "    x=xvar,\n",
    "    y=yvar,\n",
    "    hue=z,\n",
    "    palette=\"viridis\",\n",
    "    edgecolor=None,\n",
    "    s=markersize,\n",
    ")\n",
    "ax.set(xscale=\"log\")\n",
    "ax.set(yscale=\"linear\")\n",
    "\n",
    "ax.set_aspect(\"equal\", adjustable=\"box\")\n",
    "ax.set_aspect(1.0 / ax.get_data_ratio())\n",
    "\n",
    "import matplotlib.ticker as mtick\n",
    "\n",
    "ax.set_xlabel(\"Unique fragments\")\n",
    "ax.set_ylabel(\"FRIP\")\n",
    "plt.axvline(x=1000, color=\"red\")\n",
    "# plt.axhline(x=5, color=\"red\")\n",
    "ax.get_legend().remove()\n",
    "plt.tight_layout()\n",
    "\n",
    "fig = plt.gcf()\n",
    "# fig.savefig(\"plts_pub/ufrag_frip_markersize\" + str(markersize) + \"_nosel.svg\", dpi=100)\n",
    "fig.savefig(\"plts_pub/ufrag_frip_markersize\" + str(markersize) + \"_nosel.png\", dpi=600, transparent=True)\n",
    "fig.savefig(\"plts_pub/ufrag_frip_markersize\" + str(markersize) + \"_nosel.tiff\", dpi=600, transparent=True)\n",
    "\n",
    "\n",
    "plt.show()\n",
    "pool.close()\n",
    "pool.join()\n",
    "print(z.min())\n",
    "print(z.max())"
   ]
  },
  {
   "cell_type": "markdown",
   "metadata": {},
   "source": [
    "# "
   ]
  },
  {
   "cell_type": "code",
   "execution_count": null,
   "metadata": {
    "tags": []
   },
   "outputs": [],
   "source": [
    "sns.set_context(context)\n",
    "sns.set_style(style, {\"axes.linewidth\": 1, \"axes.edgecolor\": \".20\"})\n",
    "\n",
    "xvar = \"Unique_nr_frag\"\n",
    "yvar = \"TSS_enrichment\"\n",
    "x = metadata_merged[xvar]\n",
    "y = metadata_merged[yvar]\n",
    "\n",
    "xy = np.vstack([np.log10(x), y])\n",
    "# Create definition.\n",
    "def calc_kernel(xy):\n",
    "    return gaussian_kde(xy)(xy)\n",
    "\n",
    "\n",
    "# Choose number of cores and split input array.\n",
    "cores = 32\n",
    "torun = np.array_split(xy, cores, axis=1)\n",
    "\n",
    "# Calculate\n",
    "pool = Pool(processes=cores)\n",
    "results = pool.map(calc_kernel, torun)\n",
    "z = np.concatenate(results)\n",
    "# Reintegrate and calculate results\n",
    "# multiprocessing filter/sample:  0.496874094009\n",
    "\n",
    "# bins = np.linspace(z.min(), z.max(), 10)\n",
    "# digitized = np.digitize(z, bins)\n",
    "# bin_means = [z[digitized == i].mean() for i in range(1, len(bins))]\n",
    "# digitized_rescaled = np.interp(\n",
    "#     digitized, (digitized.min(), digitized.max()), (z.min(), z.max())\n",
    "# )"
   ]
  },
  {
   "cell_type": "code",
   "execution_count": 35,
   "metadata": {
    "tags": []
   },
   "outputs": [
    {
     "data": {
      "image/png": "[encoded data removed]",
      "text/plain": [
       "<Figure size 432x288 with 1 Axes>"
      ]
     },
     "metadata": {},
     "output_type": "display_data"
    },
    {
     "name": "stdout",
     "output_type": "stream",
     "text": [
      "0.0002523193087529107\n",
      "4.641650290671348\n"
     ]
    }
   ],
   "source": [
    "ax = sns.scatterplot(\n",
    "    data=metadata_merged,\n",
    "    x=xvar,\n",
    "    y=yvar,\n",
    "    hue=z,\n",
    "    palette=\"viridis\",\n",
    "    edgecolor=None,\n",
    "    s=markersize,\n",
    ")\n",
    "ax.set(xscale=\"log\")\n",
    "ax.set(yscale=\"linear\")\n",
    "\n",
    "ax.set_aspect(\"equal\", adjustable=\"box\")\n",
    "ax.set_aspect(1.0 / ax.get_data_ratio())\n",
    "\n",
    "import matplotlib.ticker as mtick\n",
    "\n",
    "ax.set_xlabel(\"Unique fragments\")\n",
    "ax.set_ylabel(\"TSS enrichment\")\n",
    "plt.axvline(x=1000, color=\"red\")\n",
    "plt.axhline(y=5, color=\"red\")\n",
    "ax.get_legend().remove()\n",
    "plt.tight_layout()\n",
    "\n",
    "fig = plt.gcf()\n",
    "# fig.savefig(\"plts_pub/ufrag_tss_markersize\" + str(markersize) + \"_nosel.svg\", dpi=300)\n",
    "fig.savefig(\"plts_pub/ufrag_tss_markersize\" + str(markersize) + \"_nosel.png\", dpi=600, transparent=True)\n",
    "fig.savefig(\"plts_pub/ufrag_tss_markersize\" + str(markersize) + \"_nosel.tiff\", dpi=600, transparent=True)\n",
    "\n",
    "pool.close()\n",
    "pool.join()\n",
    "\n",
    "plt.show()\n",
    "\n",
    "print(z.min())\n",
    "print(z.max())"
   ]
  },
  {
   "cell_type": "markdown",
   "metadata": {},
   "source": [
    "# TSS enrichment plot for all samples"
   ]
  },
  {
   "cell_type": "code",
   "execution_count": 1,
   "metadata": {},
   "outputs": [
    {
     "data": {
      "text/plain": [
       "sys.version_info(major=3, minor=7, micro=3, releaselevel='final', serial=0)"
      ]
     },
     "execution_count": 1,
     "metadata": {},
     "output_type": "execute_result"
    }
   ],
   "source": [
    "import sys\n",
    "sys.version_info "
   ]
  },
  {
   "cell_type": "markdown",
   "metadata": {},
   "source": [
    "I like to use this little trick: since many of the cistopic commands take a long time (>1 hour), I let the notebook play a sound after they're finished."
   ]
  },
  {
   "cell_type": "code",
   "execution_count": 2,
   "metadata": {},
   "outputs": [
    {
     "data": {
      "text/html": [
       "\n",
       "                <audio  controls=\"controls\" autoplay=\"autoplay\">\n",
       "                    <source src=\"data:audio/x-wav;base64,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\" type=\"audio/x-wav\" />\n",
       "                    Your browser does not support the audio element.\n",
       "                </audio>\n",
       "              "
      ],
      "text/plain": [
       "<IPython.lib.display.Audio object>"
      ]
     },
     "execution_count": 2,
     "metadata": {},
     "output_type": "execute_result"
    }
   ],
   "source": [
    "from IPython.display import Audio\n",
    "sound_file = '/staging/leuven/stg_00002/lcb/fderop/data/00000000_scripts/beep_silent.wav'\n",
    "Audio(sound_file, autoplay=True)"
   ]
  },
  {
   "cell_type": "code",
   "execution_count": 31,
   "metadata": {},
   "outputs": [
    {
     "data": {
      "text/plain": [
       "'0.1.dev214+gc72ef83.d20210522'"
      ]
     },
     "execution_count": 31,
     "metadata": {},
     "output_type": "execute_result"
    }
   ],
   "source": [
    "import pycisTopic\n",
    "pycisTopic.__version__"
   ]
  },
  {
   "cell_type": "code",
   "execution_count": 4,
   "metadata": {},
   "outputs": [],
   "source": [
    "%matplotlib inline"
   ]
  },
  {
   "cell_type": "code",
   "execution_count": 5,
   "metadata": {},
   "outputs": [],
   "source": [
    "import warnings\n",
    "warnings.filterwarnings('ignore')\n",
    "warnings.simplefilter('ignore')"
   ]
  },
  {
   "cell_type": "code",
   "execution_count": 6,
   "metadata": {},
   "outputs": [],
   "source": [
    "import pybiomart as pbm\n",
    "import pandas as pd\n",
    "import pickle\n",
    "\n",
    "from pycisTopic.cistopic_class import *\n",
    "from pycisTopic.qc import *\n",
    "from pycisTopic.lda_models import *\n",
    "from pycisTopic.clust_vis import *\n",
    "from pycisTopic.topic_qc import *\n",
    "from pycisTopic.diff_features import *\n",
    "from pycisTopic.pseudobulk_peak_calling import *\n",
    "from pycisTopic.iterative_peak_calling import *\n",
    "from pycisTopic.topic_binarization import *\n",
    "\n",
    "import glob"
   ]
  },
  {
   "cell_type": "markdown",
   "metadata": {},
   "source": [
    "change the working directory to where you stored your `fragments/` directory."
   ]
  },
  {
   "cell_type": "code",
   "execution_count": 7,
   "metadata": {},
   "outputs": [],
   "source": [
    "import os\n",
    "wdir = '/staging/leuven/stg_00002/lcb/fderop/data/20210407_20210323_reseq/'\n",
    "os.chdir(wdir)"
   ]
  },
  {
   "cell_type": "markdown",
   "metadata": {},
   "source": [
    "cistopic_out is where the cistopic output will go."
   ]
  },
  {
   "cell_type": "code",
   "execution_count": 8,
   "metadata": {},
   "outputs": [],
   "source": [
    "cistopic_out = 'pycistopic_consensus/'"
   ]
  },
  {
   "cell_type": "markdown",
   "metadata": {},
   "source": [
    "# Get genome annotations from biomart\n",
    "This information is necessary for cisTopic to calculate e.g. TSS enrichment. We are analysing mm10 mapped data here, so we pick the mm10 option. The biomart output is reshaped a little to fit cisTopic's needs."
   ]
  },
  {
   "cell_type": "code",
   "execution_count": 9,
   "metadata": {},
   "outputs": [],
   "source": [
    "# For mm10:\n",
    "dataset = pbm.Dataset(name='mmusculus_gene_ensembl',  host='http://nov2020.archive.ensembl.org/')\n",
    "# For human:\n",
    "# dataset = pbm.Dataset(name='hsapiens_gene_ensembl',  host='http://www.ensembl.org')\n",
    "# dataset = pbm.Dataset(name='hsapiens_gene_ensembl',  host='http://grch37.ensembl.org/')\n",
    "\n",
    "\n",
    "# For fly\n",
    "#dataset = pbm.Dataset(name='dmelanogaster_gene_ensembl',  host='http://www.ensembl.org')\n",
    "\n",
    "annot = dataset.query(attributes=['chromosome_name', 'transcription_start_site', 'strand', 'external_gene_name', 'transcript_biotype'])\n",
    "filter = annot['Chromosome/scaffold name'].str.contains('CHR|GL|JH|MT')\n",
    "annot = annot[~filter]\n",
    "annot['Chromosome/scaffold name'] = annot['Chromosome/scaffold name'].str.replace(r'(\\b\\S)', r'chr\\1')\n",
    "annot.columns=['Chromosome', 'Start', 'Strand', 'Gene', 'Transcript_type']\n",
    "annot = annot[annot.Transcript_type == 'protein_coding']"
   ]
  },
  {
   "cell_type": "code",
   "execution_count": 10,
   "metadata": {
    "tags": []
   },
   "outputs": [
    {
     "data": {
      "text/html": [
       "<div>\n",
       "<style scoped>\n",
       "    .dataframe tbody tr th:only-of-type {\n",
       "        vertical-align: middle;\n",
       "    }\n",
       "\n",
       "    .dataframe tbody tr th {\n",
       "        vertical-align: top;\n",
       "    }\n",
       "\n",
       "    .dataframe thead th {\n",
       "        text-align: right;\n",
       "    }\n",
       "</style>\n",
       "<table border=\"1\" class=\"dataframe\">\n",
       "  <thead>\n",
       "    <tr style=\"text-align: right;\">\n",
       "      <th></th>\n",
       "      <th>Chromosome</th>\n",
       "      <th>Start</th>\n",
       "      <th>Strand</th>\n",
       "      <th>Gene</th>\n",
       "      <th>Transcript_type</th>\n",
       "    </tr>\n",
       "  </thead>\n",
       "  <tbody>\n",
       "    <tr>\n",
       "      <th>58</th>\n",
       "      <td>chr2</td>\n",
       "      <td>154551776</td>\n",
       "      <td>1</td>\n",
       "      <td>Actl10</td>\n",
       "      <td>protein_coding</td>\n",
       "    </tr>\n",
       "    <tr>\n",
       "      <th>624</th>\n",
       "      <td>chrX</td>\n",
       "      <td>31117674</td>\n",
       "      <td>1</td>\n",
       "      <td>Btbd35f29</td>\n",
       "      <td>protein_coding</td>\n",
       "    </tr>\n",
       "    <tr>\n",
       "      <th>946</th>\n",
       "      <td>chr7</td>\n",
       "      <td>84915781</td>\n",
       "      <td>1</td>\n",
       "      <td>Olfr290</td>\n",
       "      <td>protein_coding</td>\n",
       "    </tr>\n",
       "    <tr>\n",
       "      <th>977</th>\n",
       "      <td>chrY</td>\n",
       "      <td>90839177</td>\n",
       "      <td>-1</td>\n",
       "      <td>Gm21748</td>\n",
       "      <td>protein_coding</td>\n",
       "    </tr>\n",
       "    <tr>\n",
       "      <th>1000</th>\n",
       "      <td>chr4</td>\n",
       "      <td>108719649</td>\n",
       "      <td>1</td>\n",
       "      <td>3110021N24Rik</td>\n",
       "      <td>protein_coding</td>\n",
       "    </tr>\n",
       "    <tr>\n",
       "      <th>...</th>\n",
       "      <td>...</td>\n",
       "      <td>...</td>\n",
       "      <td>...</td>\n",
       "      <td>...</td>\n",
       "      <td>...</td>\n",
       "    </tr>\n",
       "    <tr>\n",
       "      <th>136372</th>\n",
       "      <td>chr6</td>\n",
       "      <td>134791334</td>\n",
       "      <td>-1</td>\n",
       "      <td>Dusp16</td>\n",
       "      <td>protein_coding</td>\n",
       "    </tr>\n",
       "    <tr>\n",
       "      <th>136373</th>\n",
       "      <td>chr14</td>\n",
       "      <td>51203391</td>\n",
       "      <td>1</td>\n",
       "      <td>Ear14</td>\n",
       "      <td>protein_coding</td>\n",
       "    </tr>\n",
       "    <tr>\n",
       "      <th>136374</th>\n",
       "      <td>chr14</td>\n",
       "      <td>51203689</td>\n",
       "      <td>1</td>\n",
       "      <td>Ear14</td>\n",
       "      <td>protein_coding</td>\n",
       "    </tr>\n",
       "    <tr>\n",
       "      <th>136378</th>\n",
       "      <td>chr12</td>\n",
       "      <td>85274286</td>\n",
       "      <td>1</td>\n",
       "      <td>Zc2hc1c</td>\n",
       "      <td>protein_coding</td>\n",
       "    </tr>\n",
       "    <tr>\n",
       "      <th>136380</th>\n",
       "      <td>chr12</td>\n",
       "      <td>85288591</td>\n",
       "      <td>1</td>\n",
       "      <td>Zc2hc1c</td>\n",
       "      <td>protein_coding</td>\n",
       "    </tr>\n",
       "  </tbody>\n",
       "</table>\n",
       "<p>54721 rows × 5 columns</p>\n",
       "</div>"
      ],
      "text/plain": [
       "       Chromosome      Start  Strand           Gene Transcript_type\n",
       "58           chr2  154551776       1         Actl10  protein_coding\n",
       "624          chrX   31117674       1      Btbd35f29  protein_coding\n",
       "946          chr7   84915781       1        Olfr290  protein_coding\n",
       "977          chrY   90839177      -1        Gm21748  protein_coding\n",
       "1000         chr4  108719649       1  3110021N24Rik  protein_coding\n",
       "...           ...        ...     ...            ...             ...\n",
       "136372       chr6  134791334      -1         Dusp16  protein_coding\n",
       "136373      chr14   51203391       1          Ear14  protein_coding\n",
       "136374      chr14   51203689       1          Ear14  protein_coding\n",
       "136378      chr12   85274286       1        Zc2hc1c  protein_coding\n",
       "136380      chr12   85288591       1        Zc2hc1c  protein_coding\n",
       "\n",
       "[54721 rows x 5 columns]"
      ]
     },
     "execution_count": 10,
     "metadata": {},
     "output_type": "execute_result"
    }
   ],
   "source": [
    "annot"
   ]
  },
  {
   "cell_type": "markdown",
   "metadata": {},
   "source": [
    "# Calculate cell metadata\n",
    "Cistopic is going to calculate a number of statistics, e.g. number of total unique fragments, number of reads in peaks, TSS enrichment, ... on which we will later base our cell filtering. We make two dictionaries, one with a fragments file for each sample, and one with a regions file for each sample."
   ]
  },
  {
   "cell_type": "code",
   "execution_count": 11,
   "metadata": {},
   "outputs": [
    {
     "data": {
      "text/plain": [
       "{'HYA__combined__20210323_cortex_phu_dv_etssb_1.MERGED': 'fragments/HYA__combined__20210323_cortex_phu_dv_etssb_1.MERGED.sinto.fragments.NONEGS.tsv.gz'}"
      ]
     },
     "execution_count": 11,
     "metadata": {},
     "output_type": "execute_result"
    }
   ],
   "source": [
    "filenames = glob.glob('fragments/HYA__combined__20210323_cortex_phu_dv_etssb_1.MERGED.sinto.fragments.NONEGS.tsv.gz')\n",
    "samples = [item.replace(\".sinto.fragments.NONEGS.tsv.gz\", \"\") for item in filenames]\n",
    "samples = [item.replace(\"fragments/\", \"\") for item in samples]\n",
    "fragments_dict = {samples[i]: filenames[i] for i in range(len(samples))}\n",
    "fragments_dict"
   ]
  },
  {
   "cell_type": "markdown",
   "metadata": {},
   "source": [
    "In the first pass of cisTopic, I use SCREEN regions. Later on, I will call peaks on the aggregate of the resulting clusters of this first pass. Re-counting fragments in these consensus peaks will deliver a more accurate clustering. We use a version of the mm10 SCREEN regions that is filtered for the genome blacklist."
   ]
  },
  {
   "cell_type": "code",
   "execution_count": 12,
   "metadata": {},
   "outputs": [
    {
     "data": {
      "text/plain": [
       "{'HYA__combined__20210323_cortex_phu_dv_etssb_1.MERGED': '/staging/leuven/stg_00002/lcb/fderop/data/00000000_regions/mm10_SCREEN_regions/V2.mm10-rDHS-Unfiltered.blacklisted.bed'}"
      ]
     },
     "execution_count": 12,
     "metadata": {},
     "output_type": "execute_result"
    }
   ],
   "source": [
    "regions = '/staging/leuven/stg_00002/lcb/fderop/data/00000000_regions/mm10_SCREEN_regions/V2.mm10-rDHS-Unfiltered.blacklisted.bed'\n",
    "regionslist = [regions] * len(fragments_dict)\n",
    "path_to_regions = {samples[i]: regionslist[i] for i in range(len(samples))}\n",
    "path_to_regions"
   ]
  },
  {
   "cell_type": "markdown",
   "metadata": {},
   "source": [
    "Now, I let cisTopic do its thing and calculate all the metadata. You can vary `n_cpu` to speed up the process and `n_frag` to change the minimum number of fragments associated with a barcode for cisTopic to even consider it for metadata calculation."
   ]
  },
  {
   "cell_type": "code",
   "execution_count": 14,
   "metadata": {
    "tags": []
   },
   "outputs": [
    {
     "name": "stdout",
     "output_type": "stream",
     "text": [
      "2021-06-03 16:39:34,977 cisTopic     INFO     n_cpu is larger than the number of samples. Setting n_cpu to the number of samples\n"
     ]
    },
    {
     "name": "stderr",
     "output_type": "stream",
     "text": [
      "2021-06-03 16:39:35,461\tINFO services.py:1174 -- View the Ray dashboard at \u001b[1m\u001b[32mhttp://127.0.0.1:8265\u001b[39m\u001b[22m\n"
     ]
    },
    {
     "name": "stdout",
     "output_type": "stream",
     "text": [
      "\u001b[2m\u001b[36m(pid=13936)\u001b[0m 2021-06-03 16:40:06,220 cisTopic     INFO     Reading HYA__combined__20210323_cortex_phu_dv_etssb_1.MERGED\n",
      "\u001b[2m\u001b[36m(pid=13936)\u001b[0m 2021-06-03 16:40:06,220 cisTopic     INFO     Reading HYA__combined__20210323_cortex_phu_dv_etssb_1.MERGED\n",
      "\u001b[2m\u001b[36m(pid=13936)\u001b[0m 2021-06-03 16:48:43,414 cisTopic     INFO     Computing barcode rank plot for HYA__combined__20210323_cortex_phu_dv_etssb_1.MERGED\n",
      "\u001b[2m\u001b[36m(pid=13936)\u001b[0m 2021-06-03 16:48:43,414 cisTopic     INFO     Counting fragments\n",
      "\u001b[2m\u001b[36m(pid=13936)\u001b[0m 2021-06-03 16:48:43,414 cisTopic     INFO     Computing barcode rank plot for HYA__combined__20210323_cortex_phu_dv_etssb_1.MERGED\n",
      "\u001b[2m\u001b[36m(pid=13936)\u001b[0m 2021-06-03 16:48:43,414 cisTopic     INFO     Counting fragments\n",
      "\u001b[2m\u001b[36m(pid=13936)\u001b[0m 2021-06-03 16:49:20,730 cisTopic     INFO     Marking barcodes with more than 10\n",
      "\u001b[2m\u001b[36m(pid=13936)\u001b[0m 2021-06-03 16:49:20,730 cisTopic     INFO     Marking barcodes with more than 10\n",
      "\u001b[2m\u001b[36m(pid=13936)\u001b[0m 2021-06-03 16:49:27,753 numexpr.utils INFO     Note: NumExpr detected 36 cores but \"NUMEXPR_MAX_THREADS\" not set, so enforcing safe limit of 8.\n",
      "\u001b[2m\u001b[36m(pid=13936)\u001b[0m 2021-06-03 16:49:27,753 numexpr.utils INFO     Note: NumExpr detected 36 cores but \"NUMEXPR_MAX_THREADS\" not set, so enforcing safe limit of 8.\n",
      "\u001b[2m\u001b[36m(pid=13936)\u001b[0m 2021-06-03 16:49:27,835 cisTopic     INFO     Returning plot data\n",
      "\u001b[2m\u001b[36m(pid=13936)\u001b[0m 2021-06-03 16:49:27,835 cisTopic     INFO     Returning plot data\n",
      "\u001b[2m\u001b[36m(pid=13936)\u001b[0m 2021-06-03 16:49:28,196 cisTopic     INFO     Returning valid barcodes\n",
      "\u001b[2m\u001b[36m(pid=13936)\u001b[0m 2021-06-03 16:49:28,196 cisTopic     INFO     Returning valid barcodes\n",
      "\u001b[2m\u001b[36m(pid=13936)\u001b[0m 2021-06-03 16:49:45,148 cisTopic     INFO     Computing duplicate rate plot for HYA__combined__20210323_cortex_phu_dv_etssb_1.MERGED\n",
      "\u001b[2m\u001b[36m(pid=13936)\u001b[0m 2021-06-03 16:49:45,148 cisTopic     INFO     Computing duplicate rate plot for HYA__combined__20210323_cortex_phu_dv_etssb_1.MERGED\n",
      "\u001b[2m\u001b[36m(pid=13936)\u001b[0m 2021-06-03 16:50:11,251 cisTopic     INFO     Return plot data\n",
      "\u001b[2m\u001b[36m(pid=13936)\u001b[0m 2021-06-03 16:50:11,251 cisTopic     INFO     Return plot data\n",
      "\u001b[2m\u001b[36m(pid=13936)\u001b[0m 2021-06-03 16:50:11,516 cisTopic     INFO     Computing insert size distribution for HYA__combined__20210323_cortex_phu_dv_etssb_1.MERGED\n",
      "\u001b[2m\u001b[36m(pid=13936)\u001b[0m 2021-06-03 16:50:11,516 cisTopic     INFO     Counting fragments\n",
      "\u001b[2m\u001b[36m(pid=13936)\u001b[0m 2021-06-03 16:50:11,516 cisTopic     INFO     Computing insert size distribution for HYA__combined__20210323_cortex_phu_dv_etssb_1.MERGED\n",
      "\u001b[2m\u001b[36m(pid=13936)\u001b[0m 2021-06-03 16:50:11,516 cisTopic     INFO     Counting fragments\n",
      "\u001b[2m\u001b[36m(pid=13936)\u001b[0m 2021-06-03 16:50:18,086 cisTopic     INFO     Returning plot data\n",
      "\u001b[2m\u001b[36m(pid=13936)\u001b[0m 2021-06-03 16:50:18,086 cisTopic     INFO     Returning plot data\n",
      "\u001b[2m\u001b[36m(pid=13936)\u001b[0m 2021-06-03 16:51:56,874 cisTopic     INFO     Computing TSS profile for HYA__combined__20210323_cortex_phu_dv_etssb_1.MERGED\n",
      "\u001b[2m\u001b[36m(pid=13936)\u001b[0m 2021-06-03 16:51:56,874 cisTopic     INFO     Computing TSS profile for HYA__combined__20210323_cortex_phu_dv_etssb_1.MERGED\n",
      "\u001b[2m\u001b[36m(pid=13936)\u001b[0m 2021-06-03 16:53:55,175 cisTopic     INFO     Formatting annnotation\n",
      "\u001b[2m\u001b[36m(pid=13936)\u001b[0m 2021-06-03 16:53:55,175 cisTopic     INFO     Formatting annnotation\n",
      "\u001b[2m\u001b[36m(pid=13936)\u001b[0m 2021-06-03 16:53:55,269 cisTopic     INFO     Creating coverage matrix\n",
      "\u001b[2m\u001b[36m(pid=13936)\u001b[0m 2021-06-03 16:53:55,269 cisTopic     INFO     Creating coverage matrix\n"
     ]
    },
    {
     "ename": "RayTaskError(ValueError)",
     "evalue": "\u001b[36mray::compute_qc_stats_ray()\u001b[39m (pid=13936, ip=10.118.230.159)\n  File \"python/ray/_raylet.pyx\", line 480, in ray._raylet.execute_task\n  File \"/staging/leuven/stg_00002/lcb/fderop/software_2/anaconda3/lib/python3.7/site-packages/pycisTopic/qc.py\", line 1044, in compute_qc_stats_ray\n    return_plot_data=True)\n  File \"/staging/leuven/stg_00002/lcb/fderop/software_2/anaconda3/lib/python3.7/site-packages/pycisTopic/qc.py\", line 496, in profile_tss\n    TSS_matrix = get_tss_matrix(fragments, flank_window, tss_space_annotation)\n  File \"/staging/leuven/stg_00002/lcb/fderop/software_2/anaconda3/lib/python3.7/site-packages/pycisTopic/utils.py\", line 325, in get_tss_matrix\n    [\"Position\", \"Barcode\"], observed=True, sort=False).size().unstack(level=\"Position\", fill_value=0).astype(np.int32)\n  File \"/staging/leuven/stg_00002/lcb/fderop/software_2/anaconda3/lib/python3.7/site-packages/pandas/core/series.py\", line 3829, in unstack\n    return unstack(self, level, fill_value)\n  File \"/staging/leuven/stg_00002/lcb/fderop/software_2/anaconda3/lib/python3.7/site-packages/pandas/core/reshape/reshape.py\", line 431, in unstack\n    obj.index, level=level, constructor=obj._constructor_expanddim\n  File \"/staging/leuven/stg_00002/lcb/fderop/software_2/anaconda3/lib/python3.7/site-packages/pandas/core/reshape/reshape.py\", line 116, in __init__\n    raise ValueError(\"Unstacked DataFrame is too big, causing int32 overflow\")\nValueError: Unstacked DataFrame is too big, causing int32 overflow",
     "output_type": "error",
     "traceback": [
      "\u001b[0;31m---------------------------------------------------------------------------\u001b[0m",
      "\u001b[0;31mRayTaskError(ValueError)\u001b[0m                  Traceback (most recent call last)",
      "\u001b[0;32m<ipython-input-14-21cb39987634>\u001b[0m in \u001b[0;36m<module>\u001b[0;34m\u001b[0m\n\u001b[1;32m     14\u001b[0m                 \u001b[0mtss_rolling_window\u001b[0m \u001b[0;34m=\u001b[0m \u001b[0;36m10\u001b[0m\u001b[0;34m,\u001b[0m\u001b[0;34m\u001b[0m\u001b[0;34m\u001b[0m\u001b[0m\n\u001b[1;32m     15\u001b[0m                 \u001b[0;31m# min_norm=0.2,\u001b[0m\u001b[0;34m\u001b[0m\u001b[0;34m\u001b[0m\u001b[0;34m\u001b[0m\u001b[0m\n\u001b[0;32m---> 16\u001b[0;31m                 remove_duplicates = True)\n\u001b[0m",
      "\u001b[0;32m/staging/leuven/stg_00002/lcb/fderop/software_2/anaconda3/lib/python3.7/site-packages/pycisTopic/qc.py\u001b[0m in \u001b[0;36mcompute_qc_stats\u001b[0;34m(fragments_dict, tss_annotation, stats, label_list, path_to_regions, n_cpu, partition, valid_bc, n_frag, n_bc, tss_flank_window, tss_window, tss_minimum_signal_window, tss_rolling_window, min_norm, check_for_duplicates, remove_duplicates, **kwargs)\u001b[0m\n\u001b[1;32m    877\u001b[0m                 \u001b[0mcheck_for_duplicates\u001b[0m\u001b[0;34m=\u001b[0m\u001b[0mcheck_for_duplicates\u001b[0m\u001b[0;34m,\u001b[0m\u001b[0;34m\u001b[0m\u001b[0;34m\u001b[0m\u001b[0m\n\u001b[1;32m    878\u001b[0m                 \u001b[0mremove_duplicates\u001b[0m\u001b[0;34m=\u001b[0m\u001b[0mremove_duplicates\u001b[0m\u001b[0;34m)\u001b[0m \u001b[0;32mfor\u001b[0m \u001b[0mi\u001b[0m \u001b[0;32min\u001b[0m \u001b[0mrange\u001b[0m\u001b[0;34m(\u001b[0m\u001b[0;34m\u001b[0m\u001b[0;34m\u001b[0m\u001b[0m\n\u001b[0;32m--> 879\u001b[0;31m                     len(fragments_list))])\n\u001b[0m\u001b[1;32m    880\u001b[0m     \u001b[0mray\u001b[0m\u001b[0;34m.\u001b[0m\u001b[0mshutdown\u001b[0m\u001b[0;34m(\u001b[0m\u001b[0;34m)\u001b[0m\u001b[0;34m\u001b[0m\u001b[0;34m\u001b[0m\u001b[0m\n\u001b[1;32m    881\u001b[0m     metadata_dict = {key: x[key] for x in list(\n",
      "\u001b[0;32m/staging/leuven/stg_00002/lcb/fderop/software_2/anaconda3/lib/python3.7/site-packages/ray/_private/client_mode_hook.py\u001b[0m in \u001b[0;36mwrapper\u001b[0;34m(*args, **kwargs)\u001b[0m\n\u001b[1;32m     45\u001b[0m         \u001b[0;32mif\u001b[0m \u001b[0mclient_mode_enabled\u001b[0m \u001b[0;32mand\u001b[0m \u001b[0m_client_hook_enabled\u001b[0m\u001b[0;34m:\u001b[0m\u001b[0;34m\u001b[0m\u001b[0;34m\u001b[0m\u001b[0m\n\u001b[1;32m     46\u001b[0m             \u001b[0;32mreturn\u001b[0m \u001b[0mgetattr\u001b[0m\u001b[0;34m(\u001b[0m\u001b[0mray\u001b[0m\u001b[0;34m,\u001b[0m \u001b[0mfunc\u001b[0m\u001b[0;34m.\u001b[0m\u001b[0m__name__\u001b[0m\u001b[0;34m)\u001b[0m\u001b[0;34m(\u001b[0m\u001b[0;34m*\u001b[0m\u001b[0margs\u001b[0m\u001b[0;34m,\u001b[0m \u001b[0;34m**\u001b[0m\u001b[0mkwargs\u001b[0m\u001b[0;34m)\u001b[0m\u001b[0;34m\u001b[0m\u001b[0;34m\u001b[0m\u001b[0m\n\u001b[0;32m---> 47\u001b[0;31m         \u001b[0;32mreturn\u001b[0m \u001b[0mfunc\u001b[0m\u001b[0;34m(\u001b[0m\u001b[0;34m*\u001b[0m\u001b[0margs\u001b[0m\u001b[0;34m,\u001b[0m \u001b[0;34m**\u001b[0m\u001b[0mkwargs\u001b[0m\u001b[0;34m)\u001b[0m\u001b[0;34m\u001b[0m\u001b[0;34m\u001b[0m\u001b[0m\n\u001b[0m\u001b[1;32m     48\u001b[0m \u001b[0;34m\u001b[0m\u001b[0m\n\u001b[1;32m     49\u001b[0m     \u001b[0;32mreturn\u001b[0m \u001b[0mwrapper\u001b[0m\u001b[0;34m\u001b[0m\u001b[0;34m\u001b[0m\u001b[0m\n",
      "\u001b[0;32m/staging/leuven/stg_00002/lcb/fderop/software_2/anaconda3/lib/python3.7/site-packages/ray/worker.py\u001b[0m in \u001b[0;36mget\u001b[0;34m(object_refs, timeout)\u001b[0m\n\u001b[1;32m   1454\u001b[0m                     \u001b[0mworker\u001b[0m\u001b[0;34m.\u001b[0m\u001b[0mcore_worker\u001b[0m\u001b[0;34m.\u001b[0m\u001b[0mdump_object_store_memory_usage\u001b[0m\u001b[0;34m(\u001b[0m\u001b[0;34m)\u001b[0m\u001b[0;34m\u001b[0m\u001b[0;34m\u001b[0m\u001b[0m\n\u001b[1;32m   1455\u001b[0m                 \u001b[0;32mif\u001b[0m \u001b[0misinstance\u001b[0m\u001b[0;34m(\u001b[0m\u001b[0mvalue\u001b[0m\u001b[0;34m,\u001b[0m \u001b[0mRayTaskError\u001b[0m\u001b[0;34m)\u001b[0m\u001b[0;34m:\u001b[0m\u001b[0;34m\u001b[0m\u001b[0;34m\u001b[0m\u001b[0m\n\u001b[0;32m-> 1456\u001b[0;31m                     \u001b[0;32mraise\u001b[0m \u001b[0mvalue\u001b[0m\u001b[0;34m.\u001b[0m\u001b[0mas_instanceof_cause\u001b[0m\u001b[0;34m(\u001b[0m\u001b[0;34m)\u001b[0m\u001b[0;34m\u001b[0m\u001b[0;34m\u001b[0m\u001b[0m\n\u001b[0m\u001b[1;32m   1457\u001b[0m                 \u001b[0;32melse\u001b[0m\u001b[0;34m:\u001b[0m\u001b[0;34m\u001b[0m\u001b[0;34m\u001b[0m\u001b[0m\n\u001b[1;32m   1458\u001b[0m                     \u001b[0;32mraise\u001b[0m \u001b[0mvalue\u001b[0m\u001b[0;34m\u001b[0m\u001b[0;34m\u001b[0m\u001b[0m\n",
      "\u001b[0;31mRayTaskError(ValueError)\u001b[0m: \u001b[36mray::compute_qc_stats_ray()\u001b[39m (pid=13936, ip=10.118.230.159)\n  File \"python/ray/_raylet.pyx\", line 480, in ray._raylet.execute_task\n  File \"/staging/leuven/stg_00002/lcb/fderop/software_2/anaconda3/lib/python3.7/site-packages/pycisTopic/qc.py\", line 1044, in compute_qc_stats_ray\n    return_plot_data=True)\n  File \"/staging/leuven/stg_00002/lcb/fderop/software_2/anaconda3/lib/python3.7/site-packages/pycisTopic/qc.py\", line 496, in profile_tss\n    TSS_matrix = get_tss_matrix(fragments, flank_window, tss_space_annotation)\n  File \"/staging/leuven/stg_00002/lcb/fderop/software_2/anaconda3/lib/python3.7/site-packages/pycisTopic/utils.py\", line 325, in get_tss_matrix\n    [\"Position\", \"Barcode\"], observed=True, sort=False).size().unstack(level=\"Position\", fill_value=0).astype(np.int32)\n  File \"/staging/leuven/stg_00002/lcb/fderop/software_2/anaconda3/lib/python3.7/site-packages/pandas/core/series.py\", line 3829, in unstack\n    return unstack(self, level, fill_value)\n  File \"/staging/leuven/stg_00002/lcb/fderop/software_2/anaconda3/lib/python3.7/site-packages/pandas/core/reshape/reshape.py\", line 431, in unstack\n    obj.index, level=level, constructor=obj._constructor_expanddim\n  File \"/staging/leuven/stg_00002/lcb/fderop/software_2/anaconda3/lib/python3.7/site-packages/pandas/core/reshape/reshape.py\", line 116, in __init__\n    raise ValueError(\"Unstacked DataFrame is too big, causing int32 overflow\")\nValueError: Unstacked DataFrame is too big, causing int32 overflow"
     ]
    }
   ],
   "source": [
    "ray.shutdown()\n",
    "metadata_bc_dict, profile_data_dict = compute_qc_stats(fragments_dict = fragments_dict,\n",
    "                tss_annotation = annot,\n",
    "                stats=['barcode_rank_plot', 'duplicate_rate', 'insert_size_distribution', 'profile_tss', 'frip'],\n",
    "                label_list = None,\n",
    "                path_to_regions = path_to_regions,\n",
    "                n_cpu = 16,\n",
    "                valid_bc = None,\n",
    "                n_frag = 10,\n",
    "                n_bc = None,\n",
    "                tss_flank_window = 1500,\n",
    "                tss_window = 50,\n",
    "                tss_minimum_signal_window = 100,\n",
    "                tss_rolling_window = 10,\n",
    "                # min_norm=0.2,\n",
    "                remove_duplicates = True)"
   ]
  },
  {
   "cell_type": "markdown",
   "metadata": {},
   "source": [
    "too big... we run the aggregate tss function only:"
   ]
  },
  {
   "cell_type": "code",
   "execution_count": 28,
   "metadata": {},
   "outputs": [],
   "source": [
    "def profile_tss(fragments: Union[str, pd.DataFrame],\n",
    "                annotation: Union[pd.DataFrame, pr.PyRanges],\n",
    "                valid_bc: Optional[List[str]] = None,\n",
    "                plot: Optional[bool] = True,\n",
    "                plot_data: Optional[pd.DataFrame] = None,\n",
    "                n_cpu: Optional[int] = 1,\n",
    "                partition: Optional[int] = 5,\n",
    "                flank_window: Optional[int] = 1000,\n",
    "                tss_window: Optional[int] = 50,\n",
    "                minimum_signal_window: Optional[int] = 100,\n",
    "                rolling_window: Optional[int] = 10,\n",
    "                min_norm: Optional[int] = 0.2,\n",
    "                color: Optional[str] = None,\n",
    "                save: Optional[str] = None,\n",
    "                return_TSS_enrichment_per_barcode: Optional[bool] = False,\n",
    "                return_TSS_coverage_matrix_per_barcode: Optional[bool] = False,\n",
    "                return_plot_data: Optional[bool] = False):\n",
    "    \"\"\"\n",
    "    Plot the Transcription Start Site (TSS) profile. It is computed as the summed accessibility signal (sample-level), or the number of cut sites per base (barcode-level), in a space around the full set of annotated TSSs and is normalized by the minimum signal in the window. This profile is helpful to assess the signal-to-noise ratio of the library, as it is well known that TSSs and the promoter regions around them have, on average, a high degree of chromatin accessibility compared to the intergenic and intronic regions of the genome.\n",
    "​\n",
    "    Parameters\n",
    "    ---------\n",
    "    fragments: str or pd.DataFrame\n",
    "            The path to the fragments file containing chromosome, start, end and assigned barcode for each read (e.g. from CellRanger ATAC (/outs/fragments.tsv.gz)) or a data frame\n",
    "            containing 'Chromosome', 'Start', 'End', 'Name', and 'Score', which indicates the number of times that a fragments is found assigned to that barcode. The fragments data\n",
    "            frame can be obtained using PyRanges:\n",
    "                    import pyranges as pr\n",
    "                    fragments = pr.read_bed(fragments_file, as_df=True))\n",
    "    annotation: pd.DataFrame or pyRanges\n",
    "            A data frame or pyRanges containing transcription start sites for each gene, with 'Chromosome', 'Start' and 'Strand' as columns (additional columns will be ignored). This data frame can be easily obtained via pybiomart:\n",
    "                    # Get TSS annotations\n",
    "                    import pybiomart as pbm\n",
    "                    # For mouse\n",
    "                    dataset = pbm.Dataset(name='mmusculus_gene_ensembl',  host='http://www.ensembl.org')\n",
    "                    # For human\n",
    "                    dataset = pbm.Dataset(name='hsapiens_gene_ensembl',  host='http://www.ensembl.org')\n",
    "                    # For fly\n",
    "                    dataset = pbm.Dataset(name='dmelanogaster_gene_ensembl',  host='http://www.ensembl.org')\n",
    "                    # Query TSS list and format\n",
    "                    annot = dataset.query(attributes=['chromosome_name', 'transcription_start_site', 'strand', 'external_gene_name', 'transcript_biotype'])\n",
    "                    filter = annot['Chromosome/scaffold name'].str.contains('CHR|GL|JH|MT')\n",
    "                    annot = annot[~filter]\n",
    "                    annot['Chromosome/scaffold name'] = annot['Chromosome/scaffold name'].str.replace(r'(\\b\\\\S)', r'chr\\1')\n",
    "                    annot.columns=['Chromosome', 'Start', 'Strand', 'Gene', 'Transcript_type']\n",
    "                    # Select TSSs of protein coding genes\n",
    "                    annot = annot[annot.Transcript_type == 'protein_coding']\n",
    "    valid_bc: list, optional\n",
    "            A list containing selected barcodes. Default: None,\n",
    "    plot: bool, optional\n",
    "            Whether to return the plot to the console. Default: True.\n",
    "    plot_data: pd.DataFrame, optional\n",
    "            Data frame containing precomputed plot data. Default: None.\n",
    "    flank_window: int, optional\n",
    "            Flanking window around the TSS. Default: 1000 (+/- 1000 bp).\n",
    "    tss_window: int, optional\n",
    "            Window around the TSS used to count fragments in the TSS when calculating the TSS enrichment per barcode. Default: 50 (+/- 50 bp).\n",
    "    minimum_signal_window: int, optional\n",
    "            Tail window use to normalize the TSS enrichment. Default: 100 (average signal in the 100bp in the extremes of the TSS window).\n",
    "    rolling_window: int, optional\n",
    "            Rolling window used to smooth signal. Default: 10.\n",
    "    min_norm: int, optional\n",
    "            Minimum normalization score. If the average minimum signal value is below this value, this number is used to normalize the TSS signal. This approach penalizes cells with fewer reads.\n",
    "    color: str, optional\n",
    "            Line color for the plot. Default: None.\n",
    "    save: str, optional\n",
    "            Output file to save plot. Default: None.\n",
    "    remove_duplicates: bool, optional\n",
    "            Whether to remove duplicates. Default: True.\n",
    "    return_TSS_enrichment_per_barcode: bool, optional\n",
    "            Whether to return a data frame containing the normalized enrichment score on the TSS for each barcode. Default: False.\n",
    "    return_TSS_coverage_matrix_per_barcode: bool, optional\n",
    "            Whether to return a matrix containing the normalized enrichment in each position in the window for each barcode, with positions as columns and barcodes as rows. Default: False.\n",
    "    return_plot_data: bool, optional\n",
    "                    Whether to return the TSS profile plot data. Default: False.\n",
    "\n",
    "    Return\n",
    "    ------\n",
    "    dict\n",
    "    A dictionary containing a :class:`pd.DataFrame` with the normalized enrichment score on the TSS for each barcode, a :class:`pd.DataFrame` with the normalized enrichment scores in each position for each barcode and/or a :class:`pd.DataFrame` with the TSS profile plot data.\n",
    "    \"\"\"\n",
    "    # Create logger\n",
    "    level = logging.INFO\n",
    "    format = '%(asctime)s %(name)-12s %(levelname)-8s %(message)s'\n",
    "    handlers = [logging.StreamHandler(stream=sys.stdout)]\n",
    "    logging.basicConfig(level=level, format=format, handlers=handlers)\n",
    "    log = logging.getLogger('cisTopic')\n",
    "\n",
    "    if isinstance(plot_data, pd.DataFrame):\n",
    "        log.info('Using plot_data. TSS enrichment per barcode will not be computed')\n",
    "        fig, ax = plt.subplots()\n",
    "        ax.plot(plot_data.Position, plot_data.TSSEnrichment)\n",
    "        plt.xlim(-space_TSS, space_TSS)\n",
    "        plt.xlabel(\"Position from TSS\", fontsize=10)\n",
    "        plt.ylabel(\"Normalized enrichment\", fontsize=10)\n",
    "    else:\n",
    "        if isinstance(fragments, str):\n",
    "            log.info('Reading fragments file')\n",
    "            fragments = read_fragments_from_file(fragments)\n",
    "        else:\n",
    "            if isinstance(fragments, pd.DataFrame):\n",
    "                fragments = pr.PyRanges(fragments)\n",
    "\n",
    "        if valid_bc is not None:\n",
    "            log.info('Using provided valid barcodes')\n",
    "            fragments = fragments[fragments.Name.isin(set(valid_bc))]\n",
    "        else:\n",
    "            valid_bc = list(set(fragments.Name.tolist()))\n",
    "\n",
    "        log.info('Formatting annnotation')\n",
    "        if isinstance(annotation, pr.PyRanges):\n",
    "            annotation = annotation.df\n",
    "        tss_space_annotation = annotation[['Chromosome', 'Start', 'Strand']]\n",
    "        tss_space_annotation['End'] = tss_space_annotation['Start'] + flank_window\n",
    "        tss_space_annotation['Start'] = tss_space_annotation['Start'] - flank_window\n",
    "        tss_space_annotation = tss_space_annotation[[\n",
    "            \"Chromosome\", \"Start\", \"End\", \"Strand\"]]\n",
    "        tss_space_annotation = pr.PyRanges(tss_space_annotation)\n",
    "        \n",
    "        log.info('Creating coverage matrix')\n",
    "        if partition > 1:\n",
    "            barcode_list = np.array_split(valid_bc, partition)\n",
    "            TSS_matrix = pd.concat([get_tss_matrix(fragments[fragments.Name.isin(set(barcode_list[x]))],\n",
    "         flank_window, tss_space_annotation).fillna(0) for x in range(partition)])\n",
    "        else:\n",
    "            TSS_matrix = get_tss_matrix(fragments, flank_window, tss_space_annotation)\n",
    "        log.info('Coverage matrix done') \n",
    "        if not TSS_matrix.columns.tolist() == list(range(2 * flank_window + 1)):\n",
    "            missing_values = list(set(TSS_matrix.columns.tolist()).symmetric_difference(\n",
    "                list(range(2 * flank_window + 1))))\n",
    "            for x in missing_values:\n",
    "                TSS_matrix[x] = 0\n",
    "        \n",
    "            TSS_matrix = TSS_matrix.reindex(sorted(TSS_matrix.columns), axis=1)\n",
    "        \n",
    "        if rolling_window is not None:\n",
    "            TSS_matrix = TSS_matrix.rolling(\n",
    "                window=rolling_window, min_periods=0, axis=1).mean()\n",
    "        \n",
    "        TSS_counts = TSS_matrix.values.sum(axis=0) \n",
    "        div = max((np.mean(TSS_counts[-minimum_signal_window:]) +\n",
    "                  np.mean(TSS_counts[0:minimum_signal_window])) / 2, min_norm)    \n",
    "        if plot is True or save is not None:\n",
    "            fig, ax = plt.subplots()\n",
    "            ax.plot(range(-flank_window - 1, flank_window),\n",
    "                TSS_counts / div, color=color)\n",
    "            plt.xlim(-flank_window, flank_window)\n",
    "            plt.xlabel(\"Position from TSS\", fontsize=10)\n",
    "            plt.ylabel(\"Normalized enrichment\", fontsize=10)\n",
    "            if save is not None:\n",
    "                fig.savefig(save)\n",
    "            if plot:\n",
    "                log.info('Plotting normalized sample TSS enrichment')\n",
    "                plt.show()\n",
    "            else:\n",
    "                   plt.close(fig)\n",
    "\n",
    "    output = {}\n",
    "    flag = False\n",
    "    if return_TSS_enrichment_per_barcode:\n",
    "        TSS_enrich = TSS_matrix.apply(\n",
    "            lambda x: x / max([((np.mean(x[-minimum_signal_window:]) + np.mean(x[0:minimum_signal_window])) / 2), min_norm]), axis=1)\n",
    "        TSS_enrich = pd.DataFrame(TSS_enrich.iloc[:, range(\n",
    "            flank_window - tss_window, flank_window + tss_window)].mean(axis=1))\n",
    "        TSS_enrich.columns = ['TSS_enrichment']\n",
    "        output.update({'TSS_enrichment': TSS_enrich})\n",
    "        flag = True\n",
    "    if return_TSS_coverage_matrix_per_barcode:\n",
    "        log.info('Returning normalized TSS coverage matrix per barcode')\n",
    "        TSS_mat = TSS_matrix.apply(\n",
    "            lambda x: x / max([((np.mean(x[-minimum_signal_window:]) + np.mean(x[0:minimum_signal_window])) / 2), min_norm]), axis=1)\n",
    "        output.update({'TSS_coverage_mat': TSS_mat})\n",
    "        flag = True\n",
    "    if return_plot_data:\n",
    "        log.info('Returning normalized sample TSS enrichment data')\n",
    "        output.update({'TSS_plot_data': pd.DataFrame(\n",
    "            {'Position': range(-flank_window - 1, flank_window), 'TSS_enrichment': TSS_counts / div})})\n",
    "        flag = True\n",
    "    del TSS_matrix\n",
    "    # ADD\n",
    "    output.update({'Unnormalized_cut_sites': TSS_counts})\n",
    "    if flag:\n",
    "        return output"
   ]
  },
  {
   "cell_type": "code",
   "execution_count": null,
   "metadata": {},
   "outputs": [],
   "source": [
    "ray.shutdown()\n",
    "metadata_bc_dict, profile_data_dict = compute_qc_stats(fragments_dict = fragments_dict,\n",
    "                tss_annotation = annot,\n",
    "                stats=['barcode_rank_plot', 'duplicate_rate', 'insert_size_distribution', 'profile_tss', 'frip'],\n",
    "                label_list = None,\n",
    "                path_to_regions = path_to_regions,\n",
    "                n_cpu = 16,\n",
    "                valid_bc = None,\n",
    "                n_frag = 10,\n",
    "                n_bc = None,\n",
    "                tss_flank_window = 1500,\n",
    "                tss_window = 50,\n",
    "                tss_minimum_signal_window = 100,\n",
    "                tss_rolling_window = 10,\n",
    "                # min_norm=0.2,\n",
    "                remove_duplicates = True)"
   ]
  },
  {
   "cell_type": "code",
   "execution_count": 41,
   "metadata": {},
   "outputs": [],
   "source": [
    "def read_fragments_from_file(f):\n",
    "    \"\"\"\n",
    "    Read fragments file as pyranges, compatible with CellRange 2.0.0\n",
    "    \"\"\"\n",
    "    columns = \"Chromosome Start End Name Score Strand ThickStart ThickEnd ItemRGB BlockCount BlockSizes BlockStarts\".split(\n",
    "    )\n",
    "    df = pd.read_table(f, comment=\"#\", header=None)\n",
    "    df.columns = columns[:df.shape[1]]\n",
    "    return pr.PyRanges(df)"
   ]
  },
  {
   "cell_type": "code",
   "execution_count": 46,
   "metadata": {},
   "outputs": [
    {
     "name": "stdout",
     "output_type": "stream",
     "text": [
      "2021-06-03 17:44:00,731 cisTopic     INFO     Reading fragments file\n",
      "2021-06-03 17:48:33,931 cisTopic     INFO     Formatting annnotation\n",
      "2021-06-03 17:48:34,034 cisTopic     INFO     Creating coverage matrix\n",
      "2021-06-03 17:58:15,396 cisTopic     INFO     Coverage matrix done\n",
      "2021-06-03 18:01:16,741 cisTopic     INFO     Plotting normalized sample TSS enrichment\n"
     ]
    },
    {
     "data": {
      "image/png": "[encoded data removed]",
      "text/plain": [
       "<Figure size 432x288 with 1 Axes>"
      ]
     },
     "metadata": {
      "needs_background": "light"
     },
     "output_type": "display_data"
    },
    {
     "name": "stdout",
     "output_type": "stream",
     "text": [
      "2021-06-03 18:01:16,872 cisTopic     INFO     Returning normalized sample TSS enrichment data\n"
     ]
    }
   ],
   "source": [
    "output = profile_tss(fragments = fragments_dict['HYA__combined__20210323_cortex_phu_dv_etssb_1.MERGED'],\n",
    "                annotation = annot,\n",
    "                valid_bc = None,\n",
    "                plot = True,\n",
    "                plot_data = None,\n",
    "                flank_window = 1500,\n",
    "                tss_window = 50,\n",
    "                minimum_signal_window = 100,\n",
    "                rolling_window = 10,\n",
    "                min_norm = 0.2,\n",
    "                return_TSS_enrichment_per_barcode = False,\n",
    "                return_TSS_coverage_matrix_per_barcode = False,\n",
    "                return_plot_data = True)"
   ]
  },
  {
   "cell_type": "code",
   "execution_count": 62,
   "metadata": {},
   "outputs": [
    {
     "data": {
      "text/html": [
       "<div>\n",
       "<style scoped>\n",
       "    .dataframe tbody tr th:only-of-type {\n",
       "        vertical-align: middle;\n",
       "    }\n",
       "\n",
       "    .dataframe tbody tr th {\n",
       "        vertical-align: top;\n",
       "    }\n",
       "\n",
       "    .dataframe thead th {\n",
       "        text-align: right;\n",
       "    }\n",
       "</style>\n",
       "<table border=\"1\" class=\"dataframe\">\n",
       "  <thead>\n",
       "    <tr style=\"text-align: right;\">\n",
       "      <th></th>\n",
       "      <th>Position</th>\n",
       "      <th>TSS_enrichment</th>\n",
       "    </tr>\n",
       "  </thead>\n",
       "  <tbody>\n",
       "    <tr>\n",
       "      <th>0</th>\n",
       "      <td>-1501</td>\n",
       "      <td>0.525492</td>\n",
       "    </tr>\n",
       "    <tr>\n",
       "      <th>1</th>\n",
       "      <td>-1500</td>\n",
       "      <td>0.754025</td>\n",
       "    </tr>\n",
       "    <tr>\n",
       "      <th>2</th>\n",
       "      <td>-1499</td>\n",
       "      <td>0.833768</td>\n",
       "    </tr>\n",
       "    <tr>\n",
       "      <th>3</th>\n",
       "      <td>-1498</td>\n",
       "      <td>0.873037</td>\n",
       "    </tr>\n",
       "    <tr>\n",
       "      <th>4</th>\n",
       "      <td>-1497</td>\n",
       "      <td>0.900761</td>\n",
       "    </tr>\n",
       "    <tr>\n",
       "      <th>...</th>\n",
       "      <td>...</td>\n",
       "      <td>...</td>\n",
       "    </tr>\n",
       "    <tr>\n",
       "      <th>2996</th>\n",
       "      <td>1495</td>\n",
       "      <td>0.962345</td>\n",
       "    </tr>\n",
       "    <tr>\n",
       "      <th>2997</th>\n",
       "      <td>1496</td>\n",
       "      <td>0.965611</td>\n",
       "    </tr>\n",
       "    <tr>\n",
       "      <th>2998</th>\n",
       "      <td>1497</td>\n",
       "      <td>0.961091</td>\n",
       "    </tr>\n",
       "    <tr>\n",
       "      <th>2999</th>\n",
       "      <td>1498</td>\n",
       "      <td>0.960604</td>\n",
       "    </tr>\n",
       "    <tr>\n",
       "      <th>3000</th>\n",
       "      <td>1499</td>\n",
       "      <td>0.912076</td>\n",
       "    </tr>\n",
       "  </tbody>\n",
       "</table>\n",
       "<p>3001 rows × 2 columns</p>\n",
       "</div>"
      ],
      "text/plain": [
       "      Position  TSS_enrichment\n",
       "0        -1501        0.525492\n",
       "1        -1500        0.754025\n",
       "2        -1499        0.833768\n",
       "3        -1498        0.873037\n",
       "4        -1497        0.900761\n",
       "...        ...             ...\n",
       "2996      1495        0.962345\n",
       "2997      1496        0.965611\n",
       "2998      1497        0.961091\n",
       "2999      1498        0.960604\n",
       "3000      1499        0.912076\n",
       "\n",
       "[3001 rows x 2 columns]"
      ]
     },
     "execution_count": 62,
     "metadata": {},
     "output_type": "execute_result"
    }
   ],
   "source": [
    "output['TSS_plot_data']"
   ]
  },
  {
   "cell_type": "code",
   "execution_count": 48,
   "metadata": {},
   "outputs": [
    {
     "data": {
      "text/html": [
       "\n",
       "                <audio  controls=\"controls\" autoplay=\"autoplay\">\n",
       "                    <source src=\"data:audio/x-wav;base64,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\" type=\"audio/x-wav\" />\n",
       "                    Your browser does not support the audio element.\n",
       "                </audio>\n",
       "              "
      ],
      "text/plain": [
       "<IPython.lib.display.Audio object>"
      ]
     },
     "execution_count": 48,
     "metadata": {},
     "output_type": "execute_result"
    }
   ],
   "source": [
    "Audio(sound_file, autoplay=True)"
   ]
  },
  {
   "cell_type": "code",
   "execution_count": 71,
   "metadata": {},
   "outputs": [
    {
     "data": {
      "image/png": "[encoded data removed]",
      "text/plain": [
       "<Figure size 432x288 with 1 Axes>"
      ]
     },
     "metadata": {},
     "output_type": "display_data"
    }
   ],
   "source": [
    "plt.close()\n",
    "import seaborn as sns\n",
    "style = 'darkgrid'\n",
    "context = 'talk'\n",
    "linewidth = 3\n",
    "\n",
    "sns.set_style(style, {'axes.linewidth': 1, 'axes.edgecolor':'.20'})\n",
    "sns.set_context(context)\n",
    "color=sns.color_palette('Blues')[5]\n",
    "\n",
    "sample = 'merged'\n",
    "category = 'profile_tss'\n",
    "xvar = 'Position'\n",
    "yvar = 'TSS_enrichment'\n",
    "\n",
    "ax = sns.lineplot(data=output['TSS_plot_data'], x='Position', y='TSS_enrichment', palette='viridis', linewidth=linewidth)\n",
    "ax.set(xscale='linear')\n",
    "ax.set(yscale='linear')\n",
    "ax.set(xlim=[-1500, 1500])\n",
    "ax.set_aspect('equal', adjustable='box')\n",
    "ax.set_aspect(1./ax.get_data_ratio())\n",
    "\n",
    "ax.set_xlabel('Distance to TSS')\n",
    "ax.set_ylabel('Enrichment')\n",
    "\n",
    "fig = plt.gcf()\n",
    "fig.savefig('plts_pub/tss_enrichment.svg', dpi=100)\n",
    "fig.savefig('plts_pub/tss_enrichment.tiff', dpi=100)\n",
    "plt.show()"
   ]
  },
  {
   "cell_type": "markdown",
   "metadata": {},
   "source": [
    "# Save metadata\n",
    "Save cistopic's calculated metadata"
   ]
  },
  {
   "cell_type": "code",
   "execution_count": null,
   "metadata": {},
   "outputs": [],
   "source": [
    "cistopic_out = wdir  + 'cistopic_out/'\n",
    "if not os.path.exists(cistopic_out):\n",
    "    os.makedirs(cistopic_out)"
   ]
  },
  {
   "cell_type": "code",
   "execution_count": null,
   "metadata": {},
   "outputs": [],
   "source": [
    "cistopic_out = cistopic_out + 'quality+control/'\n",
    "if not os.path.exists(cistopic_out):\n",
    "    os.makedirs(cistopic_out)"
   ]
  },
  {
   "cell_type": "code",
   "execution_count": null,
   "metadata": {},
   "outputs": [],
   "source": [
    "with open(cistopic_out + 'metadata_bc_mergedfrags.pkl', 'wb') as f:\n",
    "  pickle.dump(metadata_bc_dict, f, protocol=4)\n",
    "\n",
    "with open(cistopic_out + 'profile_data_dict_mergedfrags.pkl', 'wb') as f:\n",
    "  pickle.dump(profile_data_dict, f, protocol=4)"
   ]
  },
  {
   "cell_type": "code",
   "execution_count": null,
   "metadata": {},
   "outputs": [],
   "source": []
  }
 ],
 "metadata": {
  "kernelspec": {
   "display_name": "Python 3",
   "language": "python",
   "name": "python3"
  },
  "language_info": {
   "codemirror_mode": {
    "name": "ipython",
    "version": 3
   },
   "file_extension": ".py",
   "mimetype": "text/x-python",
   "name": "python",
   "nbconvert_exporter": "python",
   "pygments_lexer": "ipython3",
   "version": "3.7.3"
  }
 },
 "nbformat": 4,
 "nbformat_minor": 4
}
