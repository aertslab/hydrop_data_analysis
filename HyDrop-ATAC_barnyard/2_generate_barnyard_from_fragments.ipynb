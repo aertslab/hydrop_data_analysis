{
 "cells": [
  {
   "cell_type": "code",
   "execution_count": 1,
   "metadata": {},
   "outputs": [],
   "source": [
    "import matplotlib.pyplot as plt\n",
    "import pandas as pd\n",
    "import seaborn as sns\n",
    "from scipy.stats import gaussian_kde\n",
    "import numpy as np\n",
    "import os\n",
    "import glob"
   ]
  },
  {
   "cell_type": "code",
   "execution_count": 2,
   "metadata": {},
   "outputs": [],
   "source": [
    "filenames = glob.glob('fragments/*.fragments.tsv.gz')\n",
    "samples = [item.replace(\".sinto.fragments.tsv.gz\", \"\") for item in filenames]\n",
    "samples = [item.replace(\"fragments/\", \"\") for item in samples]\n",
    "samplenames = samples\n",
    "ncells = 2000\n",
    "titles = samples"
   ]
  },
  {
   "cell_type": "code",
   "execution_count": 3,
   "metadata": {},
   "outputs": [],
   "source": [
    "for samplename in samplenames:\n",
    "    fragments_filename = filenames[samplenames.index(samplename)]\n",
    "    df = pd.read_csv(fragments_filename, delimiter ='\\t', header=None, names=['chrom', 'begin', 'end', 'bc', 'count'])\n",
    "    # Extract species from chromosome column.\n",
    "    df['species'] = df['chrom'].str.split(\"_\", n=1, expand=True)[0]\n",
    "    #df.groupby(['bc', 'species']).sum()\n",
    "    # Group first by barcode, then by species and count number of fragments found for each barcode per species.\n",
    "    df_barnyard = df.groupby(['bc', 'species']).sum()['count'].unstack(level=-1, fill_value=0)\n",
    "    df_barnyard['sum'] = df_barnyard.sum(axis=1)\n",
    "    df_barnyard = df_barnyard.sort_values(by=['sum'], ascending = False)\n",
    "    \n",
    "    # linear\n",
    "    x = df_barnyard['GRCh38']\n",
    "    y = df_barnyard['mm10']\n",
    "    plt.figure(figsize=(6, 6), dpi=150)\n",
    "\n",
    "    sns.scatterplot(x, y)\n",
    "\n",
    "    scalemax = 1.20*max([max(x), max(y)])\n",
    "\n",
    "    plt.xlim([1.5, scalemax])\n",
    "    plt.ylim([1.5, scalemax])\n",
    "\n",
    "    plt.xlabel('GRCh38')\n",
    "    plt.ylabel('mm10')\n",
    "    title = titles[samplenames.index(samplename)]\n",
    "    plt.title(title)\n",
    "    plt.savefig(\"plts_python/barnyards/\" + samplename + \"_barnyard_lin.png\", transparent=False, facecolor='w', edgecolor='w', dpi = 150)\n",
    "    plt.close()\n",
    "    \n",
    "    # selectedcells only\n",
    "    x = df_barnyard['GRCh38'][:ncells]\n",
    "    y = df_barnyard['mm10'][:ncells]\n",
    "    plt.figure(figsize=(6, 6), dpi=150)\n",
    "\n",
    "    sns.scatterplot(x, y)\n",
    "\n",
    "    scalemax = 1.20*max([max(x), max(y)])\n",
    "\n",
    "    plt.xlim([1.5, scalemax])\n",
    "    plt.ylim([1.5, scalemax])\n",
    "\n",
    "    plt.xlabel('GRCh38')\n",
    "    plt.ylabel('mm10')\n",
    "    title = titles[samplenames.index(samplename)] + ' cellsonly'\n",
    "    plt.title(title)\n",
    "    plt.savefig(\"plts_python/barnyards/\" + samplename + \"_barnyard_lin_cellsonly.png\", transparent=False, facecolor='w', edgecolor='w', dpi = 150)\n",
    "    plt.close()"
   ]
  },
  {
   "cell_type": "code",
   "execution_count": 4,
   "metadata": {
    "tags": []
   },
   "outputs": [],
   "source": [
    "for samplename in samplenames:\n",
    "    fragments_filename = filenames[samplenames.index(samplename)]\n",
    "    df = pd.read_csv(fragments_filename, delimiter ='\\t', header=None, names=['chrom', 'begin', 'end', 'bc', 'count'])\n",
    "    # Extract species from chromosome column.\n",
    "    df['species'] = df['chrom'].str.split(\"_\", n=1, expand=True)[0]\n",
    "    #df.groupby(['bc', 'species']).sum()\n",
    "    # Group first by barcode, then by species and count number of fragments found for each barcode per species.\n",
    "    df_barnyard = df.groupby(['bc', 'species']).sum()['count'].unstack(level=-1, fill_value=0)\n",
    "    df_barnyard['sum'] = df_barnyard.sum(axis=1)\n",
    "    df_barnyard = df_barnyard.sort_values(by=['sum'], ascending = False)\n",
    "    \n",
    "    # linear\n",
    "    x = df_barnyard['GRCh38']\n",
    "    y = df_barnyard['mm10']\n",
    "    plt.figure(figsize=(6, 6), dpi=150)\n",
    "\n",
    "    sns.scatterplot(x, y)\n",
    "\n",
    "    scalemax = 1.20*max([max(x), max(y)])\n",
    "\n",
    "    plt.xlim([1.5, scalemax])\n",
    "    plt.ylim([1.5, scalemax])\n",
    "\n",
    "    plt.xlabel('GRCh38')\n",
    "    plt.ylabel('mm10')\n",
    "    title = titles[samplenames.index(samplename)]\n",
    "    plt.title(title)\n",
    "    plt.xscale('log')\n",
    "    plt.yscale('log')\n",
    "    plt.savefig(\"plts_python/barnyards/\" + samplename + \"_barnyard_log.png\", transparent=False, facecolor='w', edgecolor='w', dpi = 150)\n",
    "    plt.close()\n",
    "    \n",
    "    # selectedcells only\n",
    "    x = df_barnyard['GRCh38'][:ncells]\n",
    "    y = df_barnyard['mm10'][:ncells]\n",
    "    plt.figure(figsize=(6, 6), dpi=150)\n",
    "\n",
    "    sns.scatterplot(x, y)\n",
    "\n",
    "    scalemax = 1.20*max([max(x), max(y)])\n",
    "\n",
    "    plt.xlim([1.5, scalemax])\n",
    "    plt.ylim([1.5, scalemax])\n",
    "\n",
    "    plt.xlabel('GRCh38')\n",
    "    plt.ylabel('mm10')\n",
    "    title = titles[samplenames.index(samplename)] + ' cellsonly'\n",
    "    plt.title(title)\n",
    "    plt.xscale('log')\n",
    "    plt.yscale('log')\n",
    "    plt.savefig(\"plts_python/barnyards/\" + samplename + \"_barnyard_log_cellsonly.png\", transparent=False, facecolor='w', edgecolor='w', dpi = 150)\n",
    "    plt.close()"
   ]
  },
  {
   "cell_type": "code",
   "execution_count": 5,
   "metadata": {},
   "outputs": [
    {
     "ename": "NameError",
     "evalue": "name 'df_barnyard' is not defined",
     "output_type": "error",
     "traceback": [
      "\u001b[0;31m---------------------------------------------------------------------------\u001b[0m",
      "\u001b[0;31mNameError\u001b[0m                                 Traceback (most recent call last)",
      "\u001b[0;32m<ipython-input-5-942c0c2a44d1>\u001b[0m in \u001b[0;36m<module>\u001b[0;34m\u001b[0m\n\u001b[0;32m----> 1\u001b[0;31m \u001b[0mdf_barnyard\u001b[0m\u001b[0;34m\u001b[0m\u001b[0;34m\u001b[0m\u001b[0m\n\u001b[0m",
      "\u001b[0;31mNameError\u001b[0m: name 'df_barnyard' is not defined"
     ]
    }
   ],
   "source": [
    "df_barnyard"
   ]
  },
  {
   "cell_type": "code",
   "execution_count": 29,
   "metadata": {
    "tags": []
   },
   "outputs": [
    {
     "data": {
      "text/plain": [
       "dict_keys(['HYA__af8d60__20210309_mouse_cortex_MCF-7_PC3_1-2_S3', 'HYA__7d0f30__20210305_barnyard_MCF-7_MMel_1-1_S1', 'HYA__932b0e__20210309_mouse_cortex_MCF-7_PC3_1-1_S2'])"
      ]
     },
     "execution_count": 29,
     "metadata": {},
     "output_type": "execute_result"
    }
   ],
   "source": [
    "import pickle\n",
    "infile = open('pycistopic_GRCH38_mm10/quality_control/bc_passing_filters.pkl', 'rb')\n",
    "bc_passing_filters = pickle.load(infile)\n",
    "infile.close()\n",
    "bc_passing_filters.keys()"
   ]
  },
  {
   "cell_type": "code",
   "execution_count": 30,
   "metadata": {},
   "outputs": [],
   "source": [
    "filenames = ['fragments/HYA__7d0f30__20210305_barnyard_MCF-7_MMel_1-1_S1.sinto.fragments.tsv']\n",
    "samplenames = ['HYA__7d0f30__20210305_barnyard_MCF-7_MMel_1-1_S1']"
   ]
  },
  {
   "cell_type": "code",
   "execution_count": 31,
   "metadata": {},
   "outputs": [],
   "source": [
    "for samplename in samplenames:\n",
    "    fragments_filename = filenames[samplenames.index(samplename)]\n",
    "    df = pd.read_csv(fragments_filename, delimiter ='\\t', header=None, names=['chrom', 'begin', 'end', 'bc', 'count'])\n",
    "    # Extract species from chromosome column.\n",
    "    df['species'] = df['chrom'].str.split(\"_\", n=1, expand=True)[0]\n",
    "    df['count'] = 1 # make all fragments unique to get a unique count\n",
    "    #df.groupby(['bc', 'species']).sum()\n",
    "    # Group first by barcode, then by species and count number of fragments found for each barcode per species.\n",
    "    df_barnyard = df.groupby(['bc', 'species']).sum()['count'].unstack(level=-1, fill_value=0)\n",
    "    df_barnyard['sum'] = df_barnyard.sum(axis=1)\n",
    "    df_barnyard = df_barnyard.sort_values(by=['sum'], ascending = False)"
   ]
  },
  {
   "cell_type": "code",
   "execution_count": 32,
   "metadata": {},
   "outputs": [],
   "source": [
    "df_barnyard_subset_1 = df_barnyard[df_barnyard.index.isin(bc_passing_filters['HYA__7d0f30__20210305_barnyard_MCF-7_MMel_1-1_S1'])]"
   ]
  },
  {
   "cell_type": "code",
   "execution_count": null,
   "metadata": {},
   "outputs": [],
   "source": [
    "df_barnyard_subset_1.to_csv('fig_2a_dataframe.tsv', sep='\\t', header=True, index=True)"
   ]
  },
  {
   "cell_type": "markdown",
   "metadata": {},
   "source": [
    "# now filter barcodes passing qc"
   ]
  },
  {
   "cell_type": "code",
   "execution_count": 54,
   "metadata": {},
   "outputs": [
    {
     "data": {
      "image/png": "[encoded data removed]",
      "text/plain": [
       "<Figure size 432x288 with 1 Axes>"
      ]
     },
     "metadata": {},
     "output_type": "display_data"
    }
   ],
   "source": [
    "context = 'talk'\n",
    "style = 'darkgrid'\n",
    "sns.set_context(context)\n",
    "sns.set_style(style, {'axes.linewidth': 1, 'axes.edgecolor':'.20'})\n",
    "markersize=20\n",
    "\n",
    "xvar = 'GRCh38'\n",
    "yvar = 'mm10'\n",
    "\n",
    "x=df_barnyard_subset_1[xvar]\n",
    "y=df_barnyard_subset_1[yvar]\n",
    "\n",
    "xy = np.vstack([x,y])\n",
    "z = gaussian_kde(xy)(xy)\n",
    "\n",
    "# bins = np.linspace(z.min(), z.max(), 10)\n",
    "# digitized = np.digitize(z, bins)\n",
    "# bin_means = [z[digitized == i].mean() for i in range(1, len(bins))]\n",
    "# digitized_rescaled = np.interp(digitized, (digitized.min(), digitized.max()), (z.min(), z.max()))\n",
    "\n",
    "\n",
    "ax = sns.scatterplot(data=df_barnyard_subset_1, x=xvar, y=yvar, hue=z, palette='viridis', edgecolor=None, s=markersize)\n",
    "ax.set(xscale='linear')\n",
    "ax.set(yscale='linear')\n",
    "ax.set_aspect('equal', adjustable='box')\n",
    "ax.set_aspect(1./ax.get_data_ratio())\n",
    "ax.get_legend().remove()\n",
    "plt.tight_layout()\n",
    "\n",
    "\n",
    "ax.set_xlabel('hg38 Unique fragments')\n",
    "ax.set_ylabel('mm10 Unique fragments')\n",
    "\n",
    "fig = plt.gcf()\n",
    "fig.savefig('plts_pub/barnyard_lin_5050only_markersize'+str(markersize)+'_ufrags.svg', dpi=100)\n",
    "fig.savefig('plts_pub/barnyard_lin_5050only_markersize'+str(markersize)+'_ufrags.tiff', dpi=600, transparent=True)"
   ]
  },
  {
   "cell_type": "code",
   "execution_count": 42,
   "metadata": {},
   "outputs": [],
   "source": [
    "fig.savefig('plts_pub/barnyard_lin_5050only_markersize'+str(markersize)+'.tiff', dpi=600, transparent=True)"
   ]
  },
  {
   "cell_type": "markdown",
   "metadata": {},
   "source": [
    "# Statistics mentioned in the paper:"
   ]
  },
  {
   "cell_type": "code",
   "execution_count": 47,
   "metadata": {},
   "outputs": [
    {
     "name": "stderr",
     "output_type": "stream",
     "text": [
      "/user/leuven/330/vsc33042/.local/lib/python3.7/site-packages/ipykernel_launcher.py:4: SettingWithCopyWarning: \n",
      "A value is trying to be set on a copy of a slice from a DataFrame\n",
      "\n",
      "See the caveats in the documentation: https://pandas.pydata.org/pandas-docs/stable/user_guide/indexing.html#returning-a-view-versus-a-copy\n",
      "  after removing the cwd from sys.path.\n",
      "/user/leuven/330/vsc33042/.local/lib/python3.7/site-packages/ipykernel_launcher.py:5: SettingWithCopyWarning: \n",
      "A value is trying to be set on a copy of a slice from a DataFrame\n",
      "\n",
      "See the caveats in the documentation: https://pandas.pydata.org/pandas-docs/stable/user_guide/indexing.html#returning-a-view-versus-a-copy\n",
      "  \"\"\"\n"
     ]
    },
    {
     "data": {
      "text/plain": [
       "human    889\n",
       "mouse    443\n",
       "mixed     21\n",
       "Name: species, dtype: int64"
      ]
     },
     "execution_count": 47,
     "metadata": {},
     "output_type": "execute_result"
    }
   ],
   "source": [
    "cutoff = 0.95\n",
    "df_barnyard_subset_1['ratio'] = df_barnyard_subset_1['GRCh38']/df_barnyard_subset_1['sum']\n",
    "df_barnyard_subset_1['species'] = 'mixed'\n",
    "df_barnyard_subset_1['species'][df_barnyard_subset_1['ratio'] >=cutoff] = 'human'\n",
    "df_barnyard_subset_1['species'][df_barnyard_subset_1['ratio'] <=1-cutoff] = 'mouse'\n",
    "df_barnyard_subset_1['species'].value_counts()"
   ]
  },
  {
   "cell_type": "code",
   "execution_count": 48,
   "metadata": {},
   "outputs": [
    {
     "data": {
      "text/plain": [
       "0.015521064301552107"
      ]
     },
     "execution_count": 48,
     "metadata": {},
     "output_type": "execute_result"
    }
   ],
   "source": [
    "df_barnyard_subset_1['species'].value_counts()['mixed']/df_barnyard_subset_1['species'].count()"
   ]
  },
  {
   "cell_type": "code",
   "execution_count": 49,
   "metadata": {},
   "outputs": [
    {
     "data": {
      "text/plain": [
       "species\n",
       "GRCh38    1680.000000\n",
       "mm10         4.000000\n",
       "sum       2705.000000\n",
       "ratio        0.998861\n",
       "dtype: float64"
      ]
     },
     "execution_count": 49,
     "metadata": {},
     "output_type": "execute_result"
    }
   ],
   "source": [
    "df_barnyard_subset_1.median()"
   ]
  },
  {
   "cell_type": "code",
   "execution_count": 50,
   "metadata": {},
   "outputs": [
    {
     "data": {
      "text/html": [
       "<div>\n",
       "<style scoped>\n",
       "    .dataframe tbody tr th:only-of-type {\n",
       "        vertical-align: middle;\n",
       "    }\n",
       "\n",
       "    .dataframe tbody tr th {\n",
       "        vertical-align: top;\n",
       "    }\n",
       "\n",
       "    .dataframe thead th {\n",
       "        text-align: right;\n",
       "    }\n",
       "</style>\n",
       "<table border=\"1\" class=\"dataframe\">\n",
       "  <thead>\n",
       "    <tr style=\"text-align: right;\">\n",
       "      <th>species</th>\n",
       "      <th>GRCh38</th>\n",
       "      <th>mm10</th>\n",
       "      <th>sum</th>\n",
       "      <th>ratio</th>\n",
       "      <th>species</th>\n",
       "    </tr>\n",
       "    <tr>\n",
       "      <th>bc</th>\n",
       "      <th></th>\n",
       "      <th></th>\n",
       "      <th></th>\n",
       "      <th></th>\n",
       "      <th></th>\n",
       "    </tr>\n",
       "  </thead>\n",
       "  <tbody>\n",
       "    <tr>\n",
       "      <th>AATGATGCGGCTCCAACTATACCAATATCG</th>\n",
       "      <td>19110</td>\n",
       "      <td>5</td>\n",
       "      <td>19115</td>\n",
       "      <td>0.999738</td>\n",
       "      <td>human</td>\n",
       "    </tr>\n",
       "    <tr>\n",
       "      <th>ATCCAGTGCAGACGTCTCCTAGAGAATGTC</th>\n",
       "      <td>17826</td>\n",
       "      <td>5</td>\n",
       "      <td>17831</td>\n",
       "      <td>0.999720</td>\n",
       "      <td>human</td>\n",
       "    </tr>\n",
       "    <tr>\n",
       "      <th>GTGTGAAGAATATGCAGTTACTGAGACCAA</th>\n",
       "      <td>33</td>\n",
       "      <td>15944</td>\n",
       "      <td>15977</td>\n",
       "      <td>0.002065</td>\n",
       "      <td>mouse</td>\n",
       "    </tr>\n",
       "    <tr>\n",
       "      <th>TACCTTCGATGCGGTGGTTAATGAATCGAG</th>\n",
       "      <td>15701</td>\n",
       "      <td>12</td>\n",
       "      <td>15713</td>\n",
       "      <td>0.999236</td>\n",
       "      <td>human</td>\n",
       "    </tr>\n",
       "    <tr>\n",
       "      <th>AGCTAACTACGTATTGAGCCCTTGGATTCA</th>\n",
       "      <td>30</td>\n",
       "      <td>15504</td>\n",
       "      <td>15534</td>\n",
       "      <td>0.001931</td>\n",
       "      <td>mouse</td>\n",
       "    </tr>\n",
       "    <tr>\n",
       "      <th>...</th>\n",
       "      <td>...</td>\n",
       "      <td>...</td>\n",
       "      <td>...</td>\n",
       "      <td>...</td>\n",
       "      <td>...</td>\n",
       "    </tr>\n",
       "    <tr>\n",
       "      <th>AGCTAACTACGAGCAGCGATGTGTTGAAGT</th>\n",
       "      <td>1007</td>\n",
       "      <td>1</td>\n",
       "      <td>1008</td>\n",
       "      <td>0.999008</td>\n",
       "      <td>human</td>\n",
       "    </tr>\n",
       "    <tr>\n",
       "      <th>CTATCTGCTTGTGAAGAGTAAGAGAATGTC</th>\n",
       "      <td>1005</td>\n",
       "      <td>1</td>\n",
       "      <td>1006</td>\n",
       "      <td>0.999006</td>\n",
       "      <td>human</td>\n",
       "    </tr>\n",
       "    <tr>\n",
       "      <th>CTATTAGGCTTGAAGCGAACCGTTATACGT</th>\n",
       "      <td>1004</td>\n",
       "      <td>0</td>\n",
       "      <td>1004</td>\n",
       "      <td>1.000000</td>\n",
       "      <td>human</td>\n",
       "    </tr>\n",
       "    <tr>\n",
       "      <th>TTCTAGGTCGGTATTGAGCCCGTCATCCTA</th>\n",
       "      <td>1004</td>\n",
       "      <td>0</td>\n",
       "      <td>1004</td>\n",
       "      <td>1.000000</td>\n",
       "      <td>human</td>\n",
       "    </tr>\n",
       "    <tr>\n",
       "      <th>ATTGAACCACTGAATATCAGATGAAGTGCG</th>\n",
       "      <td>12</td>\n",
       "      <td>990</td>\n",
       "      <td>1002</td>\n",
       "      <td>0.011976</td>\n",
       "      <td>mouse</td>\n",
       "    </tr>\n",
       "  </tbody>\n",
       "</table>\n",
       "<p>1353 rows × 5 columns</p>\n",
       "</div>"
      ],
      "text/plain": [
       "species                         GRCh38   mm10    sum     ratio species\n",
       "bc                                                                    \n",
       "AATGATGCGGCTCCAACTATACCAATATCG   19110      5  19115  0.999738   human\n",
       "ATCCAGTGCAGACGTCTCCTAGAGAATGTC   17826      5  17831  0.999720   human\n",
       "GTGTGAAGAATATGCAGTTACTGAGACCAA      33  15944  15977  0.002065   mouse\n",
       "TACCTTCGATGCGGTGGTTAATGAATCGAG   15701     12  15713  0.999236   human\n",
       "AGCTAACTACGTATTGAGCCCTTGGATTCA      30  15504  15534  0.001931   mouse\n",
       "...                                ...    ...    ...       ...     ...\n",
       "AGCTAACTACGAGCAGCGATGTGTTGAAGT    1007      1   1008  0.999008   human\n",
       "CTATCTGCTTGTGAAGAGTAAGAGAATGTC    1005      1   1006  0.999006   human\n",
       "CTATTAGGCTTGAAGCGAACCGTTATACGT    1004      0   1004  1.000000   human\n",
       "TTCTAGGTCGGTATTGAGCCCGTCATCCTA    1004      0   1004  1.000000   human\n",
       "ATTGAACCACTGAATATCAGATGAAGTGCG      12    990   1002  0.011976   mouse\n",
       "\n",
       "[1353 rows x 5 columns]"
      ]
     },
     "execution_count": 50,
     "metadata": {},
     "output_type": "execute_result"
    }
   ],
   "source": [
    "df_barnyard_subset_1"
   ]
  },
  {
   "cell_type": "markdown",
   "metadata": {},
   "source": [
    "The above number is reported in the paper."
   ]
  }
 ],
 "metadata": {
  "kernelspec": {
   "display_name": "Python 3",
   "language": "python",
   "name": "python3"
  },
  "language_info": {
   "codemirror_mode": {
    "name": "ipython",
    "version": 3
   },
   "file_extension": ".py",
   "mimetype": "text/x-python",
   "name": "python",
   "nbconvert_exporter": "python",
   "pygments_lexer": "ipython3",
   "version": "3.7.3"
  }
 },
 "nbformat": 4,
 "nbformat_minor": 4
}
