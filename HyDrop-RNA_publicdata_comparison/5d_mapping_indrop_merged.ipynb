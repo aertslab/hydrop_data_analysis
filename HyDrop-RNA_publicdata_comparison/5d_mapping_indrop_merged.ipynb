{
 "cells": [
  {
   "cell_type": "markdown",
   "id": "4e0e9aa1",
   "metadata": {
    "papermill": {
     "duration": 0.001188,
     "end_time": "2022-01-31T16:48:59.107925",
     "exception": false,
     "start_time": "2022-01-31T16:48:59.106737",
     "status": "completed"
    },
    "tags": []
   },
   "source": [
    "pos 1-8: bc1\n",
    "pos 9-16: 8 bp index\n",
    "pos 17-24: bc2 (reverse complement of whitelist)  \n",
    "pos 25-30: UMI"
   ]
  },
  {
   "cell_type": "code",
   "execution_count": 1,
   "id": "b83ee652",
   "metadata": {
    "execution": {
     "iopub.execute_input": "2022-01-31T16:48:59.113619Z",
     "iopub.status.busy": "2022-01-31T16:48:59.112745Z",
     "iopub.status.idle": "2022-01-31T16:49:01.128627Z",
     "shell.execute_reply": "2022-01-31T16:49:01.126708Z"
    },
    "papermill": {
     "duration": 2.020404,
     "end_time": "2022-01-31T16:49:01.128901",
     "exception": false,
     "start_time": "2022-01-31T16:48:59.108497",
     "status": "completed"
    },
    "tags": []
   },
   "outputs": [],
   "source": [
    "star_solo_indrop_rna_mapping_unique_cellfilter () {\n",
    "    local fastq_R1_filename=\"${1}\";\n",
    "    local fastq_R2_filename=\"${2}\";\n",
    "    local bam_filename=\"${3}\";\n",
    "    # 3 barcode lists:\n",
    "    local whitelist_part1_filename='indrop_whitelist/gel_barcode2_list.txt';\n",
    "    local whitelist_part2_filename='indrop_whitelist/index_whitelist.txt';\n",
    "    local whitelist_part3_filename='indrop_whitelist/gel_barcode2_list_revcomp.txt';\n",
    "    star_reference_dir='/lustre1/project/stg_00002/lcb/fderop/data/00000000_genomes/mm10_STAR_2.7.8_premrna';\n",
    "    sjdbgtf='/lustre1/project/stg_00002/lcb/fderop/data/00000000_genomes/mm10_STAR_2.7.8_premrna/genes.gtf'\n",
    "    #module load STAR/2.7.5b-foss-2018a;\n",
    "    #module load SAMtools/1.10-foss-2018a;\n",
    "    # Map with STAR solo\n",
    "    /lustre1/project/stg_00002/lcb/fderop/scripts/STAR-2.7.8a/bin/Linux_x86_64/STAR \\\n",
    "        --runThreadN 32 \\\n",
    "        --runMode alignReads \\\n",
    "        --outSAMtype BAM SortedByCoordinate \\\n",
    "        --sysShell /bin/bash \\\n",
    "        --genomeDir \"${star_reference_dir}\" \\\n",
    "        --readFilesIn \"${fastq_R1_filename}\" \"${fastq_R2_filename}\" \\\n",
    "        --readFilesCommand 'gzip -c -d' \\\n",
    "        --soloCBwhitelist \"${whitelist_part1_filename}\" \"${whitelist_part2_filename}\" \"${whitelist_part3_filename}\" \\\n",
    "        --soloType CB_UMI_Complex \\\n",
    "        --soloCBposition 0_0_0_7 0_8_0_15 0_16_0_23 \\\n",
    "        --soloUMIposition 0_24_0_29 \\\n",
    "        --sjdbGTFfile $sjdbgtf \\\n",
    "        --soloCellFilter CellRanger2.2 2000 0.99 10 \\\n",
    "        --soloCBmatchWLtype 1MM \\\n",
    "        --outFilterMultimapNmax 1 \\\n",
    "        --outSAMattributes NH HI AS nM CB UB CR CY UR UY \\\n",
    "        --outFileNamePrefix ${bam_filename%bam} \\\n",
    "        --outReadsUnmapped Fastx \\\n",
    "        --quantMode GeneCounts \\\n",
    "        --bamRemoveDuplicatesType UniqueIdentical \\\n",
    "        --soloFeatures Gene GeneFull\n",
    "        # Index BAM file.\n",
    "    # samtools index \"${bam_filename%bam}Aligned.sortedByCoord.out.bam\"\n",
    "}"
   ]
  },
  {
   "cell_type": "markdown",
   "id": "a301184f",
   "metadata": {
    "papermill": {
     "duration": 0.000172,
     "end_time": "2022-01-31T16:49:01.129370",
     "exception": false,
     "start_time": "2022-01-31T16:49:01.129198",
     "status": "completed"
    },
    "tags": []
   },
   "source": [
    "actually, mapping one big fastq of all samples will be better. Then, umi demultiplexing will work properly."
   ]
  },
  {
   "cell_type": "code",
   "execution_count": 2,
   "id": "bb047788",
   "metadata": {
    "execution": {
     "iopub.execute_input": "2022-01-31T16:49:01.135923Z",
     "iopub.status.busy": "2022-01-31T16:49:01.134849Z",
     "iopub.status.idle": "2022-01-31T16:49:01.244798Z",
     "shell.execute_reply": "2022-01-31T16:49:01.243801Z"
    },
    "papermill": {
     "duration": 0.115444,
     "end_time": "2022-01-31T16:49:01.245069",
     "exception": false,
     "start_time": "2022-01-31T16:49:01.129625",
     "status": "completed"
    },
    "tags": []
   },
   "outputs": [],
   "source": [
    "# cat SRR10545068_234.fastq.gz SRR10545069_234.fastq.gz SRR10545070_234.fastq.gz SRR10545071_234.fastq.gz SRR10545072_234.fastq.gz SRR10545073_234.fastq.gz SRR10545074_234.fastq.gz SRR10545075_234.fastq.gz SRR10545076_234.fastq.gz SRR10545077_234.fastq.gz SRR10545078_234.fastq.gz SRR10545079_234.fastq.gz > indrop_234.fastq.gz "
   ]
  },
  {
   "cell_type": "code",
   "execution_count": 3,
   "id": "f4c72d39",
   "metadata": {
    "execution": {
     "iopub.execute_input": "2022-01-31T16:49:01.251762Z",
     "iopub.status.busy": "2022-01-31T16:49:01.250862Z",
     "iopub.status.idle": "2022-01-31T16:49:01.361832Z",
     "shell.execute_reply": "2022-01-31T16:49:01.360928Z"
    },
    "papermill": {
     "duration": 0.116417,
     "end_time": "2022-01-31T16:49:01.362062",
     "exception": false,
     "start_time": "2022-01-31T16:49:01.245645",
     "status": "completed"
    },
    "tags": []
   },
   "outputs": [],
   "source": [
    "# cat SRR10545068_1.fastq.gz SRR10545069_1.fastq.gz SRR10545070_1.fastq.gz SRR10545071_1.fastq.gz SRR10545072_1.fastq.gz SRR10545073_1.fastq.gz SRR10545074_1.fastq.gz SRR10545075_1.fastq.gz SRR10545076_1.fastq.gz SRR10545077_1.fastq.gz SRR10545078_1.fastq.gz SRR10545079_1.fastq.gz > indrop_1.fastq.gz"
   ]
  },
  {
   "cell_type": "code",
   "execution_count": 4,
   "id": "a09f5bbb",
   "metadata": {
    "execution": {
     "iopub.execute_input": "2022-01-31T16:49:01.368784Z",
     "iopub.status.busy": "2022-01-31T16:49:01.366676Z",
     "iopub.status.idle": "2022-01-31T19:52:17.344883Z",
     "shell.execute_reply": "2022-01-31T19:52:17.345793Z"
    },
    "papermill": {
     "duration": 10995.985675,
     "end_time": "2022-01-31T19:52:17.348370",
     "exception": false,
     "start_time": "2022-01-31T16:49:01.362695",
     "status": "completed"
    },
    "tags": []
   },
   "outputs": [
    {
     "name": "stdout",
     "output_type": "stream",
     "text": [
      "Jan 31 17:49:01 ..... started STAR run\n"
     ]
    },
    {
     "name": "stdout",
     "output_type": "stream",
     "text": [
      "Jan 31 17:49:02 ..... loading genome\n"
     ]
    },
    {
     "name": "stdout",
     "output_type": "stream",
     "text": [
      "Jan 31 17:50:38 ..... processing annotations GTF\n"
     ]
    },
    {
     "name": "stdout",
     "output_type": "stream",
     "text": [
      "Jan 31 17:50:45 ..... started mapping\n"
     ]
    },
    {
     "name": "stdout",
     "output_type": "stream",
     "text": [
      "Jan 31 20:20:31 ..... finished mapping\n"
     ]
    },
    {
     "name": "stdout",
     "output_type": "stream",
     "text": [
      "Jan 31 20:20:33 ..... started Solo counting\n"
     ]
    },
    {
     "name": "stdout",
     "output_type": "stream",
     "text": [
      "Jan 31 20:33:02 ..... finished Solo counting\n"
     ]
    },
    {
     "name": "stdout",
     "output_type": "stream",
     "text": [
      "Jan 31 20:33:02 ..... started sorting BAM\n"
     ]
    },
    {
     "name": "stdout",
     "output_type": "stream",
     "text": [
      "Jan 31 20:51:01 ..... finished successfully\n"
     ]
    }
   ],
   "source": [
    "dir=demultiplexed_indrop_index\n",
    "star_solo_indrop_rna_mapping_unique_cellfilter \\\n",
    "    fastq_indrop/indrop_1.fastq.gz \\\n",
    "    fastq_indrop/indrop_234.fastq.gz \\\n",
    "    $dir/merged.bam"
   ]
  },
  {
   "cell_type": "code",
   "execution_count": null,
   "id": "4a06b7a8",
   "metadata": {
    "papermill": {
     "duration": 0.001872,
     "end_time": "2022-01-31T19:52:17.350612",
     "exception": false,
     "start_time": "2022-01-31T19:52:17.348740",
     "status": "completed"
    },
    "tags": []
   },
   "outputs": [],
   "source": []
  },
  {
   "cell_type": "markdown",
   "id": "70fd0523",
   "metadata": {
    "papermill": {
     "duration": 0.000181,
     "end_time": "2022-01-31T19:52:17.351106",
     "exception": false,
     "start_time": "2022-01-31T19:52:17.350925",
     "status": "completed"
    },
    "tags": []
   },
   "source": [
    "Now, we can get a summary of the statistics below:"
   ]
  },
  {
   "cell_type": "code",
   "execution_count": 5,
   "id": "b1862a5b",
   "metadata": {
    "execution": {
     "iopub.execute_input": "2022-01-31T19:52:17.383483Z",
     "iopub.status.busy": "2022-01-31T19:52:17.381835Z",
     "iopub.status.idle": "2022-01-31T19:52:18.410042Z",
     "shell.execute_reply": "2022-01-31T19:52:18.410740Z"
    },
    "papermill": {
     "duration": 1.059609,
     "end_time": "2022-01-31T19:52:18.410959",
     "exception": false,
     "start_time": "2022-01-31T19:52:17.351350",
     "status": "completed"
    },
    "tags": []
   },
   "outputs": [
    {
     "name": "stdout",
     "output_type": "stream",
     "text": [
      "SRR10545068.Solo.out/Gene/Summary.csv\n"
     ]
    },
    {
     "name": "stdout",
     "output_type": "stream",
     "text": [
      "Number of Reads,136252173\n"
     ]
    },
    {
     "name": "stdout",
     "output_type": "stream",
     "text": [
      "Reads With Valid Barcodes,0.4216\n"
     ]
    },
    {
     "name": "stdout",
     "output_type": "stream",
     "text": [
      "Sequencing Saturation,0.261272\n"
     ]
    },
    {
     "name": "stdout",
     "output_type": "stream",
     "text": [
      "Q30 Bases in CB+UMI,0.834279\n"
     ]
    },
    {
     "name": "stdout",
     "output_type": "stream",
     "text": [
      "Q30 Bases in RNA read,0.800453\n"
     ]
    },
    {
     "name": "stdout",
     "output_type": "stream",
     "text": [
      "Reads Mapped to Genome: Unique+Multiple,0.488978\n"
     ]
    },
    {
     "name": "stdout",
     "output_type": "stream",
     "text": [
      "Reads Mapped to Genome: Unique,0.488978\n"
     ]
    },
    {
     "name": "stdout",
     "output_type": "stream",
     "text": [
      "Reads Mapped to Transcriptome: Unique+Multipe Genes,0.290449\n"
     ]
    },
    {
     "name": "stdout",
     "output_type": "stream",
     "text": [
      "Reads Mapped to Transcriptome: Unique Genes,0.282861\n"
     ]
    },
    {
     "name": "stdout",
     "output_type": "stream",
     "text": [
      "Estimated Number of Cells,13956\n"
     ]
    },
    {
     "name": "stdout",
     "output_type": "stream",
     "text": [
      "Reads in Cells Mapped to Unique Genes,20664237\n"
     ]
    },
    {
     "name": "stdout",
     "output_type": "stream",
     "text": [
      "Fraction of Reads in Cells,0.536171\n"
     ]
    },
    {
     "name": "stdout",
     "output_type": "stream",
     "text": [
      "Mean Reads per Cell,1480\n"
     ]
    },
    {
     "name": "stdout",
     "output_type": "stream",
     "text": [
      "Median Reads per Cell,1256\n"
     ]
    },
    {
     "name": "stdout",
     "output_type": "stream",
     "text": [
      "UMIs in Cells,14962203\n"
     ]
    },
    {
     "name": "stdout",
     "output_type": "stream",
     "text": [
      "Mean UMI per Cell,1072\n"
     ]
    },
    {
     "name": "stdout",
     "output_type": "stream",
     "text": [
      "Median UMI per Cell,919\n"
     ]
    },
    {
     "name": "stdout",
     "output_type": "stream",
     "text": [
      "Mean Genes per Cell,795\n"
     ]
    },
    {
     "name": "stdout",
     "output_type": "stream",
     "text": [
      "Median Genes per Cell,717\n"
     ]
    },
    {
     "name": "stdout",
     "output_type": "stream",
     "text": [
      "Total Genes Detected,20789\n"
     ]
    },
    {
     "name": "stdout",
     "output_type": "stream",
     "text": [
      "\n"
     ]
    },
    {
     "name": "stdout",
     "output_type": "stream",
     "text": [
      "SRR10545069.Solo.out/Gene/Summary.csv\n"
     ]
    },
    {
     "name": "stdout",
     "output_type": "stream",
     "text": [
      "Number of Reads,103036640\n"
     ]
    },
    {
     "name": "stdout",
     "output_type": "stream",
     "text": [
      "Reads With Valid Barcodes,0.352682\n"
     ]
    },
    {
     "name": "stdout",
     "output_type": "stream",
     "text": [
      "Sequencing Saturation,0.189946\n"
     ]
    },
    {
     "name": "stdout",
     "output_type": "stream",
     "text": [
      "Q30 Bases in CB+UMI,0.734679\n"
     ]
    },
    {
     "name": "stdout",
     "output_type": "stream",
     "text": [
      "Q30 Bases in RNA read,0.711272\n"
     ]
    },
    {
     "name": "stdout",
     "output_type": "stream",
     "text": [
      "Reads Mapped to Genome: Unique+Multiple,0.450167\n"
     ]
    },
    {
     "name": "stdout",
     "output_type": "stream",
     "text": [
      "Reads Mapped to Genome: Unique,0.450167\n"
     ]
    },
    {
     "name": "stdout",
     "output_type": "stream",
     "text": [
      "Reads Mapped to Transcriptome: Unique+Multipe Genes,0.233702\n"
     ]
    },
    {
     "name": "stdout",
     "output_type": "stream",
     "text": [
      "Reads Mapped to Transcriptome: Unique Genes,0.227481\n"
     ]
    },
    {
     "name": "stdout",
     "output_type": "stream",
     "text": [
      "Estimated Number of Cells,12261\n"
     ]
    },
    {
     "name": "stdout",
     "output_type": "stream",
     "text": [
      "Reads in Cells Mapped to Unique Genes,11801511\n"
     ]
    },
    {
     "name": "stdout",
     "output_type": "stream",
     "text": [
      "Fraction of Reads in Cells,0.503501\n"
     ]
    },
    {
     "name": "stdout",
     "output_type": "stream",
     "text": [
      "Mean Reads per Cell,962\n"
     ]
    },
    {
     "name": "stdout",
     "output_type": "stream",
     "text": [
      "Median Reads per Cell,801\n"
     ]
    },
    {
     "name": "stdout",
     "output_type": "stream",
     "text": [
      "UMIs in Cells,9389434\n"
     ]
    },
    {
     "name": "stdout",
     "output_type": "stream",
     "text": [
      "Mean UMI per Cell,765\n"
     ]
    },
    {
     "name": "stdout",
     "output_type": "stream",
     "text": [
      "Median UMI per Cell,644\n"
     ]
    },
    {
     "name": "stdout",
     "output_type": "stream",
     "text": [
      "Mean Genes per Cell,598\n"
     ]
    },
    {
     "name": "stdout",
     "output_type": "stream",
     "text": [
      "Median Genes per Cell,529\n"
     ]
    },
    {
     "name": "stdout",
     "output_type": "stream",
     "text": [
      "Total Genes Detected,19968\n"
     ]
    },
    {
     "name": "stdout",
     "output_type": "stream",
     "text": [
      "\n"
     ]
    },
    {
     "name": "stdout",
     "output_type": "stream",
     "text": [
      "SRR10545070.Solo.out/Gene/Summary.csv\n"
     ]
    },
    {
     "name": "stdout",
     "output_type": "stream",
     "text": [
      "Number of Reads,98859416\n"
     ]
    },
    {
     "name": "stdout",
     "output_type": "stream",
     "text": [
      "Reads With Valid Barcodes,0.379293\n"
     ]
    },
    {
     "name": "stdout",
     "output_type": "stream",
     "text": [
      "Sequencing Saturation,0.190964\n"
     ]
    },
    {
     "name": "stdout",
     "output_type": "stream",
     "text": [
      "Q30 Bases in CB+UMI,0.744584\n"
     ]
    },
    {
     "name": "stdout",
     "output_type": "stream",
     "text": [
      "Q30 Bases in RNA read,0.710311\n"
     ]
    },
    {
     "name": "stdout",
     "output_type": "stream",
     "text": [
      "Reads Mapped to Genome: Unique+Multiple,0.447653\n"
     ]
    },
    {
     "name": "stdout",
     "output_type": "stream",
     "text": [
      "Reads Mapped to Genome: Unique,0.447653\n"
     ]
    },
    {
     "name": "stdout",
     "output_type": "stream",
     "text": [
      "Reads Mapped to Transcriptome: Unique+Multipe Genes,0.249041\n"
     ]
    },
    {
     "name": "stdout",
     "output_type": "stream",
     "text": [
      "Reads Mapped to Transcriptome: Unique Genes,0.242448\n"
     ]
    },
    {
     "name": "stdout",
     "output_type": "stream",
     "text": [
      "Estimated Number of Cells,12213\n"
     ]
    },
    {
     "name": "stdout",
     "output_type": "stream",
     "text": [
      "Reads in Cells Mapped to Unique Genes,12039080\n"
     ]
    },
    {
     "name": "stdout",
     "output_type": "stream",
     "text": [
      "Fraction of Reads in Cells,0.502292\n"
     ]
    },
    {
     "name": "stdout",
     "output_type": "stream",
     "text": [
      "Mean Reads per Cell,985\n"
     ]
    },
    {
     "name": "stdout",
     "output_type": "stream",
     "text": [
      "Median Reads per Cell,822\n"
     ]
    },
    {
     "name": "stdout",
     "output_type": "stream",
     "text": [
      "UMIs in Cells,9569915\n"
     ]
    },
    {
     "name": "stdout",
     "output_type": "stream",
     "text": [
      "Mean UMI per Cell,783\n"
     ]
    },
    {
     "name": "stdout",
     "output_type": "stream",
     "text": [
      "Median UMI per Cell,661\n"
     ]
    },
    {
     "name": "stdout",
     "output_type": "stream",
     "text": [
      "Mean Genes per Cell,611\n"
     ]
    },
    {
     "name": "stdout",
     "output_type": "stream",
     "text": [
      "Median Genes per Cell,540\n"
     ]
    },
    {
     "name": "stdout",
     "output_type": "stream",
     "text": [
      "Total Genes Detected,20043\n"
     ]
    },
    {
     "name": "stdout",
     "output_type": "stream",
     "text": [
      "\n"
     ]
    },
    {
     "name": "stdout",
     "output_type": "stream",
     "text": [
      "SRR10545071.Solo.out/Gene/Summary.csv\n"
     ]
    },
    {
     "name": "stdout",
     "output_type": "stream",
     "text": [
      "Number of Reads,100660676\n"
     ]
    },
    {
     "name": "stdout",
     "output_type": "stream",
     "text": [
      "Reads With Valid Barcodes,0.3637\n"
     ]
    },
    {
     "name": "stdout",
     "output_type": "stream",
     "text": [
      "Sequencing Saturation,0.18941\n"
     ]
    },
    {
     "name": "stdout",
     "output_type": "stream",
     "text": [
      "Q30 Bases in CB+UMI,0.737797\n"
     ]
    },
    {
     "name": "stdout",
     "output_type": "stream",
     "text": [
      "Q30 Bases in RNA read,0.712597\n"
     ]
    },
    {
     "name": "stdout",
     "output_type": "stream",
     "text": [
      "Reads Mapped to Genome: Unique+Multiple,0.452498\n"
     ]
    },
    {
     "name": "stdout",
     "output_type": "stream",
     "text": [
      "Reads Mapped to Genome: Unique,0.452498\n"
     ]
    },
    {
     "name": "stdout",
     "output_type": "stream",
     "text": [
      "Reads Mapped to Transcriptome: Unique+Multipe Genes,0.241028\n"
     ]
    },
    {
     "name": "stdout",
     "output_type": "stream",
     "text": [
      "Reads Mapped to Transcriptome: Unique Genes,0.234622\n"
     ]
    },
    {
     "name": "stdout",
     "output_type": "stream",
     "text": [
      "Estimated Number of Cells,12289\n"
     ]
    },
    {
     "name": "stdout",
     "output_type": "stream",
     "text": [
      "Reads in Cells Mapped to Unique Genes,11903417\n"
     ]
    },
    {
     "name": "stdout",
     "output_type": "stream",
     "text": [
      "Fraction of Reads in Cells,0.504016\n"
     ]
    },
    {
     "name": "stdout",
     "output_type": "stream",
     "text": [
      "Mean Reads per Cell,968\n"
     ]
    },
    {
     "name": "stdout",
     "output_type": "stream",
     "text": [
      "Median Reads per Cell,806\n"
     ]
    },
    {
     "name": "stdout",
     "output_type": "stream",
     "text": [
      "UMIs in Cells,9482639\n"
     ]
    },
    {
     "name": "stdout",
     "output_type": "stream",
     "text": [
      "Mean UMI per Cell,771\n"
     ]
    },
    {
     "name": "stdout",
     "output_type": "stream",
     "text": [
      "Median UMI per Cell,650\n"
     ]
    },
    {
     "name": "stdout",
     "output_type": "stream",
     "text": [
      "Mean Genes per Cell,603\n"
     ]
    },
    {
     "name": "stdout",
     "output_type": "stream",
     "text": [
      "Median Genes per Cell,533\n"
     ]
    },
    {
     "name": "stdout",
     "output_type": "stream",
     "text": [
      "Total Genes Detected,20006\n"
     ]
    },
    {
     "name": "stdout",
     "output_type": "stream",
     "text": [
      "\n"
     ]
    },
    {
     "name": "stdout",
     "output_type": "stream",
     "text": [
      "SRR10545072.Solo.out/Gene/Summary.csv\n"
     ]
    },
    {
     "name": "stdout",
     "output_type": "stream",
     "text": [
      "Number of Reads,134789164\n"
     ]
    },
    {
     "name": "stdout",
     "output_type": "stream",
     "text": [
      "Reads With Valid Barcodes,0.399197\n"
     ]
    },
    {
     "name": "stdout",
     "output_type": "stream",
     "text": [
      "Sequencing Saturation,0.251432\n"
     ]
    },
    {
     "name": "stdout",
     "output_type": "stream",
     "text": [
      "Q30 Bases in CB+UMI,0.821007\n"
     ]
    },
    {
     "name": "stdout",
     "output_type": "stream",
     "text": [
      "Q30 Bases in RNA read,0.798391\n"
     ]
    },
    {
     "name": "stdout",
     "output_type": "stream",
     "text": [
      "Reads Mapped to Genome: Unique+Multiple,0.483215\n"
     ]
    },
    {
     "name": "stdout",
     "output_type": "stream",
     "text": [
      "Reads Mapped to Genome: Unique,0.483215\n"
     ]
    },
    {
     "name": "stdout",
     "output_type": "stream",
     "text": [
      "Reads Mapped to Transcriptome: Unique+Multipe Genes,0.275268\n"
     ]
    },
    {
     "name": "stdout",
     "output_type": "stream",
     "text": [
      "Reads Mapped to Transcriptome: Unique Genes,0.26806\n"
     ]
    },
    {
     "name": "stdout",
     "output_type": "stream",
     "text": [
      "Estimated Number of Cells,13859\n"
     ]
    },
    {
     "name": "stdout",
     "output_type": "stream",
     "text": [
      "Reads in Cells Mapped to Unique Genes,19302616\n"
     ]
    },
    {
     "name": "stdout",
     "output_type": "stream",
     "text": [
      "Fraction of Reads in Cells,0.534232\n"
     ]
    },
    {
     "name": "stdout",
     "output_type": "stream",
     "text": [
      "Mean Reads per Cell,1392\n"
     ]
    },
    {
     "name": "stdout",
     "output_type": "stream",
     "text": [
      "Median Reads per Cell,1181\n"
     ]
    },
    {
     "name": "stdout",
     "output_type": "stream",
     "text": [
      "UMIs in Cells,14163734\n"
     ]
    },
    {
     "name": "stdout",
     "output_type": "stream",
     "text": [
      "Mean UMI per Cell,1021\n"
     ]
    },
    {
     "name": "stdout",
     "output_type": "stream",
     "text": [
      "Median UMI per Cell,875\n"
     ]
    },
    {
     "name": "stdout",
     "output_type": "stream",
     "text": [
      "Mean Genes per Cell,764\n"
     ]
    },
    {
     "name": "stdout",
     "output_type": "stream",
     "text": [
      "Median Genes per Cell,689\n"
     ]
    },
    {
     "name": "stdout",
     "output_type": "stream",
     "text": [
      "Total Genes Detected,20654\n"
     ]
    },
    {
     "name": "stdout",
     "output_type": "stream",
     "text": [
      "\n"
     ]
    },
    {
     "name": "stdout",
     "output_type": "stream",
     "text": [
      "SRR10545073.Solo.out/Gene/Summary.csv\n"
     ]
    },
    {
     "name": "stdout",
     "output_type": "stream",
     "text": [
      "Number of Reads,130210119\n"
     ]
    },
    {
     "name": "stdout",
     "output_type": "stream",
     "text": [
      "Reads With Valid Barcodes,0.420346\n"
     ]
    },
    {
     "name": "stdout",
     "output_type": "stream",
     "text": [
      "Sequencing Saturation,0.252223\n"
     ]
    },
    {
     "name": "stdout",
     "output_type": "stream",
     "text": [
      "Q30 Bases in CB+UMI,0.826554\n"
     ]
    },
    {
     "name": "stdout",
     "output_type": "stream",
     "text": [
      "Q30 Bases in RNA read,0.791933\n"
     ]
    },
    {
     "name": "stdout",
     "output_type": "stream",
     "text": [
      "Reads Mapped to Genome: Unique+Multiple,0.48634\n"
     ]
    },
    {
     "name": "stdout",
     "output_type": "stream",
     "text": [
      "Reads Mapped to Genome: Unique,0.48634\n"
     ]
    },
    {
     "name": "stdout",
     "output_type": "stream",
     "text": [
      "Reads Mapped to Transcriptome: Unique+Multipe Genes,0.288692\n"
     ]
    },
    {
     "name": "stdout",
     "output_type": "stream",
     "text": [
      "Reads Mapped to Transcriptome: Unique Genes,0.281131\n"
     ]
    },
    {
     "name": "stdout",
     "output_type": "stream",
     "text": [
      "Estimated Number of Cells,14029\n"
     ]
    },
    {
     "name": "stdout",
     "output_type": "stream",
     "text": [
      "Reads in Cells Mapped to Unique Genes,19666338\n"
     ]
    },
    {
     "name": "stdout",
     "output_type": "stream",
     "text": [
      "Fraction of Reads in Cells,0.537241\n"
     ]
    },
    {
     "name": "stdout",
     "output_type": "stream",
     "text": [
      "Mean Reads per Cell,1401\n"
     ]
    },
    {
     "name": "stdout",
     "output_type": "stream",
     "text": [
      "Median Reads per Cell,1191\n"
     ]
    },
    {
     "name": "stdout",
     "output_type": "stream",
     "text": [
      "UMIs in Cells,14424143\n"
     ]
    },
    {
     "name": "stdout",
     "output_type": "stream",
     "text": [
      "Mean UMI per Cell,1028\n"
     ]
    },
    {
     "name": "stdout",
     "output_type": "stream",
     "text": [
      "Median UMI per Cell,884\n"
     ]
    },
    {
     "name": "stdout",
     "output_type": "stream",
     "text": [
      "Mean Genes per Cell,768\n"
     ]
    },
    {
     "name": "stdout",
     "output_type": "stream",
     "text": [
      "Median Genes per Cell,694\n"
     ]
    },
    {
     "name": "stdout",
     "output_type": "stream",
     "text": [
      "Total Genes Detected,20694\n"
     ]
    },
    {
     "name": "stdout",
     "output_type": "stream",
     "text": [
      "\n"
     ]
    },
    {
     "name": "stdout",
     "output_type": "stream",
     "text": [
      "SRR10545074.Solo.out/Gene/Summary.csv\n"
     ]
    },
    {
     "name": "stdout",
     "output_type": "stream",
     "text": [
      "Number of Reads,131473567\n"
     ]
    },
    {
     "name": "stdout",
     "output_type": "stream",
     "text": [
      "Reads With Valid Barcodes,0.404533\n"
     ]
    },
    {
     "name": "stdout",
     "output_type": "stream",
     "text": [
      "Sequencing Saturation,0.248747\n"
     ]
    },
    {
     "name": "stdout",
     "output_type": "stream",
     "text": [
      "Q30 Bases in CB+UMI,0.821661\n"
     ]
    },
    {
     "name": "stdout",
     "output_type": "stream",
     "text": [
      "Q30 Bases in RNA read,0.796305\n"
     ]
    },
    {
     "name": "stdout",
     "output_type": "stream",
     "text": [
      "Reads Mapped to Genome: Unique+Multiple,0.485901\n"
     ]
    },
    {
     "name": "stdout",
     "output_type": "stream",
     "text": [
      "Reads Mapped to Genome: Unique,0.485901\n"
     ]
    },
    {
     "name": "stdout",
     "output_type": "stream",
     "text": [
      "Reads Mapped to Transcriptome: Unique+Multipe Genes,0.278873\n"
     ]
    },
    {
     "name": "stdout",
     "output_type": "stream",
     "text": [
      "Reads Mapped to Transcriptome: Unique Genes,0.271555\n"
     ]
    },
    {
     "name": "stdout",
     "output_type": "stream",
     "text": [
      "Estimated Number of Cells,13880\n"
     ]
    },
    {
     "name": "stdout",
     "output_type": "stream",
     "text": [
      "Reads in Cells Mapped to Unique Genes,19093006\n"
     ]
    },
    {
     "name": "stdout",
     "output_type": "stream",
     "text": [
      "Fraction of Reads in Cells,0.534784\n"
     ]
    },
    {
     "name": "stdout",
     "output_type": "stream",
     "text": [
      "Mean Reads per Cell,1375\n"
     ]
    },
    {
     "name": "stdout",
     "output_type": "stream",
     "text": [
      "Median Reads per Cell,1169\n"
     ]
    },
    {
     "name": "stdout",
     "output_type": "stream",
     "text": [
      "UMIs in Cells,14063877\n"
     ]
    },
    {
     "name": "stdout",
     "output_type": "stream",
     "text": [
      "Mean UMI per Cell,1013\n"
     ]
    },
    {
     "name": "stdout",
     "output_type": "stream",
     "text": [
      "Median UMI per Cell,869\n"
     ]
    },
    {
     "name": "stdout",
     "output_type": "stream",
     "text": [
      "Mean Genes per Cell,759\n"
     ]
    },
    {
     "name": "stdout",
     "output_type": "stream",
     "text": [
      "Median Genes per Cell,685\n"
     ]
    },
    {
     "name": "stdout",
     "output_type": "stream",
     "text": [
      "Total Genes Detected,20582\n"
     ]
    },
    {
     "name": "stdout",
     "output_type": "stream",
     "text": [
      "\n"
     ]
    },
    {
     "name": "stdout",
     "output_type": "stream",
     "text": [
      "SRR10545075.Solo.out/Gene/Summary.csv\n"
     ]
    },
    {
     "name": "stdout",
     "output_type": "stream",
     "text": [
      "Number of Reads,125843005\n"
     ]
    },
    {
     "name": "stdout",
     "output_type": "stream",
     "text": [
      "Reads With Valid Barcodes,0.410132\n"
     ]
    },
    {
     "name": "stdout",
     "output_type": "stream",
     "text": [
      "Sequencing Saturation,0.251882\n"
     ]
    },
    {
     "name": "stdout",
     "output_type": "stream",
     "text": [
      "Q30 Bases in CB+UMI,0.806074\n"
     ]
    },
    {
     "name": "stdout",
     "output_type": "stream",
     "text": [
      "Q30 Bases in RNA read,0.767215\n"
     ]
    },
    {
     "name": "stdout",
     "output_type": "stream",
     "text": [
      "Reads Mapped to Genome: Unique+Multiple,0.496859\n"
     ]
    },
    {
     "name": "stdout",
     "output_type": "stream",
     "text": [
      "Reads Mapped to Genome: Unique,0.496859\n"
     ]
    },
    {
     "name": "stdout",
     "output_type": "stream",
     "text": [
      "Reads Mapped to Transcriptome: Unique+Multipe Genes,0.284408\n"
     ]
    },
    {
     "name": "stdout",
     "output_type": "stream",
     "text": [
      "Reads Mapped to Transcriptome: Unique Genes,0.277047\n"
     ]
    },
    {
     "name": "stdout",
     "output_type": "stream",
     "text": [
      "Estimated Number of Cells,12864\n"
     ]
    },
    {
     "name": "stdout",
     "output_type": "stream",
     "text": [
      "Reads in Cells Mapped to Unique Genes,18227794\n"
     ]
    },
    {
     "name": "stdout",
     "output_type": "stream",
     "text": [
      "Fraction of Reads in Cells,0.522819\n"
     ]
    },
    {
     "name": "stdout",
     "output_type": "stream",
     "text": [
      "Mean Reads per Cell,1416\n"
     ]
    },
    {
     "name": "stdout",
     "output_type": "stream",
     "text": [
      "Median Reads per Cell,1186\n"
     ]
    },
    {
     "name": "stdout",
     "output_type": "stream",
     "text": [
      "UMIs in Cells,13304051\n"
     ]
    },
    {
     "name": "stdout",
     "output_type": "stream",
     "text": [
      "Mean UMI per Cell,1034\n"
     ]
    },
    {
     "name": "stdout",
     "output_type": "stream",
     "text": [
      "Median UMI per Cell,882\n"
     ]
    },
    {
     "name": "stdout",
     "output_type": "stream",
     "text": [
      "Mean Genes per Cell,770\n"
     ]
    },
    {
     "name": "stdout",
     "output_type": "stream",
     "text": [
      "Median Genes per Cell,690\n"
     ]
    },
    {
     "name": "stdout",
     "output_type": "stream",
     "text": [
      "Total Genes Detected,20644\n"
     ]
    },
    {
     "name": "stdout",
     "output_type": "stream",
     "text": [
      "\n"
     ]
    },
    {
     "name": "stdout",
     "output_type": "stream",
     "text": [
      "SRR10545076.Solo.out/Gene/Summary.csv\n"
     ]
    },
    {
     "name": "stdout",
     "output_type": "stream",
     "text": [
      "Number of Reads,125597295\n"
     ]
    },
    {
     "name": "stdout",
     "output_type": "stream",
     "text": [
      "Reads With Valid Barcodes,0.39699\n"
     ]
    },
    {
     "name": "stdout",
     "output_type": "stream",
     "text": [
      "Sequencing Saturation,0.247645\n"
     ]
    },
    {
     "name": "stdout",
     "output_type": "stream",
     "text": [
      "Q30 Bases in CB+UMI,0.800275\n"
     ]
    },
    {
     "name": "stdout",
     "output_type": "stream",
     "text": [
      "Q30 Bases in RNA read,0.773506\n"
     ]
    },
    {
     "name": "stdout",
     "output_type": "stream",
     "text": [
      "Reads Mapped to Genome: Unique+Multiple,0.492923\n"
     ]
    },
    {
     "name": "stdout",
     "output_type": "stream",
     "text": [
      "Reads Mapped to Genome: Unique,0.492923\n"
     ]
    },
    {
     "name": "stdout",
     "output_type": "stream",
     "text": [
      "Reads Mapped to Transcriptome: Unique+Multipe Genes,0.275899\n"
     ]
    },
    {
     "name": "stdout",
     "output_type": "stream",
     "text": [
      "Reads Mapped to Transcriptome: Unique Genes,0.268711\n"
     ]
    },
    {
     "name": "stdout",
     "output_type": "stream",
     "text": [
      "Estimated Number of Cells,12663\n"
     ]
    },
    {
     "name": "stdout",
     "output_type": "stream",
     "text": [
      "Reads in Cells Mapped to Unique Genes,17525358\n"
     ]
    },
    {
     "name": "stdout",
     "output_type": "stream",
     "text": [
      "Fraction of Reads in Cells,0.51928\n"
     ]
    },
    {
     "name": "stdout",
     "output_type": "stream",
     "text": [
      "Mean Reads per Cell,1383\n"
     ]
    },
    {
     "name": "stdout",
     "output_type": "stream",
     "text": [
      "Median Reads per Cell,1165\n"
     ]
    },
    {
     "name": "stdout",
     "output_type": "stream",
     "text": [
      "UMIs in Cells,12859939\n"
     ]
    },
    {
     "name": "stdout",
     "output_type": "stream",
     "text": [
      "Mean UMI per Cell,1015\n"
     ]
    },
    {
     "name": "stdout",
     "output_type": "stream",
     "text": [
      "Median UMI per Cell,868\n"
     ]
    },
    {
     "name": "stdout",
     "output_type": "stream",
     "text": [
      "Mean Genes per Cell,759\n"
     ]
    },
    {
     "name": "stdout",
     "output_type": "stream",
     "text": [
      "Median Genes per Cell,681\n"
     ]
    },
    {
     "name": "stdout",
     "output_type": "stream",
     "text": [
      "Total Genes Detected,20572\n"
     ]
    },
    {
     "name": "stdout",
     "output_type": "stream",
     "text": [
      "\n"
     ]
    },
    {
     "name": "stdout",
     "output_type": "stream",
     "text": [
      "SRR10545077.Solo.out/Gene/Summary.csv\n"
     ]
    },
    {
     "name": "stdout",
     "output_type": "stream",
     "text": [
      "Number of Reads,120173234\n"
     ]
    },
    {
     "name": "stdout",
     "output_type": "stream",
     "text": [
      "Reads With Valid Barcodes,0.416573\n"
     ]
    },
    {
     "name": "stdout",
     "output_type": "stream",
     "text": [
      "Sequencing Saturation,0.246383\n"
     ]
    },
    {
     "name": "stdout",
     "output_type": "stream",
     "text": [
      "Q30 Bases in CB+UMI,0.8001\n"
     ]
    },
    {
     "name": "stdout",
     "output_type": "stream",
     "text": [
      "Q30 Bases in RNA read,0.757655\n"
     ]
    },
    {
     "name": "stdout",
     "output_type": "stream",
     "text": [
      "Reads Mapped to Genome: Unique+Multiple,0.492646\n"
     ]
    },
    {
     "name": "stdout",
     "output_type": "stream",
     "text": [
      "Reads Mapped to Genome: Unique,0.492646\n"
     ]
    },
    {
     "name": "stdout",
     "output_type": "stream",
     "text": [
      "Reads Mapped to Transcriptome: Unique+Multipe Genes,0.287707\n"
     ]
    },
    {
     "name": "stdout",
     "output_type": "stream",
     "text": [
      "Reads Mapped to Transcriptome: Unique Genes,0.28025\n"
     ]
    },
    {
     "name": "stdout",
     "output_type": "stream",
     "text": [
      "Estimated Number of Cells,12586\n"
     ]
    },
    {
     "name": "stdout",
     "output_type": "stream",
     "text": [
      "Reads in Cells Mapped to Unique Genes,17420675\n"
     ]
    },
    {
     "name": "stdout",
     "output_type": "stream",
     "text": [
      "Fraction of Reads in Cells,0.517264\n"
     ]
    },
    {
     "name": "stdout",
     "output_type": "stream",
     "text": [
      "Mean Reads per Cell,1384\n"
     ]
    },
    {
     "name": "stdout",
     "output_type": "stream",
     "text": [
      "Median Reads per Cell,1163\n"
     ]
    },
    {
     "name": "stdout",
     "output_type": "stream",
     "text": [
      "UMIs in Cells,12813055\n"
     ]
    },
    {
     "name": "stdout",
     "output_type": "stream",
     "text": [
      "Mean UMI per Cell,1018\n"
     ]
    },
    {
     "name": "stdout",
     "output_type": "stream",
     "text": [
      "Median UMI per Cell,868\n"
     ]
    },
    {
     "name": "stdout",
     "output_type": "stream",
     "text": [
      "Mean Genes per Cell,761\n"
     ]
    },
    {
     "name": "stdout",
     "output_type": "stream",
     "text": [
      "Median Genes per Cell,683\n"
     ]
    },
    {
     "name": "stdout",
     "output_type": "stream",
     "text": [
      "Total Genes Detected,20563\n"
     ]
    },
    {
     "name": "stdout",
     "output_type": "stream",
     "text": [
      "\n"
     ]
    },
    {
     "name": "stdout",
     "output_type": "stream",
     "text": [
      "merged.Solo.out/Gene/Summary.csv\n"
     ]
    },
    {
     "name": "stdout",
     "output_type": "stream",
     "text": [
      "Number of Reads,1428898458\n"
     ]
    },
    {
     "name": "stdout",
     "output_type": "stream",
     "text": [
      "Reads With Valid Barcodes,0.397455\n"
     ]
    },
    {
     "name": "stdout",
     "output_type": "stream",
     "text": [
      "Sequencing Saturation,0.728477\n"
     ]
    },
    {
     "name": "stdout",
     "output_type": "stream",
     "text": [
      "Q30 Bases in CB+UMI,0.792105\n"
     ]
    },
    {
     "name": "stdout",
     "output_type": "stream",
     "text": [
      "Q30 Bases in RNA read,0.760707\n"
     ]
    },
    {
     "name": "stdout",
     "output_type": "stream",
     "text": [
      "Reads Mapped to Genome: Unique+Multiple,0.478757\n"
     ]
    },
    {
     "name": "stdout",
     "output_type": "stream",
     "text": [
      "Reads Mapped to Genome: Unique,0.478757\n"
     ]
    },
    {
     "name": "stdout",
     "output_type": "stream",
     "text": [
      "Reads Mapped to Transcriptome: Unique+Multipe Genes,0.271843\n"
     ]
    },
    {
     "name": "stdout",
     "output_type": "stream",
     "text": [
      "Reads Mapped to Transcriptome: Unique Genes,0.264754\n"
     ]
    },
    {
     "name": "stdout",
     "output_type": "stream",
     "text": [
      "Estimated Number of Cells,13745\n"
     ]
    },
    {
     "name": "stdout",
     "output_type": "stream",
     "text": [
      "Reads in Cells Mapped to Unique Genes,198343219\n"
     ]
    },
    {
     "name": "stdout",
     "output_type": "stream",
     "text": [
      "Fraction of Reads in Cells,0.524293\n"
     ]
    },
    {
     "name": "stdout",
     "output_type": "stream",
     "text": [
      "Mean Reads per Cell,14430\n"
     ]
    },
    {
     "name": "stdout",
     "output_type": "stream",
     "text": [
      "Median Reads per Cell,12198\n"
     ]
    },
    {
     "name": "stdout",
     "output_type": "stream",
     "text": [
      "UMIs in Cells,49900670\n"
     ]
    },
    {
     "name": "stdout",
     "output_type": "stream",
     "text": [
      "Mean UMI per Cell,3630\n"
     ]
    },
    {
     "name": "stdout",
     "output_type": "stream",
     "text": [
      "Median UMI per Cell,3117\n"
     ]
    },
    {
     "name": "stdout",
     "output_type": "stream",
     "text": [
      "Mean Genes per Cell,2059\n"
     ]
    },
    {
     "name": "stdout",
     "output_type": "stream",
     "text": [
      "Median Genes per Cell,1905\n"
     ]
    },
    {
     "name": "stdout",
     "output_type": "stream",
     "text": [
      "Total Genes Detected,23758\n"
     ]
    },
    {
     "name": "stdout",
     "output_type": "stream",
     "text": [
      "\n"
     ]
    }
   ],
   "source": [
    "for sample in $dir/*/Gene/Summary.csv\n",
    "do\n",
    "    echo ${sample#*/}\n",
    "    cat $sample\n",
    "    cut -d, -f2 $sample > ${sample%/Gene/Summary.csv}/Gene/Summary_numbers.csv\n",
    "    printf \"\\n\"\n",
    "done"
   ]
  },
  {
   "cell_type": "code",
   "execution_count": null,
   "id": "2fea1799",
   "metadata": {
    "papermill": {
     "duration": 0.000162,
     "end_time": "2022-01-31T19:52:18.411313",
     "exception": false,
     "start_time": "2022-01-31T19:52:18.411151",
     "status": "completed"
    },
    "tags": []
   },
   "outputs": [],
   "source": []
  }
 ],
 "metadata": {
  "kernelspec": {
   "display_name": "Bash",
   "language": "bash",
   "name": "bash"
  },
  "language_info": {
   "codemirror_mode": "shell",
   "file_extension": ".sh",
   "mimetype": "text/x-sh",
   "name": "bash"
  },
  "papermill": {
   "default_parameters": {},
   "duration": 11005.459303,
   "end_time": "2022-01-31T19:52:19.719924",
   "environment_variables": {},
   "exception": null,
   "input_path": "5c_mapping_indrop-Copy2.ipynb",
   "output_path": "-",
   "parameters": {},
   "start_time": "2022-01-31T16:48:54.260621",
   "version": "2.3.3"
  }
 },
 "nbformat": 4,
 "nbformat_minor": 5
}