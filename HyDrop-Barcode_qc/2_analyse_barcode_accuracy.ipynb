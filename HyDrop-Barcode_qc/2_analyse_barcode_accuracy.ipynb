{
 "cells": [
  {
   "cell_type": "code",
   "execution_count": 3,
   "id": "f5339966",
   "metadata": {},
   "outputs": [],
   "source": [
    "import pandas as pd\n",
    "import glob\n",
    "import seaborn as sns"
   ]
  },
  {
   "cell_type": "code",
   "execution_count": 4,
   "id": "2e7b2c29",
   "metadata": {},
   "outputs": [
    {
     "data": {
      "text/plain": [
       "['fastq/HYA__combined__20210323_cortex_phu_dv_etssb_1-2_S2_R2.BCONLY.SUB.CORR.fastq.gz.corrected.bc_stats.tsv',\n",
       " 'fastq/HYA__combined__20210323_cortex_phu_dv_etssb_1-5_S5_R2.BCONLY.SUB.CORR.fastq.gz.corrected.bc_stats.tsv',\n",
       " 'fastq/HYA__combined__20210323_cortex_phu_dv_etssb_1-4_S4_R2.BCONLY.SUB.CORR.fastq.gz.corrected.bc_stats.tsv',\n",
       " 'fastq/HYA__combined__20210323_cortex_phu_dv_etssb_1-1_S1_R2.BCONLY.SUB.CORR.fastq.gz.corrected.bc_stats.tsv',\n",
       " 'fastq/HYA__combined__20210323_cortex_phu_dv_etssb_1-3_S3_R2.BCONLY.SUB.CORR.fastq.gz.corrected.bc_stats.tsv',\n",
       " 'fastq/HYR__666332__20210412_mouse_cortex_sa_S1_R2_001.BCONLY.SUB.CORR.fastq.gz.corrected.bc_stats.tsv',\n",
       " 'fastq/HYR__c47998__20210412_mouse_cortex_sb_S2_R2_001.BCONLY.SUB.CORR.fastq.gz.corrected.bc_stats.tsv']"
      ]
     },
     "execution_count": 4,
     "metadata": {},
     "output_type": "execute_result"
    }
   ],
   "source": [
    "glob.glob('fastq/*bc_stats.tsv')"
   ]
  },
  {
   "cell_type": "code",
   "execution_count": 5,
   "id": "b1f241b9",
   "metadata": {},
   "outputs": [],
   "source": [
    "alias_dict = {'fastq/HYA__combined__20210323_cortex_phu_dv_etssb_1-2_S2_R2.BCONLY.SUB.CORR.fastq.gz.corrected.bc_stats.tsv':'HYA_2',\n",
    " 'fastq/HYA__combined__20210323_cortex_phu_dv_etssb_1-5_S5_R2.BCONLY.SUB.CORR.fastq.gz.corrected.bc_stats.tsv':'HYA_5',\n",
    " 'fastq/HYA__combined__20210323_cortex_phu_dv_etssb_1-4_S4_R2.BCONLY.SUB.CORR.fastq.gz.corrected.bc_stats.tsv':'HYA_4',\n",
    " 'fastq/HYA__combined__20210323_cortex_phu_dv_etssb_1-1_S1_R2.BCONLY.SUB.CORR.fastq.gz.corrected.bc_stats.tsv':'HYA_1',\n",
    " 'fastq/HYA__combined__20210323_cortex_phu_dv_etssb_1-3_S3_R2.BCONLY.SUB.CORR.fastq.gz.corrected.bc_stats.tsv':'HYA_3',\n",
    " 'fastq/HYR__666332__20210412_mouse_cortex_sa_S1_R2_001.BCONLY.SUB.CORR.fastq.gz.corrected.bc_stats.tsv':'HYR_1',\n",
    " 'fastq/HYR__c47998__20210412_mouse_cortex_sb_S2_R2_001.BCONLY.SUB.CORR.fastq.gz.corrected.bc_stats.tsv':'HYR_2'\n",
    "}"
   ]
  },
  {
   "cell_type": "code",
   "execution_count": 6,
   "id": "368a958b",
   "metadata": {},
   "outputs": [
    {
     "data": {
      "text/plain": [
       "{'fastq/HYA__combined__20210323_cortex_phu_dv_etssb_1-2_S2_R2.BCONLY.SUB.CORR.fastq.gz.corrected.bc_stats.tsv': 'HYA_2',\n",
       " 'fastq/HYA__combined__20210323_cortex_phu_dv_etssb_1-5_S5_R2.BCONLY.SUB.CORR.fastq.gz.corrected.bc_stats.tsv': 'HYA_5',\n",
       " 'fastq/HYA__combined__20210323_cortex_phu_dv_etssb_1-4_S4_R2.BCONLY.SUB.CORR.fastq.gz.corrected.bc_stats.tsv': 'HYA_4',\n",
       " 'fastq/HYA__combined__20210323_cortex_phu_dv_etssb_1-1_S1_R2.BCONLY.SUB.CORR.fastq.gz.corrected.bc_stats.tsv': 'HYA_1',\n",
       " 'fastq/HYA__combined__20210323_cortex_phu_dv_etssb_1-3_S3_R2.BCONLY.SUB.CORR.fastq.gz.corrected.bc_stats.tsv': 'HYA_3',\n",
       " 'fastq/HYR__666332__20210412_mouse_cortex_sa_S1_R2_001.BCONLY.SUB.CORR.fastq.gz.corrected.bc_stats.tsv': 'HYR_1',\n",
       " 'fastq/HYR__c47998__20210412_mouse_cortex_sb_S2_R2_001.BCONLY.SUB.CORR.fastq.gz.corrected.bc_stats.tsv': 'HYR_2'}"
      ]
     },
     "execution_count": 6,
     "metadata": {},
     "output_type": "execute_result"
    }
   ],
   "source": [
    "alias_dict"
   ]
  },
  {
   "cell_type": "code",
   "execution_count": 14,
   "id": "b836459b",
   "metadata": {},
   "outputs": [],
   "source": [
    "df_cat = pd.DataFrame()\n",
    "for file in sorted(glob.glob('fastq/HYA*bc_stats.tsv')):\n",
    "    df = pd.read_csv(file, sep='\\t', header=None)\n",
    "    df_cat[alias_dict[file]] = df[1]\n",
    "df_cat.index = df[0]\n",
    "df_cat = df_cat.T\n",
    "\n",
    "df_cat['%_corr'] = df_cat['total_bc_found']/1000\n",
    "df_cat['%_0'] = df_cat['nbr_bc_0_mismatches']/1000\n",
    "df_cat['%_1'] = df_cat['nbr_bc_1_mismatches']/1000\n",
    "df_cat['%_2'] = df_cat['nbr_bc_2_mismatches']/1000\n",
    "df_cat['%_3'] = df_cat['nbr_bc_3_mismatches']/1000\n",
    "df_cat['%_uncorr'] = df_cat['nbr_bc_uncorrected']/1000\n",
    "df_cat_atac = df_cat"
   ]
  },
  {
   "cell_type": "code",
   "execution_count": 15,
   "id": "dbaef7f0",
   "metadata": {},
   "outputs": [
    {
     "data": {
      "text/plain": [
       "0\n",
       "nbr_reads:             100000.0000\n",
       "total_bc_found          90842.8000\n",
       "nbr_bc_0_mismatches     82614.4000\n",
       "nbr_bc_1_mismatches      5936.0000\n",
       "nbr_bc_2_mismatches      1163.6000\n",
       "nbr_bc_3_mismatches      1128.8000\n",
       "nbr_bc_uncorrected       9157.2000\n",
       "%_corr                     90.8428\n",
       "%_0                        82.6144\n",
       "%_1                         5.9360\n",
       "%_2                         1.1636\n",
       "%_3                         1.1288\n",
       "%_uncorr                    9.1572\n",
       "dtype: float64"
      ]
     },
     "execution_count": 15,
     "metadata": {},
     "output_type": "execute_result"
    }
   ],
   "source": [
    "df_cat_atac.mean()"
   ]
  },
  {
   "cell_type": "code",
   "execution_count": 16,
   "id": "3e738c11",
   "metadata": {},
   "outputs": [],
   "source": [
    "df_cat = pd.DataFrame()\n",
    "for file in sorted(glob.glob('fastq/HYR*bc_stats.tsv')):\n",
    "    df = pd.read_csv(file, sep='\\t', header=None)\n",
    "    df_cat[alias_dict[file]] = df[1]\n",
    "df_cat.index = df[0]\n",
    "df_cat = df_cat.T\n",
    "\n",
    "df_cat['%_corr'] = df_cat['total_bc_found']/1000\n",
    "df_cat['%_0'] = df_cat['nbr_bc_0_mismatches']/1000\n",
    "df_cat['%_1'] = df_cat['nbr_bc_1_mismatches']/1000\n",
    "df_cat['%_2'] = df_cat['nbr_bc_2_mismatches']/1000\n",
    "df_cat['%_3'] = df_cat['nbr_bc_3_mismatches']/1000\n",
    "df_cat['%_uncorr'] = df_cat['nbr_bc_uncorrected']/1000\n",
    "df_cat_rna = df_cat"
   ]
  },
  {
   "cell_type": "code",
   "execution_count": 17,
   "id": "6921c483",
   "metadata": {},
   "outputs": [
    {
     "data": {
      "text/plain": [
       "0\n",
       "nbr_reads:             100000.0000\n",
       "total_bc_found          86293.5000\n",
       "nbr_bc_0_mismatches     79331.5000\n",
       "nbr_bc_1_mismatches      3779.5000\n",
       "nbr_bc_2_mismatches      1393.0000\n",
       "nbr_bc_3_mismatches      1789.5000\n",
       "nbr_bc_uncorrected      13706.5000\n",
       "%_corr                     86.2935\n",
       "%_0                        79.3315\n",
       "%_1                         3.7795\n",
       "%_2                         1.3930\n",
       "%_3                         1.7895\n",
       "%_uncorr                   13.7065\n",
       "dtype: float64"
      ]
     },
     "execution_count": 17,
     "metadata": {},
     "output_type": "execute_result"
    }
   ],
   "source": [
    "df_cat_rna.mean()"
   ]
  },
  {
   "cell_type": "code",
   "execution_count": null,
   "id": "cf2bfb24",
   "metadata": {},
   "outputs": [],
   "source": [
    "sns.barplot(data=df_cat, x=df_cat.index, y='%_0')"
   ]
  },
  {
   "cell_type": "code",
   "execution_count": null,
   "id": "a9a8c579",
   "metadata": {},
   "outputs": [],
   "source": []
  }
 ],
 "metadata": {
  "kernelspec": {
   "display_name": "Python 3.6",
   "language": "python",
   "name": "p36"
  },
  "language_info": {
   "codemirror_mode": {
    "name": "ipython",
    "version": 3
   },
   "file_extension": ".py",
   "mimetype": "text/x-python",
   "name": "python",
   "nbconvert_exporter": "python",
   "pygments_lexer": "ipython3",
   "version": "3.6.10"
  }
 },
 "nbformat": 4,
 "nbformat_minor": 5
}
