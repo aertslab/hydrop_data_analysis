{
 "cells": [
  {
   "cell_type": "code",
   "execution_count": 1,
   "metadata": {},
   "outputs": [],
   "source": [
    "#### import scanpy as sc\n",
    "import pandas as pd\n",
    "import os\n",
    "import matplotlib.pyplot as plt\n",
    "import seaborn as sns\n",
    "from matplotlib.pyplot import figure\n",
    "import numpy as np\n",
    "import glob as glob"
   ]
  },
  {
   "cell_type": "markdown",
   "metadata": {},
   "source": [
    "# DropSeq"
   ]
  },
  {
   "cell_type": "code",
   "execution_count": 2,
   "metadata": {},
   "outputs": [
    {
     "data": {
      "text/plain": [
       "['demultiplexed_dropseq_sub_whitelist/SRR1853178.Solo.out/Gene/Summary.csv',\n",
       " 'demultiplexed_dropseq_sub_whitelist/SRR1853179.Solo.out/Gene/Summary.csv',\n",
       " 'demultiplexed_dropseq_sub_whitelist/SRR1853180.Solo.out/Gene/Summary.csv',\n",
       " 'demultiplexed_dropseq_sub_whitelist/SRR1853181.Solo.out/Gene/Summary.csv',\n",
       " 'demultiplexed_dropseq_sub_whitelist/SRR1853182.Solo.out/Gene/Summary.csv',\n",
       " 'demultiplexed_dropseq_sub_whitelist/SRR1853183.Solo.out/Gene/Summary.csv',\n",
       " 'demultiplexed_dropseq_sub_whitelist/SRR1853184.Solo.out/Gene/Summary.csv']"
      ]
     },
     "execution_count": 2,
     "metadata": {},
     "output_type": "execute_result"
    }
   ],
   "source": [
    "sorted(glob.glob('demultiplexed_dropseq_sub_whitelist/*.Solo.out/Gene/Summary.csv'))"
   ]
  },
  {
   "cell_type": "code",
   "execution_count": 3,
   "metadata": {},
   "outputs": [],
   "source": [
    "metadata = []\n",
    "for filename in sorted(glob.glob('demultiplexed_dropseq_sub_whitelist/*.Solo.out/Gene/Summary.csv')):\n",
    "    x = pd.read_csv(filename, header=None, index_col = 0)\n",
    "    sample=filename.replace('demultiplexed_dropseq_sub_whitelist/SRR18531', '')\n",
    "    sample=sample.replace('.Solo.out/Gene/Summary.csv', '')\n",
    "    x.columns = [sample]\n",
    "    metadata.append(x)\n",
    "\n",
    "metadata = pd.concat(metadata, axis = 1)\n",
    "metadata = metadata.T"
   ]
  },
  {
   "cell_type": "code",
   "execution_count": 4,
   "metadata": {},
   "outputs": [
    {
     "data": {
      "text/html": [
       "<div>\n",
       "<style scoped>\n",
       "    .dataframe tbody tr th:only-of-type {\n",
       "        vertical-align: middle;\n",
       "    }\n",
       "\n",
       "    .dataframe tbody tr th {\n",
       "        vertical-align: top;\n",
       "    }\n",
       "\n",
       "    .dataframe thead th {\n",
       "        text-align: right;\n",
       "    }\n",
       "</style>\n",
       "<table border=\"1\" class=\"dataframe\">\n",
       "  <thead>\n",
       "    <tr style=\"text-align: right;\">\n",
       "      <th></th>\n",
       "      <th>Number of Reads</th>\n",
       "      <th>Reads With Valid Barcodes</th>\n",
       "      <th>Sequencing Saturation</th>\n",
       "      <th>Q30 Bases in CB+UMI</th>\n",
       "      <th>Q30 Bases in RNA read</th>\n",
       "      <th>Reads Mapped to Genome: Unique+Multiple</th>\n",
       "      <th>Reads Mapped to Genome: Unique</th>\n",
       "      <th>Reads Mapped to Transcriptome: Unique+Multipe Genes</th>\n",
       "      <th>Reads Mapped to Transcriptome: Unique Genes</th>\n",
       "      <th>Estimated Number of Cells</th>\n",
       "      <th>Reads in Cells Mapped to Unique Genes</th>\n",
       "      <th>Fraction of Reads in Cells</th>\n",
       "      <th>Mean Reads per Cell</th>\n",
       "      <th>Median Reads per Cell</th>\n",
       "      <th>UMIs in Cells</th>\n",
       "      <th>Mean UMI per Cell</th>\n",
       "      <th>Median UMI per Cell</th>\n",
       "      <th>Mean Genes per Cell</th>\n",
       "      <th>Median Genes per Cell</th>\n",
       "      <th>Total Genes Detected</th>\n",
       "    </tr>\n",
       "  </thead>\n",
       "  <tbody>\n",
       "    <tr>\n",
       "      <th>78</th>\n",
       "      <td>348070800.0</td>\n",
       "      <td>0.438338</td>\n",
       "      <td>0.802721</td>\n",
       "      <td>0.763639</td>\n",
       "      <td>0.620943</td>\n",
       "      <td>0.545695</td>\n",
       "      <td>0.545695</td>\n",
       "      <td>0.189384</td>\n",
       "      <td>0.184095</td>\n",
       "      <td>2835.0</td>\n",
       "      <td>43441146.0</td>\n",
       "      <td>0.677940</td>\n",
       "      <td>15323.0</td>\n",
       "      <td>11890.0</td>\n",
       "      <td>7760215.0</td>\n",
       "      <td>2737.0</td>\n",
       "      <td>2030.0</td>\n",
       "      <td>1547.0</td>\n",
       "      <td>1298.0</td>\n",
       "      <td>22008.0</td>\n",
       "    </tr>\n",
       "    <tr>\n",
       "      <th>79</th>\n",
       "      <td>474642000.0</td>\n",
       "      <td>0.472913</td>\n",
       "      <td>0.835262</td>\n",
       "      <td>0.771174</td>\n",
       "      <td>0.620949</td>\n",
       "      <td>0.543406</td>\n",
       "      <td>0.543406</td>\n",
       "      <td>0.211438</td>\n",
       "      <td>0.205259</td>\n",
       "      <td>2383.0</td>\n",
       "      <td>58081056.0</td>\n",
       "      <td>0.596165</td>\n",
       "      <td>24373.0</td>\n",
       "      <td>18995.0</td>\n",
       "      <td>8249998.0</td>\n",
       "      <td>3462.0</td>\n",
       "      <td>2639.0</td>\n",
       "      <td>1846.0</td>\n",
       "      <td>1603.0</td>\n",
       "      <td>22285.0</td>\n",
       "    </tr>\n",
       "    <tr>\n",
       "      <th>80</th>\n",
       "      <td>322756560.0</td>\n",
       "      <td>0.503067</td>\n",
       "      <td>0.880514</td>\n",
       "      <td>0.787011</td>\n",
       "      <td>0.566501</td>\n",
       "      <td>0.542113</td>\n",
       "      <td>0.542113</td>\n",
       "      <td>0.219080</td>\n",
       "      <td>0.212778</td>\n",
       "      <td>1753.0</td>\n",
       "      <td>44625739.0</td>\n",
       "      <td>0.649805</td>\n",
       "      <td>25456.0</td>\n",
       "      <td>19192.0</td>\n",
       "      <td>4509862.0</td>\n",
       "      <td>2572.0</td>\n",
       "      <td>1885.0</td>\n",
       "      <td>1469.0</td>\n",
       "      <td>1228.0</td>\n",
       "      <td>21628.0</td>\n",
       "    </tr>\n",
       "    <tr>\n",
       "      <th>81</th>\n",
       "      <td>403445700.0</td>\n",
       "      <td>0.578215</td>\n",
       "      <td>0.735563</td>\n",
       "      <td>0.743126</td>\n",
       "      <td>0.608497</td>\n",
       "      <td>0.332305</td>\n",
       "      <td>0.332305</td>\n",
       "      <td>0.147068</td>\n",
       "      <td>0.143087</td>\n",
       "      <td>1904.0</td>\n",
       "      <td>35197856.0</td>\n",
       "      <td>0.609721</td>\n",
       "      <td>18486.0</td>\n",
       "      <td>13767.0</td>\n",
       "      <td>8463671.0</td>\n",
       "      <td>4445.0</td>\n",
       "      <td>3277.0</td>\n",
       "      <td>2136.0</td>\n",
       "      <td>1835.0</td>\n",
       "      <td>22185.0</td>\n",
       "    </tr>\n",
       "    <tr>\n",
       "      <th>82</th>\n",
       "      <td>403445700.0</td>\n",
       "      <td>0.529607</td>\n",
       "      <td>0.818202</td>\n",
       "      <td>0.828078</td>\n",
       "      <td>0.637601</td>\n",
       "      <td>0.535420</td>\n",
       "      <td>0.535420</td>\n",
       "      <td>0.239946</td>\n",
       "      <td>0.233264</td>\n",
       "      <td>2335.0</td>\n",
       "      <td>60681195.0</td>\n",
       "      <td>0.644794</td>\n",
       "      <td>25987.0</td>\n",
       "      <td>20242.0</td>\n",
       "      <td>10165214.0</td>\n",
       "      <td>4353.0</td>\n",
       "      <td>3258.0</td>\n",
       "      <td>2116.0</td>\n",
       "      <td>1810.0</td>\n",
       "      <td>22640.0</td>\n",
       "    </tr>\n",
       "    <tr>\n",
       "      <th>83</th>\n",
       "      <td>436670640.0</td>\n",
       "      <td>0.608171</td>\n",
       "      <td>0.898480</td>\n",
       "      <td>0.838650</td>\n",
       "      <td>0.591365</td>\n",
       "      <td>0.551566</td>\n",
       "      <td>0.551566</td>\n",
       "      <td>0.303512</td>\n",
       "      <td>0.295338</td>\n",
       "      <td>2377.0</td>\n",
       "      <td>84715715.0</td>\n",
       "      <td>0.656886</td>\n",
       "      <td>35639.0</td>\n",
       "      <td>27523.0</td>\n",
       "      <td>7397081.0</td>\n",
       "      <td>3111.0</td>\n",
       "      <td>2310.0</td>\n",
       "      <td>1720.0</td>\n",
       "      <td>1456.0</td>\n",
       "      <td>22139.0</td>\n",
       "    </tr>\n",
       "    <tr>\n",
       "      <th>84</th>\n",
       "      <td>210952000.0</td>\n",
       "      <td>0.335440</td>\n",
       "      <td>0.682060</td>\n",
       "      <td>0.788351</td>\n",
       "      <td>0.600760</td>\n",
       "      <td>0.562336</td>\n",
       "      <td>0.562336</td>\n",
       "      <td>0.161819</td>\n",
       "      <td>0.156963</td>\n",
       "      <td>1962.0</td>\n",
       "      <td>22170916.0</td>\n",
       "      <td>0.669581</td>\n",
       "      <td>11300.0</td>\n",
       "      <td>8203.0</td>\n",
       "      <td>6629449.0</td>\n",
       "      <td>3378.0</td>\n",
       "      <td>2419.0</td>\n",
       "      <td>1751.0</td>\n",
       "      <td>1468.0</td>\n",
       "      <td>20655.0</td>\n",
       "    </tr>\n",
       "  </tbody>\n",
       "</table>\n",
       "</div>"
      ],
      "text/plain": [
       "0   Number of Reads  Reads With Valid Barcodes  Sequencing Saturation  \\\n",
       "78      348070800.0                   0.438338               0.802721   \n",
       "79      474642000.0                   0.472913               0.835262   \n",
       "80      322756560.0                   0.503067               0.880514   \n",
       "81      403445700.0                   0.578215               0.735563   \n",
       "82      403445700.0                   0.529607               0.818202   \n",
       "83      436670640.0                   0.608171               0.898480   \n",
       "84      210952000.0                   0.335440               0.682060   \n",
       "\n",
       "0   Q30 Bases in CB+UMI  Q30 Bases in RNA read  \\\n",
       "78             0.763639               0.620943   \n",
       "79             0.771174               0.620949   \n",
       "80             0.787011               0.566501   \n",
       "81             0.743126               0.608497   \n",
       "82             0.828078               0.637601   \n",
       "83             0.838650               0.591365   \n",
       "84             0.788351               0.600760   \n",
       "\n",
       "0   Reads Mapped to Genome: Unique+Multiple  Reads Mapped to Genome: Unique  \\\n",
       "78                                 0.545695                        0.545695   \n",
       "79                                 0.543406                        0.543406   \n",
       "80                                 0.542113                        0.542113   \n",
       "81                                 0.332305                        0.332305   \n",
       "82                                 0.535420                        0.535420   \n",
       "83                                 0.551566                        0.551566   \n",
       "84                                 0.562336                        0.562336   \n",
       "\n",
       "0   Reads Mapped to Transcriptome: Unique+Multipe Genes  \\\n",
       "78                                           0.189384     \n",
       "79                                           0.211438     \n",
       "80                                           0.219080     \n",
       "81                                           0.147068     \n",
       "82                                           0.239946     \n",
       "83                                           0.303512     \n",
       "84                                           0.161819     \n",
       "\n",
       "0   Reads Mapped to Transcriptome: Unique Genes  Estimated Number of Cells  \\\n",
       "78                                     0.184095                     2835.0   \n",
       "79                                     0.205259                     2383.0   \n",
       "80                                     0.212778                     1753.0   \n",
       "81                                     0.143087                     1904.0   \n",
       "82                                     0.233264                     2335.0   \n",
       "83                                     0.295338                     2377.0   \n",
       "84                                     0.156963                     1962.0   \n",
       "\n",
       "0   Reads in Cells Mapped to Unique Genes  Fraction of Reads in Cells  \\\n",
       "78                             43441146.0                    0.677940   \n",
       "79                             58081056.0                    0.596165   \n",
       "80                             44625739.0                    0.649805   \n",
       "81                             35197856.0                    0.609721   \n",
       "82                             60681195.0                    0.644794   \n",
       "83                             84715715.0                    0.656886   \n",
       "84                             22170916.0                    0.669581   \n",
       "\n",
       "0   Mean Reads per Cell  Median Reads per Cell  UMIs in Cells  \\\n",
       "78              15323.0                11890.0      7760215.0   \n",
       "79              24373.0                18995.0      8249998.0   \n",
       "80              25456.0                19192.0      4509862.0   \n",
       "81              18486.0                13767.0      8463671.0   \n",
       "82              25987.0                20242.0     10165214.0   \n",
       "83              35639.0                27523.0      7397081.0   \n",
       "84              11300.0                 8203.0      6629449.0   \n",
       "\n",
       "0   Mean UMI per Cell  Median UMI per Cell  Mean Genes per Cell  \\\n",
       "78             2737.0               2030.0               1547.0   \n",
       "79             3462.0               2639.0               1846.0   \n",
       "80             2572.0               1885.0               1469.0   \n",
       "81             4445.0               3277.0               2136.0   \n",
       "82             4353.0               3258.0               2116.0   \n",
       "83             3111.0               2310.0               1720.0   \n",
       "84             3378.0               2419.0               1751.0   \n",
       "\n",
       "0   Median Genes per Cell  Total Genes Detected  \n",
       "78                 1298.0               22008.0  \n",
       "79                 1603.0               22285.0  \n",
       "80                 1228.0               21628.0  \n",
       "81                 1835.0               22185.0  \n",
       "82                 1810.0               22640.0  \n",
       "83                 1456.0               22139.0  \n",
       "84                 1468.0               20655.0  "
      ]
     },
     "execution_count": 4,
     "metadata": {},
     "output_type": "execute_result"
    }
   ],
   "source": [
    "metadata"
   ]
  },
  {
   "cell_type": "code",
   "execution_count": 5,
   "metadata": {},
   "outputs": [
    {
     "data": {
      "text/plain": [
       "0\n",
       "Number of Reads                                        2.599983e+09\n",
       "Reads With Valid Barcodes                              3.465751e+00\n",
       "Sequencing Saturation                                  5.652802e+00\n",
       "Q30 Bases in CB+UMI                                    5.520029e+00\n",
       "Q30 Bases in RNA read                                  4.246616e+00\n",
       "Reads Mapped to Genome: Unique+Multiple                3.612841e+00\n",
       "Reads Mapped to Genome: Unique                         3.612841e+00\n",
       "Reads Mapped to Transcriptome: Unique+Multipe Genes    1.472247e+00\n",
       "Reads Mapped to Transcriptome: Unique Genes            1.430784e+00\n",
       "Estimated Number of Cells                              1.554900e+04\n",
       "Reads in Cells Mapped to Unique Genes                  3.489136e+08\n",
       "Fraction of Reads in Cells                             4.504892e+00\n",
       "Mean Reads per Cell                                    1.565640e+05\n",
       "Median Reads per Cell                                  1.198120e+05\n",
       "UMIs in Cells                                          5.317549e+07\n",
       "Mean UMI per Cell                                      2.405800e+04\n",
       "Median UMI per Cell                                    1.781800e+04\n",
       "Mean Genes per Cell                                    1.258500e+04\n",
       "Median Genes per Cell                                  1.069800e+04\n",
       "Total Genes Detected                                   1.535400e+05\n",
       "dtype: float64"
      ]
     },
     "execution_count": 5,
     "metadata": {},
     "output_type": "execute_result"
    }
   ],
   "source": [
    "metadata.sum()"
   ]
  },
  {
   "cell_type": "code",
   "execution_count": 6,
   "metadata": {},
   "outputs": [
    {
     "data": {
      "text/plain": [
       "0\n",
       "Number of Reads                                        3.714262e+08\n",
       "Reads With Valid Barcodes                              4.951073e-01\n",
       "Sequencing Saturation                                  8.075431e-01\n",
       "Q30 Bases in CB+UMI                                    7.885756e-01\n",
       "Q30 Bases in RNA read                                  6.066594e-01\n",
       "Reads Mapped to Genome: Unique+Multiple                5.161201e-01\n",
       "Reads Mapped to Genome: Unique                         5.161201e-01\n",
       "Reads Mapped to Transcriptome: Unique+Multipe Genes    2.103210e-01\n",
       "Reads Mapped to Transcriptome: Unique Genes            2.043977e-01\n",
       "Estimated Number of Cells                              2.221286e+03\n",
       "Reads in Cells Mapped to Unique Genes                  4.984480e+07\n",
       "Fraction of Reads in Cells                             6.435560e-01\n",
       "Mean Reads per Cell                                    2.236629e+04\n",
       "Median Reads per Cell                                  1.711600e+04\n",
       "UMIs in Cells                                          7.596499e+06\n",
       "Mean UMI per Cell                                      3.436857e+03\n",
       "Median UMI per Cell                                    2.545429e+03\n",
       "Mean Genes per Cell                                    1.797857e+03\n",
       "Median Genes per Cell                                  1.528286e+03\n",
       "Total Genes Detected                                   2.193429e+04\n",
       "dtype: float64"
      ]
     },
     "execution_count": 6,
     "metadata": {},
     "output_type": "execute_result"
    }
   ],
   "source": [
    "metadata.mean()"
   ]
  },
  {
   "cell_type": "markdown",
   "metadata": {},
   "source": [
    "Note that the per cell numbers use STARsolo's filter (only detects 15k cells instead of 49k)"
   ]
  },
  {
   "cell_type": "code",
   "execution_count": 7,
   "metadata": {},
   "outputs": [
    {
     "data": {
      "image/png": "[encoded data removed]",
      "text/plain": [
       "<Figure size 1440x1152 with 20 Axes>"
      ]
     },
     "metadata": {
      "needs_background": "light"
     },
     "output_type": "display_data"
    }
   ],
   "source": [
    "fig, axes =plt.subplots(5,4, figsize=(20,16))\n",
    "axes = axes.flatten()\n",
    "for statistic in range(0,metadata.shape[1]):\n",
    "    sns.barplot(y = metadata[metadata.columns[statistic]], \n",
    "                x = metadata.index,\n",
    "                ax = axes[statistic]\n",
    "               ).set_title(metadata.columns[statistic])\n",
    "    axes[statistic].set_ylabel('')\n",
    "    # axes[statistic].get_xaxis().set_ticklabels([])\n",
    "\n",
    "plt.tight_layout()\n",
    "plt.gcf()\n",
    "plt.savefig('plts_python/dropseq_starsoloqc_sub_whitelist.png', dpi=150)\n",
    "plt.show()\n",
    "plt.close()"
   ]
  },
  {
   "cell_type": "code",
   "execution_count": 8,
   "metadata": {},
   "outputs": [],
   "source": [
    "barcode_rank = []\n",
    "\n",
    "for filename in sorted(glob.glob('demultiplexed_dropseq_sub_whitelist/*.Solo.out/Gene/UMIperCellSorted.txt')):\n",
    "    x = pd.read_csv(filename, header=None)\n",
    "    sample=filename.replace('demultiplexed_indrop/SRR18531', '')\n",
    "    sample=sample.replace('.Solo.out/Gene/UMIperCellSorted.txt', '')\n",
    "    x.columns = [sample]\n",
    "    barcode_rank.append(x)\n",
    "\n",
    "barcode_rank_df = pd.concat(barcode_rank, axis = 1)"
   ]
  },
  {
   "cell_type": "code",
   "execution_count": 9,
   "metadata": {},
   "outputs": [
    {
     "data": {
      "image/png": "[encoded data removed]",
      "text/plain": [
       "<Figure size 432x288 with 1 Axes>"
      ]
     },
     "metadata": {
      "needs_background": "light"
     },
     "output_type": "display_data"
    }
   ],
   "source": [
    "ax = sns.lineplot(data=barcode_rank_df)\n",
    "ax.set_xscale('log')\n",
    "ax.set_yscale('log')"
   ]
  },
  {
   "cell_type": "markdown",
   "metadata": {},
   "source": [
    "Please note that this kneeplot is artificially good!!! All non-cells on the right of the knee are barcodes with 1 mismatch to the artificial whitelist (barcodes to left of knee). thousands of barcodes have already been removed during the barcode filtering stage."
   ]
  },
  {
   "cell_type": "code",
   "execution_count": 10,
   "metadata": {},
   "outputs": [],
   "source": [
    "ncells_dict = {\n",
    "    '78': 6600,\n",
    "    '79': 9000,\n",
    "    '80': 6120,\n",
    "    '81': 7650,\n",
    "    '82': 7650,\n",
    "    '83': 8280,\n",
    "    '84': 4000,\n",
    "}\n"
   ]
  },
  {
   "cell_type": "code",
   "execution_count": 132,
   "metadata": {},
   "outputs": [
    {
     "data": {
      "text/plain": [
       "49300"
      ]
     },
     "execution_count": 132,
     "metadata": {},
     "output_type": "execute_result"
    }
   ],
   "source": [
    "sum([ncells_dict[x] for x in ncells_dict.keys()])"
   ]
  },
  {
   "cell_type": "code",
   "execution_count": 11,
   "metadata": {},
   "outputs": [
    {
     "data": {
      "text/plain": [
       "Index(['demultiplexed_dropseq_sub_whitelist/SRR1853178',\n",
       "       'demultiplexed_dropseq_sub_whitelist/SRR1853179',\n",
       "       'demultiplexed_dropseq_sub_whitelist/SRR1853180',\n",
       "       'demultiplexed_dropseq_sub_whitelist/SRR1853181',\n",
       "       'demultiplexed_dropseq_sub_whitelist/SRR1853182',\n",
       "       'demultiplexed_dropseq_sub_whitelist/SRR1853183',\n",
       "       'demultiplexed_dropseq_sub_whitelist/SRR1853184'],\n",
       "      dtype='object')"
      ]
     },
     "execution_count": 11,
     "metadata": {},
     "output_type": "execute_result"
    }
   ],
   "source": [
    "barcode_rank_df.columns"
   ]
  },
  {
   "cell_type": "code",
   "execution_count": 12,
   "metadata": {},
   "outputs": [],
   "source": [
    "barcode_rank_df.columns = [barcode_rank_df.columns[x].replace('demultiplexed_dropseq_sub_whitelist/SRR18531', '') for x in range(len(barcode_rank_df.columns))]"
   ]
  },
  {
   "cell_type": "code",
   "execution_count": 13,
   "metadata": {},
   "outputs": [
    {
     "name": "stdout",
     "output_type": "stream",
     "text": [
      "11165764.0\n",
      "0.8832790072828945\n",
      "14441183\n",
      "0.8997888660124749\n",
      "7439290.0\n",
      "0.906590567535988\n",
      "14245056.0\n",
      "0.9331619562535133\n",
      "15937305.0\n",
      "0.9315229468690802\n",
      "12136458.0\n",
      "0.9269745604121185\n",
      "8922890.0\n",
      "0.8475774261027429\n"
     ]
    }
   ],
   "source": [
    "sum_incells = 0\n",
    "for sample in barcode_rank_df.columns:\n",
    "    incells = barcode_rank_df[sample][0:ncells_dict[sample]-1].sum()\n",
    "    print(incells)\n",
    "    sum_incells = sum_incells + incells\n",
    "    outcells = barcode_rank_df[sample][ncells_dict[sample]:].sum()\n",
    "    total = barcode_rank_df[sample].sum()\n",
    "    print(incells/total)"
   ]
  },
  {
   "cell_type": "code",
   "execution_count": 14,
   "metadata": {},
   "outputs": [
    {
     "data": {
      "text/plain": [
       "84287946.0"
      ]
     },
     "execution_count": 14,
     "metadata": {},
     "output_type": "execute_result"
    }
   ],
   "source": [
    "sum_incells"
   ]
  },
  {
   "cell_type": "markdown",
   "metadata": {},
   "source": [
    "Please note that this FRIC is artificially good!!! All non-cells on the right of the knee are barcodes with 1 mismatch to the artificial whitelist (barcodes to left of knee). thousands of barcodes have already been removed during the barcode filtering stage."
   ]
  },
  {
   "cell_type": "markdown",
   "metadata": {},
   "source": [
    "# inDrop"
   ]
  },
  {
   "cell_type": "code",
   "execution_count": 15,
   "metadata": {},
   "outputs": [
    {
     "data": {
      "text/plain": [
       "['demultiplexed_indrop_index/SRR10545068.Solo.out/Gene/Summary.csv',\n",
       " 'demultiplexed_indrop_index/SRR10545069.Solo.out/Gene/Summary.csv',\n",
       " 'demultiplexed_indrop_index/SRR10545070.Solo.out/Gene/Summary.csv',\n",
       " 'demultiplexed_indrop_index/SRR10545071.Solo.out/Gene/Summary.csv',\n",
       " 'demultiplexed_indrop_index/SRR10545072.Solo.out/Gene/Summary.csv',\n",
       " 'demultiplexed_indrop_index/SRR10545073.Solo.out/Gene/Summary.csv',\n",
       " 'demultiplexed_indrop_index/SRR10545074.Solo.out/Gene/Summary.csv',\n",
       " 'demultiplexed_indrop_index/SRR10545075.Solo.out/Gene/Summary.csv',\n",
       " 'demultiplexed_indrop_index/SRR10545076.Solo.out/Gene/Summary.csv',\n",
       " 'demultiplexed_indrop_index/SRR10545077.Solo.out/Gene/Summary.csv',\n",
       " 'demultiplexed_indrop_index/SRR10545078.Solo.out/Gene/Summary.csv',\n",
       " 'demultiplexed_indrop_index/SRR10545079.Solo.out/Gene/Summary.csv',\n",
       " 'demultiplexed_indrop_index/merged.Solo.out/Gene/Summary.csv']"
      ]
     },
     "execution_count": 15,
     "metadata": {},
     "output_type": "execute_result"
    }
   ],
   "source": [
    "sorted(glob.glob('demultiplexed_indrop_index/*.Solo.out/Gene/Summary.csv'))"
   ]
  },
  {
   "cell_type": "code",
   "execution_count": 16,
   "metadata": {},
   "outputs": [],
   "source": [
    "metadata = []\n",
    "for filename in sorted(glob.glob('demultiplexed_indrop_index/*.Solo.out/Gene/Summary.csv')):\n",
    "    x = pd.read_csv(filename, header=None, index_col = 0)\n",
    "    sample=filename.replace('demultiplexed_indrop/SRR105450', '')\n",
    "    sample=sample.replace('.Solo.out/Gene/Summary.csv', '')\n",
    "    x.columns = [sample]\n",
    "    metadata.append(x)\n",
    "\n",
    "metadata = pd.concat(metadata, axis = 1)\n",
    "metadata = metadata.T"
   ]
  },
  {
   "cell_type": "code",
   "execution_count": 17,
   "metadata": {},
   "outputs": [
    {
     "data": {
      "image/png": "[encoded data removed]",
      "text/plain": [
       "<Figure size 1440x1152 with 20 Axes>"
      ]
     },
     "metadata": {
      "needs_background": "light"
     },
     "output_type": "display_data"
    }
   ],
   "source": [
    "fig, axes =plt.subplots(5,4, figsize=(20,16))\n",
    "axes = axes.flatten()\n",
    "for statistic in range(0,metadata.shape[1]):\n",
    "    sns.barplot(y = metadata[metadata.columns[statistic]], \n",
    "                x = metadata.index,\n",
    "                ax = axes[statistic]\n",
    "               ).set_title(metadata.columns[statistic])\n",
    "    axes[statistic].set_ylabel('')\n",
    "    # axes[statistic].get_xaxis().set_ticklabels([])\n",
    "\n",
    "plt.tight_layout()\n",
    "plt.gcf()\n",
    "plt.savefig('plts_python/indrop_starsoloqc.png', dpi=150)\n",
    "plt.show()\n",
    "plt.close()"
   ]
  },
  {
   "cell_type": "markdown",
   "metadata": {},
   "source": [
    "This is quite revealing. Note that the last sample (pinkish) matches our expectations: when you correctly merge all the fastqs, and then perform correct barcode demultiplexing, you get the expected number of median umis/genes."
   ]
  },
  {
   "cell_type": "code",
   "execution_count": 18,
   "metadata": {},
   "outputs": [],
   "source": [
    "metadata['reads_per_cell'] = metadata['Number of Reads']/metadata['Estimated Number of Cells']"
   ]
  },
  {
   "cell_type": "code",
   "execution_count": 19,
   "metadata": {},
   "outputs": [
    {
     "data": {
      "text/plain": [
       "demultiplexed_indrop_index/SRR10545068      9762.981728\n",
       "demultiplexed_indrop_index/SRR10545069      8403.608189\n",
       "demultiplexed_indrop_index/SRR10545070      8094.605420\n",
       "demultiplexed_indrop_index/SRR10545071      8191.120189\n",
       "demultiplexed_indrop_index/SRR10545072      9725.749621\n",
       "demultiplexed_indrop_index/SRR10545073      9281.496828\n",
       "demultiplexed_indrop_index/SRR10545074      9472.159006\n",
       "demultiplexed_indrop_index/SRR10545075      9782.571906\n",
       "demultiplexed_indrop_index/SRR10545076      9918.447050\n",
       "demultiplexed_indrop_index/SRR10545077      9548.167329\n",
       "demultiplexed_indrop_index/SRR10545078      9640.742864\n",
       "demultiplexed_indrop_index/SRR10545079      8114.000644\n",
       "demultiplexed_indrop_index/merged         103957.690651\n",
       "Name: reads_per_cell, dtype: float64"
      ]
     },
     "execution_count": 19,
     "metadata": {},
     "output_type": "execute_result"
    }
   ],
   "source": [
    "metadata['reads_per_cell']"
   ]
  },
  {
   "cell_type": "code",
   "execution_count": 20,
   "metadata": {},
   "outputs": [],
   "source": [
    "barcode_rank = []\n",
    "\n",
    "for filename in sorted(glob.glob('demultiplexed_indrop_index/merged.Solo.out/Gene/UMIperCellSorted.txt')):\n",
    "    x = pd.read_csv(filename, header=None)\n",
    "    sample=filename.replace('demultiplexed_indrop/SRR105450', '')\n",
    "    sample=sample.replace('.Solo.out/Gene/UMIperCellSorted.txt', '')\n",
    "    x.columns = [sample]\n",
    "    barcode_rank.append(x)\n",
    "\n",
    "barcode_rank_df = pd.concat(barcode_rank, axis = 1)"
   ]
  },
  {
   "cell_type": "code",
   "execution_count": 21,
   "metadata": {},
   "outputs": [
    {
     "data": {
      "text/html": [
       "<div>\n",
       "<style scoped>\n",
       "    .dataframe tbody tr th:only-of-type {\n",
       "        vertical-align: middle;\n",
       "    }\n",
       "\n",
       "    .dataframe tbody tr th {\n",
       "        vertical-align: top;\n",
       "    }\n",
       "\n",
       "    .dataframe thead th {\n",
       "        text-align: right;\n",
       "    }\n",
       "</style>\n",
       "<table border=\"1\" class=\"dataframe\">\n",
       "  <thead>\n",
       "    <tr style=\"text-align: right;\">\n",
       "      <th></th>\n",
       "      <th>demultiplexed_indrop_index/merged</th>\n",
       "    </tr>\n",
       "  </thead>\n",
       "  <tbody>\n",
       "    <tr>\n",
       "      <th>0</th>\n",
       "      <td>41203</td>\n",
       "    </tr>\n",
       "    <tr>\n",
       "      <th>1</th>\n",
       "      <td>38021</td>\n",
       "    </tr>\n",
       "    <tr>\n",
       "      <th>2</th>\n",
       "      <td>27611</td>\n",
       "    </tr>\n",
       "    <tr>\n",
       "      <th>3</th>\n",
       "      <td>25914</td>\n",
       "    </tr>\n",
       "    <tr>\n",
       "      <th>4</th>\n",
       "      <td>24172</td>\n",
       "    </tr>\n",
       "    <tr>\n",
       "      <th>...</th>\n",
       "      <td>...</td>\n",
       "    </tr>\n",
       "    <tr>\n",
       "      <th>1313980</th>\n",
       "      <td>1</td>\n",
       "    </tr>\n",
       "    <tr>\n",
       "      <th>1313981</th>\n",
       "      <td>1</td>\n",
       "    </tr>\n",
       "    <tr>\n",
       "      <th>1313982</th>\n",
       "      <td>1</td>\n",
       "    </tr>\n",
       "    <tr>\n",
       "      <th>1313983</th>\n",
       "      <td>1</td>\n",
       "    </tr>\n",
       "    <tr>\n",
       "      <th>1313984</th>\n",
       "      <td>1</td>\n",
       "    </tr>\n",
       "  </tbody>\n",
       "</table>\n",
       "<p>1313985 rows × 1 columns</p>\n",
       "</div>"
      ],
      "text/plain": [
       "         demultiplexed_indrop_index/merged\n",
       "0                                    41203\n",
       "1                                    38021\n",
       "2                                    27611\n",
       "3                                    25914\n",
       "4                                    24172\n",
       "...                                    ...\n",
       "1313980                                  1\n",
       "1313981                                  1\n",
       "1313982                                  1\n",
       "1313983                                  1\n",
       "1313984                                  1\n",
       "\n",
       "[1313985 rows x 1 columns]"
      ]
     },
     "execution_count": 21,
     "metadata": {},
     "output_type": "execute_result"
    }
   ],
   "source": [
    "barcode_rank_df"
   ]
  },
  {
   "cell_type": "code",
   "execution_count": 22,
   "metadata": {},
   "outputs": [
    {
     "data": {
      "image/png": "[encoded data removed]",
      "text/plain": [
       "<Figure size 432x288 with 1 Axes>"
      ]
     },
     "metadata": {
      "needs_background": "light"
     },
     "output_type": "display_data"
    }
   ],
   "source": [
    "ax = sns.lineplot(data=barcode_rank_df)\n",
    "ax.set_xscale('log')\n",
    "ax.set_yscale('log')"
   ]
  },
  {
   "cell_type": "code",
   "execution_count": 23,
   "metadata": {},
   "outputs": [
    {
     "data": {
      "text/plain": [
       "demultiplexed_indrop_index/merged    63751280\n",
       "dtype: int64"
      ]
     },
     "execution_count": 23,
     "metadata": {},
     "output_type": "execute_result"
    }
   ],
   "source": [
    "barcode_rank_df[0:27093].sum()"
   ]
  },
  {
   "cell_type": "code",
   "execution_count": 24,
   "metadata": {},
   "outputs": [
    {
     "data": {
      "text/plain": [
       "demultiplexed_indrop_index/merged    38967051\n",
       "dtype: int64"
      ]
     },
     "execution_count": 24,
     "metadata": {},
     "output_type": "execute_result"
    }
   ],
   "source": [
    "barcode_rank_df[27094:].sum()"
   ]
  },
  {
   "cell_type": "code",
   "execution_count": 25,
   "metadata": {},
   "outputs": [
    {
     "data": {
      "text/plain": [
       "demultiplexed_indrop_index/merged    0.620642\n",
       "dtype: float64"
      ]
     },
     "execution_count": 25,
     "metadata": {},
     "output_type": "execute_result"
    }
   ],
   "source": [
    "barcode_rank_df[0:27093].sum()/(barcode_rank_df[0:27093].sum()+barcode_rank_df[27094:].sum())"
   ]
  },
  {
   "cell_type": "markdown",
   "metadata": {},
   "source": [
    "Note that around 60% or reads are already discarded for inDrop at the barcode filtering stage, so the real FRIC is ~25%. If the STARsolo numbers are used:"
   ]
  },
  {
   "cell_type": "markdown",
   "metadata": {},
   "source": [
    "# Generate violin plot"
   ]
  },
  {
   "cell_type": "code",
   "execution_count": 26,
   "metadata": {},
   "outputs": [
    {
     "name": "stdout",
     "output_type": "stream",
     "text": [
      "\u001b[0m\u001b[01;32mtables/20210501_adata.h5ad\u001b[0m*\n",
      "tables/dropseq_SRR1853178_adata.tsv\n",
      "tables/dropseq_SRR1853179_adata.tsv\n",
      "tables/dropseq_SRR1853180_adata.tsv\n",
      "tables/dropseq_SRR1853181_adata.tsv\n",
      "tables/dropseq_SRR1853182_adata.tsv\n",
      "tables/dropseq_SRR1853183_adata.tsv\n",
      "tables/dropseq_SRR1853184_adata.tsv\n",
      "tables/dropseq_whitelisted_SRR1853178_adata.tsv\n",
      "tables/dropseq_whitelisted_SRR1853179_adata.tsv\n",
      "tables/dropseq_whitelisted_SRR1853180_adata.tsv\n",
      "tables/dropseq_whitelisted_SRR1853181_adata.tsv\n",
      "tables/dropseq_whitelisted_SRR1853182_adata.tsv\n",
      "tables/dropseq_whitelisted_SRR1853183_adata.tsv\n",
      "tables/dropseq_whitelisted_SRR1853184_adata.tsv\n",
      "tables/hydrop_adata.tsv\n",
      "tables/indrop_merged_adata.tsv\n"
     ]
    }
   ],
   "source": [
    "ls tables/*adata*"
   ]
  },
  {
   "cell_type": "markdown",
   "metadata": {},
   "source": [
    "We need these tables:\n",
    "\n",
    "```\n",
    "tables/dropseq_whitelisted_SRR1853178_adata.tsv\n",
    "tables/dropseq_whitelisted_SRR1853179_adata.tsv\n",
    "tables/dropseq_whitelisted_SRR1853180_adata.tsv\n",
    "tables/dropseq_whitelisted_SRR1853181_adata.tsv\n",
    "tables/dropseq_whitelisted_SRR1853182_adata.tsv\n",
    "tables/dropseq_whitelisted_SRR1853183_adata.tsv\n",
    "tables/dropseq_whitelisted_SRR1853184_adata.tsv\n",
    "tables/indrop_merged_adata.tsv\n",
    "```"
   ]
  },
  {
   "cell_type": "code",
   "execution_count": 27,
   "metadata": {},
   "outputs": [],
   "source": [
    "#### import scanpy as sc\n",
    "import pandas as pd\n",
    "import os\n",
    "import matplotlib.pyplot as plt\n",
    "import seaborn as sns\n",
    "from matplotlib.pyplot import figure\n",
    "import numpy as np\n",
    "import glob as glob"
   ]
  },
  {
   "cell_type": "code",
   "execution_count": 28,
   "metadata": {},
   "outputs": [],
   "source": [
    "files = glob.glob('tables/dropseq_whitelisted*_adata.tsv')"
   ]
  },
  {
   "cell_type": "code",
   "execution_count": 29,
   "metadata": {},
   "outputs": [
    {
     "data": {
      "text/plain": [
       "['tables/dropseq_whitelisted_SRR1853182_adata.tsv',\n",
       " 'tables/dropseq_whitelisted_SRR1853179_adata.tsv',\n",
       " 'tables/dropseq_whitelisted_SRR1853184_adata.tsv',\n",
       " 'tables/dropseq_whitelisted_SRR1853178_adata.tsv',\n",
       " 'tables/dropseq_whitelisted_SRR1853181_adata.tsv',\n",
       " 'tables/dropseq_whitelisted_SRR1853180_adata.tsv',\n",
       " 'tables/dropseq_whitelisted_SRR1853183_adata.tsv']"
      ]
     },
     "execution_count": 29,
     "metadata": {},
     "output_type": "execute_result"
    }
   ],
   "source": [
    "files"
   ]
  },
  {
   "cell_type": "code",
   "execution_count": 30,
   "metadata": {
    "tags": []
   },
   "outputs": [],
   "source": [
    "df_dropseq_adata = pd.DataFrame()\n",
    "for file in files:\n",
    "    df = pd.read_csv(file, sep='\\t', index_col=0, header=0)\n",
    "    df_dropseq_adata = df_dropseq_adata.append(df)"
   ]
  },
  {
   "cell_type": "code",
   "execution_count": 31,
   "metadata": {},
   "outputs": [
    {
     "data": {
      "text/html": [
       "<div>\n",
       "<style scoped>\n",
       "    .dataframe tbody tr th:only-of-type {\n",
       "        vertical-align: middle;\n",
       "    }\n",
       "\n",
       "    .dataframe tbody tr th {\n",
       "        vertical-align: top;\n",
       "    }\n",
       "\n",
       "    .dataframe thead th {\n",
       "        text-align: right;\n",
       "    }\n",
       "</style>\n",
       "<table border=\"1\" class=\"dataframe\">\n",
       "  <thead>\n",
       "    <tr style=\"text-align: right;\">\n",
       "      <th></th>\n",
       "      <th>n_genes_by_counts</th>\n",
       "      <th>log1p_n_genes_by_counts</th>\n",
       "      <th>total_counts</th>\n",
       "      <th>log1p_total_counts</th>\n",
       "      <th>pct_counts_in_top_50_genes</th>\n",
       "      <th>pct_counts_in_top_100_genes</th>\n",
       "      <th>pct_counts_in_top_200_genes</th>\n",
       "      <th>pct_counts_in_top_500_genes</th>\n",
       "    </tr>\n",
       "  </thead>\n",
       "  <tbody>\n",
       "    <tr>\n",
       "      <th>SRR1853182_ACAGATTGGAAC</th>\n",
       "      <td>7526</td>\n",
       "      <td>8.926252</td>\n",
       "      <td>34639.0</td>\n",
       "      <td>10.452765</td>\n",
       "      <td>12.685124</td>\n",
       "      <td>17.841162</td>\n",
       "      <td>25.251884</td>\n",
       "      <td>38.892578</td>\n",
       "    </tr>\n",
       "    <tr>\n",
       "      <th>SRR1853182_CAGAATAGGCTT</th>\n",
       "      <td>7144</td>\n",
       "      <td>8.874168</td>\n",
       "      <td>29813.0</td>\n",
       "      <td>10.302733</td>\n",
       "      <td>13.376715</td>\n",
       "      <td>18.709959</td>\n",
       "      <td>26.069164</td>\n",
       "      <td>39.831617</td>\n",
       "    </tr>\n",
       "    <tr>\n",
       "      <th>SRR1853182_GAAAAGAACGAG</th>\n",
       "      <td>6971</td>\n",
       "      <td>8.849657</td>\n",
       "      <td>38458.0</td>\n",
       "      <td>10.557348</td>\n",
       "      <td>14.696552</td>\n",
       "      <td>21.995424</td>\n",
       "      <td>31.652712</td>\n",
       "      <td>47.605180</td>\n",
       "    </tr>\n",
       "    <tr>\n",
       "      <th>SRR1853182_GCTGGAGTTTCA</th>\n",
       "      <td>6906</td>\n",
       "      <td>8.840291</td>\n",
       "      <td>28311.0</td>\n",
       "      <td>10.251041</td>\n",
       "      <td>13.772032</td>\n",
       "      <td>19.261065</td>\n",
       "      <td>26.713998</td>\n",
       "      <td>40.591996</td>\n",
       "    </tr>\n",
       "    <tr>\n",
       "      <th>SRR1853182_GAAATCAACAGT</th>\n",
       "      <td>6504</td>\n",
       "      <td>8.780326</td>\n",
       "      <td>24016.0</td>\n",
       "      <td>10.086517</td>\n",
       "      <td>13.216189</td>\n",
       "      <td>18.479347</td>\n",
       "      <td>25.845270</td>\n",
       "      <td>39.765157</td>\n",
       "    </tr>\n",
       "    <tr>\n",
       "      <th>...</th>\n",
       "      <td>...</td>\n",
       "      <td>...</td>\n",
       "      <td>...</td>\n",
       "      <td>...</td>\n",
       "      <td>...</td>\n",
       "      <td>...</td>\n",
       "      <td>...</td>\n",
       "      <td>...</td>\n",
       "    </tr>\n",
       "    <tr>\n",
       "      <th>SRR1853183_ATTTATCAGGCA</th>\n",
       "      <td>366</td>\n",
       "      <td>5.905362</td>\n",
       "      <td>510.0</td>\n",
       "      <td>6.236370</td>\n",
       "      <td>33.529412</td>\n",
       "      <td>47.843137</td>\n",
       "      <td>67.450980</td>\n",
       "      <td>100.000000</td>\n",
       "    </tr>\n",
       "    <tr>\n",
       "      <th>SRR1853183_AGGGCCATGCAT</th>\n",
       "      <td>366</td>\n",
       "      <td>5.905362</td>\n",
       "      <td>515.0</td>\n",
       "      <td>6.246107</td>\n",
       "      <td>34.368932</td>\n",
       "      <td>48.349515</td>\n",
       "      <td>67.766990</td>\n",
       "      <td>100.000000</td>\n",
       "    </tr>\n",
       "    <tr>\n",
       "      <th>SRR1853183_CATTCGCTGGCT</th>\n",
       "      <td>366</td>\n",
       "      <td>5.905362</td>\n",
       "      <td>498.0</td>\n",
       "      <td>6.212606</td>\n",
       "      <td>31.726908</td>\n",
       "      <td>46.586345</td>\n",
       "      <td>66.666667</td>\n",
       "      <td>100.000000</td>\n",
       "    </tr>\n",
       "    <tr>\n",
       "      <th>SRR1853183_TGACGATCGCGT</th>\n",
       "      <td>366</td>\n",
       "      <td>5.905362</td>\n",
       "      <td>495.0</td>\n",
       "      <td>6.206576</td>\n",
       "      <td>30.505051</td>\n",
       "      <td>46.262626</td>\n",
       "      <td>66.464646</td>\n",
       "      <td>100.000000</td>\n",
       "    </tr>\n",
       "    <tr>\n",
       "      <th>SRR1853183_TGTTTGAGATTT</th>\n",
       "      <td>365</td>\n",
       "      <td>5.902633</td>\n",
       "      <td>472.0</td>\n",
       "      <td>6.159095</td>\n",
       "      <td>29.661017</td>\n",
       "      <td>43.855932</td>\n",
       "      <td>65.042373</td>\n",
       "      <td>100.000000</td>\n",
       "    </tr>\n",
       "  </tbody>\n",
       "</table>\n",
       "<p>49293 rows × 8 columns</p>\n",
       "</div>"
      ],
      "text/plain": [
       "                         n_genes_by_counts  log1p_n_genes_by_counts  \\\n",
       "SRR1853182_ACAGATTGGAAC               7526                 8.926252   \n",
       "SRR1853182_CAGAATAGGCTT               7144                 8.874168   \n",
       "SRR1853182_GAAAAGAACGAG               6971                 8.849657   \n",
       "SRR1853182_GCTGGAGTTTCA               6906                 8.840291   \n",
       "SRR1853182_GAAATCAACAGT               6504                 8.780326   \n",
       "...                                    ...                      ...   \n",
       "SRR1853183_ATTTATCAGGCA                366                 5.905362   \n",
       "SRR1853183_AGGGCCATGCAT                366                 5.905362   \n",
       "SRR1853183_CATTCGCTGGCT                366                 5.905362   \n",
       "SRR1853183_TGACGATCGCGT                366                 5.905362   \n",
       "SRR1853183_TGTTTGAGATTT                365                 5.902633   \n",
       "\n",
       "                         total_counts  log1p_total_counts  \\\n",
       "SRR1853182_ACAGATTGGAAC       34639.0           10.452765   \n",
       "SRR1853182_CAGAATAGGCTT       29813.0           10.302733   \n",
       "SRR1853182_GAAAAGAACGAG       38458.0           10.557348   \n",
       "SRR1853182_GCTGGAGTTTCA       28311.0           10.251041   \n",
       "SRR1853182_GAAATCAACAGT       24016.0           10.086517   \n",
       "...                               ...                 ...   \n",
       "SRR1853183_ATTTATCAGGCA         510.0            6.236370   \n",
       "SRR1853183_AGGGCCATGCAT         515.0            6.246107   \n",
       "SRR1853183_CATTCGCTGGCT         498.0            6.212606   \n",
       "SRR1853183_TGACGATCGCGT         495.0            6.206576   \n",
       "SRR1853183_TGTTTGAGATTT         472.0            6.159095   \n",
       "\n",
       "                         pct_counts_in_top_50_genes  \\\n",
       "SRR1853182_ACAGATTGGAAC                   12.685124   \n",
       "SRR1853182_CAGAATAGGCTT                   13.376715   \n",
       "SRR1853182_GAAAAGAACGAG                   14.696552   \n",
       "SRR1853182_GCTGGAGTTTCA                   13.772032   \n",
       "SRR1853182_GAAATCAACAGT                   13.216189   \n",
       "...                                             ...   \n",
       "SRR1853183_ATTTATCAGGCA                   33.529412   \n",
       "SRR1853183_AGGGCCATGCAT                   34.368932   \n",
       "SRR1853183_CATTCGCTGGCT                   31.726908   \n",
       "SRR1853183_TGACGATCGCGT                   30.505051   \n",
       "SRR1853183_TGTTTGAGATTT                   29.661017   \n",
       "\n",
       "                         pct_counts_in_top_100_genes  \\\n",
       "SRR1853182_ACAGATTGGAAC                    17.841162   \n",
       "SRR1853182_CAGAATAGGCTT                    18.709959   \n",
       "SRR1853182_GAAAAGAACGAG                    21.995424   \n",
       "SRR1853182_GCTGGAGTTTCA                    19.261065   \n",
       "SRR1853182_GAAATCAACAGT                    18.479347   \n",
       "...                                              ...   \n",
       "SRR1853183_ATTTATCAGGCA                    47.843137   \n",
       "SRR1853183_AGGGCCATGCAT                    48.349515   \n",
       "SRR1853183_CATTCGCTGGCT                    46.586345   \n",
       "SRR1853183_TGACGATCGCGT                    46.262626   \n",
       "SRR1853183_TGTTTGAGATTT                    43.855932   \n",
       "\n",
       "                         pct_counts_in_top_200_genes  \\\n",
       "SRR1853182_ACAGATTGGAAC                    25.251884   \n",
       "SRR1853182_CAGAATAGGCTT                    26.069164   \n",
       "SRR1853182_GAAAAGAACGAG                    31.652712   \n",
       "SRR1853182_GCTGGAGTTTCA                    26.713998   \n",
       "SRR1853182_GAAATCAACAGT                    25.845270   \n",
       "...                                              ...   \n",
       "SRR1853183_ATTTATCAGGCA                    67.450980   \n",
       "SRR1853183_AGGGCCATGCAT                    67.766990   \n",
       "SRR1853183_CATTCGCTGGCT                    66.666667   \n",
       "SRR1853183_TGACGATCGCGT                    66.464646   \n",
       "SRR1853183_TGTTTGAGATTT                    65.042373   \n",
       "\n",
       "                         pct_counts_in_top_500_genes  \n",
       "SRR1853182_ACAGATTGGAAC                    38.892578  \n",
       "SRR1853182_CAGAATAGGCTT                    39.831617  \n",
       "SRR1853182_GAAAAGAACGAG                    47.605180  \n",
       "SRR1853182_GCTGGAGTTTCA                    40.591996  \n",
       "SRR1853182_GAAATCAACAGT                    39.765157  \n",
       "...                                              ...  \n",
       "SRR1853183_ATTTATCAGGCA                   100.000000  \n",
       "SRR1853183_AGGGCCATGCAT                   100.000000  \n",
       "SRR1853183_CATTCGCTGGCT                   100.000000  \n",
       "SRR1853183_TGACGATCGCGT                   100.000000  \n",
       "SRR1853183_TGTTTGAGATTT                   100.000000  \n",
       "\n",
       "[49293 rows x 8 columns]"
      ]
     },
     "execution_count": 31,
     "metadata": {},
     "output_type": "execute_result"
    }
   ],
   "source": [
    "df_dropseq_adata"
   ]
  },
  {
   "cell_type": "code",
   "execution_count": 32,
   "metadata": {},
   "outputs": [
    {
     "data": {
      "text/plain": [
       "SRR1853182_ACAGATTGGAAC    7526\n",
       "SRR1853182_CAGAATAGGCTT    7144\n",
       "SRR1853182_GAAAAGAACGAG    6971\n",
       "SRR1853182_GCTGGAGTTTCA    6906\n",
       "SRR1853182_GAAATCAACAGT    6504\n",
       "                           ... \n",
       "SRR1853183_ATTTATCAGGCA     366\n",
       "SRR1853183_AGGGCCATGCAT     366\n",
       "SRR1853183_CATTCGCTGGCT     366\n",
       "SRR1853183_TGACGATCGCGT     366\n",
       "SRR1853183_TGTTTGAGATTT     365\n",
       "Name: n_genes_by_counts, Length: 49293, dtype: int64"
      ]
     },
     "execution_count": 32,
     "metadata": {},
     "output_type": "execute_result"
    }
   ],
   "source": [
    "df_dropseq_adata['n_genes_by_counts']"
   ]
  },
  {
   "cell_type": "code",
   "execution_count": 33,
   "metadata": {},
   "outputs": [
    {
     "data": {
      "text/plain": [
       "840.0"
      ]
     },
     "execution_count": 33,
     "metadata": {},
     "output_type": "execute_result"
    }
   ],
   "source": [
    "df_dropseq_adata['n_genes_by_counts'][:28945].median()"
   ]
  },
  {
   "cell_type": "code",
   "execution_count": 34,
   "metadata": {},
   "outputs": [
    {
     "data": {
      "text/plain": [
       "SRR1853182_ACAGATTGGAAC    34639.0\n",
       "SRR1853182_CAGAATAGGCTT    29813.0\n",
       "SRR1853182_GAAAAGAACGAG    38458.0\n",
       "SRR1853182_GCTGGAGTTTCA    28311.0\n",
       "SRR1853182_GAAATCAACAGT    24016.0\n",
       "                            ...   \n",
       "SRR1853183_ATTTATCAGGCA      510.0\n",
       "SRR1853183_AGGGCCATGCAT      515.0\n",
       "SRR1853183_CATTCGCTGGCT      498.0\n",
       "SRR1853183_TGACGATCGCGT      495.0\n",
       "SRR1853183_TGTTTGAGATTT      472.0\n",
       "Name: total_counts, Length: 49293, dtype: float64"
      ]
     },
     "execution_count": 34,
     "metadata": {},
     "output_type": "execute_result"
    }
   ],
   "source": [
    "df_dropseq_adata['total_counts']"
   ]
  },
  {
   "cell_type": "code",
   "execution_count": 35,
   "metadata": {},
   "outputs": [
    {
     "data": {
      "text/plain": [
       "1244.0"
      ]
     },
     "execution_count": 35,
     "metadata": {},
     "output_type": "execute_result"
    }
   ],
   "source": [
    "df_dropseq_adata['total_counts'][:28945].median()"
   ]
  },
  {
   "cell_type": "markdown",
   "metadata": {},
   "source": [
    "## indrop"
   ]
  },
  {
   "cell_type": "code",
   "execution_count": 36,
   "metadata": {},
   "outputs": [],
   "source": [
    "files = glob.glob('tables/indrop_merged_adata.tsv')"
   ]
  },
  {
   "cell_type": "code",
   "execution_count": 37,
   "metadata": {},
   "outputs": [
    {
     "data": {
      "text/plain": [
       "['tables/indrop_merged_adata.tsv']"
      ]
     },
     "execution_count": 37,
     "metadata": {},
     "output_type": "execute_result"
    }
   ],
   "source": [
    "files"
   ]
  },
  {
   "cell_type": "code",
   "execution_count": 38,
   "metadata": {
    "tags": []
   },
   "outputs": [],
   "source": [
    "df_indrop_adata = pd.DataFrame()\n",
    "for file in files:\n",
    "    df = pd.read_csv(file, sep='\\t', index_col=0, header=0)\n",
    "    df_indrop_adata = df_indrop_adata.append(df)"
   ]
  },
  {
   "cell_type": "code",
   "execution_count": 39,
   "metadata": {},
   "outputs": [
    {
     "data": {
      "text/html": [
       "<div>\n",
       "<style scoped>\n",
       "    .dataframe tbody tr th:only-of-type {\n",
       "        vertical-align: middle;\n",
       "    }\n",
       "\n",
       "    .dataframe tbody tr th {\n",
       "        vertical-align: top;\n",
       "    }\n",
       "\n",
       "    .dataframe thead th {\n",
       "        text-align: right;\n",
       "    }\n",
       "</style>\n",
       "<table border=\"1\" class=\"dataframe\">\n",
       "  <thead>\n",
       "    <tr style=\"text-align: right;\">\n",
       "      <th></th>\n",
       "      <th>n_genes_by_counts</th>\n",
       "      <th>log1p_n_genes_by_counts</th>\n",
       "      <th>total_counts</th>\n",
       "      <th>log1p_total_counts</th>\n",
       "      <th>pct_counts_in_top_50_genes</th>\n",
       "      <th>pct_counts_in_top_100_genes</th>\n",
       "      <th>pct_counts_in_top_200_genes</th>\n",
       "      <th>pct_counts_in_top_500_genes</th>\n",
       "    </tr>\n",
       "  </thead>\n",
       "  <tbody>\n",
       "    <tr>\n",
       "      <th>merged_CTCCTCCA_ATTAGACG_TGTTCCAG</th>\n",
       "      <td>8136</td>\n",
       "      <td>9.004177</td>\n",
       "      <td>41203.0</td>\n",
       "      <td>10.626290</td>\n",
       "      <td>8.564910</td>\n",
       "      <td>14.045094</td>\n",
       "      <td>21.556683</td>\n",
       "      <td>35.363930</td>\n",
       "    </tr>\n",
       "    <tr>\n",
       "      <th>merged_GGCGACAA_TCTTACGC_GCGCATTC</th>\n",
       "      <td>8129</td>\n",
       "      <td>9.003316</td>\n",
       "      <td>38021.0</td>\n",
       "      <td>10.545920</td>\n",
       "      <td>8.784619</td>\n",
       "      <td>14.284211</td>\n",
       "      <td>21.929986</td>\n",
       "      <td>36.009048</td>\n",
       "    </tr>\n",
       "    <tr>\n",
       "      <th>merged_CAAGGTAC_ATTAGACG_ATCCGCTA</th>\n",
       "      <td>7448</td>\n",
       "      <td>8.915835</td>\n",
       "      <td>27611.0</td>\n",
       "      <td>10.226006</td>\n",
       "      <td>9.836659</td>\n",
       "      <td>14.975915</td>\n",
       "      <td>21.889827</td>\n",
       "      <td>35.478614</td>\n",
       "    </tr>\n",
       "    <tr>\n",
       "      <th>merged_AAGGGACC_ATAGCCTT_CCATTTGA</th>\n",
       "      <td>6867</td>\n",
       "      <td>8.834628</td>\n",
       "      <td>25914.0</td>\n",
       "      <td>10.162578</td>\n",
       "      <td>10.963186</td>\n",
       "      <td>16.975380</td>\n",
       "      <td>24.507988</td>\n",
       "      <td>38.666358</td>\n",
       "    </tr>\n",
       "    <tr>\n",
       "      <th>merged_GGCCCAAT_ACTCTAGG_TTGTGACT</th>\n",
       "      <td>6837</td>\n",
       "      <td>8.830251</td>\n",
       "      <td>24172.0</td>\n",
       "      <td>10.092992</td>\n",
       "      <td>11.662254</td>\n",
       "      <td>17.160351</td>\n",
       "      <td>24.652490</td>\n",
       "      <td>38.528049</td>\n",
       "    </tr>\n",
       "    <tr>\n",
       "      <th>...</th>\n",
       "      <td>...</td>\n",
       "      <td>...</td>\n",
       "      <td>...</td>\n",
       "      <td>...</td>\n",
       "      <td>...</td>\n",
       "      <td>...</td>\n",
       "      <td>...</td>\n",
       "      <td>...</td>\n",
       "    </tr>\n",
       "    <tr>\n",
       "      <th>merged_TCTGATTT_CTAGTCGA_CTCTTGAC</th>\n",
       "      <td>490</td>\n",
       "      <td>6.196444</td>\n",
       "      <td>576.0</td>\n",
       "      <td>6.357842</td>\n",
       "      <td>21.180556</td>\n",
       "      <td>32.291667</td>\n",
       "      <td>49.652778</td>\n",
       "      <td>100.000000</td>\n",
       "    </tr>\n",
       "    <tr>\n",
       "      <th>merged_ACCAGTTT_ATAGCCTT_GGGAAGGT</th>\n",
       "      <td>490</td>\n",
       "      <td>6.196444</td>\n",
       "      <td>555.0</td>\n",
       "      <td>6.320768</td>\n",
       "      <td>20.720721</td>\n",
       "      <td>29.729730</td>\n",
       "      <td>47.747748</td>\n",
       "      <td>100.000000</td>\n",
       "    </tr>\n",
       "    <tr>\n",
       "      <th>merged_ATTTGTTG_CTAGTCGA_GAGTTTCG</th>\n",
       "      <td>490</td>\n",
       "      <td>6.196444</td>\n",
       "      <td>568.0</td>\n",
       "      <td>6.343881</td>\n",
       "      <td>20.598592</td>\n",
       "      <td>31.338028</td>\n",
       "      <td>48.943662</td>\n",
       "      <td>100.000000</td>\n",
       "    </tr>\n",
       "    <tr>\n",
       "      <th>merged_TCTAAACT_TAAGGCTC_AACACACG</th>\n",
       "      <td>489</td>\n",
       "      <td>6.194405</td>\n",
       "      <td>539.0</td>\n",
       "      <td>6.291569</td>\n",
       "      <td>18.552876</td>\n",
       "      <td>27.829314</td>\n",
       "      <td>46.382189</td>\n",
       "      <td>100.000000</td>\n",
       "    </tr>\n",
       "    <tr>\n",
       "      <th>merged_AACGATTT_TAAGGCTC_AGAAGTTA</th>\n",
       "      <td>489</td>\n",
       "      <td>6.194405</td>\n",
       "      <td>602.0</td>\n",
       "      <td>6.401917</td>\n",
       "      <td>24.584718</td>\n",
       "      <td>35.382060</td>\n",
       "      <td>51.993355</td>\n",
       "      <td>100.000000</td>\n",
       "    </tr>\n",
       "  </tbody>\n",
       "</table>\n",
       "<p>27093 rows × 8 columns</p>\n",
       "</div>"
      ],
      "text/plain": [
       "                                   n_genes_by_counts  log1p_n_genes_by_counts  \\\n",
       "merged_CTCCTCCA_ATTAGACG_TGTTCCAG               8136                 9.004177   \n",
       "merged_GGCGACAA_TCTTACGC_GCGCATTC               8129                 9.003316   \n",
       "merged_CAAGGTAC_ATTAGACG_ATCCGCTA               7448                 8.915835   \n",
       "merged_AAGGGACC_ATAGCCTT_CCATTTGA               6867                 8.834628   \n",
       "merged_GGCCCAAT_ACTCTAGG_TTGTGACT               6837                 8.830251   \n",
       "...                                              ...                      ...   \n",
       "merged_TCTGATTT_CTAGTCGA_CTCTTGAC                490                 6.196444   \n",
       "merged_ACCAGTTT_ATAGCCTT_GGGAAGGT                490                 6.196444   \n",
       "merged_ATTTGTTG_CTAGTCGA_GAGTTTCG                490                 6.196444   \n",
       "merged_TCTAAACT_TAAGGCTC_AACACACG                489                 6.194405   \n",
       "merged_AACGATTT_TAAGGCTC_AGAAGTTA                489                 6.194405   \n",
       "\n",
       "                                   total_counts  log1p_total_counts  \\\n",
       "merged_CTCCTCCA_ATTAGACG_TGTTCCAG       41203.0           10.626290   \n",
       "merged_GGCGACAA_TCTTACGC_GCGCATTC       38021.0           10.545920   \n",
       "merged_CAAGGTAC_ATTAGACG_ATCCGCTA       27611.0           10.226006   \n",
       "merged_AAGGGACC_ATAGCCTT_CCATTTGA       25914.0           10.162578   \n",
       "merged_GGCCCAAT_ACTCTAGG_TTGTGACT       24172.0           10.092992   \n",
       "...                                         ...                 ...   \n",
       "merged_TCTGATTT_CTAGTCGA_CTCTTGAC         576.0            6.357842   \n",
       "merged_ACCAGTTT_ATAGCCTT_GGGAAGGT         555.0            6.320768   \n",
       "merged_ATTTGTTG_CTAGTCGA_GAGTTTCG         568.0            6.343881   \n",
       "merged_TCTAAACT_TAAGGCTC_AACACACG         539.0            6.291569   \n",
       "merged_AACGATTT_TAAGGCTC_AGAAGTTA         602.0            6.401917   \n",
       "\n",
       "                                   pct_counts_in_top_50_genes  \\\n",
       "merged_CTCCTCCA_ATTAGACG_TGTTCCAG                    8.564910   \n",
       "merged_GGCGACAA_TCTTACGC_GCGCATTC                    8.784619   \n",
       "merged_CAAGGTAC_ATTAGACG_ATCCGCTA                    9.836659   \n",
       "merged_AAGGGACC_ATAGCCTT_CCATTTGA                   10.963186   \n",
       "merged_GGCCCAAT_ACTCTAGG_TTGTGACT                   11.662254   \n",
       "...                                                       ...   \n",
       "merged_TCTGATTT_CTAGTCGA_CTCTTGAC                   21.180556   \n",
       "merged_ACCAGTTT_ATAGCCTT_GGGAAGGT                   20.720721   \n",
       "merged_ATTTGTTG_CTAGTCGA_GAGTTTCG                   20.598592   \n",
       "merged_TCTAAACT_TAAGGCTC_AACACACG                   18.552876   \n",
       "merged_AACGATTT_TAAGGCTC_AGAAGTTA                   24.584718   \n",
       "\n",
       "                                   pct_counts_in_top_100_genes  \\\n",
       "merged_CTCCTCCA_ATTAGACG_TGTTCCAG                    14.045094   \n",
       "merged_GGCGACAA_TCTTACGC_GCGCATTC                    14.284211   \n",
       "merged_CAAGGTAC_ATTAGACG_ATCCGCTA                    14.975915   \n",
       "merged_AAGGGACC_ATAGCCTT_CCATTTGA                    16.975380   \n",
       "merged_GGCCCAAT_ACTCTAGG_TTGTGACT                    17.160351   \n",
       "...                                                        ...   \n",
       "merged_TCTGATTT_CTAGTCGA_CTCTTGAC                    32.291667   \n",
       "merged_ACCAGTTT_ATAGCCTT_GGGAAGGT                    29.729730   \n",
       "merged_ATTTGTTG_CTAGTCGA_GAGTTTCG                    31.338028   \n",
       "merged_TCTAAACT_TAAGGCTC_AACACACG                    27.829314   \n",
       "merged_AACGATTT_TAAGGCTC_AGAAGTTA                    35.382060   \n",
       "\n",
       "                                   pct_counts_in_top_200_genes  \\\n",
       "merged_CTCCTCCA_ATTAGACG_TGTTCCAG                    21.556683   \n",
       "merged_GGCGACAA_TCTTACGC_GCGCATTC                    21.929986   \n",
       "merged_CAAGGTAC_ATTAGACG_ATCCGCTA                    21.889827   \n",
       "merged_AAGGGACC_ATAGCCTT_CCATTTGA                    24.507988   \n",
       "merged_GGCCCAAT_ACTCTAGG_TTGTGACT                    24.652490   \n",
       "...                                                        ...   \n",
       "merged_TCTGATTT_CTAGTCGA_CTCTTGAC                    49.652778   \n",
       "merged_ACCAGTTT_ATAGCCTT_GGGAAGGT                    47.747748   \n",
       "merged_ATTTGTTG_CTAGTCGA_GAGTTTCG                    48.943662   \n",
       "merged_TCTAAACT_TAAGGCTC_AACACACG                    46.382189   \n",
       "merged_AACGATTT_TAAGGCTC_AGAAGTTA                    51.993355   \n",
       "\n",
       "                                   pct_counts_in_top_500_genes  \n",
       "merged_CTCCTCCA_ATTAGACG_TGTTCCAG                    35.363930  \n",
       "merged_GGCGACAA_TCTTACGC_GCGCATTC                    36.009048  \n",
       "merged_CAAGGTAC_ATTAGACG_ATCCGCTA                    35.478614  \n",
       "merged_AAGGGACC_ATAGCCTT_CCATTTGA                    38.666358  \n",
       "merged_GGCCCAAT_ACTCTAGG_TTGTGACT                    38.528049  \n",
       "...                                                        ...  \n",
       "merged_TCTGATTT_CTAGTCGA_CTCTTGAC                   100.000000  \n",
       "merged_ACCAGTTT_ATAGCCTT_GGGAAGGT                   100.000000  \n",
       "merged_ATTTGTTG_CTAGTCGA_GAGTTTCG                   100.000000  \n",
       "merged_TCTAAACT_TAAGGCTC_AACACACG                   100.000000  \n",
       "merged_AACGATTT_TAAGGCTC_AGAAGTTA                   100.000000  \n",
       "\n",
       "[27093 rows x 8 columns]"
      ]
     },
     "execution_count": 39,
     "metadata": {},
     "output_type": "execute_result"
    }
   ],
   "source": [
    "df_indrop_adata"
   ]
  },
  {
   "cell_type": "code",
   "execution_count": 40,
   "metadata": {},
   "outputs": [
    {
     "data": {
      "text/plain": [
       "merged_CTCCTCCA_ATTAGACG_TGTTCCAG    8136\n",
       "merged_GGCGACAA_TCTTACGC_GCGCATTC    8129\n",
       "merged_CAAGGTAC_ATTAGACG_ATCCGCTA    7448\n",
       "merged_AAGGGACC_ATAGCCTT_CCATTTGA    6867\n",
       "merged_GGCCCAAT_ACTCTAGG_TTGTGACT    6837\n",
       "                                     ... \n",
       "merged_TCTGATTT_CTAGTCGA_CTCTTGAC     490\n",
       "merged_ACCAGTTT_ATAGCCTT_GGGAAGGT     490\n",
       "merged_ATTTGTTG_CTAGTCGA_GAGTTTCG     490\n",
       "merged_TCTAAACT_TAAGGCTC_AACACACG     489\n",
       "merged_AACGATTT_TAAGGCTC_AGAAGTTA     489\n",
       "Name: n_genes_by_counts, Length: 27093, dtype: int64"
      ]
     },
     "execution_count": 40,
     "metadata": {},
     "output_type": "execute_result"
    }
   ],
   "source": [
    "df_indrop_adata['n_genes_by_counts']"
   ]
  },
  {
   "cell_type": "code",
   "execution_count": 41,
   "metadata": {},
   "outputs": [
    {
     "data": {
      "text/plain": [
       "1578.0"
      ]
     },
     "execution_count": 41,
     "metadata": {},
     "output_type": "execute_result"
    }
   ],
   "source": [
    "df_indrop_adata['n_genes_by_counts'][:20845].median()"
   ]
  },
  {
   "cell_type": "code",
   "execution_count": 42,
   "metadata": {},
   "outputs": [
    {
     "data": {
      "text/plain": [
       "merged_CTCCTCCA_ATTAGACG_TGTTCCAG    41203.0\n",
       "merged_GGCGACAA_TCTTACGC_GCGCATTC    38021.0\n",
       "merged_CAAGGTAC_ATTAGACG_ATCCGCTA    27611.0\n",
       "merged_AAGGGACC_ATAGCCTT_CCATTTGA    25914.0\n",
       "merged_GGCCCAAT_ACTCTAGG_TTGTGACT    24172.0\n",
       "                                      ...   \n",
       "merged_TCTGATTT_CTAGTCGA_CTCTTGAC      576.0\n",
       "merged_ACCAGTTT_ATAGCCTT_GGGAAGGT      555.0\n",
       "merged_ATTTGTTG_CTAGTCGA_GAGTTTCG      568.0\n",
       "merged_TCTAAACT_TAAGGCTC_AACACACG      539.0\n",
       "merged_AACGATTT_TAAGGCTC_AGAAGTTA      602.0\n",
       "Name: total_counts, Length: 27093, dtype: float64"
      ]
     },
     "execution_count": 42,
     "metadata": {},
     "output_type": "execute_result"
    }
   ],
   "source": [
    "df_indrop_adata['total_counts']"
   ]
  },
  {
   "cell_type": "code",
   "execution_count": 43,
   "metadata": {},
   "outputs": [
    {
     "data": {
      "text/plain": [
       "2425.0"
      ]
     },
     "execution_count": 43,
     "metadata": {},
     "output_type": "execute_result"
    }
   ],
   "source": [
    "df_indrop_adata['total_counts'][:20845].median()"
   ]
  },
  {
   "cell_type": "markdown",
   "metadata": {},
   "source": [
    "## HyDrop - mouse cortex data"
   ]
  },
  {
   "cell_type": "markdown",
   "metadata": {},
   "source": [
    "our data is filtered by star-solo based on knee. we then convert these cells to h5ad format using scanpy"
   ]
  },
  {
   "cell_type": "code",
   "execution_count": 44,
   "metadata": {},
   "outputs": [],
   "source": [
    "import scanpy as sc"
   ]
  },
  {
   "cell_type": "code",
   "execution_count": 45,
   "metadata": {},
   "outputs": [],
   "source": [
    "adata = sc.read('tables/20210501_adata.h5ad')"
   ]
  },
  {
   "cell_type": "code",
   "execution_count": 46,
   "metadata": {},
   "outputs": [],
   "source": [
    "adata.obs.to_csv('tables/hydrop_adata.tsv',sep='\\t')"
   ]
  },
  {
   "cell_type": "code",
   "execution_count": 47,
   "metadata": {},
   "outputs": [],
   "source": [
    "files = glob.glob('tables/hydrop_adata.tsv')"
   ]
  },
  {
   "cell_type": "code",
   "execution_count": 48,
   "metadata": {},
   "outputs": [
    {
     "data": {
      "text/plain": [
       "['tables/hydrop_adata.tsv']"
      ]
     },
     "execution_count": 48,
     "metadata": {},
     "output_type": "execute_result"
    }
   ],
   "source": [
    "files"
   ]
  },
  {
   "cell_type": "code",
   "execution_count": 49,
   "metadata": {
    "tags": []
   },
   "outputs": [],
   "source": [
    "df_hydrop_adata = pd.DataFrame()\n",
    "for file in files:\n",
    "    df = pd.read_csv(file, sep='\\t', index_col=0, header=0)\n",
    "    df_hydrop_adata = df_hydrop_adata.append(df)"
   ]
  },
  {
   "cell_type": "code",
   "execution_count": 50,
   "metadata": {},
   "outputs": [
    {
     "data": {
      "text/html": [
       "<div>\n",
       "<style scoped>\n",
       "    .dataframe tbody tr th:only-of-type {\n",
       "        vertical-align: middle;\n",
       "    }\n",
       "\n",
       "    .dataframe tbody tr th {\n",
       "        vertical-align: top;\n",
       "    }\n",
       "\n",
       "    .dataframe thead th {\n",
       "        text-align: right;\n",
       "    }\n",
       "</style>\n",
       "<table border=\"1\" class=\"dataframe\">\n",
       "  <thead>\n",
       "    <tr style=\"text-align: right;\">\n",
       "      <th></th>\n",
       "      <th>batch</th>\n",
       "      <th>n_genes</th>\n",
       "      <th>n_genes_by_counts</th>\n",
       "      <th>total_counts</th>\n",
       "      <th>total_counts_mt</th>\n",
       "      <th>pct_counts_mt</th>\n",
       "      <th>doublet_score</th>\n",
       "      <th>predicted_doublet</th>\n",
       "      <th>leiden_0.6</th>\n",
       "      <th>leiden_0.9</th>\n",
       "      <th>leiden_1.2</th>\n",
       "      <th>leiden_1</th>\n",
       "      <th>cell_type</th>\n",
       "      <th>cell_type_1</th>\n",
       "      <th>cell_type_finetuned</th>\n",
       "      <th>UMAP_X</th>\n",
       "      <th>UMAP_Y</th>\n",
       "      <th>TSNE_X</th>\n",
       "      <th>TSNE_Y</th>\n",
       "      <th>cell_type_collapsed</th>\n",
       "    </tr>\n",
       "  </thead>\n",
       "  <tbody>\n",
       "    <tr>\n",
       "      <th>A_ATCGACCTTG_ACCAAGCGAA_AACAACCATC</th>\n",
       "      <td>0</td>\n",
       "      <td>2758</td>\n",
       "      <td>2756</td>\n",
       "      <td>7319.0</td>\n",
       "      <td>1.0</td>\n",
       "      <td>0.013663</td>\n",
       "      <td>0.021615</td>\n",
       "      <td>False</td>\n",
       "      <td>0</td>\n",
       "      <td>6</td>\n",
       "      <td>7</td>\n",
       "      <td>7</td>\n",
       "      <td>7-NP-b</td>\n",
       "      <td>7-L2/3</td>\n",
       "      <td>7-L2/3</td>\n",
       "      <td>-0.974888</td>\n",
       "      <td>1.350498</td>\n",
       "      <td>-22.595959</td>\n",
       "      <td>44.505940</td>\n",
       "      <td>L2/3-2</td>\n",
       "    </tr>\n",
       "    <tr>\n",
       "      <th>A_GAGGTTAATG_ACCAAGCGAA_AACAACCATC</th>\n",
       "      <td>0</td>\n",
       "      <td>3006</td>\n",
       "      <td>3005</td>\n",
       "      <td>8789.0</td>\n",
       "      <td>0.0</td>\n",
       "      <td>0.000000</td>\n",
       "      <td>0.009565</td>\n",
       "      <td>False</td>\n",
       "      <td>10</td>\n",
       "      <td>11</td>\n",
       "      <td>9</td>\n",
       "      <td>9</td>\n",
       "      <td>9-L4-f</td>\n",
       "      <td>9-L4</td>\n",
       "      <td>9-L4</td>\n",
       "      <td>5.260487</td>\n",
       "      <td>7.415311</td>\n",
       "      <td>-39.151596</td>\n",
       "      <td>-52.765900</td>\n",
       "      <td>L4-3</td>\n",
       "    </tr>\n",
       "    <tr>\n",
       "      <th>A_GATCTAGGTA_ACCTTGTATG_AACAACCATC</th>\n",
       "      <td>0</td>\n",
       "      <td>2491</td>\n",
       "      <td>2491</td>\n",
       "      <td>5689.0</td>\n",
       "      <td>0.0</td>\n",
       "      <td>0.000000</td>\n",
       "      <td>0.003378</td>\n",
       "      <td>False</td>\n",
       "      <td>5</td>\n",
       "      <td>5</td>\n",
       "      <td>5</td>\n",
       "      <td>6</td>\n",
       "      <td>6-L2/3</td>\n",
       "      <td>6-MGE-Pvalb</td>\n",
       "      <td>6-MGE-Pvalb</td>\n",
       "      <td>-0.638742</td>\n",
       "      <td>18.540974</td>\n",
       "      <td>36.406204</td>\n",
       "      <td>-70.331566</td>\n",
       "      <td>MGE (Pvalb+)</td>\n",
       "    </tr>\n",
       "    <tr>\n",
       "      <th>A_TTAACGAAGG_ACCTTGTATG_AACAACCATC</th>\n",
       "      <td>0</td>\n",
       "      <td>1888</td>\n",
       "      <td>1888</td>\n",
       "      <td>4044.0</td>\n",
       "      <td>3.0</td>\n",
       "      <td>0.074184</td>\n",
       "      <td>0.015164</td>\n",
       "      <td>False</td>\n",
       "      <td>2</td>\n",
       "      <td>1</td>\n",
       "      <td>0</td>\n",
       "      <td>1</td>\n",
       "      <td>1-L6-a</td>\n",
       "      <td>1-L6</td>\n",
       "      <td>1-L6</td>\n",
       "      <td>0.096323</td>\n",
       "      <td>-5.338323</td>\n",
       "      <td>49.871860</td>\n",
       "      <td>37.381763</td>\n",
       "      <td>L6</td>\n",
       "    </tr>\n",
       "    <tr>\n",
       "      <th>A_ACCTGAGATG_ACGAGACCAA_AACAACCATC</th>\n",
       "      <td>0</td>\n",
       "      <td>2826</td>\n",
       "      <td>2825</td>\n",
       "      <td>7267.0</td>\n",
       "      <td>6.0</td>\n",
       "      <td>0.082565</td>\n",
       "      <td>0.011981</td>\n",
       "      <td>False</td>\n",
       "      <td>2</td>\n",
       "      <td>1</td>\n",
       "      <td>0</td>\n",
       "      <td>1</td>\n",
       "      <td>1-L6-a</td>\n",
       "      <td>1-L6</td>\n",
       "      <td>1-L6</td>\n",
       "      <td>-1.193039</td>\n",
       "      <td>-4.463965</td>\n",
       "      <td>61.126038</td>\n",
       "      <td>29.700691</td>\n",
       "      <td>L6</td>\n",
       "    </tr>\n",
       "    <tr>\n",
       "      <th>...</th>\n",
       "      <td>...</td>\n",
       "      <td>...</td>\n",
       "      <td>...</td>\n",
       "      <td>...</td>\n",
       "      <td>...</td>\n",
       "      <td>...</td>\n",
       "      <td>...</td>\n",
       "      <td>...</td>\n",
       "      <td>...</td>\n",
       "      <td>...</td>\n",
       "      <td>...</td>\n",
       "      <td>...</td>\n",
       "      <td>...</td>\n",
       "      <td>...</td>\n",
       "      <td>...</td>\n",
       "      <td>...</td>\n",
       "      <td>...</td>\n",
       "      <td>...</td>\n",
       "      <td>...</td>\n",
       "      <td>...</td>\n",
       "    </tr>\n",
       "    <tr>\n",
       "      <th>B_CTCCTGAATC_TGTGCTCTAA_TTGGATACGT</th>\n",
       "      <td>1</td>\n",
       "      <td>934</td>\n",
       "      <td>934</td>\n",
       "      <td>1485.0</td>\n",
       "      <td>1.0</td>\n",
       "      <td>0.067340</td>\n",
       "      <td>0.055646</td>\n",
       "      <td>False</td>\n",
       "      <td>12</td>\n",
       "      <td>15</td>\n",
       "      <td>16</td>\n",
       "      <td>15</td>\n",
       "      <td>15-MOL</td>\n",
       "      <td>15-MOL</td>\n",
       "      <td>15-MOL</td>\n",
       "      <td>-6.744222</td>\n",
       "      <td>8.804398</td>\n",
       "      <td>22.741667</td>\n",
       "      <td>-6.316557</td>\n",
       "      <td>MOL</td>\n",
       "    </tr>\n",
       "    <tr>\n",
       "      <th>B_GGATGAGGAG_TTAACAGTCA_TTGGATACGT</th>\n",
       "      <td>1</td>\n",
       "      <td>956</td>\n",
       "      <td>956</td>\n",
       "      <td>1544.0</td>\n",
       "      <td>0.0</td>\n",
       "      <td>0.000000</td>\n",
       "      <td>0.025308</td>\n",
       "      <td>False</td>\n",
       "      <td>0</td>\n",
       "      <td>0</td>\n",
       "      <td>2</td>\n",
       "      <td>0</td>\n",
       "      <td>0-L2/3</td>\n",
       "      <td>0-L2/3</td>\n",
       "      <td>0-L2/3</td>\n",
       "      <td>-4.163591</td>\n",
       "      <td>4.043092</td>\n",
       "      <td>-16.213620</td>\n",
       "      <td>12.958341</td>\n",
       "      <td>L2/3-1</td>\n",
       "    </tr>\n",
       "    <tr>\n",
       "      <th>B_AAGCCGCATA_TTGAGGCATC_TTGGATACGT</th>\n",
       "      <td>1</td>\n",
       "      <td>2708</td>\n",
       "      <td>2707</td>\n",
       "      <td>7717.0</td>\n",
       "      <td>1.0</td>\n",
       "      <td>0.012958</td>\n",
       "      <td>0.040744</td>\n",
       "      <td>False</td>\n",
       "      <td>1</td>\n",
       "      <td>2</td>\n",
       "      <td>6</td>\n",
       "      <td>5</td>\n",
       "      <td>5-MGE-Pvalb</td>\n",
       "      <td>5-L4</td>\n",
       "      <td>5-L4</td>\n",
       "      <td>-0.737559</td>\n",
       "      <td>7.552638</td>\n",
       "      <td>-50.390736</td>\n",
       "      <td>-3.990756</td>\n",
       "      <td>L4-2</td>\n",
       "    </tr>\n",
       "    <tr>\n",
       "      <th>B_TACATAGAGG_TTGAGGCATC_TTGGATACGT</th>\n",
       "      <td>1</td>\n",
       "      <td>2232</td>\n",
       "      <td>2231</td>\n",
       "      <td>5113.0</td>\n",
       "      <td>1.0</td>\n",
       "      <td>0.019558</td>\n",
       "      <td>0.015599</td>\n",
       "      <td>False</td>\n",
       "      <td>4</td>\n",
       "      <td>4</td>\n",
       "      <td>4</td>\n",
       "      <td>4</td>\n",
       "      <td>4-L4/5</td>\n",
       "      <td>4-L4/5</td>\n",
       "      <td>4-L4/5</td>\n",
       "      <td>3.978391</td>\n",
       "      <td>2.174218</td>\n",
       "      <td>2.101720</td>\n",
       "      <td>-20.454075</td>\n",
       "      <td>L4/5-2</td>\n",
       "    </tr>\n",
       "    <tr>\n",
       "      <th>B_TGAGCAATCT_TTGAGGCATC_TTGGATACGT</th>\n",
       "      <td>1</td>\n",
       "      <td>1176</td>\n",
       "      <td>1176</td>\n",
       "      <td>1845.0</td>\n",
       "      <td>1.0</td>\n",
       "      <td>0.054201</td>\n",
       "      <td>0.006319</td>\n",
       "      <td>False</td>\n",
       "      <td>5</td>\n",
       "      <td>5</td>\n",
       "      <td>5</td>\n",
       "      <td>6</td>\n",
       "      <td>6-L2/3</td>\n",
       "      <td>6-MGE-Pvalb</td>\n",
       "      <td>6-MGE-Pvalb</td>\n",
       "      <td>-2.860742</td>\n",
       "      <td>18.464006</td>\n",
       "      <td>46.275776</td>\n",
       "      <td>-69.006340</td>\n",
       "      <td>MGE (Pvalb+)</td>\n",
       "    </tr>\n",
       "  </tbody>\n",
       "</table>\n",
       "<p>9508 rows × 20 columns</p>\n",
       "</div>"
      ],
      "text/plain": [
       "                                    batch  n_genes  n_genes_by_counts  \\\n",
       "A_ATCGACCTTG_ACCAAGCGAA_AACAACCATC      0     2758               2756   \n",
       "A_GAGGTTAATG_ACCAAGCGAA_AACAACCATC      0     3006               3005   \n",
       "A_GATCTAGGTA_ACCTTGTATG_AACAACCATC      0     2491               2491   \n",
       "A_TTAACGAAGG_ACCTTGTATG_AACAACCATC      0     1888               1888   \n",
       "A_ACCTGAGATG_ACGAGACCAA_AACAACCATC      0     2826               2825   \n",
       "...                                   ...      ...                ...   \n",
       "B_CTCCTGAATC_TGTGCTCTAA_TTGGATACGT      1      934                934   \n",
       "B_GGATGAGGAG_TTAACAGTCA_TTGGATACGT      1      956                956   \n",
       "B_AAGCCGCATA_TTGAGGCATC_TTGGATACGT      1     2708               2707   \n",
       "B_TACATAGAGG_TTGAGGCATC_TTGGATACGT      1     2232               2231   \n",
       "B_TGAGCAATCT_TTGAGGCATC_TTGGATACGT      1     1176               1176   \n",
       "\n",
       "                                    total_counts  total_counts_mt  \\\n",
       "A_ATCGACCTTG_ACCAAGCGAA_AACAACCATC        7319.0              1.0   \n",
       "A_GAGGTTAATG_ACCAAGCGAA_AACAACCATC        8789.0              0.0   \n",
       "A_GATCTAGGTA_ACCTTGTATG_AACAACCATC        5689.0              0.0   \n",
       "A_TTAACGAAGG_ACCTTGTATG_AACAACCATC        4044.0              3.0   \n",
       "A_ACCTGAGATG_ACGAGACCAA_AACAACCATC        7267.0              6.0   \n",
       "...                                          ...              ...   \n",
       "B_CTCCTGAATC_TGTGCTCTAA_TTGGATACGT        1485.0              1.0   \n",
       "B_GGATGAGGAG_TTAACAGTCA_TTGGATACGT        1544.0              0.0   \n",
       "B_AAGCCGCATA_TTGAGGCATC_TTGGATACGT        7717.0              1.0   \n",
       "B_TACATAGAGG_TTGAGGCATC_TTGGATACGT        5113.0              1.0   \n",
       "B_TGAGCAATCT_TTGAGGCATC_TTGGATACGT        1845.0              1.0   \n",
       "\n",
       "                                    pct_counts_mt  doublet_score  \\\n",
       "A_ATCGACCTTG_ACCAAGCGAA_AACAACCATC       0.013663       0.021615   \n",
       "A_GAGGTTAATG_ACCAAGCGAA_AACAACCATC       0.000000       0.009565   \n",
       "A_GATCTAGGTA_ACCTTGTATG_AACAACCATC       0.000000       0.003378   \n",
       "A_TTAACGAAGG_ACCTTGTATG_AACAACCATC       0.074184       0.015164   \n",
       "A_ACCTGAGATG_ACGAGACCAA_AACAACCATC       0.082565       0.011981   \n",
       "...                                           ...            ...   \n",
       "B_CTCCTGAATC_TGTGCTCTAA_TTGGATACGT       0.067340       0.055646   \n",
       "B_GGATGAGGAG_TTAACAGTCA_TTGGATACGT       0.000000       0.025308   \n",
       "B_AAGCCGCATA_TTGAGGCATC_TTGGATACGT       0.012958       0.040744   \n",
       "B_TACATAGAGG_TTGAGGCATC_TTGGATACGT       0.019558       0.015599   \n",
       "B_TGAGCAATCT_TTGAGGCATC_TTGGATACGT       0.054201       0.006319   \n",
       "\n",
       "                                    predicted_doublet  leiden_0.6  leiden_0.9  \\\n",
       "A_ATCGACCTTG_ACCAAGCGAA_AACAACCATC              False           0           6   \n",
       "A_GAGGTTAATG_ACCAAGCGAA_AACAACCATC              False          10          11   \n",
       "A_GATCTAGGTA_ACCTTGTATG_AACAACCATC              False           5           5   \n",
       "A_TTAACGAAGG_ACCTTGTATG_AACAACCATC              False           2           1   \n",
       "A_ACCTGAGATG_ACGAGACCAA_AACAACCATC              False           2           1   \n",
       "...                                               ...         ...         ...   \n",
       "B_CTCCTGAATC_TGTGCTCTAA_TTGGATACGT              False          12          15   \n",
       "B_GGATGAGGAG_TTAACAGTCA_TTGGATACGT              False           0           0   \n",
       "B_AAGCCGCATA_TTGAGGCATC_TTGGATACGT              False           1           2   \n",
       "B_TACATAGAGG_TTGAGGCATC_TTGGATACGT              False           4           4   \n",
       "B_TGAGCAATCT_TTGAGGCATC_TTGGATACGT              False           5           5   \n",
       "\n",
       "                                    leiden_1.2  leiden_1    cell_type  \\\n",
       "A_ATCGACCTTG_ACCAAGCGAA_AACAACCATC           7         7       7-NP-b   \n",
       "A_GAGGTTAATG_ACCAAGCGAA_AACAACCATC           9         9       9-L4-f   \n",
       "A_GATCTAGGTA_ACCTTGTATG_AACAACCATC           5         6       6-L2/3   \n",
       "A_TTAACGAAGG_ACCTTGTATG_AACAACCATC           0         1       1-L6-a   \n",
       "A_ACCTGAGATG_ACGAGACCAA_AACAACCATC           0         1       1-L6-a   \n",
       "...                                        ...       ...          ...   \n",
       "B_CTCCTGAATC_TGTGCTCTAA_TTGGATACGT          16        15       15-MOL   \n",
       "B_GGATGAGGAG_TTAACAGTCA_TTGGATACGT           2         0       0-L2/3   \n",
       "B_AAGCCGCATA_TTGAGGCATC_TTGGATACGT           6         5  5-MGE-Pvalb   \n",
       "B_TACATAGAGG_TTGAGGCATC_TTGGATACGT           4         4       4-L4/5   \n",
       "B_TGAGCAATCT_TTGAGGCATC_TTGGATACGT           5         6       6-L2/3   \n",
       "\n",
       "                                    cell_type_1 cell_type_finetuned    UMAP_X  \\\n",
       "A_ATCGACCTTG_ACCAAGCGAA_AACAACCATC       7-L2/3              7-L2/3 -0.974888   \n",
       "A_GAGGTTAATG_ACCAAGCGAA_AACAACCATC         9-L4                9-L4  5.260487   \n",
       "A_GATCTAGGTA_ACCTTGTATG_AACAACCATC  6-MGE-Pvalb         6-MGE-Pvalb -0.638742   \n",
       "A_TTAACGAAGG_ACCTTGTATG_AACAACCATC         1-L6                1-L6  0.096323   \n",
       "A_ACCTGAGATG_ACGAGACCAA_AACAACCATC         1-L6                1-L6 -1.193039   \n",
       "...                                         ...                 ...       ...   \n",
       "B_CTCCTGAATC_TGTGCTCTAA_TTGGATACGT       15-MOL              15-MOL -6.744222   \n",
       "B_GGATGAGGAG_TTAACAGTCA_TTGGATACGT       0-L2/3              0-L2/3 -4.163591   \n",
       "B_AAGCCGCATA_TTGAGGCATC_TTGGATACGT         5-L4                5-L4 -0.737559   \n",
       "B_TACATAGAGG_TTGAGGCATC_TTGGATACGT       4-L4/5              4-L4/5  3.978391   \n",
       "B_TGAGCAATCT_TTGAGGCATC_TTGGATACGT  6-MGE-Pvalb         6-MGE-Pvalb -2.860742   \n",
       "\n",
       "                                       UMAP_Y     TSNE_X     TSNE_Y  \\\n",
       "A_ATCGACCTTG_ACCAAGCGAA_AACAACCATC   1.350498 -22.595959  44.505940   \n",
       "A_GAGGTTAATG_ACCAAGCGAA_AACAACCATC   7.415311 -39.151596 -52.765900   \n",
       "A_GATCTAGGTA_ACCTTGTATG_AACAACCATC  18.540974  36.406204 -70.331566   \n",
       "A_TTAACGAAGG_ACCTTGTATG_AACAACCATC  -5.338323  49.871860  37.381763   \n",
       "A_ACCTGAGATG_ACGAGACCAA_AACAACCATC  -4.463965  61.126038  29.700691   \n",
       "...                                       ...        ...        ...   \n",
       "B_CTCCTGAATC_TGTGCTCTAA_TTGGATACGT   8.804398  22.741667  -6.316557   \n",
       "B_GGATGAGGAG_TTAACAGTCA_TTGGATACGT   4.043092 -16.213620  12.958341   \n",
       "B_AAGCCGCATA_TTGAGGCATC_TTGGATACGT   7.552638 -50.390736  -3.990756   \n",
       "B_TACATAGAGG_TTGAGGCATC_TTGGATACGT   2.174218   2.101720 -20.454075   \n",
       "B_TGAGCAATCT_TTGAGGCATC_TTGGATACGT  18.464006  46.275776 -69.006340   \n",
       "\n",
       "                                   cell_type_collapsed  \n",
       "A_ATCGACCTTG_ACCAAGCGAA_AACAACCATC              L2/3-2  \n",
       "A_GAGGTTAATG_ACCAAGCGAA_AACAACCATC                L4-3  \n",
       "A_GATCTAGGTA_ACCTTGTATG_AACAACCATC        MGE (Pvalb+)  \n",
       "A_TTAACGAAGG_ACCTTGTATG_AACAACCATC                  L6  \n",
       "A_ACCTGAGATG_ACGAGACCAA_AACAACCATC                  L6  \n",
       "...                                                ...  \n",
       "B_CTCCTGAATC_TGTGCTCTAA_TTGGATACGT                 MOL  \n",
       "B_GGATGAGGAG_TTAACAGTCA_TTGGATACGT              L2/3-1  \n",
       "B_AAGCCGCATA_TTGAGGCATC_TTGGATACGT                L4-2  \n",
       "B_TACATAGAGG_TTGAGGCATC_TTGGATACGT              L4/5-2  \n",
       "B_TGAGCAATCT_TTGAGGCATC_TTGGATACGT        MGE (Pvalb+)  \n",
       "\n",
       "[9508 rows x 20 columns]"
      ]
     },
     "execution_count": 50,
     "metadata": {},
     "output_type": "execute_result"
    }
   ],
   "source": [
    "df_hydrop_adata"
   ]
  },
  {
   "cell_type": "code",
   "execution_count": 51,
   "metadata": {},
   "outputs": [
    {
     "data": {
      "text/plain": [
       "A_ATCGACCTTG_ACCAAGCGAA_AACAACCATC    2756\n",
       "A_GAGGTTAATG_ACCAAGCGAA_AACAACCATC    3005\n",
       "A_GATCTAGGTA_ACCTTGTATG_AACAACCATC    2491\n",
       "A_TTAACGAAGG_ACCTTGTATG_AACAACCATC    1888\n",
       "A_ACCTGAGATG_ACGAGACCAA_AACAACCATC    2825\n",
       "                                      ... \n",
       "B_CTCCTGAATC_TGTGCTCTAA_TTGGATACGT     934\n",
       "B_GGATGAGGAG_TTAACAGTCA_TTGGATACGT     956\n",
       "B_AAGCCGCATA_TTGAGGCATC_TTGGATACGT    2707\n",
       "B_TACATAGAGG_TTGAGGCATC_TTGGATACGT    2231\n",
       "B_TGAGCAATCT_TTGAGGCATC_TTGGATACGT    1176\n",
       "Name: n_genes_by_counts, Length: 9508, dtype: int64"
      ]
     },
     "execution_count": 51,
     "metadata": {},
     "output_type": "execute_result"
    }
   ],
   "source": [
    "df_hydrop_adata['n_genes_by_counts']"
   ]
  },
  {
   "cell_type": "code",
   "execution_count": 52,
   "metadata": {},
   "outputs": [
    {
     "data": {
      "text/plain": [
       "A_ATCGACCTTG_ACCAAGCGAA_AACAACCATC    7319.0\n",
       "A_GAGGTTAATG_ACCAAGCGAA_AACAACCATC    8789.0\n",
       "A_GATCTAGGTA_ACCTTGTATG_AACAACCATC    5689.0\n",
       "A_TTAACGAAGG_ACCTTGTATG_AACAACCATC    4044.0\n",
       "A_ACCTGAGATG_ACGAGACCAA_AACAACCATC    7267.0\n",
       "                                       ...  \n",
       "B_CTCCTGAATC_TGTGCTCTAA_TTGGATACGT    1485.0\n",
       "B_GGATGAGGAG_TTAACAGTCA_TTGGATACGT    1544.0\n",
       "B_AAGCCGCATA_TTGAGGCATC_TTGGATACGT    7717.0\n",
       "B_TACATAGAGG_TTGAGGCATC_TTGGATACGT    5113.0\n",
       "B_TGAGCAATCT_TTGAGGCATC_TTGGATACGT    1845.0\n",
       "Name: total_counts, Length: 9508, dtype: float64"
      ]
     },
     "execution_count": 52,
     "metadata": {},
     "output_type": "execute_result"
    }
   ],
   "source": [
    "df_hydrop_adata['total_counts']"
   ]
  },
  {
   "cell_type": "markdown",
   "metadata": {},
   "source": [
    "Plot violin"
   ]
  },
  {
   "cell_type": "code",
   "execution_count": 53,
   "metadata": {},
   "outputs": [],
   "source": [
    "df_hydrop_ngenes = pd.DataFrame()\n",
    "df_hydrop_numis = pd.DataFrame()\n",
    "\n",
    "df_hydrop_ngenes['counts'] = df_hydrop_adata['n_genes_by_counts']\n",
    "df_hydrop_ngenes['count_type'] = 'ngenes'\n",
    "df_hydrop_numis['counts'] = df_hydrop_adata['total_counts']\n",
    "df_hydrop_numis['count_type'] = 'numis'\n",
    "\n",
    "df_hydrop = df_hydrop_ngenes.append(df_hydrop_numis, ignore_index=True)\n",
    "df_hydrop['method'] = 'hydrop'"
   ]
  },
  {
   "cell_type": "code",
   "execution_count": 54,
   "metadata": {},
   "outputs": [],
   "source": [
    "df_indrop_ngenes = pd.DataFrame()\n",
    "df_indrop_numis = pd.DataFrame()\n",
    "\n",
    "df_indrop_ngenes['counts'] = df_indrop_adata['n_genes_by_counts']\n",
    "df_indrop_ngenes['count_type'] = 'ngenes'\n",
    "df_indrop_numis['counts'] = df_indrop_adata['total_counts']\n",
    "df_indrop_numis['count_type'] = 'numis'\n",
    "\n",
    "df_indrop = df_indrop_ngenes.append(df_indrop_numis, ignore_index=True)\n",
    "df_indrop['method'] = 'indrop'"
   ]
  },
  {
   "cell_type": "code",
   "execution_count": 55,
   "metadata": {},
   "outputs": [],
   "source": [
    "df_dropseq_ngenes = pd.DataFrame()\n",
    "df_dropseq_numis = pd.DataFrame()\n",
    "\n",
    "df_dropseq_ngenes['counts'] = df_dropseq_adata['n_genes_by_counts']\n",
    "df_dropseq_ngenes['count_type'] = 'ngenes'\n",
    "df_dropseq_numis['counts'] = df_dropseq_adata['total_counts']\n",
    "df_dropseq_numis['count_type'] = 'numis'\n",
    "\n",
    "df_dropseq = df_dropseq_ngenes.append(df_dropseq_numis, ignore_index=True)\n",
    "df_dropseq['method'] = 'dropseq'"
   ]
  },
  {
   "cell_type": "code",
   "execution_count": 56,
   "metadata": {},
   "outputs": [],
   "source": [
    "import matplotlib.pyplot as plt\n",
    "import seaborn as sns"
   ]
  },
  {
   "cell_type": "code",
   "execution_count": 57,
   "metadata": {},
   "outputs": [],
   "source": [
    "context = \"talk\"\n",
    "style = \"darkgrid\"\n",
    "markersize = 25\n",
    "plt.close()\n",
    "sns.set_context(context)\n",
    "sns.set_style(style, {\"axes.linewidth\": 1, \"axes.edgecolor\": \".20\"})"
   ]
  },
  {
   "cell_type": "code",
   "execution_count": 58,
   "metadata": {},
   "outputs": [],
   "source": [
    "df_counts = pd.concat([df_indrop, df_dropseq, df_hydrop], ignore_index=True)"
   ]
  },
  {
   "cell_type": "code",
   "execution_count": 59,
   "metadata": {},
   "outputs": [
    {
     "data": {
      "text/html": [
       "<div>\n",
       "<style scoped>\n",
       "    .dataframe tbody tr th:only-of-type {\n",
       "        vertical-align: middle;\n",
       "    }\n",
       "\n",
       "    .dataframe tbody tr th {\n",
       "        vertical-align: top;\n",
       "    }\n",
       "\n",
       "    .dataframe thead th {\n",
       "        text-align: right;\n",
       "    }\n",
       "</style>\n",
       "<table border=\"1\" class=\"dataframe\">\n",
       "  <thead>\n",
       "    <tr style=\"text-align: right;\">\n",
       "      <th></th>\n",
       "      <th>counts</th>\n",
       "      <th>count_type</th>\n",
       "      <th>method</th>\n",
       "    </tr>\n",
       "  </thead>\n",
       "  <tbody>\n",
       "    <tr>\n",
       "      <th>0</th>\n",
       "      <td>8136.0</td>\n",
       "      <td>ngenes</td>\n",
       "      <td>indrop</td>\n",
       "    </tr>\n",
       "    <tr>\n",
       "      <th>1</th>\n",
       "      <td>8129.0</td>\n",
       "      <td>ngenes</td>\n",
       "      <td>indrop</td>\n",
       "    </tr>\n",
       "    <tr>\n",
       "      <th>2</th>\n",
       "      <td>7448.0</td>\n",
       "      <td>ngenes</td>\n",
       "      <td>indrop</td>\n",
       "    </tr>\n",
       "    <tr>\n",
       "      <th>3</th>\n",
       "      <td>6867.0</td>\n",
       "      <td>ngenes</td>\n",
       "      <td>indrop</td>\n",
       "    </tr>\n",
       "    <tr>\n",
       "      <th>4</th>\n",
       "      <td>6837.0</td>\n",
       "      <td>ngenes</td>\n",
       "      <td>indrop</td>\n",
       "    </tr>\n",
       "    <tr>\n",
       "      <th>...</th>\n",
       "      <td>...</td>\n",
       "      <td>...</td>\n",
       "      <td>...</td>\n",
       "    </tr>\n",
       "    <tr>\n",
       "      <th>171783</th>\n",
       "      <td>1485.0</td>\n",
       "      <td>numis</td>\n",
       "      <td>hydrop</td>\n",
       "    </tr>\n",
       "    <tr>\n",
       "      <th>171784</th>\n",
       "      <td>1544.0</td>\n",
       "      <td>numis</td>\n",
       "      <td>hydrop</td>\n",
       "    </tr>\n",
       "    <tr>\n",
       "      <th>171785</th>\n",
       "      <td>7717.0</td>\n",
       "      <td>numis</td>\n",
       "      <td>hydrop</td>\n",
       "    </tr>\n",
       "    <tr>\n",
       "      <th>171786</th>\n",
       "      <td>5113.0</td>\n",
       "      <td>numis</td>\n",
       "      <td>hydrop</td>\n",
       "    </tr>\n",
       "    <tr>\n",
       "      <th>171787</th>\n",
       "      <td>1845.0</td>\n",
       "      <td>numis</td>\n",
       "      <td>hydrop</td>\n",
       "    </tr>\n",
       "  </tbody>\n",
       "</table>\n",
       "<p>171788 rows × 3 columns</p>\n",
       "</div>"
      ],
      "text/plain": [
       "        counts count_type  method\n",
       "0       8136.0     ngenes  indrop\n",
       "1       8129.0     ngenes  indrop\n",
       "2       7448.0     ngenes  indrop\n",
       "3       6867.0     ngenes  indrop\n",
       "4       6837.0     ngenes  indrop\n",
       "...        ...        ...     ...\n",
       "171783  1485.0      numis  hydrop\n",
       "171784  1544.0      numis  hydrop\n",
       "171785  7717.0      numis  hydrop\n",
       "171786  5113.0      numis  hydrop\n",
       "171787  1845.0      numis  hydrop\n",
       "\n",
       "[171788 rows x 3 columns]"
      ]
     },
     "execution_count": 59,
     "metadata": {},
     "output_type": "execute_result"
    }
   ],
   "source": [
    "df_counts"
   ]
  },
  {
   "cell_type": "code",
   "execution_count": 60,
   "metadata": {},
   "outputs": [
    {
     "data": {
      "text/html": [
       "<div>\n",
       "<style scoped>\n",
       "    .dataframe tbody tr th:only-of-type {\n",
       "        vertical-align: middle;\n",
       "    }\n",
       "\n",
       "    .dataframe tbody tr th {\n",
       "        vertical-align: top;\n",
       "    }\n",
       "\n",
       "    .dataframe thead th {\n",
       "        text-align: right;\n",
       "    }\n",
       "</style>\n",
       "<table border=\"1\" class=\"dataframe\">\n",
       "  <thead>\n",
       "    <tr style=\"text-align: right;\">\n",
       "      <th></th>\n",
       "      <th></th>\n",
       "      <th>counts</th>\n",
       "    </tr>\n",
       "    <tr>\n",
       "      <th>method</th>\n",
       "      <th>count_type</th>\n",
       "      <th></th>\n",
       "    </tr>\n",
       "  </thead>\n",
       "  <tbody>\n",
       "    <tr>\n",
       "      <th rowspan=\"2\" valign=\"top\">dropseq</th>\n",
       "      <th>ngenes</th>\n",
       "      <td>743.0</td>\n",
       "    </tr>\n",
       "    <tr>\n",
       "      <th>numis</th>\n",
       "      <td>1071.0</td>\n",
       "    </tr>\n",
       "    <tr>\n",
       "      <th rowspan=\"2\" valign=\"top\">hydrop</th>\n",
       "      <th>ngenes</th>\n",
       "      <td>1661.0</td>\n",
       "    </tr>\n",
       "    <tr>\n",
       "      <th>numis</th>\n",
       "      <td>3403.5</td>\n",
       "    </tr>\n",
       "    <tr>\n",
       "      <th rowspan=\"2\" valign=\"top\">indrop</th>\n",
       "      <th>ngenes</th>\n",
       "      <td>1321.0</td>\n",
       "    </tr>\n",
       "    <tr>\n",
       "      <th>numis</th>\n",
       "      <td>1920.0</td>\n",
       "    </tr>\n",
       "  </tbody>\n",
       "</table>\n",
       "</div>"
      ],
      "text/plain": [
       "                    counts\n",
       "method  count_type        \n",
       "dropseq ngenes       743.0\n",
       "        numis       1071.0\n",
       "hydrop  ngenes      1661.0\n",
       "        numis       3403.5\n",
       "indrop  ngenes      1321.0\n",
       "        numis       1920.0"
      ]
     },
     "execution_count": 60,
     "metadata": {},
     "output_type": "execute_result"
    }
   ],
   "source": [
    "df_counts.groupby(['method', 'count_type']).median()"
   ]
  },
  {
   "cell_type": "code",
   "execution_count": 61,
   "metadata": {},
   "outputs": [
    {
     "data": {
      "image/png": "[encoded data removed]",
      "text/plain": [
       "<Figure size 432x288 with 1 Axes>"
      ]
     },
     "metadata": {},
     "output_type": "display_data"
    }
   ],
   "source": [
    "ax = sns.violinplot(data=df_counts, y='counts', x='method', hue='count_type', split=True, inner=\"quartile\", size='count', order=[ \"dropseq\", \"indrop\", \"hydrop\"])\n",
    "ax.yaxis.set_major_locator(plt.MaxNLocator(5))\n",
    "plt.ylim([0,7000])\n",
    "plt.savefig('plts_pub/compar_public.svg')\n",
    "\n",
    "plt.show()"
   ]
  },
  {
   "cell_type": "markdown",
   "metadata": {},
   "source": [
    "i can choose not to plot the cells with counts > 7000 in order to smoothen the curve (the number of nodes is fixed, so if we remove outliers, we get a higher density of nodes in the plot)"
   ]
  },
  {
   "cell_type": "code",
   "execution_count": 62,
   "metadata": {},
   "outputs": [
    {
     "data": {
      "image/png": "[encoded data removed]",
      "text/plain": [
       "<Figure size 432x288 with 1 Axes>"
      ]
     },
     "metadata": {},
     "output_type": "display_data"
    }
   ],
   "source": [
    "ax = sns.violinplot(data=df_counts[df_counts['counts'] < 7000], y='counts', x='method', hue='count_type', split=True, inner=\"quartile\", size='counts', order=[ \"dropseq\", \"indrop\", \"hydrop\"])\n",
    "ax.yaxis.set_major_locator(plt.MaxNLocator(5))\n",
    "plt.ylim([0,7000])\n",
    "plt.savefig('plts_pub/compar_public_soft.svg', dpi=600)\n",
    "plt.savefig('plts_pub/compar_public_soft.png', dpi=600)\n",
    "\n",
    "plt.show()"
   ]
  },
  {
   "cell_type": "markdown",
   "metadata": {},
   "source": [
    "# STAR stats figure"
   ]
  },
  {
   "cell_type": "code",
   "execution_count": 63,
   "metadata": {},
   "outputs": [],
   "source": [
    "import scanpy as sc\n",
    "import pandas as pd\n",
    "import os\n",
    "import matplotlib.pyplot as plt\n",
    "import seaborn as sns\n",
    "from matplotlib.pyplot import figure\n",
    "import numpy as np\n",
    "import glob as glob"
   ]
  },
  {
   "cell_type": "markdown",
   "metadata": {},
   "source": [
    "### HyDrop"
   ]
  },
  {
   "cell_type": "code",
   "execution_count": 96,
   "metadata": {},
   "outputs": [],
   "source": [
    "files = ['/lustre1/project/stg_00002/lcb/fderop/data/20210428_hydrop-rna_mouse_cortex_10k/demultiplexed/HYR__c47998_e6244b__20210412_mouse_cortex_sbmerged_S4.Solo.out/Gene/Summary.csv', '/lustre1/project/stg_00002/lcb/fderop/data/20210428_hydrop-rna_mouse_cortex_10k/demultiplexed/HYR__666332__20210412_mouse_cortex_sa_S1.Solo.out/Gene/Summary.csv']"
   ]
  },
  {
   "cell_type": "code",
   "execution_count": 97,
   "metadata": {},
   "outputs": [],
   "source": [
    "metadata = []\n",
    "for filename in files:\n",
    "    x = pd.read_csv(filename, header=None, index_col = 0)\n",
    "    sample=filename.replace('lustre1/project/stg_00002/lcb/fderop/data/20210428_hydrop-rna_mouse_cortex_10k/demultiplexed/', '')\n",
    "    sample=sample.replace('.Solo.out/Gene/Summary.csv', '')\n",
    "    x.columns = [sample]\n",
    "    metadata.append(x)\n",
    "\n",
    "metadata = pd.concat(metadata, axis = 1)\n",
    "metadata = metadata.T\n",
    "metadata_hydrop = metadata"
   ]
  },
  {
   "cell_type": "code",
   "execution_count": 98,
   "metadata": {},
   "outputs": [
    {
     "data": {
      "text/html": [
       "<div>\n",
       "<style scoped>\n",
       "    .dataframe tbody tr th:only-of-type {\n",
       "        vertical-align: middle;\n",
       "    }\n",
       "\n",
       "    .dataframe tbody tr th {\n",
       "        vertical-align: top;\n",
       "    }\n",
       "\n",
       "    .dataframe thead th {\n",
       "        text-align: right;\n",
       "    }\n",
       "</style>\n",
       "<table border=\"1\" class=\"dataframe\">\n",
       "  <thead>\n",
       "    <tr style=\"text-align: right;\">\n",
       "      <th></th>\n",
       "      <th>Number of Reads</th>\n",
       "      <th>Reads With Valid Barcodes</th>\n",
       "      <th>Sequencing Saturation</th>\n",
       "      <th>Q30 Bases in CB+UMI</th>\n",
       "      <th>Q30 Bases in RNA read</th>\n",
       "      <th>Reads Mapped to Genome: Unique+Multiple</th>\n",
       "      <th>Reads Mapped to Genome: Unique</th>\n",
       "      <th>Reads Mapped to Transcriptome: Unique+Multipe Genes</th>\n",
       "      <th>Reads Mapped to Transcriptome: Unique Genes</th>\n",
       "      <th>Estimated Number of Cells</th>\n",
       "      <th>Reads in Cells Mapped to Unique Genes</th>\n",
       "      <th>Fraction of Reads in Cells</th>\n",
       "      <th>Mean Reads per Cell</th>\n",
       "      <th>Median Reads per Cell</th>\n",
       "      <th>UMIs in Cells</th>\n",
       "      <th>Mean UMI per Cell</th>\n",
       "      <th>Median UMI per Cell</th>\n",
       "      <th>Mean Genes per Cell</th>\n",
       "      <th>Median Genes per Cell</th>\n",
       "      <th>Total Genes Detected</th>\n",
       "    </tr>\n",
       "  </thead>\n",
       "  <tbody>\n",
       "    <tr>\n",
       "      <th>/HYR__c47998_e6244b__20210412_mouse_cortex_sbmerged_S4</th>\n",
       "      <td>269012338.0</td>\n",
       "      <td>0.827878</td>\n",
       "      <td>0.659605</td>\n",
       "      <td>0.780043</td>\n",
       "      <td>0.954299</td>\n",
       "      <td>0.859785</td>\n",
       "      <td>0.859785</td>\n",
       "      <td>0.559121</td>\n",
       "      <td>0.550297</td>\n",
       "      <td>4459.0</td>\n",
       "      <td>50489518.0</td>\n",
       "      <td>0.341061</td>\n",
       "      <td>11323.0</td>\n",
       "      <td>9793.0</td>\n",
       "      <td>16851724.0</td>\n",
       "      <td>3779.0</td>\n",
       "      <td>3265.0</td>\n",
       "      <td>1718.0</td>\n",
       "      <td>1624.0</td>\n",
       "      <td>21483.0</td>\n",
       "    </tr>\n",
       "    <tr>\n",
       "      <th>/HYR__666332__20210412_mouse_cortex_sa_S1</th>\n",
       "      <td>242071788.0</td>\n",
       "      <td>0.833270</td>\n",
       "      <td>0.551516</td>\n",
       "      <td>0.774848</td>\n",
       "      <td>0.950998</td>\n",
       "      <td>0.859084</td>\n",
       "      <td>0.859084</td>\n",
       "      <td>0.569050</td>\n",
       "      <td>0.560225</td>\n",
       "      <td>5232.0</td>\n",
       "      <td>47987067.0</td>\n",
       "      <td>0.353848</td>\n",
       "      <td>9171.0</td>\n",
       "      <td>7941.0</td>\n",
       "      <td>21186594.0</td>\n",
       "      <td>4049.0</td>\n",
       "      <td>3514.0</td>\n",
       "      <td>1778.0</td>\n",
       "      <td>1693.0</td>\n",
       "      <td>21719.0</td>\n",
       "    </tr>\n",
       "  </tbody>\n",
       "</table>\n",
       "</div>"
      ],
      "text/plain": [
       "0                                                   Number of Reads  \\\n",
       "/HYR__c47998_e6244b__20210412_mouse_cortex_sbme...      269012338.0   \n",
       "/HYR__666332__20210412_mouse_cortex_sa_S1               242071788.0   \n",
       "\n",
       "0                                                   Reads With Valid Barcodes  \\\n",
       "/HYR__c47998_e6244b__20210412_mouse_cortex_sbme...                   0.827878   \n",
       "/HYR__666332__20210412_mouse_cortex_sa_S1                            0.833270   \n",
       "\n",
       "0                                                   Sequencing Saturation  \\\n",
       "/HYR__c47998_e6244b__20210412_mouse_cortex_sbme...               0.659605   \n",
       "/HYR__666332__20210412_mouse_cortex_sa_S1                        0.551516   \n",
       "\n",
       "0                                                   Q30 Bases in CB+UMI  \\\n",
       "/HYR__c47998_e6244b__20210412_mouse_cortex_sbme...             0.780043   \n",
       "/HYR__666332__20210412_mouse_cortex_sa_S1                      0.774848   \n",
       "\n",
       "0                                                   Q30 Bases in RNA read  \\\n",
       "/HYR__c47998_e6244b__20210412_mouse_cortex_sbme...               0.954299   \n",
       "/HYR__666332__20210412_mouse_cortex_sa_S1                        0.950998   \n",
       "\n",
       "0                                                   Reads Mapped to Genome: Unique+Multiple  \\\n",
       "/HYR__c47998_e6244b__20210412_mouse_cortex_sbme...                                 0.859785   \n",
       "/HYR__666332__20210412_mouse_cortex_sa_S1                                          0.859084   \n",
       "\n",
       "0                                                   Reads Mapped to Genome: Unique  \\\n",
       "/HYR__c47998_e6244b__20210412_mouse_cortex_sbme...                        0.859785   \n",
       "/HYR__666332__20210412_mouse_cortex_sa_S1                                 0.859084   \n",
       "\n",
       "0                                                   Reads Mapped to Transcriptome: Unique+Multipe Genes  \\\n",
       "/HYR__c47998_e6244b__20210412_mouse_cortex_sbme...                                           0.559121     \n",
       "/HYR__666332__20210412_mouse_cortex_sa_S1                                                    0.569050     \n",
       "\n",
       "0                                                   Reads Mapped to Transcriptome: Unique Genes  \\\n",
       "/HYR__c47998_e6244b__20210412_mouse_cortex_sbme...                                     0.550297   \n",
       "/HYR__666332__20210412_mouse_cortex_sa_S1                                              0.560225   \n",
       "\n",
       "0                                                   Estimated Number of Cells  \\\n",
       "/HYR__c47998_e6244b__20210412_mouse_cortex_sbme...                     4459.0   \n",
       "/HYR__666332__20210412_mouse_cortex_sa_S1                              5232.0   \n",
       "\n",
       "0                                                   Reads in Cells Mapped to Unique Genes  \\\n",
       "/HYR__c47998_e6244b__20210412_mouse_cortex_sbme...                             50489518.0   \n",
       "/HYR__666332__20210412_mouse_cortex_sa_S1                                      47987067.0   \n",
       "\n",
       "0                                                   Fraction of Reads in Cells  \\\n",
       "/HYR__c47998_e6244b__20210412_mouse_cortex_sbme...                    0.341061   \n",
       "/HYR__666332__20210412_mouse_cortex_sa_S1                             0.353848   \n",
       "\n",
       "0                                                   Mean Reads per Cell  \\\n",
       "/HYR__c47998_e6244b__20210412_mouse_cortex_sbme...              11323.0   \n",
       "/HYR__666332__20210412_mouse_cortex_sa_S1                        9171.0   \n",
       "\n",
       "0                                                   Median Reads per Cell  \\\n",
       "/HYR__c47998_e6244b__20210412_mouse_cortex_sbme...                 9793.0   \n",
       "/HYR__666332__20210412_mouse_cortex_sa_S1                          7941.0   \n",
       "\n",
       "0                                                   UMIs in Cells  \\\n",
       "/HYR__c47998_e6244b__20210412_mouse_cortex_sbme...     16851724.0   \n",
       "/HYR__666332__20210412_mouse_cortex_sa_S1              21186594.0   \n",
       "\n",
       "0                                                   Mean UMI per Cell  \\\n",
       "/HYR__c47998_e6244b__20210412_mouse_cortex_sbme...             3779.0   \n",
       "/HYR__666332__20210412_mouse_cortex_sa_S1                      4049.0   \n",
       "\n",
       "0                                                   Median UMI per Cell  \\\n",
       "/HYR__c47998_e6244b__20210412_mouse_cortex_sbme...               3265.0   \n",
       "/HYR__666332__20210412_mouse_cortex_sa_S1                        3514.0   \n",
       "\n",
       "0                                                   Mean Genes per Cell  \\\n",
       "/HYR__c47998_e6244b__20210412_mouse_cortex_sbme...               1718.0   \n",
       "/HYR__666332__20210412_mouse_cortex_sa_S1                        1778.0   \n",
       "\n",
       "0                                                   Median Genes per Cell  \\\n",
       "/HYR__c47998_e6244b__20210412_mouse_cortex_sbme...                 1624.0   \n",
       "/HYR__666332__20210412_mouse_cortex_sa_S1                          1693.0   \n",
       "\n",
       "0                                                   Total Genes Detected  \n",
       "/HYR__c47998_e6244b__20210412_mouse_cortex_sbme...               21483.0  \n",
       "/HYR__666332__20210412_mouse_cortex_sa_S1                        21719.0  "
      ]
     },
     "execution_count": 98,
     "metadata": {},
     "output_type": "execute_result"
    }
   ],
   "source": [
    "metadata_hydrop"
   ]
  },
  {
   "cell_type": "code",
   "execution_count": 99,
   "metadata": {},
   "outputs": [
    {
     "data": {
      "text/plain": [
       "511084126"
      ]
     },
     "execution_count": 99,
     "metadata": {},
     "output_type": "execute_result"
    }
   ],
   "source": [
    "269012338 + 242071788 # total reads"
   ]
  },
  {
   "cell_type": "code",
   "execution_count": 100,
   "metadata": {},
   "outputs": [
    {
     "data": {
      "text/plain": [
       "38038318"
      ]
     },
     "execution_count": 100,
     "metadata": {},
     "output_type": "execute_result"
    }
   ],
   "source": [
    "16851724 + 21186594 # UMIs in cells"
   ]
  },
  {
   "cell_type": "code",
   "execution_count": 101,
   "metadata": {},
   "outputs": [
    {
     "data": {
      "text/plain": [
       "9691"
      ]
     },
     "execution_count": 101,
     "metadata": {},
     "output_type": "execute_result"
    }
   ],
   "source": [
    "4459+5232"
   ]
  },
  {
   "cell_type": "markdown",
   "metadata": {},
   "source": [
    "Now write a weighted mean"
   ]
  },
  {
   "cell_type": "code",
   "execution_count": 102,
   "metadata": {},
   "outputs": [
    {
     "data": {
      "text/html": [
       "<div>\n",
       "<style scoped>\n",
       "    .dataframe tbody tr th:only-of-type {\n",
       "        vertical-align: middle;\n",
       "    }\n",
       "\n",
       "    .dataframe tbody tr th {\n",
       "        vertical-align: top;\n",
       "    }\n",
       "\n",
       "    .dataframe thead th {\n",
       "        text-align: right;\n",
       "    }\n",
       "</style>\n",
       "<table border=\"1\" class=\"dataframe\">\n",
       "  <thead>\n",
       "    <tr style=\"text-align: right;\">\n",
       "      <th></th>\n",
       "      <th>Number of Reads</th>\n",
       "      <th>Reads With Valid Barcodes</th>\n",
       "      <th>Sequencing Saturation</th>\n",
       "      <th>Q30 Bases in CB+UMI</th>\n",
       "      <th>Q30 Bases in RNA read</th>\n",
       "      <th>Reads Mapped to Genome: Unique+Multiple</th>\n",
       "      <th>Reads Mapped to Genome: Unique</th>\n",
       "      <th>Reads Mapped to Transcriptome: Unique+Multipe Genes</th>\n",
       "      <th>Reads Mapped to Transcriptome: Unique Genes</th>\n",
       "      <th>Estimated Number of Cells</th>\n",
       "      <th>Reads in Cells Mapped to Unique Genes</th>\n",
       "      <th>Fraction of Reads in Cells</th>\n",
       "      <th>Mean Reads per Cell</th>\n",
       "      <th>Median Reads per Cell</th>\n",
       "      <th>UMIs in Cells</th>\n",
       "      <th>Mean UMI per Cell</th>\n",
       "      <th>Median UMI per Cell</th>\n",
       "      <th>Mean Genes per Cell</th>\n",
       "      <th>Median Genes per Cell</th>\n",
       "      <th>Total Genes Detected</th>\n",
       "    </tr>\n",
       "  </thead>\n",
       "  <tbody>\n",
       "    <tr>\n",
       "      <th>/HYR__c47998_e6244b__20210412_mouse_cortex_sbmerged_S4</th>\n",
       "      <td>269012338.0</td>\n",
       "      <td>0.827878</td>\n",
       "      <td>0.659605</td>\n",
       "      <td>0.780043</td>\n",
       "      <td>0.954299</td>\n",
       "      <td>0.859785</td>\n",
       "      <td>0.859785</td>\n",
       "      <td>0.559121</td>\n",
       "      <td>0.550297</td>\n",
       "      <td>4459.0</td>\n",
       "      <td>50489518.0</td>\n",
       "      <td>0.341061</td>\n",
       "      <td>11323.0</td>\n",
       "      <td>9793.0</td>\n",
       "      <td>16851724.0</td>\n",
       "      <td>3779.0</td>\n",
       "      <td>3265.0</td>\n",
       "      <td>1718.0</td>\n",
       "      <td>1624.0</td>\n",
       "      <td>21483.0</td>\n",
       "    </tr>\n",
       "    <tr>\n",
       "      <th>/HYR__666332__20210412_mouse_cortex_sa_S1</th>\n",
       "      <td>242071788.0</td>\n",
       "      <td>0.833270</td>\n",
       "      <td>0.551516</td>\n",
       "      <td>0.774848</td>\n",
       "      <td>0.950998</td>\n",
       "      <td>0.859084</td>\n",
       "      <td>0.859084</td>\n",
       "      <td>0.569050</td>\n",
       "      <td>0.560225</td>\n",
       "      <td>5232.0</td>\n",
       "      <td>47987067.0</td>\n",
       "      <td>0.353848</td>\n",
       "      <td>9171.0</td>\n",
       "      <td>7941.0</td>\n",
       "      <td>21186594.0</td>\n",
       "      <td>4049.0</td>\n",
       "      <td>3514.0</td>\n",
       "      <td>1778.0</td>\n",
       "      <td>1693.0</td>\n",
       "      <td>21719.0</td>\n",
       "    </tr>\n",
       "  </tbody>\n",
       "</table>\n",
       "</div>"
      ],
      "text/plain": [
       "0                                                   Number of Reads  \\\n",
       "/HYR__c47998_e6244b__20210412_mouse_cortex_sbme...      269012338.0   \n",
       "/HYR__666332__20210412_mouse_cortex_sa_S1               242071788.0   \n",
       "\n",
       "0                                                   Reads With Valid Barcodes  \\\n",
       "/HYR__c47998_e6244b__20210412_mouse_cortex_sbme...                   0.827878   \n",
       "/HYR__666332__20210412_mouse_cortex_sa_S1                            0.833270   \n",
       "\n",
       "0                                                   Sequencing Saturation  \\\n",
       "/HYR__c47998_e6244b__20210412_mouse_cortex_sbme...               0.659605   \n",
       "/HYR__666332__20210412_mouse_cortex_sa_S1                        0.551516   \n",
       "\n",
       "0                                                   Q30 Bases in CB+UMI  \\\n",
       "/HYR__c47998_e6244b__20210412_mouse_cortex_sbme...             0.780043   \n",
       "/HYR__666332__20210412_mouse_cortex_sa_S1                      0.774848   \n",
       "\n",
       "0                                                   Q30 Bases in RNA read  \\\n",
       "/HYR__c47998_e6244b__20210412_mouse_cortex_sbme...               0.954299   \n",
       "/HYR__666332__20210412_mouse_cortex_sa_S1                        0.950998   \n",
       "\n",
       "0                                                   Reads Mapped to Genome: Unique+Multiple  \\\n",
       "/HYR__c47998_e6244b__20210412_mouse_cortex_sbme...                                 0.859785   \n",
       "/HYR__666332__20210412_mouse_cortex_sa_S1                                          0.859084   \n",
       "\n",
       "0                                                   Reads Mapped to Genome: Unique  \\\n",
       "/HYR__c47998_e6244b__20210412_mouse_cortex_sbme...                        0.859785   \n",
       "/HYR__666332__20210412_mouse_cortex_sa_S1                                 0.859084   \n",
       "\n",
       "0                                                   Reads Mapped to Transcriptome: Unique+Multipe Genes  \\\n",
       "/HYR__c47998_e6244b__20210412_mouse_cortex_sbme...                                           0.559121     \n",
       "/HYR__666332__20210412_mouse_cortex_sa_S1                                                    0.569050     \n",
       "\n",
       "0                                                   Reads Mapped to Transcriptome: Unique Genes  \\\n",
       "/HYR__c47998_e6244b__20210412_mouse_cortex_sbme...                                     0.550297   \n",
       "/HYR__666332__20210412_mouse_cortex_sa_S1                                              0.560225   \n",
       "\n",
       "0                                                   Estimated Number of Cells  \\\n",
       "/HYR__c47998_e6244b__20210412_mouse_cortex_sbme...                     4459.0   \n",
       "/HYR__666332__20210412_mouse_cortex_sa_S1                              5232.0   \n",
       "\n",
       "0                                                   Reads in Cells Mapped to Unique Genes  \\\n",
       "/HYR__c47998_e6244b__20210412_mouse_cortex_sbme...                             50489518.0   \n",
       "/HYR__666332__20210412_mouse_cortex_sa_S1                                      47987067.0   \n",
       "\n",
       "0                                                   Fraction of Reads in Cells  \\\n",
       "/HYR__c47998_e6244b__20210412_mouse_cortex_sbme...                    0.341061   \n",
       "/HYR__666332__20210412_mouse_cortex_sa_S1                             0.353848   \n",
       "\n",
       "0                                                   Mean Reads per Cell  \\\n",
       "/HYR__c47998_e6244b__20210412_mouse_cortex_sbme...              11323.0   \n",
       "/HYR__666332__20210412_mouse_cortex_sa_S1                        9171.0   \n",
       "\n",
       "0                                                   Median Reads per Cell  \\\n",
       "/HYR__c47998_e6244b__20210412_mouse_cortex_sbme...                 9793.0   \n",
       "/HYR__666332__20210412_mouse_cortex_sa_S1                          7941.0   \n",
       "\n",
       "0                                                   UMIs in Cells  \\\n",
       "/HYR__c47998_e6244b__20210412_mouse_cortex_sbme...     16851724.0   \n",
       "/HYR__666332__20210412_mouse_cortex_sa_S1              21186594.0   \n",
       "\n",
       "0                                                   Mean UMI per Cell  \\\n",
       "/HYR__c47998_e6244b__20210412_mouse_cortex_sbme...             3779.0   \n",
       "/HYR__666332__20210412_mouse_cortex_sa_S1                      4049.0   \n",
       "\n",
       "0                                                   Median UMI per Cell  \\\n",
       "/HYR__c47998_e6244b__20210412_mouse_cortex_sbme...               3265.0   \n",
       "/HYR__666332__20210412_mouse_cortex_sa_S1                        3514.0   \n",
       "\n",
       "0                                                   Mean Genes per Cell  \\\n",
       "/HYR__c47998_e6244b__20210412_mouse_cortex_sbme...               1718.0   \n",
       "/HYR__666332__20210412_mouse_cortex_sa_S1                        1778.0   \n",
       "\n",
       "0                                                   Median Genes per Cell  \\\n",
       "/HYR__c47998_e6244b__20210412_mouse_cortex_sbme...                 1624.0   \n",
       "/HYR__666332__20210412_mouse_cortex_sa_S1                          1693.0   \n",
       "\n",
       "0                                                   Total Genes Detected  \n",
       "/HYR__c47998_e6244b__20210412_mouse_cortex_sbme...               21483.0  \n",
       "/HYR__666332__20210412_mouse_cortex_sa_S1                        21719.0  "
      ]
     },
     "execution_count": 102,
     "metadata": {},
     "output_type": "execute_result"
    }
   ],
   "source": [
    "metadata"
   ]
  },
  {
   "cell_type": "code",
   "execution_count": 103,
   "metadata": {},
   "outputs": [],
   "source": [
    "# calculate a weighted mean\n",
    "metadata_hydrop = pd.DataFrame(pd.DataFrame([metadata.loc[x]*(metadata['Number of Reads']/metadata['Number of Reads'].sum())[x] for x in metadata.index]).sum()).T"
   ]
  },
  {
   "cell_type": "code",
   "execution_count": 104,
   "metadata": {},
   "outputs": [
    {
     "data": {
      "text/html": [
       "<div>\n",
       "<style scoped>\n",
       "    .dataframe tbody tr th:only-of-type {\n",
       "        vertical-align: middle;\n",
       "    }\n",
       "\n",
       "    .dataframe tbody tr th {\n",
       "        vertical-align: top;\n",
       "    }\n",
       "\n",
       "    .dataframe thead th {\n",
       "        text-align: right;\n",
       "    }\n",
       "</style>\n",
       "<table border=\"1\" class=\"dataframe\">\n",
       "  <thead>\n",
       "    <tr style=\"text-align: right;\">\n",
       "      <th></th>\n",
       "      <th>Number of Reads</th>\n",
       "      <th>Reads With Valid Barcodes</th>\n",
       "      <th>Sequencing Saturation</th>\n",
       "      <th>Q30 Bases in CB+UMI</th>\n",
       "      <th>Q30 Bases in RNA read</th>\n",
       "      <th>Reads Mapped to Genome: Unique+Multiple</th>\n",
       "      <th>Reads Mapped to Genome: Unique</th>\n",
       "      <th>Reads Mapped to Transcriptome: Unique+Multipe Genes</th>\n",
       "      <th>Reads Mapped to Transcriptome: Unique Genes</th>\n",
       "      <th>Estimated Number of Cells</th>\n",
       "      <th>Reads in Cells Mapped to Unique Genes</th>\n",
       "      <th>Fraction of Reads in Cells</th>\n",
       "      <th>Mean Reads per Cell</th>\n",
       "      <th>Median Reads per Cell</th>\n",
       "      <th>UMIs in Cells</th>\n",
       "      <th>Mean UMI per Cell</th>\n",
       "      <th>Median UMI per Cell</th>\n",
       "      <th>Mean Genes per Cell</th>\n",
       "      <th>Median Genes per Cell</th>\n",
       "      <th>Total Genes Detected</th>\n",
       "    </tr>\n",
       "  </thead>\n",
       "  <tbody>\n",
       "    <tr>\n",
       "      <th>0</th>\n",
       "      <td>2.562521e+08</td>\n",
       "      <td>0.830432</td>\n",
       "      <td>0.608409</td>\n",
       "      <td>0.777582</td>\n",
       "      <td>0.952736</td>\n",
       "      <td>0.859453</td>\n",
       "      <td>0.859453</td>\n",
       "      <td>0.563824</td>\n",
       "      <td>0.554999</td>\n",
       "      <td>4825.126598</td>\n",
       "      <td>4.930425e+07</td>\n",
       "      <td>0.347117</td>\n",
       "      <td>10303.718709</td>\n",
       "      <td>8915.811826</td>\n",
       "      <td>1.890491e+07</td>\n",
       "      <td>3906.883805</td>\n",
       "      <td>3382.937287</td>\n",
       "      <td>1746.418623</td>\n",
       "      <td>1656.681417</td>\n",
       "      <td>21594.779919</td>\n",
       "    </tr>\n",
       "  </tbody>\n",
       "</table>\n",
       "</div>"
      ],
      "text/plain": [
       "0  Number of Reads  Reads With Valid Barcodes  Sequencing Saturation  \\\n",
       "0     2.562521e+08                   0.830432               0.608409   \n",
       "\n",
       "0  Q30 Bases in CB+UMI  Q30 Bases in RNA read  \\\n",
       "0             0.777582               0.952736   \n",
       "\n",
       "0  Reads Mapped to Genome: Unique+Multiple  Reads Mapped to Genome: Unique  \\\n",
       "0                                 0.859453                        0.859453   \n",
       "\n",
       "0  Reads Mapped to Transcriptome: Unique+Multipe Genes  \\\n",
       "0                                           0.563824     \n",
       "\n",
       "0  Reads Mapped to Transcriptome: Unique Genes  Estimated Number of Cells  \\\n",
       "0                                     0.554999                4825.126598   \n",
       "\n",
       "0  Reads in Cells Mapped to Unique Genes  Fraction of Reads in Cells  \\\n",
       "0                           4.930425e+07                    0.347117   \n",
       "\n",
       "0  Mean Reads per Cell  Median Reads per Cell  UMIs in Cells  \\\n",
       "0         10303.718709            8915.811826   1.890491e+07   \n",
       "\n",
       "0  Mean UMI per Cell  Median UMI per Cell  Mean Genes per Cell  \\\n",
       "0        3906.883805          3382.937287          1746.418623   \n",
       "\n",
       "0  Median Genes per Cell  Total Genes Detected  \n",
       "0            1656.681417          21594.779919  "
      ]
     },
     "execution_count": 104,
     "metadata": {},
     "output_type": "execute_result"
    }
   ],
   "source": [
    "metadata_hydrop"
   ]
  },
  {
   "cell_type": "markdown",
   "metadata": {},
   "source": [
    "# DropSeq"
   ]
  },
  {
   "cell_type": "code",
   "execution_count": 105,
   "metadata": {},
   "outputs": [
    {
     "data": {
      "text/plain": [
       "['demultiplexed_dropseq_sub_whitelist/SRR1853178.Solo.out/Gene/Summary.csv',\n",
       " 'demultiplexed_dropseq_sub_whitelist/SRR1853179.Solo.out/Gene/Summary.csv',\n",
       " 'demultiplexed_dropseq_sub_whitelist/SRR1853180.Solo.out/Gene/Summary.csv',\n",
       " 'demultiplexed_dropseq_sub_whitelist/SRR1853181.Solo.out/Gene/Summary.csv',\n",
       " 'demultiplexed_dropseq_sub_whitelist/SRR1853182.Solo.out/Gene/Summary.csv',\n",
       " 'demultiplexed_dropseq_sub_whitelist/SRR1853183.Solo.out/Gene/Summary.csv',\n",
       " 'demultiplexed_dropseq_sub_whitelist/SRR1853184.Solo.out/Gene/Summary.csv']"
      ]
     },
     "execution_count": 105,
     "metadata": {},
     "output_type": "execute_result"
    }
   ],
   "source": [
    "sorted(glob.glob('demultiplexed_dropseq_sub_whitelist/*.Solo.out/Gene/Summary.csv'))"
   ]
  },
  {
   "cell_type": "code",
   "execution_count": 106,
   "metadata": {},
   "outputs": [],
   "source": [
    "metadata = []\n",
    "for filename in sorted(glob.glob('demultiplexed_dropseq_sub_whitelist/*.Solo.out/Gene/Summary.csv')):\n",
    "    x = pd.read_csv(filename, header=None, index_col = 0)\n",
    "    sample=filename.replace('demultiplexed_dropseq_sub_whitelist/SRR18531', '')\n",
    "    sample=sample.replace('.Solo.out/Gene/Summary.csv', '')\n",
    "    x.columns = [sample]\n",
    "    metadata.append(x)\n",
    "\n",
    "metadata = pd.concat(metadata, axis = 1)\n",
    "metadata = metadata.T\n",
    "metadata_dropseq = pd.DataFrame(pd.DataFrame([metadata.loc[x]*(metadata['Number of Reads']/metadata['Number of Reads'].sum())[x] for x in metadata.index]).sum()).T"
   ]
  },
  {
   "cell_type": "code",
   "execution_count": 107,
   "metadata": {},
   "outputs": [
    {
     "data": {
      "text/html": [
       "<div>\n",
       "<style scoped>\n",
       "    .dataframe tbody tr th:only-of-type {\n",
       "        vertical-align: middle;\n",
       "    }\n",
       "\n",
       "    .dataframe tbody tr th {\n",
       "        vertical-align: top;\n",
       "    }\n",
       "\n",
       "    .dataframe thead th {\n",
       "        text-align: right;\n",
       "    }\n",
       "</style>\n",
       "<table border=\"1\" class=\"dataframe\">\n",
       "  <thead>\n",
       "    <tr style=\"text-align: right;\">\n",
       "      <th></th>\n",
       "      <th>Number of Reads</th>\n",
       "      <th>Reads With Valid Barcodes</th>\n",
       "      <th>Sequencing Saturation</th>\n",
       "      <th>Q30 Bases in CB+UMI</th>\n",
       "      <th>Q30 Bases in RNA read</th>\n",
       "      <th>Reads Mapped to Genome: Unique+Multiple</th>\n",
       "      <th>Reads Mapped to Genome: Unique</th>\n",
       "      <th>Reads Mapped to Transcriptome: Unique+Multipe Genes</th>\n",
       "      <th>Reads Mapped to Transcriptome: Unique Genes</th>\n",
       "      <th>Estimated Number of Cells</th>\n",
       "      <th>Reads in Cells Mapped to Unique Genes</th>\n",
       "      <th>Fraction of Reads in Cells</th>\n",
       "      <th>Mean Reads per Cell</th>\n",
       "      <th>Median Reads per Cell</th>\n",
       "      <th>UMIs in Cells</th>\n",
       "      <th>Mean UMI per Cell</th>\n",
       "      <th>Median UMI per Cell</th>\n",
       "      <th>Mean Genes per Cell</th>\n",
       "      <th>Median Genes per Cell</th>\n",
       "      <th>Total Genes Detected</th>\n",
       "    </tr>\n",
       "  </thead>\n",
       "  <tbody>\n",
       "    <tr>\n",
       "      <th>0</th>\n",
       "      <td>3.889752e+08</td>\n",
       "      <td>0.508728</td>\n",
       "      <td>0.816593</td>\n",
       "      <td>0.789335</td>\n",
       "      <td>0.608234</td>\n",
       "      <td>0.512462</td>\n",
       "      <td>0.512462</td>\n",
       "      <td>0.215307</td>\n",
       "      <td>0.209268</td>\n",
       "      <td>2248.362475</td>\n",
       "      <td>5.286319e+07</td>\n",
       "      <td>0.639576</td>\n",
       "      <td>23464.277688</td>\n",
       "      <td>18007.207505</td>\n",
       "      <td>7.775748e+06</td>\n",
       "      <td>3479.485193</td>\n",
       "      <td>2585.81643</td>\n",
       "      <td>1817.198377</td>\n",
       "      <td>1548.095132</td>\n",
       "      <td>22049.154767</td>\n",
       "    </tr>\n",
       "  </tbody>\n",
       "</table>\n",
       "</div>"
      ],
      "text/plain": [
       "0  Number of Reads  Reads With Valid Barcodes  Sequencing Saturation  \\\n",
       "0     3.889752e+08                   0.508728               0.816593   \n",
       "\n",
       "0  Q30 Bases in CB+UMI  Q30 Bases in RNA read  \\\n",
       "0             0.789335               0.608234   \n",
       "\n",
       "0  Reads Mapped to Genome: Unique+Multiple  Reads Mapped to Genome: Unique  \\\n",
       "0                                 0.512462                        0.512462   \n",
       "\n",
       "0  Reads Mapped to Transcriptome: Unique+Multipe Genes  \\\n",
       "0                                           0.215307     \n",
       "\n",
       "0  Reads Mapped to Transcriptome: Unique Genes  Estimated Number of Cells  \\\n",
       "0                                     0.209268                2248.362475   \n",
       "\n",
       "0  Reads in Cells Mapped to Unique Genes  Fraction of Reads in Cells  \\\n",
       "0                           5.286319e+07                    0.639576   \n",
       "\n",
       "0  Mean Reads per Cell  Median Reads per Cell  UMIs in Cells  \\\n",
       "0         23464.277688           18007.207505   7.775748e+06   \n",
       "\n",
       "0  Mean UMI per Cell  Median UMI per Cell  Mean Genes per Cell  \\\n",
       "0        3479.485193           2585.81643          1817.198377   \n",
       "\n",
       "0  Median Genes per Cell  Total Genes Detected  \n",
       "0            1548.095132          22049.154767  "
      ]
     },
     "execution_count": 107,
     "metadata": {},
     "output_type": "execute_result"
    }
   ],
   "source": [
    "metadata_dropseq"
   ]
  },
  {
   "cell_type": "code",
   "execution_count": 110,
   "metadata": {},
   "outputs": [
    {
     "data": {
      "text/plain": [
       "2599983400.0"
      ]
     },
     "execution_count": 110,
     "metadata": {},
     "output_type": "execute_result"
    }
   ],
   "source": [
    "metadata['Number of Reads'].sum()"
   ]
  },
  {
   "cell_type": "code",
   "execution_count": 109,
   "metadata": {},
   "outputs": [
    {
     "data": {
      "image/png": "[encoded data removed]",
      "text/plain": [
       "<Figure size 1440x1152 with 20 Axes>"
      ]
     },
     "metadata": {},
     "output_type": "display_data"
    }
   ],
   "source": [
    "fig, axes =plt.subplots(5,4, figsize=(20,16))\n",
    "axes = axes.flatten()\n",
    "for statistic in range(0,metadata.shape[1]):\n",
    "    sns.barplot(y = metadata[metadata.columns[statistic]], \n",
    "                x = metadata.index,\n",
    "                ax = axes[statistic]\n",
    "               ).set_title(metadata.columns[statistic])\n",
    "    axes[statistic].set_ylabel('')\n",
    "    # axes[statistic].get_xaxis().set_ticklabels([])\n",
    "\n",
    "plt.tight_layout()\n",
    "plt.gcf()\n",
    "plt.savefig('plts_python/dropseq_starsoloqc.png', dpi=150)\n",
    "plt.show()\n",
    "plt.close()"
   ]
  },
  {
   "cell_type": "markdown",
   "metadata": {},
   "source": [
    "## inDrop"
   ]
  },
  {
   "cell_type": "code",
   "execution_count": 111,
   "metadata": {},
   "outputs": [],
   "source": [
    "metadata = []\n",
    "for filename in ['demultiplexed_indrop_index/merged.Solo.out/Gene/Summary.csv']:\n",
    "    x = pd.read_csv(filename, header=None, index_col = 0)\n",
    "    x.columns = ['inDrop']\n",
    "    metadata.append(x)\n",
    "\n",
    "metadata = pd.concat(metadata, axis = 1)\n",
    "metadata = metadata.T\n",
    "metadata_indrop = pd.DataFrame(pd.DataFrame([metadata.loc[x]*(metadata['Number of Reads']/metadata['Number of Reads'].sum())[x] for x in metadata.index]).sum()).T"
   ]
  },
  {
   "cell_type": "code",
   "execution_count": 112,
   "metadata": {},
   "outputs": [
    {
     "data": {
      "text/html": [
       "<div>\n",
       "<style scoped>\n",
       "    .dataframe tbody tr th:only-of-type {\n",
       "        vertical-align: middle;\n",
       "    }\n",
       "\n",
       "    .dataframe tbody tr th {\n",
       "        vertical-align: top;\n",
       "    }\n",
       "\n",
       "    .dataframe thead th {\n",
       "        text-align: right;\n",
       "    }\n",
       "</style>\n",
       "<table border=\"1\" class=\"dataframe\">\n",
       "  <thead>\n",
       "    <tr style=\"text-align: right;\">\n",
       "      <th></th>\n",
       "      <th>Number of Reads</th>\n",
       "      <th>Reads With Valid Barcodes</th>\n",
       "      <th>Sequencing Saturation</th>\n",
       "      <th>Q30 Bases in CB+UMI</th>\n",
       "      <th>Q30 Bases in RNA read</th>\n",
       "      <th>Reads Mapped to Genome: Unique+Multiple</th>\n",
       "      <th>Reads Mapped to Genome: Unique</th>\n",
       "      <th>Reads Mapped to Transcriptome: Unique+Multipe Genes</th>\n",
       "      <th>Reads Mapped to Transcriptome: Unique Genes</th>\n",
       "      <th>Estimated Number of Cells</th>\n",
       "      <th>Reads in Cells Mapped to Unique Genes</th>\n",
       "      <th>Fraction of Reads in Cells</th>\n",
       "      <th>Mean Reads per Cell</th>\n",
       "      <th>Median Reads per Cell</th>\n",
       "      <th>UMIs in Cells</th>\n",
       "      <th>Mean UMI per Cell</th>\n",
       "      <th>Median UMI per Cell</th>\n",
       "      <th>Mean Genes per Cell</th>\n",
       "      <th>Median Genes per Cell</th>\n",
       "      <th>Total Genes Detected</th>\n",
       "    </tr>\n",
       "  </thead>\n",
       "  <tbody>\n",
       "    <tr>\n",
       "      <th>0</th>\n",
       "      <td>1.428898e+09</td>\n",
       "      <td>0.397455</td>\n",
       "      <td>0.728477</td>\n",
       "      <td>0.792105</td>\n",
       "      <td>0.760707</td>\n",
       "      <td>0.478757</td>\n",
       "      <td>0.478757</td>\n",
       "      <td>0.271843</td>\n",
       "      <td>0.264754</td>\n",
       "      <td>13745.0</td>\n",
       "      <td>198343219.0</td>\n",
       "      <td>0.524293</td>\n",
       "      <td>14430.0</td>\n",
       "      <td>12198.0</td>\n",
       "      <td>49900670.0</td>\n",
       "      <td>3630.0</td>\n",
       "      <td>3117.0</td>\n",
       "      <td>2059.0</td>\n",
       "      <td>1905.0</td>\n",
       "      <td>23758.0</td>\n",
       "    </tr>\n",
       "  </tbody>\n",
       "</table>\n",
       "</div>"
      ],
      "text/plain": [
       "0  Number of Reads  Reads With Valid Barcodes  Sequencing Saturation  \\\n",
       "0     1.428898e+09                   0.397455               0.728477   \n",
       "\n",
       "0  Q30 Bases in CB+UMI  Q30 Bases in RNA read  \\\n",
       "0             0.792105               0.760707   \n",
       "\n",
       "0  Reads Mapped to Genome: Unique+Multiple  Reads Mapped to Genome: Unique  \\\n",
       "0                                 0.478757                        0.478757   \n",
       "\n",
       "0  Reads Mapped to Transcriptome: Unique+Multipe Genes  \\\n",
       "0                                           0.271843     \n",
       "\n",
       "0  Reads Mapped to Transcriptome: Unique Genes  Estimated Number of Cells  \\\n",
       "0                                     0.264754                    13745.0   \n",
       "\n",
       "0  Reads in Cells Mapped to Unique Genes  Fraction of Reads in Cells  \\\n",
       "0                            198343219.0                    0.524293   \n",
       "\n",
       "0  Mean Reads per Cell  Median Reads per Cell  UMIs in Cells  \\\n",
       "0              14430.0                12198.0     49900670.0   \n",
       "\n",
       "0  Mean UMI per Cell  Median UMI per Cell  Mean Genes per Cell  \\\n",
       "0             3630.0               3117.0               2059.0   \n",
       "\n",
       "0  Median Genes per Cell  Total Genes Detected  \n",
       "0                 1905.0               23758.0  "
      ]
     },
     "execution_count": 112,
     "metadata": {},
     "output_type": "execute_result"
    }
   ],
   "source": [
    "metadata_indrop"
   ]
  },
  {
   "cell_type": "code",
   "execution_count": 113,
   "metadata": {},
   "outputs": [
    {
     "data": {
      "text/plain": [
       "1428898458"
      ]
     },
     "execution_count": 113,
     "metadata": {},
     "output_type": "execute_result"
    }
   ],
   "source": [
    "int(metadata_indrop['Number of Reads'])"
   ]
  },
  {
   "cell_type": "markdown",
   "metadata": {},
   "source": [
    "# 10x"
   ]
  },
  {
   "cell_type": "code",
   "execution_count": 114,
   "metadata": {},
   "outputs": [],
   "source": [
    "metadata = []\n",
    "for filename in ['10x/nuclei_2k_metrics_summary.csv']:\n",
    "    x = pd.read_csv(filename, header=0, sep=',')\n",
    "    x.rename(index={0: '10x 2k Nuclei'}, inplace=True) \n",
    "    metadata.append(x)\n",
    "\n",
    "metadata = pd.concat(metadata, axis = 1)\n",
    "metadata_10x_2k = metadata"
   ]
  },
  {
   "cell_type": "code",
   "execution_count": 115,
   "metadata": {},
   "outputs": [
    {
     "data": {
      "text/html": [
       "<div>\n",
       "<style scoped>\n",
       "    .dataframe tbody tr th:only-of-type {\n",
       "        vertical-align: middle;\n",
       "    }\n",
       "\n",
       "    .dataframe tbody tr th {\n",
       "        vertical-align: top;\n",
       "    }\n",
       "\n",
       "    .dataframe thead th {\n",
       "        text-align: right;\n",
       "    }\n",
       "</style>\n",
       "<table border=\"1\" class=\"dataframe\">\n",
       "  <thead>\n",
       "    <tr style=\"text-align: right;\">\n",
       "      <th></th>\n",
       "      <th>Estimated Number of Cells</th>\n",
       "      <th>Mean Reads per Cell</th>\n",
       "      <th>Median Genes per Cell</th>\n",
       "      <th>Number of Reads</th>\n",
       "      <th>Valid Barcodes</th>\n",
       "      <th>Sequencing Saturation</th>\n",
       "      <th>Q30 Bases in Barcode</th>\n",
       "      <th>Q30 Bases in RNA Read</th>\n",
       "      <th>Q30 Bases in Sample Index</th>\n",
       "      <th>Q30 Bases in UMI</th>\n",
       "      <th>Reads Mapped to Genome</th>\n",
       "      <th>Reads Mapped Confidently to Genome</th>\n",
       "      <th>Reads Mapped Confidently to Intergenic Regions</th>\n",
       "      <th>Reads Mapped Confidently to Intronic Regions</th>\n",
       "      <th>Reads Mapped Confidently to Exonic Regions</th>\n",
       "      <th>Reads Mapped Confidently to Transcriptome</th>\n",
       "      <th>Reads Mapped Antisense to Gene</th>\n",
       "      <th>Fraction Reads in Cells</th>\n",
       "      <th>Total Genes Detected</th>\n",
       "      <th>Median UMI Counts per Cell</th>\n",
       "    </tr>\n",
       "  </thead>\n",
       "  <tbody>\n",
       "    <tr>\n",
       "      <th>10x 2k Nuclei</th>\n",
       "      <td>2352</td>\n",
       "      <td>50485</td>\n",
       "      <td>775</td>\n",
       "      <td>118742315</td>\n",
       "      <td>0.974</td>\n",
       "      <td>0.833</td>\n",
       "      <td>0.983</td>\n",
       "      <td>0.679</td>\n",
       "      <td>0.94</td>\n",
       "      <td>0.981</td>\n",
       "      <td>0.811</td>\n",
       "      <td>0.793</td>\n",
       "      <td>0.069</td>\n",
       "      <td>0.46</td>\n",
       "      <td>0.263</td>\n",
       "      <td>0.235</td>\n",
       "      <td>0.019</td>\n",
       "      <td>0.7</td>\n",
       "      <td>17059</td>\n",
       "      <td>1127</td>\n",
       "    </tr>\n",
       "  </tbody>\n",
       "</table>\n",
       "</div>"
      ],
      "text/plain": [
       "               Estimated Number of Cells  Mean Reads per Cell  \\\n",
       "10x 2k Nuclei                       2352                50485   \n",
       "\n",
       "               Median Genes per Cell  Number of Reads  Valid Barcodes  \\\n",
       "10x 2k Nuclei                    775        118742315           0.974   \n",
       "\n",
       "               Sequencing Saturation  Q30 Bases in Barcode  \\\n",
       "10x 2k Nuclei                  0.833                 0.983   \n",
       "\n",
       "               Q30 Bases in RNA Read  Q30 Bases in Sample Index  \\\n",
       "10x 2k Nuclei                  0.679                       0.94   \n",
       "\n",
       "               Q30 Bases in UMI  Reads Mapped to Genome  \\\n",
       "10x 2k Nuclei             0.981                   0.811   \n",
       "\n",
       "               Reads Mapped Confidently to Genome  \\\n",
       "10x 2k Nuclei                               0.793   \n",
       "\n",
       "               Reads Mapped Confidently to Intergenic Regions  \\\n",
       "10x 2k Nuclei                                           0.069   \n",
       "\n",
       "               Reads Mapped Confidently to Intronic Regions  \\\n",
       "10x 2k Nuclei                                          0.46   \n",
       "\n",
       "               Reads Mapped Confidently to Exonic Regions  \\\n",
       "10x 2k Nuclei                                       0.263   \n",
       "\n",
       "               Reads Mapped Confidently to Transcriptome  \\\n",
       "10x 2k Nuclei                                      0.235   \n",
       "\n",
       "               Reads Mapped Antisense to Gene  Fraction Reads in Cells  \\\n",
       "10x 2k Nuclei                           0.019                      0.7   \n",
       "\n",
       "               Total Genes Detected  Median UMI Counts per Cell  \n",
       "10x 2k Nuclei                 17059                        1127  "
      ]
     },
     "execution_count": 115,
     "metadata": {},
     "output_type": "execute_result"
    }
   ],
   "source": [
    "x"
   ]
  },
  {
   "cell_type": "code",
   "execution_count": 116,
   "metadata": {},
   "outputs": [],
   "source": [
    "metadata_10x_2k.columns = ['Estimated Number of Cells', 'Mean Reads per Cell',\n",
    "       'Median Genes per Cell', 'Number of Reads', 'Reads With Valid Barcodes',\n",
    "       'Sequencing Saturation', 'Q30 Bases in CB+UMI',\n",
    "       'Q30 Bases in RNA read', 'Q30 Bases in Sample Index',\n",
    "       'Q30 Bases in UMI', 'Reads Mapped to Genome: Unique+Multiple',\n",
    "       'Reads Mapped to Genome: Unique',\n",
    "       'Reads Mapped Confidently to Intergenic Regions',\n",
    "       'Reads Mapped Confidently to Intronic Regions',\n",
    "       'Reads Mapped Confidently to Exonic Regions',\n",
    "       'Reads Mapped to Transcriptome: Unique Genes',\n",
    "       'Reads Mapped Antisense to Gene', 'Fraction of Reads in Cells',\n",
    "       'Total Genes Detected', 'Median UMI per Cell']"
   ]
  },
  {
   "cell_type": "code",
   "execution_count": 117,
   "metadata": {},
   "outputs": [
    {
     "data": {
      "text/html": [
       "<div>\n",
       "<style scoped>\n",
       "    .dataframe tbody tr th:only-of-type {\n",
       "        vertical-align: middle;\n",
       "    }\n",
       "\n",
       "    .dataframe tbody tr th {\n",
       "        vertical-align: top;\n",
       "    }\n",
       "\n",
       "    .dataframe thead th {\n",
       "        text-align: right;\n",
       "    }\n",
       "</style>\n",
       "<table border=\"1\" class=\"dataframe\">\n",
       "  <thead>\n",
       "    <tr style=\"text-align: right;\">\n",
       "      <th></th>\n",
       "      <th>Estimated Number of Cells</th>\n",
       "      <th>Mean Reads per Cell</th>\n",
       "      <th>Median Genes per Cell</th>\n",
       "      <th>Number of Reads</th>\n",
       "      <th>Reads With Valid Barcodes</th>\n",
       "      <th>Sequencing Saturation</th>\n",
       "      <th>Q30 Bases in CB+UMI</th>\n",
       "      <th>Q30 Bases in RNA read</th>\n",
       "      <th>Q30 Bases in Sample Index</th>\n",
       "      <th>Q30 Bases in UMI</th>\n",
       "      <th>Reads Mapped to Genome: Unique+Multiple</th>\n",
       "      <th>Reads Mapped to Genome: Unique</th>\n",
       "      <th>Reads Mapped Confidently to Intergenic Regions</th>\n",
       "      <th>Reads Mapped Confidently to Intronic Regions</th>\n",
       "      <th>Reads Mapped Confidently to Exonic Regions</th>\n",
       "      <th>Reads Mapped to Transcriptome: Unique Genes</th>\n",
       "      <th>Reads Mapped Antisense to Gene</th>\n",
       "      <th>Fraction of Reads in Cells</th>\n",
       "      <th>Total Genes Detected</th>\n",
       "      <th>Median UMI per Cell</th>\n",
       "    </tr>\n",
       "  </thead>\n",
       "  <tbody>\n",
       "    <tr>\n",
       "      <th>10x 2k Nuclei</th>\n",
       "      <td>2352</td>\n",
       "      <td>50485</td>\n",
       "      <td>775</td>\n",
       "      <td>118742315</td>\n",
       "      <td>0.974</td>\n",
       "      <td>0.833</td>\n",
       "      <td>0.983</td>\n",
       "      <td>0.679</td>\n",
       "      <td>0.94</td>\n",
       "      <td>0.981</td>\n",
       "      <td>0.811</td>\n",
       "      <td>0.793</td>\n",
       "      <td>0.069</td>\n",
       "      <td>0.46</td>\n",
       "      <td>0.263</td>\n",
       "      <td>0.235</td>\n",
       "      <td>0.019</td>\n",
       "      <td>0.7</td>\n",
       "      <td>17059</td>\n",
       "      <td>1127</td>\n",
       "    </tr>\n",
       "  </tbody>\n",
       "</table>\n",
       "</div>"
      ],
      "text/plain": [
       "               Estimated Number of Cells  Mean Reads per Cell  \\\n",
       "10x 2k Nuclei                       2352                50485   \n",
       "\n",
       "               Median Genes per Cell  Number of Reads  \\\n",
       "10x 2k Nuclei                    775        118742315   \n",
       "\n",
       "               Reads With Valid Barcodes  Sequencing Saturation  \\\n",
       "10x 2k Nuclei                      0.974                  0.833   \n",
       "\n",
       "               Q30 Bases in CB+UMI  Q30 Bases in RNA read  \\\n",
       "10x 2k Nuclei                0.983                  0.679   \n",
       "\n",
       "               Q30 Bases in Sample Index  Q30 Bases in UMI  \\\n",
       "10x 2k Nuclei                       0.94             0.981   \n",
       "\n",
       "               Reads Mapped to Genome: Unique+Multiple  \\\n",
       "10x 2k Nuclei                                    0.811   \n",
       "\n",
       "               Reads Mapped to Genome: Unique  \\\n",
       "10x 2k Nuclei                           0.793   \n",
       "\n",
       "               Reads Mapped Confidently to Intergenic Regions  \\\n",
       "10x 2k Nuclei                                           0.069   \n",
       "\n",
       "               Reads Mapped Confidently to Intronic Regions  \\\n",
       "10x 2k Nuclei                                          0.46   \n",
       "\n",
       "               Reads Mapped Confidently to Exonic Regions  \\\n",
       "10x 2k Nuclei                                       0.263   \n",
       "\n",
       "               Reads Mapped to Transcriptome: Unique Genes  \\\n",
       "10x 2k Nuclei                                        0.235   \n",
       "\n",
       "               Reads Mapped Antisense to Gene  Fraction of Reads in Cells  \\\n",
       "10x 2k Nuclei                           0.019                         0.7   \n",
       "\n",
       "               Total Genes Detected  Median UMI per Cell  \n",
       "10x 2k Nuclei                 17059                 1127  "
      ]
     },
     "execution_count": 117,
     "metadata": {},
     "output_type": "execute_result"
    }
   ],
   "source": [
    "metadata_10x_2k"
   ]
  },
  {
   "cell_type": "code",
   "execution_count": 118,
   "metadata": {},
   "outputs": [
    {
     "data": {
      "text/plain": [
       "10x 2k Nuclei    50485.678146\n",
       "dtype: float64"
      ]
     },
     "execution_count": 118,
     "metadata": {},
     "output_type": "execute_result"
    }
   ],
   "source": [
    "metadata_10x_2k['Number of Reads']/metadata_10x_2k['Estimated Number of Cells']"
   ]
  },
  {
   "cell_type": "code",
   "execution_count": 119,
   "metadata": {},
   "outputs": [],
   "source": [
    "metadata = []\n",
    "for filename in ['10x/nuclei_900_metrics_summary.csv']:\n",
    "    x = pd.read_csv(filename, header=0, index_col = None)\n",
    "    x.rename(index={0: '10x 900 Nuclei'}, inplace=True) \n",
    "    metadata.append(x)\n",
    "\n",
    "metadata = pd.concat(metadata, axis = 1)\n",
    "metadata_10x_900 = metadata"
   ]
  },
  {
   "cell_type": "code",
   "execution_count": 120,
   "metadata": {},
   "outputs": [],
   "source": [
    "metadata_10x_900.columns = ['Estimated Number of Cells', 'Mean Reads per Cell',\n",
    "       'Median Genes per Cell', 'Number of Reads', 'Reads With Valid Barcodes',\n",
    "       'Sequencing Saturation', 'Q30 Bases in CB+UMI',\n",
    "       'Q30 Bases in RNA read', 'Q30 Bases in Sample Index',\n",
    "       'Q30 Bases in UMI', 'Reads Mapped to Genome: Unique+Multiple',\n",
    "       'Reads Mapped to Genome: Unique',\n",
    "       'Reads Mapped Confidently to Intergenic Regions',\n",
    "       'Reads Mapped Confidently to Intronic Regions',\n",
    "       'Reads Mapped Confidently to Exonic Regions',\n",
    "       'Reads Mapped to Transcriptome: Unique Genes',\n",
    "       'Reads Mapped Antisense to Gene', 'Fraction of Reads in Cells',\n",
    "       'Total Genes Detected', 'Median UMI per Cell']"
   ]
  },
  {
   "cell_type": "code",
   "execution_count": 121,
   "metadata": {},
   "outputs": [
    {
     "data": {
      "text/html": [
       "<div>\n",
       "<style scoped>\n",
       "    .dataframe tbody tr th:only-of-type {\n",
       "        vertical-align: middle;\n",
       "    }\n",
       "\n",
       "    .dataframe tbody tr th {\n",
       "        vertical-align: top;\n",
       "    }\n",
       "\n",
       "    .dataframe thead th {\n",
       "        text-align: right;\n",
       "    }\n",
       "</style>\n",
       "<table border=\"1\" class=\"dataframe\">\n",
       "  <thead>\n",
       "    <tr style=\"text-align: right;\">\n",
       "      <th></th>\n",
       "      <th>Estimated Number of Cells</th>\n",
       "      <th>Mean Reads per Cell</th>\n",
       "      <th>Median Genes per Cell</th>\n",
       "      <th>Number of Reads</th>\n",
       "      <th>Reads With Valid Barcodes</th>\n",
       "      <th>Sequencing Saturation</th>\n",
       "      <th>Q30 Bases in CB+UMI</th>\n",
       "      <th>Q30 Bases in RNA read</th>\n",
       "      <th>Q30 Bases in Sample Index</th>\n",
       "      <th>Q30 Bases in UMI</th>\n",
       "      <th>Reads Mapped to Genome: Unique+Multiple</th>\n",
       "      <th>Reads Mapped to Genome: Unique</th>\n",
       "      <th>Reads Mapped Confidently to Intergenic Regions</th>\n",
       "      <th>Reads Mapped Confidently to Intronic Regions</th>\n",
       "      <th>Reads Mapped Confidently to Exonic Regions</th>\n",
       "      <th>Reads Mapped to Transcriptome: Unique Genes</th>\n",
       "      <th>Reads Mapped Antisense to Gene</th>\n",
       "      <th>Fraction of Reads in Cells</th>\n",
       "      <th>Total Genes Detected</th>\n",
       "      <th>Median UMI per Cell</th>\n",
       "    </tr>\n",
       "  </thead>\n",
       "  <tbody>\n",
       "    <tr>\n",
       "      <th>10x 900 Nuclei</th>\n",
       "      <td>954</td>\n",
       "      <td>51267</td>\n",
       "      <td>2592</td>\n",
       "      <td>48909315</td>\n",
       "      <td>0.982</td>\n",
       "      <td>0.529</td>\n",
       "      <td>0.973</td>\n",
       "      <td>0.865</td>\n",
       "      <td>0.945</td>\n",
       "      <td>0.977</td>\n",
       "      <td>0.946</td>\n",
       "      <td>0.894</td>\n",
       "      <td>0.036</td>\n",
       "      <td>0.178</td>\n",
       "      <td>0.68</td>\n",
       "      <td>0.653</td>\n",
       "      <td>0.013</td>\n",
       "      <td>0.691</td>\n",
       "      <td>15576</td>\n",
       "      <td>7748</td>\n",
       "    </tr>\n",
       "  </tbody>\n",
       "</table>\n",
       "</div>"
      ],
      "text/plain": [
       "                Estimated Number of Cells  Mean Reads per Cell  \\\n",
       "10x 900 Nuclei                        954                51267   \n",
       "\n",
       "                Median Genes per Cell  Number of Reads  \\\n",
       "10x 900 Nuclei                   2592         48909315   \n",
       "\n",
       "                Reads With Valid Barcodes  Sequencing Saturation  \\\n",
       "10x 900 Nuclei                      0.982                  0.529   \n",
       "\n",
       "                Q30 Bases in CB+UMI  Q30 Bases in RNA read  \\\n",
       "10x 900 Nuclei                0.973                  0.865   \n",
       "\n",
       "                Q30 Bases in Sample Index  Q30 Bases in UMI  \\\n",
       "10x 900 Nuclei                      0.945             0.977   \n",
       "\n",
       "                Reads Mapped to Genome: Unique+Multiple  \\\n",
       "10x 900 Nuclei                                    0.946   \n",
       "\n",
       "                Reads Mapped to Genome: Unique  \\\n",
       "10x 900 Nuclei                           0.894   \n",
       "\n",
       "                Reads Mapped Confidently to Intergenic Regions  \\\n",
       "10x 900 Nuclei                                           0.036   \n",
       "\n",
       "                Reads Mapped Confidently to Intronic Regions  \\\n",
       "10x 900 Nuclei                                         0.178   \n",
       "\n",
       "                Reads Mapped Confidently to Exonic Regions  \\\n",
       "10x 900 Nuclei                                        0.68   \n",
       "\n",
       "                Reads Mapped to Transcriptome: Unique Genes  \\\n",
       "10x 900 Nuclei                                        0.653   \n",
       "\n",
       "                Reads Mapped Antisense to Gene  Fraction of Reads in Cells  \\\n",
       "10x 900 Nuclei                           0.013                       0.691   \n",
       "\n",
       "                Total Genes Detected  Median UMI per Cell  \n",
       "10x 900 Nuclei                 15576                 7748  "
      ]
     },
     "execution_count": 121,
     "metadata": {},
     "output_type": "execute_result"
    }
   ],
   "source": [
    "metadata_10x_900"
   ]
  },
  {
   "cell_type": "code",
   "execution_count": 122,
   "metadata": {},
   "outputs": [
    {
     "data": {
      "text/plain": [
       "10x 900 Nuclei    51267.625786\n",
       "dtype: float64"
      ]
     },
     "execution_count": 122,
     "metadata": {},
     "output_type": "execute_result"
    }
   ],
   "source": [
    "metadata_10x_900['Number of Reads']/metadata_10x_900['Estimated Number of Cells']"
   ]
  },
  {
   "cell_type": "markdown",
   "metadata": {},
   "source": [
    "# Merge"
   ]
  },
  {
   "cell_type": "code",
   "execution_count": 123,
   "metadata": {},
   "outputs": [],
   "source": [
    "metadata_dropseq.name = 'Drop-seq'\n",
    "metadata_hydrop.name = 'HyDrop'"
   ]
  },
  {
   "cell_type": "code",
   "execution_count": 124,
   "metadata": {},
   "outputs": [],
   "source": [
    "metadata_all = pd.DataFrame()\n",
    "metadata_all = metadata_all.append(metadata_indrop)\n",
    "metadata_all = metadata_all.append(metadata_dropseq)\n",
    "metadata_all = metadata_all.append(metadata_hydrop)\n",
    "metadata_all = metadata_all.append(metadata_10x_900)\n",
    "metadata_all = metadata_all.append(metadata_10x_2k)"
   ]
  },
  {
   "cell_type": "code",
   "execution_count": 125,
   "metadata": {},
   "outputs": [
    {
     "data": {
      "text/html": [
       "<div>\n",
       "<style scoped>\n",
       "    .dataframe tbody tr th:only-of-type {\n",
       "        vertical-align: middle;\n",
       "    }\n",
       "\n",
       "    .dataframe tbody tr th {\n",
       "        vertical-align: top;\n",
       "    }\n",
       "\n",
       "    .dataframe thead th {\n",
       "        text-align: right;\n",
       "    }\n",
       "</style>\n",
       "<table border=\"1\" class=\"dataframe\">\n",
       "  <thead>\n",
       "    <tr style=\"text-align: right;\">\n",
       "      <th></th>\n",
       "      <th>Number of Reads</th>\n",
       "      <th>Reads With Valid Barcodes</th>\n",
       "      <th>Sequencing Saturation</th>\n",
       "      <th>Q30 Bases in CB+UMI</th>\n",
       "      <th>Q30 Bases in RNA read</th>\n",
       "      <th>Reads Mapped to Genome: Unique+Multiple</th>\n",
       "      <th>Reads Mapped to Genome: Unique</th>\n",
       "      <th>Reads Mapped to Transcriptome: Unique+Multipe Genes</th>\n",
       "      <th>Reads Mapped to Transcriptome: Unique Genes</th>\n",
       "      <th>Estimated Number of Cells</th>\n",
       "      <th>...</th>\n",
       "      <th>Median UMI per Cell</th>\n",
       "      <th>Mean Genes per Cell</th>\n",
       "      <th>Median Genes per Cell</th>\n",
       "      <th>Total Genes Detected</th>\n",
       "      <th>Q30 Bases in Sample Index</th>\n",
       "      <th>Q30 Bases in UMI</th>\n",
       "      <th>Reads Mapped Confidently to Intergenic Regions</th>\n",
       "      <th>Reads Mapped Confidently to Intronic Regions</th>\n",
       "      <th>Reads Mapped Confidently to Exonic Regions</th>\n",
       "      <th>Reads Mapped Antisense to Gene</th>\n",
       "    </tr>\n",
       "  </thead>\n",
       "  <tbody>\n",
       "    <tr>\n",
       "      <th>0</th>\n",
       "      <td>1.428898e+09</td>\n",
       "      <td>0.397455</td>\n",
       "      <td>0.728477</td>\n",
       "      <td>0.792105</td>\n",
       "      <td>0.760707</td>\n",
       "      <td>0.478757</td>\n",
       "      <td>0.478757</td>\n",
       "      <td>0.271843</td>\n",
       "      <td>0.264754</td>\n",
       "      <td>13745.000000</td>\n",
       "      <td>...</td>\n",
       "      <td>3117.000000</td>\n",
       "      <td>2059.000000</td>\n",
       "      <td>1905.000000</td>\n",
       "      <td>23758.000000</td>\n",
       "      <td>NaN</td>\n",
       "      <td>NaN</td>\n",
       "      <td>NaN</td>\n",
       "      <td>NaN</td>\n",
       "      <td>NaN</td>\n",
       "      <td>NaN</td>\n",
       "    </tr>\n",
       "    <tr>\n",
       "      <th>0</th>\n",
       "      <td>3.889752e+08</td>\n",
       "      <td>0.508728</td>\n",
       "      <td>0.816593</td>\n",
       "      <td>0.789335</td>\n",
       "      <td>0.608234</td>\n",
       "      <td>0.512462</td>\n",
       "      <td>0.512462</td>\n",
       "      <td>0.215307</td>\n",
       "      <td>0.209268</td>\n",
       "      <td>2248.362475</td>\n",
       "      <td>...</td>\n",
       "      <td>2585.816430</td>\n",
       "      <td>1817.198377</td>\n",
       "      <td>1548.095132</td>\n",
       "      <td>22049.154767</td>\n",
       "      <td>NaN</td>\n",
       "      <td>NaN</td>\n",
       "      <td>NaN</td>\n",
       "      <td>NaN</td>\n",
       "      <td>NaN</td>\n",
       "      <td>NaN</td>\n",
       "    </tr>\n",
       "    <tr>\n",
       "      <th>0</th>\n",
       "      <td>2.562521e+08</td>\n",
       "      <td>0.830432</td>\n",
       "      <td>0.608409</td>\n",
       "      <td>0.777582</td>\n",
       "      <td>0.952736</td>\n",
       "      <td>0.859453</td>\n",
       "      <td>0.859453</td>\n",
       "      <td>0.563824</td>\n",
       "      <td>0.554999</td>\n",
       "      <td>4825.126598</td>\n",
       "      <td>...</td>\n",
       "      <td>3382.937287</td>\n",
       "      <td>1746.418623</td>\n",
       "      <td>1656.681417</td>\n",
       "      <td>21594.779919</td>\n",
       "      <td>NaN</td>\n",
       "      <td>NaN</td>\n",
       "      <td>NaN</td>\n",
       "      <td>NaN</td>\n",
       "      <td>NaN</td>\n",
       "      <td>NaN</td>\n",
       "    </tr>\n",
       "    <tr>\n",
       "      <th>10x 900 Nuclei</th>\n",
       "      <td>4.890932e+07</td>\n",
       "      <td>0.982000</td>\n",
       "      <td>0.529000</td>\n",
       "      <td>0.973000</td>\n",
       "      <td>0.865000</td>\n",
       "      <td>0.946000</td>\n",
       "      <td>0.894000</td>\n",
       "      <td>NaN</td>\n",
       "      <td>0.653000</td>\n",
       "      <td>954.000000</td>\n",
       "      <td>...</td>\n",
       "      <td>7748.000000</td>\n",
       "      <td>NaN</td>\n",
       "      <td>2592.000000</td>\n",
       "      <td>15576.000000</td>\n",
       "      <td>0.945</td>\n",
       "      <td>0.977</td>\n",
       "      <td>0.036</td>\n",
       "      <td>0.178</td>\n",
       "      <td>0.680</td>\n",
       "      <td>0.013</td>\n",
       "    </tr>\n",
       "    <tr>\n",
       "      <th>10x 2k Nuclei</th>\n",
       "      <td>1.187423e+08</td>\n",
       "      <td>0.974000</td>\n",
       "      <td>0.833000</td>\n",
       "      <td>0.983000</td>\n",
       "      <td>0.679000</td>\n",
       "      <td>0.811000</td>\n",
       "      <td>0.793000</td>\n",
       "      <td>NaN</td>\n",
       "      <td>0.235000</td>\n",
       "      <td>2352.000000</td>\n",
       "      <td>...</td>\n",
       "      <td>1127.000000</td>\n",
       "      <td>NaN</td>\n",
       "      <td>775.000000</td>\n",
       "      <td>17059.000000</td>\n",
       "      <td>0.940</td>\n",
       "      <td>0.981</td>\n",
       "      <td>0.069</td>\n",
       "      <td>0.460</td>\n",
       "      <td>0.263</td>\n",
       "      <td>0.019</td>\n",
       "    </tr>\n",
       "  </tbody>\n",
       "</table>\n",
       "<p>5 rows × 26 columns</p>\n",
       "</div>"
      ],
      "text/plain": [
       "                Number of Reads  Reads With Valid Barcodes  \\\n",
       "0                  1.428898e+09                   0.397455   \n",
       "0                  3.889752e+08                   0.508728   \n",
       "0                  2.562521e+08                   0.830432   \n",
       "10x 900 Nuclei     4.890932e+07                   0.982000   \n",
       "10x 2k Nuclei      1.187423e+08                   0.974000   \n",
       "\n",
       "                Sequencing Saturation  Q30 Bases in CB+UMI  \\\n",
       "0                            0.728477             0.792105   \n",
       "0                            0.816593             0.789335   \n",
       "0                            0.608409             0.777582   \n",
       "10x 900 Nuclei               0.529000             0.973000   \n",
       "10x 2k Nuclei                0.833000             0.983000   \n",
       "\n",
       "                Q30 Bases in RNA read  \\\n",
       "0                            0.760707   \n",
       "0                            0.608234   \n",
       "0                            0.952736   \n",
       "10x 900 Nuclei               0.865000   \n",
       "10x 2k Nuclei                0.679000   \n",
       "\n",
       "                Reads Mapped to Genome: Unique+Multiple  \\\n",
       "0                                              0.478757   \n",
       "0                                              0.512462   \n",
       "0                                              0.859453   \n",
       "10x 900 Nuclei                                 0.946000   \n",
       "10x 2k Nuclei                                  0.811000   \n",
       "\n",
       "                Reads Mapped to Genome: Unique  \\\n",
       "0                                     0.478757   \n",
       "0                                     0.512462   \n",
       "0                                     0.859453   \n",
       "10x 900 Nuclei                        0.894000   \n",
       "10x 2k Nuclei                         0.793000   \n",
       "\n",
       "                Reads Mapped to Transcriptome: Unique+Multipe Genes  \\\n",
       "0                                                        0.271843     \n",
       "0                                                        0.215307     \n",
       "0                                                        0.563824     \n",
       "10x 900 Nuclei                                                NaN     \n",
       "10x 2k Nuclei                                                 NaN     \n",
       "\n",
       "                Reads Mapped to Transcriptome: Unique Genes  \\\n",
       "0                                                  0.264754   \n",
       "0                                                  0.209268   \n",
       "0                                                  0.554999   \n",
       "10x 900 Nuclei                                     0.653000   \n",
       "10x 2k Nuclei                                      0.235000   \n",
       "\n",
       "                Estimated Number of Cells  ...  Median UMI per Cell  \\\n",
       "0                            13745.000000  ...          3117.000000   \n",
       "0                             2248.362475  ...          2585.816430   \n",
       "0                             4825.126598  ...          3382.937287   \n",
       "10x 900 Nuclei                 954.000000  ...          7748.000000   \n",
       "10x 2k Nuclei                 2352.000000  ...          1127.000000   \n",
       "\n",
       "                Mean Genes per Cell  Median Genes per Cell  \\\n",
       "0                       2059.000000            1905.000000   \n",
       "0                       1817.198377            1548.095132   \n",
       "0                       1746.418623            1656.681417   \n",
       "10x 900 Nuclei                  NaN            2592.000000   \n",
       "10x 2k Nuclei                   NaN             775.000000   \n",
       "\n",
       "                Total Genes Detected  Q30 Bases in Sample Index  \\\n",
       "0                       23758.000000                        NaN   \n",
       "0                       22049.154767                        NaN   \n",
       "0                       21594.779919                        NaN   \n",
       "10x 900 Nuclei          15576.000000                      0.945   \n",
       "10x 2k Nuclei           17059.000000                      0.940   \n",
       "\n",
       "                Q30 Bases in UMI  \\\n",
       "0                            NaN   \n",
       "0                            NaN   \n",
       "0                            NaN   \n",
       "10x 900 Nuclei             0.977   \n",
       "10x 2k Nuclei              0.981   \n",
       "\n",
       "                Reads Mapped Confidently to Intergenic Regions  \\\n",
       "0                                                          NaN   \n",
       "0                                                          NaN   \n",
       "0                                                          NaN   \n",
       "10x 900 Nuclei                                           0.036   \n",
       "10x 2k Nuclei                                            0.069   \n",
       "\n",
       "                Reads Mapped Confidently to Intronic Regions  \\\n",
       "0                                                        NaN   \n",
       "0                                                        NaN   \n",
       "0                                                        NaN   \n",
       "10x 900 Nuclei                                         0.178   \n",
       "10x 2k Nuclei                                          0.460   \n",
       "\n",
       "                Reads Mapped Confidently to Exonic Regions  \\\n",
       "0                                                      NaN   \n",
       "0                                                      NaN   \n",
       "0                                                      NaN   \n",
       "10x 900 Nuclei                                       0.680   \n",
       "10x 2k Nuclei                                        0.263   \n",
       "\n",
       "                Reads Mapped Antisense to Gene  \n",
       "0                                          NaN  \n",
       "0                                          NaN  \n",
       "0                                          NaN  \n",
       "10x 900 Nuclei                           0.013  \n",
       "10x 2k Nuclei                            0.019  \n",
       "\n",
       "[5 rows x 26 columns]"
      ]
     },
     "execution_count": 125,
     "metadata": {},
     "output_type": "execute_result"
    }
   ],
   "source": [
    "metadata_all"
   ]
  },
  {
   "cell_type": "code",
   "execution_count": 126,
   "metadata": {},
   "outputs": [
    {
     "data": {
      "text/plain": [
       "Index(['Number of Reads', 'Reads With Valid Barcodes', 'Sequencing Saturation',\n",
       "       'Q30 Bases in CB+UMI', 'Q30 Bases in RNA read',\n",
       "       'Reads Mapped to Genome: Unique+Multiple',\n",
       "       'Reads Mapped to Genome: Unique',\n",
       "       'Reads Mapped to Transcriptome: Unique+Multipe Genes',\n",
       "       'Reads Mapped to Transcriptome: Unique Genes',\n",
       "       'Estimated Number of Cells', 'Reads in Cells Mapped to Unique Genes',\n",
       "       'Fraction of Reads in Cells', 'Mean Reads per Cell',\n",
       "       'Median Reads per Cell', 'UMIs in Cells', 'Mean UMI per Cell',\n",
       "       'Median UMI per Cell', 'Mean Genes per Cell', 'Median Genes per Cell',\n",
       "       'Total Genes Detected', 'Q30 Bases in Sample Index', 'Q30 Bases in UMI',\n",
       "       'Reads Mapped Confidently to Intergenic Regions',\n",
       "       'Reads Mapped Confidently to Intronic Regions',\n",
       "       'Reads Mapped Confidently to Exonic Regions',\n",
       "       'Reads Mapped Antisense to Gene'],\n",
       "      dtype='object')"
      ]
     },
     "execution_count": 126,
     "metadata": {},
     "output_type": "execute_result"
    }
   ],
   "source": [
    "metadata_all.columns"
   ]
  },
  {
   "cell_type": "markdown",
   "metadata": {},
   "source": [
    "Note that all the per-cell statistics are not accurate since they are calculated on STARsolo's (bad) number of cells filtered. We can therefore add some new columns:"
   ]
  },
  {
   "cell_type": "code",
   "execution_count": 127,
   "metadata": {},
   "outputs": [],
   "source": [
    "statistics = ['Reads With Valid Barcodes', 'Sequencing Saturation',\n",
    "       'Q30 Bases in CB+UMI', 'Q30 Bases in RNA read',\n",
    "       'Reads Mapped to Genome: Unique',\n",
    "       'Reads Mapped to Transcriptome: Unique Genes']"
   ]
  },
  {
   "cell_type": "code",
   "execution_count": 115,
   "metadata": {},
   "outputs": [],
   "source": [
    "metadata_all_toplot = metadata_all[statistics]*100"
   ]
  },
  {
   "cell_type": "code",
   "execution_count": 116,
   "metadata": {},
   "outputs": [],
   "source": [
    "metadata_all_toplot.columns = ['% Reads with valid barcodes', '% Duplicates', '% Q > 30 Bases in CB + UMI', '% Q > 30 Bases in cDNA', '% Genome (unique)', '% Transcriptome (unique)']"
   ]
  },
  {
   "cell_type": "code",
   "execution_count": 117,
   "metadata": {},
   "outputs": [],
   "source": [
    "metadata_all_toplot.loc[:,'Number of cells'] = [27094, 49300, 9691, 954, 2352]\n",
    "metadata_all_toplot.loc[:,'Median genes per cell'] = [1321, 763, 1658, 2592, 775] # these need to be added manually as they cannot be calculated from averages\n",
    "metadata_all_toplot.loc[:,'Median UMIs per cell'] = [1920, 1071, 3389, 7748, 1127] # these need to be added manually as they cannot be calculated from averages\n",
    "metadata_all_toplot.loc[:,'Reads/cell'] = [52738, 52738, 52738, 50486, 51268]\n"
   ]
  },
  {
   "cell_type": "markdown",
   "metadata": {},
   "source": [
    "For the following calculation:  \n",
    "```\n",
    "inDrop: 63751280 UMIs total in the 27094 cells, with 1428898458 total reads = 0.044615682551181\n",
    "Drop-seq: 84287946 UMIs in a total of 49300 cells, with 2599983400 total reads = 0.03241864774\n",
    "HyDrop: 38038318 UMIs in total of 9691 cells, with 511084126 total reads = 0.07442672559\n",
    "for the 2k nuclei from 10x:3014623 UMIs / 118742315 reads = 0.02538794194\n",
    "for the 900 nuclei from 10x: 10203353 UMIs / 48909315 reads = 0.20861778579\n",
    "```"
   ]
  },
  {
   "cell_type": "code",
   "execution_count": 118,
   "metadata": {},
   "outputs": [],
   "source": [
    "metadata_all_toplot.loc[:,'% Raw reads as UMIs in cells'] = [4.46, 3.24, 7.44, 2.54, 20.9]"
   ]
  },
  {
   "cell_type": "code",
   "execution_count": 119,
   "metadata": {},
   "outputs": [
    {
     "data": {
      "text/html": [
       "<div>\n",
       "<style scoped>\n",
       "    .dataframe tbody tr th:only-of-type {\n",
       "        vertical-align: middle;\n",
       "    }\n",
       "\n",
       "    .dataframe tbody tr th {\n",
       "        vertical-align: top;\n",
       "    }\n",
       "\n",
       "    .dataframe thead th {\n",
       "        text-align: right;\n",
       "    }\n",
       "</style>\n",
       "<table border=\"1\" class=\"dataframe\">\n",
       "  <thead>\n",
       "    <tr style=\"text-align: right;\">\n",
       "      <th></th>\n",
       "      <th>% Reads with valid barcodes</th>\n",
       "      <th>% Duplicates</th>\n",
       "      <th>% Q &gt; 30 Bases in CB + UMI</th>\n",
       "      <th>% Q &gt; 30 Bases in cDNA</th>\n",
       "      <th>% Genome (unique)</th>\n",
       "      <th>% Transcriptome (unique)</th>\n",
       "      <th>Number of cells</th>\n",
       "      <th>Median genes per cell</th>\n",
       "      <th>Median UMIs per cell</th>\n",
       "      <th>Reads/cell</th>\n",
       "      <th>% Raw reads as UMIs in cells</th>\n",
       "    </tr>\n",
       "  </thead>\n",
       "  <tbody>\n",
       "    <tr>\n",
       "      <th>inDrop</th>\n",
       "      <td>39.745500</td>\n",
       "      <td>72.847700</td>\n",
       "      <td>79.210500</td>\n",
       "      <td>76.070700</td>\n",
       "      <td>47.875700</td>\n",
       "      <td>26.475400</td>\n",
       "      <td>27094</td>\n",
       "      <td>1321</td>\n",
       "      <td>1920</td>\n",
       "      <td>52738</td>\n",
       "      <td>4.46</td>\n",
       "    </tr>\n",
       "    <tr>\n",
       "      <th>Drop-seq</th>\n",
       "      <td>49.510729</td>\n",
       "      <td>80.754314</td>\n",
       "      <td>78.857557</td>\n",
       "      <td>60.665943</td>\n",
       "      <td>51.612014</td>\n",
       "      <td>20.439771</td>\n",
       "      <td>49300</td>\n",
       "      <td>671</td>\n",
       "      <td>952</td>\n",
       "      <td>52738</td>\n",
       "      <td>3.24</td>\n",
       "    </tr>\n",
       "    <tr>\n",
       "      <th>HyDrop</th>\n",
       "      <td>83.057400</td>\n",
       "      <td>60.556050</td>\n",
       "      <td>77.744550</td>\n",
       "      <td>95.264850</td>\n",
       "      <td>85.943450</td>\n",
       "      <td>55.526100</td>\n",
       "      <td>9691</td>\n",
       "      <td>1658</td>\n",
       "      <td>3389</td>\n",
       "      <td>52738</td>\n",
       "      <td>7.44</td>\n",
       "    </tr>\n",
       "    <tr>\n",
       "      <th>10x 900 Nuclei</th>\n",
       "      <td>98.200000</td>\n",
       "      <td>52.900000</td>\n",
       "      <td>97.300000</td>\n",
       "      <td>86.500000</td>\n",
       "      <td>89.400000</td>\n",
       "      <td>65.300000</td>\n",
       "      <td>954</td>\n",
       "      <td>2592</td>\n",
       "      <td>7748</td>\n",
       "      <td>50486</td>\n",
       "      <td>2.54</td>\n",
       "    </tr>\n",
       "    <tr>\n",
       "      <th>10x 2k Nuclei</th>\n",
       "      <td>97.400000</td>\n",
       "      <td>83.300000</td>\n",
       "      <td>98.300000</td>\n",
       "      <td>67.900000</td>\n",
       "      <td>79.300000</td>\n",
       "      <td>23.500000</td>\n",
       "      <td>2352</td>\n",
       "      <td>775</td>\n",
       "      <td>1127</td>\n",
       "      <td>51268</td>\n",
       "      <td>20.90</td>\n",
       "    </tr>\n",
       "  </tbody>\n",
       "</table>\n",
       "</div>"
      ],
      "text/plain": [
       "                % Reads with valid barcodes  % Duplicates  \\\n",
       "inDrop                            39.745500     72.847700   \n",
       "Drop-seq                          49.510729     80.754314   \n",
       "HyDrop                            83.057400     60.556050   \n",
       "10x 900 Nuclei                    98.200000     52.900000   \n",
       "10x 2k Nuclei                     97.400000     83.300000   \n",
       "\n",
       "                % Q > 30 Bases in CB + UMI  % Q > 30 Bases in cDNA  \\\n",
       "inDrop                           79.210500               76.070700   \n",
       "Drop-seq                         78.857557               60.665943   \n",
       "HyDrop                           77.744550               95.264850   \n",
       "10x 900 Nuclei                   97.300000               86.500000   \n",
       "10x 2k Nuclei                    98.300000               67.900000   \n",
       "\n",
       "                % Genome (unique)  % Transcriptome (unique)  Number of cells  \\\n",
       "inDrop                  47.875700                 26.475400            27094   \n",
       "Drop-seq                51.612014                 20.439771            49300   \n",
       "HyDrop                  85.943450                 55.526100             9691   \n",
       "10x 900 Nuclei          89.400000                 65.300000              954   \n",
       "10x 2k Nuclei           79.300000                 23.500000             2352   \n",
       "\n",
       "                Median genes per cell  Median UMIs per cell  Reads/cell  \\\n",
       "inDrop                           1321                  1920       52738   \n",
       "Drop-seq                          671                   952       52738   \n",
       "HyDrop                           1658                  3389       52738   \n",
       "10x 900 Nuclei                   2592                  7748       50486   \n",
       "10x 2k Nuclei                     775                  1127       51268   \n",
       "\n",
       "                % Raw reads as UMIs in cells  \n",
       "inDrop                                  4.46  \n",
       "Drop-seq                                3.24  \n",
       "HyDrop                                  7.44  \n",
       "10x 900 Nuclei                          2.54  \n",
       "10x 2k Nuclei                          20.90  "
      ]
     },
     "execution_count": 119,
     "metadata": {},
     "output_type": "execute_result"
    }
   ],
   "source": [
    "metadata_all_toplot"
   ]
  },
  {
   "cell_type": "code",
   "execution_count": 120,
   "metadata": {},
   "outputs": [
    {
     "data": {
      "text/plain": [
       "Index(['inDrop', 'Drop-seq', 'HyDrop', '10x 900 Nuclei', '10x 2k Nuclei'], dtype='object')"
      ]
     },
     "execution_count": 120,
     "metadata": {},
     "output_type": "execute_result"
    }
   ],
   "source": [
    "metadata_all_toplot.index"
   ]
  },
  {
   "cell_type": "code",
   "execution_count": 125,
   "metadata": {},
   "outputs": [
    {
     "name": "stderr",
     "output_type": "stream",
     "text": [
      "/staging/leuven/stg_00002/lcb/fderop/software_2/anaconda3/envs/python36/lib/python3.6/site-packages/ipykernel_launcher.py:9: MatplotlibDeprecationWarning: Case-insensitive properties were deprecated in 3.3 and support will be removed two minor releases later\n",
      "  if __name__ == '__main__':\n",
      "/staging/leuven/stg_00002/lcb/fderop/software_2/anaconda3/envs/python36/lib/python3.6/site-packages/ipykernel_launcher.py:9: MatplotlibDeprecationWarning: Case-insensitive properties were deprecated in 3.3 and support will be removed two minor releases later\n",
      "  if __name__ == '__main__':\n",
      "/staging/leuven/stg_00002/lcb/fderop/software_2/anaconda3/envs/python36/lib/python3.6/site-packages/ipykernel_launcher.py:9: MatplotlibDeprecationWarning: Case-insensitive properties were deprecated in 3.3 and support will be removed two minor releases later\n",
      "  if __name__ == '__main__':\n",
      "/staging/leuven/stg_00002/lcb/fderop/software_2/anaconda3/envs/python36/lib/python3.6/site-packages/ipykernel_launcher.py:9: MatplotlibDeprecationWarning: Case-insensitive properties were deprecated in 3.3 and support will be removed two minor releases later\n",
      "  if __name__ == '__main__':\n",
      "/staging/leuven/stg_00002/lcb/fderop/software_2/anaconda3/envs/python36/lib/python3.6/site-packages/ipykernel_launcher.py:9: MatplotlibDeprecationWarning: Case-insensitive properties were deprecated in 3.3 and support will be removed two minor releases later\n",
      "  if __name__ == '__main__':\n",
      "/staging/leuven/stg_00002/lcb/fderop/software_2/anaconda3/envs/python36/lib/python3.6/site-packages/ipykernel_launcher.py:9: MatplotlibDeprecationWarning: Case-insensitive properties were deprecated in 3.3 and support will be removed two minor releases later\n",
      "  if __name__ == '__main__':\n",
      "/staging/leuven/stg_00002/lcb/fderop/software_2/anaconda3/envs/python36/lib/python3.6/site-packages/ipykernel_launcher.py:9: MatplotlibDeprecationWarning: Case-insensitive properties were deprecated in 3.3 and support will be removed two minor releases later\n",
      "  if __name__ == '__main__':\n",
      "/staging/leuven/stg_00002/lcb/fderop/software_2/anaconda3/envs/python36/lib/python3.6/site-packages/ipykernel_launcher.py:9: MatplotlibDeprecationWarning: Case-insensitive properties were deprecated in 3.3 and support will be removed two minor releases later\n",
      "  if __name__ == '__main__':\n",
      "/staging/leuven/stg_00002/lcb/fderop/software_2/anaconda3/envs/python36/lib/python3.6/site-packages/ipykernel_launcher.py:9: MatplotlibDeprecationWarning: Case-insensitive properties were deprecated in 3.3 and support will be removed two minor releases later\n",
      "  if __name__ == '__main__':\n",
      "/staging/leuven/stg_00002/lcb/fderop/software_2/anaconda3/envs/python36/lib/python3.6/site-packages/ipykernel_launcher.py:9: MatplotlibDeprecationWarning: Case-insensitive properties were deprecated in 3.3 and support will be removed two minor releases later\n",
      "  if __name__ == '__main__':\n",
      "/staging/leuven/stg_00002/lcb/fderop/software_2/anaconda3/envs/python36/lib/python3.6/site-packages/ipykernel_launcher.py:9: MatplotlibDeprecationWarning: Case-insensitive properties were deprecated in 3.3 and support will be removed two minor releases later\n",
      "  if __name__ == '__main__':\n"
     ]
    },
    {
     "data": {
      "image/png": "[encoded data removed]",
      "text/plain": [
       "<Figure size 1152x864 with 12 Axes>"
      ]
     },
     "metadata": {},
     "output_type": "display_data"
    }
   ],
   "source": [
    "order=['']\n",
    "fig, axes =plt.subplots(3,4, figsize=(16,12))\n",
    "axes = axes.flatten()\n",
    "for statistic in range(0,metadata_all_toplot.shape[1]):\n",
    "    sns.barplot(y = metadata_all_toplot[metadata_all_toplot.columns[statistic]], \n",
    "                x = metadata_all_toplot.index,\n",
    "                ax = axes[statistic]\n",
    "               ).set_title(metadata_all_toplot.columns[statistic])\n",
    "    axes[statistic].set_xticklabels(metadata_all_toplot.index, Rotation=45, ha=\"right\")\n",
    "    axes[statistic].set_ylabel('')\n",
    "    # axes[statistic].get_xaxis().set_ticklabels([])\n",
    "    \n",
    "axes[11].axis('off')\n",
    "plt.tight_layout()\n",
    "plt.gcf()\n",
    "plt.savefig('plts_python/all_starsoloqc.png', dpi=600)\n",
    "plt.savefig('plts_python/all_starsoloqc.svg', dpi=600)\n",
    "plt.show()\n",
    "plt.close()"
   ]
  },
  {
   "cell_type": "code",
   "execution_count": null,
   "metadata": {},
   "outputs": [],
   "source": []
  }
 ],
 "metadata": {
  "kernelspec": {
   "display_name": "Python 3.6",
   "language": "python",
   "name": "p36"
  },
  "language_info": {
   "codemirror_mode": {
    "name": "ipython",
    "version": 3
   },
   "file_extension": ".py",
   "mimetype": "text/x-python",
   "name": "python",
   "nbconvert_exporter": "python",
   "pygments_lexer": "ipython3",
   "version": "3.6.10"
  }
 },
 "nbformat": 4,
 "nbformat_minor": 4
}
